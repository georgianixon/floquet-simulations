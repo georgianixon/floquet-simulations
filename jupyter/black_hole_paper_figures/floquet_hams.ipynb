{
 "cells": [
  {
   "cell_type": "code",
   "execution_count": 7,
   "metadata": {},
   "outputs": [],
   "source": [
    "from floquet_simulations.periodic_functions import Cosine\n",
    "from floquet_simulations.hamiltonians import CreateHFGeneral\n",
    "from floquet_simulations.plot_functions import *\n",
    "from floquet_simulations.generate_gradients import ComputeAValsFromRequiredGradients, GetAValsFromBesselXVals\n",
    "from numpy import pi\n",
    "from scipy.special import jv\n",
    "import math\n",
    "from pathlib import Path\n",
    "import matplotlib.pyplot as plt\n",
    "figsize_hams=(3.9,3.9)\n",
    "fontsize = 10\n",
    "PlotParams(fontsize=fontsize)"
   ]
  },
  {
   "cell_type": "code",
   "execution_count": 8,
   "metadata": {},
   "outputs": [],
   "source": [
    "# tanh gradient\n",
    "# N = 40\n",
    "# alpha = 10\n",
    "# d = 0.1\n",
    "# nh = N/2\n",
    "# ymin = jv(0, 3.8316)\n",
    "# kn = np.zeros(N)\n",
    "# for i in range(N):\n",
    "#     kn[i] = alpha*math.tanh(d*(i- nh- 0.5))/4/d\n",
    "# knmax = np.max(np.abs(kn))\n",
    "# gradients = kn/knmax*ymin\n",
    "\n",
    "# plt.plot(range(N), -gradients)\n",
    "# plt.show()\n"
   ]
  },
  {
   "attachments": {},
   "cell_type": "markdown",
   "metadata": {},
   "source": [
    "### Get Ham from gradient"
   ]
  },
  {
   "cell_type": "code",
   "execution_count": 10,
   "metadata": {},
   "outputs": [],
   "source": [
    "Ndiffs = 8\n",
    "ymin = jv(0, 3.8316)\n",
    "gradients = np.linspace(-ymin, ymin, Ndiffs) # for linear\n",
    "#get A vals to get the right gradient\n",
    "omega = 8\n",
    "drive_style = \"accumulative\"\n",
    "\n",
    "xvals = ComputeAValsFromRequiredGradients(gradients)\n",
    "A_vals = GetAValsFromBesselXVals(xvals, omega, addition_type=drive_style, constant_shift=\"zero centre\") # get actual shaking values\n",
    "\n",
    "_, HF = CreateHFGeneral(Ndiffs+1,\n",
    "                        [int(i) for i in list(np.linspace(0,Ndiffs,Ndiffs+1))],\n",
    "                        [Cosine]*(Ndiffs+1),\n",
    "                        [[i,omega,0,0] for i in A_vals], #a, omega, phi onsite\n",
    "        \n",
    "            \n",
    "                        2*pi/omega,\n",
    "                        0\n",
    "                        )\n",
    "\n",
    "#make real\n",
    "if np.all(np.imag(HF))==0:\n",
    "    print(\"Ham is real\")\n",
    "    HF =np.real(HF)"
   ]
  },
  {
   "cell_type": "code",
   "execution_count": 26,
   "metadata": {},
   "outputs": [
    {
     "data": {
      "image/png": "[encoded data removed]",
      "text/plain": [
       "<Figure size 275.591x275.591 with 1 Axes>"
      ]
     },
     "metadata": {},
     "output_type": "display_data"
    }
   ],
   "source": [
    "\n",
    "N= len(A_vals)\n",
    "fig, ax = plt.subplots(figsize=(7/2.54,7/2.54))\n",
    "ax.plot(range(N), A_vals, '.')\n",
    "ax.set_ylabel(r\"$A$\", rotation=0)\n",
    "ax.set_xticks(np.arange(0,N,2))\n",
    "ax.set_xlabel(r\"$i$\")\n",
    "plt.show()\n"
   ]
  },
  {
   "cell_type": "code",
   "execution_count": 24,
   "metadata": {},
   "outputs": [
    {
     "data": {
      "image/png": "[encoded data removed]",
      "text/plain": [
       "<Figure size 275.591x275.591 with 1 Axes>"
      ]
     },
     "metadata": {},
     "output_type": "display_data"
    }
   ],
   "source": [
    "\n",
    "# plot gradient\n",
    "fig, ax = plt.subplots(figsize=(7/2.54,7/2.54))\n",
    "y = [np.round(-HF[i,i+1], 3) for i in range(N-1)]\n",
    "ax.plot(range(N-1), y, '.', label = r\"Floquet\")\n",
    "plt.plot(range(N-1), gradients, \n",
    "        #  label=r\"$10 \\> \\tanh(0.1*(i- nh- 0.5))/(4*0.1)$\"\n",
    "        label = \"target\"\n",
    "         )\n",
    "ax.set_xlabel(\"i\")\n",
    "ax.set_ylabel(r\"$J_{i, i+1}$\")\n",
    "ax.set_ylim([-0.41, 0.41])\n",
    "xticks = np.arange(0,N-1,2)\n",
    "ax.set_xticks(xticks)\n",
    "ax.set_xticklabels([str(i+1) for i in xticks])\n",
    "plt.legend()\n",
    "plt.show()\n"
   ]
  },
  {
   "cell_type": "code",
   "execution_count": null,
   "metadata": {},
   "outputs": [],
   "source": [
    "\n",
    "\n",
    "# plot gradient 2\n",
    "y = [np.round(np.real(HF[i,i+2]), 3) for i in range(N-2)]\n",
    "fig, ax = plt.subplots()\n",
    "ax.plot(range(N-2), y, '.')\n",
    "ax.set_ylabel(r\"$J_{i, i+2}$\")\n",
    "ax.set_ylim([-0.41, 0.41])\n",
    "ax.set_xlabel(\"i\")\n",
    "ax.set_xticks(np.arange(0,N-2,2))\n",
    "plt.show()"
   ]
  },
  {
   "cell_type": "code",
   "execution_count": null,
   "metadata": {},
   "outputs": [],
   "source": [
    "#SSH4\n",
    "num_sites = 9\n",
    "centres = np.array(range(num_sites))\n",
    "funcs = [Cosine]*num_sites\n",
    "a1 = 16.917322691940058; a2 = -50; a3 = 38.315948852085626; a4 = -10\n",
    "omega0 = 25; T = 2*pi/omega0\n",
    "phi1 = 0; phi2 = 0; phi3 = 0; phi4 = 0\n",
    "# onsite1 =0.0697854749060796; onsite2 = 0.068;  onsite3=0;onsite4 = -0.068\n",
    "onsite1 = onsite2 = onsite3 = onsite4 = 0\n",
    "# params = [onsite0, [a1, omega1, phi1, onsite1], [(a2, a3), (omega2, omega3), (phi2, phi3), onsite2], [a4, omega4, phi4, onsite4]]*2\n",
    "params = ([ [a1, omega0, phi1, onsite1], [a2, omega0, phi2, onsite2], [a3, omega0, phi3, onsite3], [a4, omega0, phi4, onsite4]]*3)[:num_sites]\n",
    "_, HF = CreateHFGeneral(num_sites, centres, funcs, params, T, circle_boundary=0)\n",
    "\n",
    "colourbar_min = np.min(np.real(HF))\n",
    "colourbar_max = np.max(np.real(HF))\n",
    "\n",
    "plt.rc('text.latex', preamble=r'\\usepackage{amsmath,nicefrac,xfrac}')\n",
    "# mpl.verbose.level = 'debug-annoying'\n",
    " \n",
    "\n",
    "print(colourbar_max, colourbar_min)\n",
    "ssh_plot_dir_path = Path().absolute().parent.parent/\"figures\"/\"paper\"/\"ssh4_model.pdf\"\n",
    "PlotParams(fontsize=10)\n",
    "# PlotRealHamiltonian(HF, figsize=figsize_hams, colourbar_pad = 0.05, colourbar_size_percentage=10, save_location=ssh_plot_dir_path, axes_tick_pos=[0,2,4,6,8], axes_tick_labels=[1,3,5,7,9])\n",
    "# PlotRealHamiltonian(HF, figsize=figsize_hams, colourbar_pad=0.05, colourbar_size_percentage=10, \n",
    "#                     save_location = False, axes_tick_pos=[0,2,4,6,8], axes_tick_labels=[1,3,5,7,9], \n",
    "#                     cmap_lims=(-0.8,0.4), colourbar_ticks = [-0.8,-0.6,-0.4,-0.2,0,0.2,0.4, 0.6])\n",
    "\n",
    "PlotRealHamiltonian(HF, figsize=figsize_hams, \n",
    "                    # colourbar_pad=0.05, colourbar_size_percentage=10, \n",
    "                    # save_location = ssh_plot_dir_path,\n",
    "                    #   axes_tick_pos=[0,2,4,6,8], axes_tick_labels=[1,3,5,7,9], \n",
    "                    # data_cmap_lims = (-0.8, 0.8), colourbar_cmap_lims=(-0.8,0.4), colourbar_ticks = np.arange(-0.8,1.2,0.4)\n",
    "                    )"
   ]
  },
  {
   "cell_type": "code",
   "execution_count": null,
   "metadata": {},
   "outputs": [],
   "source": []
  },
  {
   "cell_type": "code",
   "execution_count": null,
   "metadata": {},
   "outputs": [],
   "source": []
  }
 ],
 "metadata": {
  "kernelspec": {
   "display_name": "floquet-simulations-srXSFrPT-py3.10",
   "language": "python",
   "name": "python3"
  },
  "language_info": {
   "codemirror_mode": {
    "name": "ipython",
    "version": 3
   },
   "file_extension": ".py",
   "mimetype": "text/x-python",
   "name": "python",
   "nbconvert_exporter": "python",
   "pygments_lexer": "ipython3",
   "version": "3.10.6"
  },
  "orig_nbformat": 4
 },
 "nbformat": 4,
 "nbformat_minor": 2
}

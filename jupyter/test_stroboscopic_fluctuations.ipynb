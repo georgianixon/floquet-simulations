{
 "cells": [
  {
   "attachments": {},
   "cell_type": "markdown",
   "metadata": {},
   "source": [
    "Test fluctuations of stroboscopic Hamiltonian elements against the high-frequency Hamiltonian "
   ]
  },
  {
   "cell_type": "code",
   "execution_count": 1,
   "metadata": {},
   "outputs": [
    {
     "ename": "ModuleNotFoundError",
     "evalue": "No module named 'scipy'",
     "output_type": "error",
     "traceback": [
      "\u001b[0;31m---------------------------------------------------------------------------\u001b[0m",
      "\u001b[0;31mModuleNotFoundError\u001b[0m                       Traceback (most recent call last)",
      "Cell \u001b[0;32mIn [1], line 3\u001b[0m\n\u001b[1;32m      1\u001b[0m \u001b[39mimport\u001b[39;00m \u001b[39mnumpy\u001b[39;00m \u001b[39mas\u001b[39;00m \u001b[39mnp\u001b[39;00m\n\u001b[1;32m      2\u001b[0m \u001b[39mfrom\u001b[39;00m \u001b[39mmath\u001b[39;00m \u001b[39mimport\u001b[39;00m pi, cos, sin\n\u001b[0;32m----> 3\u001b[0m \u001b[39mimport\u001b[39;00m \u001b[39mscipy\u001b[39;00m\u001b[39m.\u001b[39;00m\u001b[39mintegrate\u001b[39;00m \u001b[39mas\u001b[39;00m \u001b[39mintegrate\u001b[39;00m\n\u001b[1;32m      4\u001b[0m \u001b[39mfrom\u001b[39;00m \u001b[39mscipy\u001b[39;00m\u001b[39m.\u001b[39;00m\u001b[39mspecial\u001b[39;00m \u001b[39mimport\u001b[39;00m jv\n\u001b[1;32m      5\u001b[0m \u001b[39mfrom\u001b[39;00m \u001b[39mhamiltonians\u001b[39;00m \u001b[39mimport\u001b[39;00m CreateHFGeneralLoopA\n",
      "\u001b[0;31mModuleNotFoundError\u001b[0m: No module named 'scipy'"
     ]
    }
   ],
   "source": [
    "import numpy as np\n",
    "from math import pi, cos, sin\n",
    "import scipy.integrate as integrate\n",
    "from scipy.special import jv\n",
    "from hamiltonians import CreateHFGeneralLoopA"
   ]
  },
  {
   "cell_type": "code",
   "execution_count": null,
   "metadata": {},
   "outputs": [],
   "source": [
    "phi3_frac = 0\n",
    "phi3_frac = np.round(phi3_frac, 3)\n",
    "phi3 = pi*phi3_frac\n",
    "omega0 = 8\n",
    "omega2 = omega0\n",
    "omega3 = 2*omega0\n",
    "T = 2*pi/omega0\n",
    "A1 = 10\n",
    "A2 = 10\n",
    "\n",
    "# first term expansion term\n",
    "J23_real = -(1/T)*integrate.quad(lambda t: cos(A3/omega3*sin(omega3*t + phi3) - A2/omega2*sin(omega2*t)), -T/2, T/2)[0]\n",
    "J23_imag = -1j*(1/T)*integrate.quad(lambda t: sin(A3/omega3*sin(omega3*t + phi3) - A2/omega2*sin(omega2*t)), -T/2, T/2)[0]\n",
    "# we are removing esimate of absolute error\n",
    "J23 = J23_real + J23_imag\n",
    "\n",
    "J31_real = -(1/T)*integrate.quad(lambda t: cos(-A3/omega3*sin(omega3*t + phi3)), -T/2, T/2)[0]\n",
    "J31_imag = -1j*(1/T)*integrate.quad(lambda t: sin(-A3/omega3*sin(omega3*t + phi3)), -T/2, T/2)[0]\n",
    "J31 = J31_real + J31_imag\n",
    "\n",
    "J12 = -jv(0,A2/omega2)\n",
    "\n",
    "# HF_FT = np.array([[0,np.conj(J12), J31], [J12, 0, np.conj(J23)], [np.conj(J31), J23, 0]])\n",
    "HF_FT = np.array([[0,np.conj(J12), J31], [J12, 0, np.conj(J23)], [np.conj(J31), J23, 0]])\n",
    "\n",
    "\n",
    "#full Hamiltonian evolution\n",
    "paramss = [[A2, omega2, 0, 0], [A3, omega3, phi3, 0]]\n",
    "_, HF = CreateHFGeneralLoopA(3, centres, funcs, paramss, T, 1)\n",
    "\n",
    "if not np.isnan(HF).all():\n",
    "    for site in range(3):\n",
    "        HF = RemoveWannierGauge(HF, site, 3)\n",
    "        HF_FT = RemoveWannierGauge(HF_FT, site, 3)\n",
    "    \n",
    "    \n",
    "        \n",
    "    J12 = HF_FT[1,0] # should be real?\n",
    "    J23 = HF_FT[2,1] # should be real ?\n",
    "    J31 = HF_FT[0,2]\n",
    "\n",
    "    J12_Ham = HF[1][0] # should be real?\n",
    "    J23_Ham = HF[2][1]\n",
    "    J31_Ham = HF[0][2]\n",
    "    \n",
    "    \n",
    "    O1 = HF[0][0]\n",
    "    O2 = HF[1][1]\n",
    "    O3 = HF[2][2]\n",
    "\n",
    "    dfN.loc[i] = [np.float64(A2), np.float64(A3), np.float64(omega0), np.uint32(alpha), np.uint32(beta)\n",
    "                    , np.float64(phi3_frac), \n",
    "                    np.complex128(J12), np.complex128(J23), np.complex128(J31), \n",
    "                    np.complex128(J12_Ham), np.complex128(J23_Ham), np.complex128(J31_Ham),\n",
    "                    np.complex128(O1), np.complex128(O2), np.complex128(O3)]\n",
    "    \n",
    "    "
   ]
  },
  {
   "cell_type": "code",
   "execution_count": null,
   "metadata": {},
   "outputs": [],
   "source": []
  }
 ],
 "metadata": {
  "kernelspec": {
   "display_name": ".floquetenv",
   "language": "python",
   "name": "python3"
  },
  "language_info": {
   "codemirror_mode": {
    "name": "ipython",
    "version": 3
   },
   "file_extension": ".py",
   "mimetype": "text/x-python",
   "name": "python",
   "nbconvert_exporter": "python",
   "pygments_lexer": "ipython3",
   "version": "3.8.10"
  },
  "orig_nbformat": 4,
  "vscode": {
   "interpreter": {
    "hash": "cd05a796d31cea8c13a2c6427176565462ae55ddf2b35c288cc9ffe5b9ebde3a"
   }
  }
 },
 "nbformat": 4,
 "nbformat_minor": 2
}

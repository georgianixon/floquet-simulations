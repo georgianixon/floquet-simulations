{
 "cells": [
  {
   "cell_type": "code",
   "execution_count": 63,
   "metadata": {},
   "outputs": [],
   "source": [
    "from floquet_simulations.periodic_functions import Cosine\n",
    "from floquet_simulations.hamiltonians import CreateHFGeneral\n",
    "from floquet_simulations.plot_functions import *\n",
    "from numpy import pi\n",
    "from pathlib import Path\n",
    "from floquet_simulations.hamiltonians import GetEvalsAndEvecsGen\n",
    "from scipy.special import jv, jn_zeros\n",
    "from mpl_toolkits.axes_grid1.inset_locator import inset_axes\n",
    "import matplotlib.ticker as mticker\n",
    "\n",
    "figsize_hams=(4.3,4.3)\n",
    "fontsize = 10\n",
    "PlotParams(fontsize=fontsize, serif_font=\"cm\")\n",
    "colourbar_bbox = (0.9, 0.6, 1, 0.68)\n",
    "cm_unit = 1/2.54\n",
    "save_dir = Path().absolute().parent.parent.parent/\"figures\"/\"local_mod_paper\"\n",
    "cmap = LinearSegmentedColormap.from_list('custom hamiltonians', ['#006F63', \"#FFFFFF\", '#F78320'], N=256)\n",
    "ylabel_coords = (-0.12,0.5)\n",
    "xlabel_coords = (0.5,-0.06)\n",
    "num_sites = 11\n",
    "\n",
    "axes_tick_pos=[0,2,4,6,8, 10]\n",
    "axes_tick_labels=[rf\"${i}$\" for i in axes_tick_pos+np.array([1])] \n"
   ]
  },
  {
   "cell_type": "code",
   "execution_count": 43,
   "metadata": {},
   "outputs": [
    {
     "data": {
      "text/plain": [
       "array([2.40482556])"
      ]
     },
     "execution_count": 43,
     "metadata": {},
     "output_type": "execute_result"
    }
   ],
   "source": [
    "jn_zeros(0,1)"
   ]
  },
  {
   "cell_type": "code",
   "execution_count": 65,
   "metadata": {},
   "outputs": [
    {
     "name": "stdout",
     "output_type": "stream",
     "text": [
      "60.12063894239432 138.00195275715777\n",
      "0.3917377 -1.0\n"
     ]
    },
    {
     "data": {
      "image/png": "[encoded data removed]",
      "text/plain": [
       "<Figure size 169.291x169.291 with 2 Axes>"
      ]
     },
     "metadata": {},
     "output_type": "display_data"
    }
   ],
   "source": [
    "#SSS\n",
    "centres = np.array([5])\n",
    "funcs = [Cosine]\n",
    "a_val = 90\n",
    "omega0 = 25; T = 2*pi/omega0\n",
    "print(jn_zeros(0,1)[0]*omega0, jn_zeros(0,2)[1]*omega0)\n",
    "\n",
    "phi0 = 0\n",
    "onsite0 =0\n",
    "\n",
    "params = [[a_val, omega0, phi0, onsite0]]\n",
    "_, HF = CreateHFGeneral(num_sites, centres, funcs, params, T, circle_boundary=0)\n",
    " \n",
    "\n",
    "colourbar_min = np.min(np.real(HF))\n",
    "colourbar_max = np.max(np.real(HF))\n",
    "print(colourbar_max, colourbar_min)\n",
    "\n",
    "data_cmap_lims = (-1 ,1); colourbar_cmap_lims=(-1,1); colourbar_ticks = np.arange(-1,1.1,0.5)\n",
    "norm = mpl.colors.Normalize(vmin=data_cmap_lims[0], vmax=data_cmap_lims[1])\n",
    "\n",
    "title= r'$[H_S^{t_0}]_{i,j}/J$'\n",
    "\n",
    "fig, ax = plt.subplots(figsize=(figsize_hams[0]*cm_unit, figsize_hams[1]*cm_unit))\n",
    "\n",
    "\n",
    "pcm = ax.matshow(np.real(HF), interpolation='none', cmap=cmap,  norm=norm)\n",
    "ax.tick_params(axis=\"x\", bottom=True, top=True, labelbottom=True, \n",
    "        labeltop=False, direction = \"in\", length = 3, pad=2)  \n",
    "ax.tick_params(axis=\"y\", left=True, right=True, labelleft=True, \n",
    "        labelright=False, direction = \"in\", length = 3, pad=2)  \n",
    "\n",
    "\n",
    "ax.set_ylabel('$i$', rotation=0)\n",
    "ax.yaxis.set_label_coords(ylabel_coords[0], ylabel_coords[1])\n",
    "ax.set_yticks(axes_tick_pos)\n",
    "ax.set_yticklabels(axes_tick_labels)#, font=\"stix\", fontsize=fontsize*0.9)\n",
    "\n",
    "ax.set_xlabel(\"$j$\")\n",
    "ax.xaxis.set_label_coords(xlabel_coords[0], xlabel_coords[1])\n",
    "ax.set_xticks(axes_tick_pos)\n",
    "ax.set_xticklabels(axes_tick_labels)#, font=\"stix\", fontsize=fontsize*0.9)\n",
    "ax.set_title(title)\n",
    "\n",
    "new_norm = mpl.colors.Normalize(vmin=colourbar_cmap_lims[0], vmax=colourbar_cmap_lims[1])\n",
    "new_cmap = truncate_colormap(cmap, (colourbar_cmap_lims[0]-data_cmap_lims[0])/(data_cmap_lims[1] - data_cmap_lims[0]), (colourbar_cmap_lims[1]-data_cmap_lims[0])/(data_cmap_lims[1] - data_cmap_lims[0]))\n",
    "axins = inset_axes(\n",
    "    ax,\n",
    "    width=\"5%\",  # width: 5% of parent_bbox width\n",
    "    height=\"50%\",  # height: 50%\n",
    "    loc=\"lower left\",\n",
    "    bbox_to_anchor=colourbar_bbox,\n",
    "    bbox_transform=ax.transAxes,\n",
    "    borderpad=0,\n",
    ")\n",
    "cbar = fig.colorbar(mpl.cm.ScalarMappable(norm=new_norm, cmap=new_cmap),format=mticker.FixedFormatter([\"$-1$\",\"$-0.5$\", \"$0$\", \"$0.5$\",\"$1$\" ]), cax=axins, ticks=colourbar_ticks, ticklocation=\"left\")\n",
    "cbar.ax.tick_params(labelsize=7, pad=0)\n",
    "\n",
    "fig.savefig(save_dir/\"sss_v2.pdf\", format=\"pdf\",    bbox_inches=\"tight\", pad_inches=0)\n",
    "\n",
    "\n",
    "plt.show()"
   ]
  },
  {
   "cell_type": "code",
   "execution_count": 69,
   "metadata": {},
   "outputs": [
    {
     "name": "stdout",
     "output_type": "stream",
     "text": [
      "0.3917377 -1.0\n"
     ]
    },
    {
     "data": {
      "image/png": "[encoded data removed]",
      "text/plain": [
       "<Figure size 169.291x169.291 with 2 Axes>"
      ]
     },
     "metadata": {},
     "output_type": "display_data"
    }
   ],
   "source": [
    "centres = np.array([5])\n",
    "funcs = [Cosine]\n",
    "a_val = 90\n",
    "omega0 = 25; T = 2*pi/omega0\n",
    "phi0 = 0\n",
    "onsite0 =0\n",
    "params = [[a_val, omega0, phi0, onsite0]]\n",
    "_, HF = CreateHFGeneral(num_sites, centres, funcs, params, T, circle_boundary=0)\n",
    " \n",
    "colourbar_min = np.min(np.real(HF))\n",
    "colourbar_max = np.max(np.real(HF))\n",
    "print(colourbar_max, colourbar_min)\n",
    "\n",
    "colourbar_bbox_log = (0.9, 0.59, 1, 0.7)\n",
    "\n",
    "data_cmap_lims = (-1 ,1); colourbar_cmap_lims=(-1,1); colourbar_ticks = [-1,-0.1, 0, 0.1,1]\n",
    "\n",
    "linthresh = 1e-1\n",
    "norm=mpl.colors.SymLogNorm(linthresh=linthresh, linscale=1, vmin=-1.0, vmax=1.0, base=10)\n",
    "\n",
    "fig, ax = plt.subplots(figsize=(figsize_hams[0]*cm_unit, figsize_hams[1]*cm_unit))\n",
    "pcm = ax.matshow(np.real(HF), interpolation='none', cmap=cmap,  norm=norm)\n",
    "ax.tick_params(axis=\"x\", bottom=True, top=True, labelbottom=True, \n",
    "        labeltop=False, direction = \"in\", length = 3, pad=2)  \n",
    "ax.tick_params(axis=\"y\", left=True, right=True, labelleft=True, \n",
    "        labelright=False, direction = \"in\", length = 3, pad=2)  \n",
    "\n",
    "\n",
    "# ax.set_ylabel('$i$', rotation=0)\n",
    "ax.yaxis.set_label_coords(ylabel_coords[0], ylabel_coords[1])\n",
    "ax.set_yticks(axes_tick_pos)\n",
    "ax.set_yticklabels([\"\", \"\", \"\", \"\", \"\", \"\"])\n",
    "\n",
    "ax.set_xlabel(\"$j$\", fontsize=fontsize)\n",
    "ax.xaxis.set_label_coords(xlabel_coords[0], xlabel_coords[1])\n",
    "ax.set_xticks(axes_tick_pos)\n",
    "ax.set_xticklabels(axes_tick_labels)\n",
    "ax.set_title(title)\n",
    "\n",
    "new_norm=mpl.colors.SymLogNorm(linthresh=linthresh, linscale=1, vmin=colourbar_cmap_lims[0], vmax=colourbar_cmap_lims[1], base=10)\n",
    "new_cmap = truncate_colormap(cmap, (colourbar_cmap_lims[0]-data_cmap_lims[0])/(data_cmap_lims[1] - data_cmap_lims[0]), (colourbar_cmap_lims[1]-data_cmap_lims[0])/(data_cmap_lims[1] - data_cmap_lims[0]))\n",
    "axins = inset_axes(\n",
    "    ax,\n",
    "    width=\"5%\",  # width: 5% of parent_bbox width\n",
    "    height=\"50%\",  # height: 50%\n",
    "    loc=\"lower left\",\n",
    "    bbox_to_anchor=colourbar_bbox_log,\n",
    "    bbox_transform=ax.transAxes,\n",
    "    borderpad=0,\n",
    ")\n",
    "cbar = fig.colorbar(mpl.cm.ScalarMappable(norm=new_norm, cmap=new_cmap), cax=axins,  format=mticker.FixedFormatter([\"$-1$\",\"$-10^{-1}$\", \"$0$\", \"$10^{-1}$\",\"$1$\" ]), ticks=colourbar_ticks, ticklocation=\"left\")\n",
    "# cbar = fig.colorbar(mpl.cm.ScalarMappable(norm=new_norm, cmap=new_cmap), cax=axins,  format=mticker.FixedFormatter([\"$-1$\",\"$-0.1$\",\"$-0.01$\", \"$0$\",\"$0.01$\", \"$0.1$\",\"$1$\" ]), ticks=colourbar_ticks, ticklocation=\"left\")\n",
    "\n",
    "cbar.ax.tick_params(labelsize=fontsize*0.6, pad=0)\n",
    "\n",
    "fig.savefig(save_dir/\"sss_log_v2.pdf\", format=\"pdf\", bbox_inches=\"tight\", pad_inches=0)\n",
    "plt.show()\n",
    "\n",
    "\n"
   ]
  },
  {
   "cell_type": "code",
   "execution_count": 133,
   "metadata": {},
   "outputs": [
    {
     "name": "stdout",
     "output_type": "stream",
     "text": [
      "0.2865181 -0.9986129\n"
     ]
    },
    {
     "data": {
      "image/png": "[encoded data removed]",
      "text/plain": [
       "<Figure size 169.291x169.291 with 2 Axes>"
      ]
     },
     "metadata": {},
     "output_type": "display_data"
    }
   ],
   "source": [
    "#SSH v2\n",
    "centres = np.array(range(num_sites))\n",
    "funcs = [Cosine]*num_sites\n",
    "a1 = 39; a2 = 38; a3=-a1; a4=-a2\n",
    "omega0 = 25; T = 2*pi/omega0\n",
    "phi1 = 0; phi2 = 0; phi3 = 0; phi4 = 0\n",
    "onsite1 =0; onsite2 = 0;  onsite3=0;onsite4 = 0\n",
    "# params = [onsite0, [a1, omega1, phi1, onsite1], [(a2, a3), (omega2, omega3), (phi2, phi3), onsite2], [a4, omega4, phi4, onsite4]]*2\n",
    "params = ([ [a1, omega0, phi1, onsite1], [a2, omega0, phi2, onsite2], [a3, omega0, phi3, onsite3], [a4, omega0, phi4, onsite4]]*3)[:num_sites]\n",
    "_, HF = CreateHFGeneral(num_sites, centres, funcs, params, T, circle_boundary=0)\n",
    "\n",
    "\n",
    "\n",
    "colourbar_min = np.min(np.real(HF))\n",
    "colourbar_max = np.max(np.real(HF))\n",
    "\n",
    "print(colourbar_max, colourbar_min)\n",
    "\n",
    "title= r'$[H_S^{t_0}]_{i,j}/J$'\n",
    "\n",
    "data_cmap_lims = (-1 ,1); colourbar_cmap_lims=(-1,0.5); colourbar_ticks = np.arange(-1,1.5,0.5)\n",
    "\n",
    "norm = mpl.colors.Normalize(vmin=data_cmap_lims[0], vmax=data_cmap_lims[1])\n",
    "\n",
    "fig, ax = plt.subplots(figsize=(figsize_hams[0]*cm_unit, figsize_hams[1]*cm_unit))\n",
    "\n",
    "\n",
    "pcm = ax.matshow(np.real(HF), interpolation='none', cmap=cmap,  norm=norm)\n",
    "ax.tick_params(axis=\"x\", bottom=True, top=True, labelbottom=True, \n",
    "        labeltop=False, direction = \"in\", length = 3, pad=2)  \n",
    "ax.tick_params(axis=\"y\", left=True, right=True, labelleft=True, \n",
    "        labelright=False, direction = \"in\", length = 3, pad=2)  \n",
    "\n",
    "\n",
    "ax.set_ylabel('$i$', rotation=0)\n",
    "ax.yaxis.set_label_coords(ylabel_coords[0], ylabel_coords[1])\n",
    "ax.set_yticks(axes_tick_pos)\n",
    "ax.set_yticklabels(axes_tick_labels)#, font=\"stix\", fontsize=fontsize*0.9)\n",
    "\n",
    "ax.set_xlabel(\"$j$\")\n",
    "ax.xaxis.set_label_coords(xlabel_coords[0], xlabel_coords[1])\n",
    "ax.set_xticks(axes_tick_pos)\n",
    "ax.set_xticklabels(axes_tick_labels)#, font=\"stix\", fontsize=fontsize*0.9)\n",
    "\n",
    "ax.set_title(title)\n",
    "new_norm = mpl.colors.Normalize(vmin=colourbar_cmap_lims[0], vmax=colourbar_cmap_lims[1])\n",
    "new_cmap = truncate_colormap(cmap, (colourbar_cmap_lims[0]-data_cmap_lims[0])/(data_cmap_lims[1] - data_cmap_lims[0]), (colourbar_cmap_lims[1]-data_cmap_lims[0])/(data_cmap_lims[1] - data_cmap_lims[0]))\n",
    "axins = inset_axes(\n",
    "    ax,\n",
    "    width=\"5%\",  # width: 5% of parent_bbox width\n",
    "    height=\"50%\",  # height: 50%\n",
    "    loc=\"lower left\",\n",
    "    bbox_to_anchor=colourbar_bbox,\n",
    "    bbox_transform=ax.transAxes,\n",
    "    borderpad=0,\n",
    ")\n",
    "cbar = fig.colorbar(mpl.cm.ScalarMappable(norm=new_norm, cmap=new_cmap), cax=axins, ticks=colourbar_ticks, ticklocation=\"left\")\n",
    "cbar.ax.tick_params(labelsize=7, pad=0)\n",
    "\n",
    "fig.savefig(save_dir/\"ssh_model_v2.pdf\", format=\"pdf\", bbox_inches=\"tight\", pad_inches=0)\n",
    "\n",
    "\n",
    "plt.show()"
   ]
  },
  {
   "cell_type": "code",
   "execution_count": 122,
   "metadata": {},
   "outputs": [
    {
     "data": {
      "image/png": "[encoded data removed]",
      "text/plain": [
       "<Figure size 169.291x169.291 with 1 Axes>"
      ]
     },
     "metadata": {},
     "output_type": "display_data"
    }
   ],
   "source": [
    "figsize_evec = figsize_hams\n",
    "evals, evecs = GetEvalsAndEvecsGen(HF)\n",
    "fig, ax = plt.subplots(figsize=(figsize_evec[0]*cm_unit, figsize_evec[1]*cm_unit))\n",
    "ax.plot(np.linspace(1,num_sites,num_sites), evecs[:,5]**2, \n",
    "            linestyle = \"-\",\n",
    "                # linestyle=(1,(3,1,1,1,1)), \n",
    "                c='#006F63')\n",
    "\n",
    "ax.tick_params(axis=\"x\", bottom=True, top=False, labelbottom=True, \n",
    "        labeltop=False, direction = \"in\", length = 3, pad=2)  \n",
    "ax.tick_params(axis=\"y\", left=True, right=False, labelleft=True, \n",
    "        labelright=False, direction = \"in\", length = 3, pad=2)  \n",
    "\n",
    "ax.set_ylabel(r\"Probability Density\", rotation = 90)\n",
    "ax.yaxis.set_label_coords(-0.1,0.5)\n",
    "ax.set_title(\"Edge State\", y=0.97)\n",
    "\n",
    "ax.set_xlabel(r\"site\")\n",
    "ax.xaxis.set_label_coords(0.5,-0.09)\n",
    "ax.set_ylim(-0.05, 1.05)\n",
    "ax.set_xticks([1,3,5,7,9,11])\n",
    "ax.set_yticks([0,1,1])\n",
    "fig.savefig(save_dir/\"zero_energy_edge_state_v2.pdf\", format=\"pdf\", bbox_inches=\"tight\", pad_inches=0)\n",
    "\n",
    "plt.show()\n"
   ]
  },
  {
   "cell_type": "code",
   "execution_count": 157,
   "metadata": {},
   "outputs": [
    {
     "name": "stdout",
     "output_type": "stream",
     "text": [
      "0.3982707 -0.3943039\n"
     ]
    },
    {
     "data": {
      "image/png": "[encoded data removed]",
      "text/plain": [
       "<Figure size 169.291x169.291 with 2 Axes>"
      ]
     },
     "metadata": {},
     "output_type": "display_data"
    }
   ],
   "source": [
    "#SSH3 v2\n",
    "centres = np.array(range(num_sites))\n",
    "funcs = [Cosine]*num_sites\n",
    "a1 = -40; a2 = 2.5; a3=-52; a4=-a1; a5=-a2; a6=-a3\n",
    "omega0 = 25; T = 2*pi/omega0\n",
    "phi0 = 0\n",
    "onsite0 =0\n",
    "params = ([[a_val, omega0, phi0, onsite0] for a_val in [a1, a2, a3, a4, a5, a6]]*3)[:num_sites]\n",
    "_, HF = CreateHFGeneral(num_sites, centres, funcs, params, T, circle_boundary=0)\n",
    " \n",
    "colourbar_min = np.min(np.real(HF))\n",
    "colourbar_max = np.max(np.real(HF))\n",
    "\n",
    "print(colourbar_max, colourbar_min)\n",
    "\n",
    "label= r'$[H_S^{t_0}]_{i,j}/J$'\n",
    "\n",
    "data_cmap_lims = (-0.5 ,0.5); colourbar_cmap_lims=(-0.4,0.4); colourbar_ticks = np.arange(-0.4,0.5,0.4)\n",
    "\n",
    "norm = mpl.colors.Normalize(vmin=data_cmap_lims[0], vmax=data_cmap_lims[1])\n",
    "\n",
    "fig, ax = plt.subplots(figsize=(figsize_hams[0]*cm_unit, figsize_hams[1]*cm_unit))\n",
    "\n",
    "pcm = ax.matshow(np.real(HF), interpolation='none', cmap=cmap,  norm=norm)\n",
    "ax.tick_params(axis=\"x\", bottom=True, top=True, labelbottom=True, \n",
    "        labeltop=False, direction = \"in\", length = 3, pad=2)  \n",
    "ax.tick_params(axis=\"y\", left=True, right=True, labelleft=True, \n",
    "        labelright=False, direction = \"in\", length = 3, pad=2)  \n",
    "\n",
    "ax.set_ylabel('$i$', rotation=0)\n",
    "ax.yaxis.set_label_coords(ylabel_coords[0], ylabel_coords[1])\n",
    "ax.set_yticks(axes_tick_pos)\n",
    "ax.set_yticklabels(axes_tick_labels)#, font=\"stix\", fontsize=fontsize*0.9)\n",
    "\n",
    "ax.set_xlabel(\"$j$\")\n",
    "ax.xaxis.set_label_coords(xlabel_coords[0], xlabel_coords[1])\n",
    "ax.set_xticks(axes_tick_pos)\n",
    "ax.set_xticklabels(axes_tick_labels)#, font=\"stix\", fontsize=fontsize*0.9)\n",
    "\n",
    "ax.set_title(title)\n",
    "new_norm = mpl.colors.Normalize(vmin=colourbar_cmap_lims[0], vmax=colourbar_cmap_lims[1])\n",
    "new_cmap = truncate_colormap(cmap, (colourbar_cmap_lims[0]-data_cmap_lims[0])/(data_cmap_lims[1] - data_cmap_lims[0]), (colourbar_cmap_lims[1]-data_cmap_lims[0])/(data_cmap_lims[1] - data_cmap_lims[0]))\n",
    "axins = inset_axes(\n",
    "    ax,\n",
    "    width=\"5%\",  # width: 5% of parent_bbox width\n",
    "    height=\"50%\",  # height: 50%\n",
    "    loc=\"lower left\",\n",
    "    bbox_to_anchor=colourbar_bbox,\n",
    "    bbox_transform=ax.transAxes,\n",
    "    borderpad=0,\n",
    ")\n",
    "cbar = fig.colorbar(mpl.cm.ScalarMappable(norm=new_norm, cmap=new_cmap), cax=axins, ticks=colourbar_ticks, ticklocation=\"left\")\n",
    "cbar.ax.tick_params(labelsize=7, pad=0)\n",
    "\n",
    "\n",
    "\n",
    "fig.savefig(save_dir/\"ssh3_model_v2.pdf\", format=\"pdf\", bbox_inches=\"tight\", pad_inches=0)\n",
    "plt.show()\n",
    "\n"
   ]
  },
  {
   "cell_type": "code",
   "execution_count": 139,
   "metadata": {},
   "outputs": [
    {
     "name": "stdout",
     "output_type": "stream",
     "text": [
      "0.3842303 -0.7230333\n"
     ]
    },
    {
     "data": {
      "image/png": "[encoded data removed]",
      "text/plain": [
       "<Figure size 169.291x169.291 with 2 Axes>"
      ]
     },
     "metadata": {},
     "output_type": "display_data"
    }
   ],
   "source": [
    "#SSH4\n",
    "centres = np.array(range(num_sites))\n",
    "funcs = [Cosine]*num_sites\n",
    "a1 = 16.917322691940058; a2 = -50; a3 = 38.315948852085626; a4 = -10\n",
    "omega0 = 25; T = 2*pi/omega0\n",
    "phi1 = 0; phi2 = 0; phi3 = 0; phi4 = 0\n",
    "# onsite1 =0.0697854749060796; onsite2 = 0.068;  onsite3=0;onsite4 = -0.068\n",
    "onsite1 = onsite2 = onsite3 = onsite4 = 0\n",
    "# params = [onsite0, [a1, omega1, phi1, onsite1], [(a2, a3), (omega2, omega3), (phi2, phi3), onsite2], [a4, omega4, phi4, onsite4]]*2\n",
    "params = ([ [a1, omega0, phi1, onsite1], [a2, omega0, phi2, onsite2], [a3, omega0, phi3, onsite3], [a4, omega0, phi4, onsite4]]*3)[:num_sites]\n",
    "_, HF = CreateHFGeneral(num_sites, centres, funcs, params, T, circle_boundary=0)\n",
    "\n",
    "colourbar_min = np.min(np.real(HF))\n",
    "colourbar_max = np.max(np.real(HF))\n",
    "print(colourbar_max, colourbar_min)\n",
    "label= r'$[H_S^{t_0}]_{i,j}/J$'\n",
    "data_cmap_lims = (-0.8, 0.8); colourbar_cmap_lims=(-0.8,0.4); colourbar_ticks = np.arange(-0.8,1.2,0.4)\n",
    "\n",
    "norm = mpl.colors.Normalize(vmin=data_cmap_lims[0], vmax=data_cmap_lims[1])\n",
    "\n",
    "fig, ax = plt.subplots(figsize=(figsize_hams[0]*cm_unit, figsize_hams[1]*cm_unit))\n",
    "\n",
    "pcm = ax.matshow(np.real(HF), interpolation='none', cmap=cmap,  norm=norm)\n",
    "ax.tick_params(axis=\"x\", bottom=True, top=True, labelbottom=True, \n",
    "        labeltop=False, direction = \"in\", length = 3, pad=2)  \n",
    "ax.tick_params(axis=\"y\", left=True, right=True, labelleft=True, \n",
    "        labelright=False, direction = \"in\", length = 3, pad=2)  \n",
    "\n",
    "\n",
    "# ax.set_ylabel('$i$', rotation=0)\n",
    "ax.yaxis.set_label_coords(ylabel_coords[0], ylabel_coords[1])\n",
    "ax.set_yticks(axes_tick_pos)\n",
    "ax.set_yticklabels([\"\", \"\", \"\", \"\", \"\", \"\"])#, font=\"stix\", fontsize=fontsize*0.9)\n",
    "\n",
    "ax.set_xlabel(\"$j$\")\n",
    "ax.xaxis.set_label_coords(xlabel_coords[0], xlabel_coords[1])\n",
    "ax.set_xticks(axes_tick_pos)\n",
    "ax.set_xticklabels(axes_tick_labels)#, font=\"stix\", fontsize=fontsize*0.9)\n",
    "ax.set_title(title)\n",
    "\n",
    "new_norm = mpl.colors.Normalize(vmin=colourbar_cmap_lims[0], vmax=colourbar_cmap_lims[1])\n",
    "new_cmap = truncate_colormap(cmap, (colourbar_cmap_lims[0]-data_cmap_lims[0])/(data_cmap_lims[1] - data_cmap_lims[0]), (colourbar_cmap_lims[1]-data_cmap_lims[0])/(data_cmap_lims[1] - data_cmap_lims[0]))\n",
    "axins = inset_axes(\n",
    "    ax,\n",
    "    width=\"5%\",  # width: 5% of parent_bbox width\n",
    "    height=\"50%\",  # height: 50%\n",
    "    loc=\"lower left\",\n",
    "    bbox_to_anchor=colourbar_bbox,\n",
    "    bbox_transform=ax.transAxes,\n",
    "    borderpad=0,\n",
    ")\n",
    "cbar = fig.colorbar(mpl.cm.ScalarMappable(norm=new_norm, cmap=new_cmap), cax=axins, ticks=colourbar_ticks, ticklocation=\"left\")\n",
    "cbar.ax.tick_params(labelsize=7, pad=0)\n",
    "\n",
    "fig.savefig(save_dir/\"ssh4_model_v2.pdf\", format=\"pdf\", bbox_inches=\"tight\", pad_inches=0)\n",
    "plt.show()"
   ]
  },
  {
   "cell_type": "code",
   "execution_count": 137,
   "metadata": {},
   "outputs": [
    {
     "name": "stdout",
     "output_type": "stream",
     "text": [
      "0.3982707 -0.3943039\n"
     ]
    },
    {
     "data": {
      "image/png": "[encoded data removed]",
      "text/plain": [
       "<Figure size 169.291x169.291 with 2 Axes>"
      ]
     },
     "metadata": {},
     "output_type": "display_data"
    }
   ],
   "source": [
    "\n"
   ]
  },
  {
   "cell_type": "code",
   "execution_count": 159,
   "metadata": {},
   "outputs": [],
   "source": [
    "#bessel\n",
    "num_sites = 5\n",
    "centres = [2]\n",
    "funcs = [Cosine]\n",
    "omega0 = 10\n",
    "num_As = 50\n",
    "As = np.linspace(0,100,num_As)\n",
    "phi0 = 0\n",
    "onsite0 =0\n"
   ]
  },
  {
   "cell_type": "code",
   "execution_count": null,
   "metadata": {},
   "outputs": [],
   "source": [
    "hoppings = np.empty(num_As, dtype=np.complex128)\n",
    "for i, a0 in enumerate(As):\n",
    "    T = 2*pi/omega0\n",
    "    params = [[a0, omega0, phi0, onsite0]]\n",
    "    _, HF = CreateHFGeneral(num_sites, centres, funcs, params, T, circle_boundary=0)\n",
    "    hoppings[i] = HF[2,3]"
   ]
  },
  {
   "cell_type": "code",
   "execution_count": 162,
   "metadata": {},
   "outputs": [
    {
     "data": {
      "image/png": "[encoded data removed]",
      "text/plain": [
       "<Figure size 354.331x82.6772 with 1 Axes>"
      ]
     },
     "metadata": {},
     "output_type": "display_data"
    }
   ],
   "source": [
    "figsize_bessel = (9,2.1)\n",
    "fig, ax = plt.subplots(figsize=(figsize_bessel[0]*cm_unit, figsize_bessel[1]*cm_unit))\n",
    "ax.hlines(0,-0.5,11, color=\"0.9\")\n",
    "\n",
    "ax.plot(As/omega0, jv(0, As/omega0), color='0.5', label=r\"from $H_\\mathrm{eff}^{(0)}$\")\n",
    "ax.plot(As/omega0,  -np.real(hoppings),':', color=\"#C30934\", label=r\"from $H_S^{t_0}$\")\n",
    "\n",
    "\n",
    "ax.tick_params(axis=\"x\", bottom=True, top=True, labelbottom=True, \n",
    "        labeltop=False, direction = \"in\", length = 3, pad=2)  \n",
    "ax.tick_params(axis=\"y\", left=True, right=True, labelleft=True, \n",
    "        labelright=False, direction = \"in\", length = 3, pad=2)  \n",
    "\n",
    "\n",
    "ax.set_xlabel(r\"$A/\\omega$\")\n",
    "ax.set_ylabel(r\"$\\frac{J'}{J}$\", fontsize=fontsize*1.3, rotation=0)#\n",
    "ax.yaxis.set_label_coords(-0.07,0.5)\n",
    "ax.xaxis.set_label_coords(0.5,-0.24)\n",
    "ax.set_xlim([0,10])\n",
    "xticks = [0, 5, 10]\n",
    "ax.set_xticks(xticks)\n",
    "ax.set_xticklabels([rf\"${i}$\" for i in xticks])\n",
    "ax.set_yticks([0,1])\n",
    "ax.legend(loc='upper right', bbox_to_anchor=(1, 1), ncol=2 )\n",
    "fig.savefig(save_dir/\"bessel_func_strob_v2.pdf\", format=\"pdf\", bbox_inches=\"tight\", pad_inches=0)\n",
    "plt.show()\n"
   ]
  },
  {
   "cell_type": "code",
   "execution_count": null,
   "metadata": {},
   "outputs": [],
   "source": []
  }
 ],
 "metadata": {
  "kernelspec": {
   "display_name": "floquet-simulations-lUP30Jl2-py3.8",
   "language": "python",
   "name": "python3"
  },
  "language_info": {
   "codemirror_mode": {
    "name": "ipython",
    "version": 3
   },
   "file_extension": ".py",
   "mimetype": "text/x-python",
   "name": "python",
   "nbconvert_exporter": "python",
   "pygments_lexer": "ipython3",
   "version": "3.10.6"
  },
  "orig_nbformat": 4
 },
 "nbformat": 4,
 "nbformat_minor": 2
}

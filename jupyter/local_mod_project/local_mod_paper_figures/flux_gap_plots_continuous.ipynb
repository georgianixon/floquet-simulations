{
 "cells": [
  {
   "cell_type": "code",
   "execution_count": 43,
   "metadata": {},
   "outputs": [],
   "source": [
    "from scipy.special import jv\n",
    "import matplotlib.pyplot as plt\n",
    "import numpy as np\n",
    "from numpy import pi\n",
    "import pandas as pd\n",
    "import matplotlib as mpl\n",
    "from floquet_simulations.flux_functions import *\n",
    "from pathlib import Path\n",
    "from matplotlib.colors import LinearSegmentedColormap\n",
    "from floquet_simulations.plot_functions import PlotParams\n",
    "PlotParams(fontsize=8.5)"
   ]
  },
  {
   "cell_type": "code",
   "execution_count": 44,
   "metadata": {},
   "outputs": [],
   "source": [
    "omega0 = 8\n",
    "alpha=1; beta=2\n",
    "gaps_dir = Path().absolute().parent.parent.parent/\"paper_data\"/f\"neighbourhood_continuous_gaps_omega={omega0},alpha={alpha},beta={beta},Amax=70.csv\"\n",
    "gaps_dir = Path().absolute().parent.parent.parent/\"paper_data\"/f\"neighbourhood_gaps_omega={omega0},alpha={alpha},beta={beta},Amax=70.csv\"\n",
    "\n",
    "df_gaps = pd.read_csv(gaps_dir, index_col=False)\n"
   ]
  },
  {
   "cell_type": "code",
   "execution_count": 51,
   "metadata": {},
   "outputs": [
    {
     "name": "stdout",
     "output_type": "stream",
     "text": [
      "0.16379413152588793\n"
     ]
    },
    {
     "data": {
      "image/png": "[encoded data removed]",
      "text/plain": [
       "<Figure size 157.48x137.795 with 2 Axes>"
      ]
     },
     "metadata": {},
     "output_type": "display_data"
    }
   ],
   "source": [
    "opening_num = \"First\"\n",
    "delta_type = f\"{opening_num}MaxDelta\"#\"SecondMaxDelta\"\n",
    "gap_type_opening = f\"{opening_num}MaxPhaseOpening\"\n",
    "gap_type_closing = f\"{opening_num}MaxPhaseClosing\"\n",
    "save_string = \"\"\n",
    "\n",
    "max_gap =df_gaps[delta_type].max()/pi\n",
    "print(max_gap)\n",
    "omega0 = 8\n",
    "cmap = LinearSegmentedColormap.from_list('custom hamiltonians', [ '#006F63', '#F78320', \"#C30934\"], N=256)\n",
    "norm = mpl.colors.Normalize(vmin=0, vmax=np.round(max_gap,3)*pi)\n",
    "figsize=(4,3.5)\n",
    "cm_unit = 1/2.54\n",
    "fig, ax = plt.subplots(figsize=(figsize[0]*cm_unit, figsize[1]*cm_unit))\n",
    "sc = ax.scatter(df_gaps.CentreX, df_gaps.CentreY, c=df_gaps[delta_type], \n",
    "                norm = norm, s=1, cmap=cmap, marker=\".\")\n",
    "ax.set_xticks([0, 0.5, 1])\n",
    "ax.set_yticks([0, 0.5, 1])\n",
    "ax.set_xlabel(r\"$\\nicefrac{J_{\\mathrm{mid}}}{J_{\\mathrm{max}}}$\",  fontsize=12)\n",
    "ax.set_ylabel(r\"$\\nicefrac{J_{\\mathrm{min}}}{J_{\\mathrm{max}}}$\", rotation = 90, labelpad=3, fontsize=12)\n",
    "cbar = plt.colorbar(sc, ticks=[0, max_gap*pi])\n",
    "cbar.ax.set_ylabel(r\"$\\Delta(\\xi) _{\\mathrm{max}}$\", rotation=90, labelpad=-13)\n",
    "cbar.ax.set_yticklabels([\"0\", rf\"{max_gap:.2f}$\\pi $\"])\n",
    "plt.savefig(Path().absolute().parent.parent.parent/\"figures\"/\"local_mod_paper\"/\"flux_on_lower_triangle.pdf\", format=\"pdf\", bbox_inches=\"tight\")\n",
    "plt.show()  "
   ]
  },
  {
   "cell_type": "code",
   "execution_count": null,
   "metadata": {},
   "outputs": [],
   "source": []
  }
 ],
 "metadata": {
  "kernelspec": {
   "display_name": "floquet-simulations-srXSFrPT-py3.10",
   "language": "python",
   "name": "python3"
  },
  "language_info": {
   "codemirror_mode": {
    "name": "ipython",
    "version": 3
   },
   "file_extension": ".py",
   "mimetype": "text/x-python",
   "name": "python",
   "nbconvert_exporter": "python",
   "pygments_lexer": "ipython3",
   "version": "3.10.6"
  },
  "orig_nbformat": 4
 },
 "nbformat": 4,
 "nbformat_minor": 2
}

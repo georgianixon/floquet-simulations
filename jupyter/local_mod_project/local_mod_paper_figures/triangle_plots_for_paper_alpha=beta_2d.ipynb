{
 "cells": [
  {
   "cell_type": "code",
   "execution_count": 4,
   "metadata": {},
   "outputs": [],
   "source": [
    "\n",
    "import matplotlib.pyplot as plt\n",
    "import numpy as np\n",
    "import pandas as pd\n",
    "import matplotlib as mpl\n",
    "from mpl_toolkits.mplot3d import Axes3D\n",
    "from pathlib import Path\n",
    "from mpl_toolkits.axes_grid1 import make_axes_locatable\n",
    "from floquet_simulations.plot_functions import PlotParams\n",
    "from matplotlib.colors import LinearSegmentedColormap\n",
    "from floquet_simulations.hamiltonians import ConvertComplex\n",
    "# import seaborn as sns\n",
    "from scipy.special import jn_zeros\n",
    "import sys\n",
    "from mpl_toolkits import mplot3d\n",
    "PlotParams(fontsize=10)\n",
    "\n",
    "def unique(a):\n",
    "    unique, counts = np.unique(a, return_counts=True)\n",
    "    return np.asarray((unique, counts)).T\n",
    "\n",
    "\n",
    "def FloatToStringSave(a):\n",
    "    return str(a).replace(\".\", \"p\")"
   ]
  },
  {
   "cell_type": "code",
   "execution_count": 9,
   "metadata": {},
   "outputs": [],
   "source": [
    "df_dir = Path().absolute().parent.parent.parent/\"paper_data\"/f\"Heff_omega=8,alpha=1,beta=1,phi3=0,2.csv\"\n",
    "dfO = pd.read_csv(df_dir, index_col=False, \n",
    "                        converters={\"FT-J12\": ConvertComplex,\n",
    "                                  \"FT-J23\": ConvertComplex,\n",
    "                                  \"FT-J31\": ConvertComplex,\n",
    "                                  # \"HE-J12\": ConvertComplex,\n",
    "                                  # \"HE-J23\": ConvertComplex,\n",
    "                                  # \"HE-J31\": ConvertComplex,\n",
    "                                  # \"HE-O1\": ConvertComplex,\n",
    "                                  # \"HE-O2\": ConvertComplex,\n",
    "                                  # \"HE-O3\": ConvertComplex\n",
    "                                    })\n",
    "\n",
    "\n",
    "dfO[\"FT-J12oJ23\"] = np.abs(dfO[\"FT-J12\"] / dfO[\"FT-J23\"])\n",
    "dfO[\"FT-J31oJ23\"] = np.abs(dfO[\"FT-J31\"] / dfO[\"FT-J23\"])\n",
    "\n",
    "# dfO = dfO.sort_values(by=['A3', 'A2'], ignore_index=True)\n",
    "\n",
    "A2_min = 0\n",
    "A2_max = jn_zeros(0,1)[0]*8\n",
    "A2_range = len(np.append(np.linspace(0,19.2,193), [1]))\n",
    "A3_min = 0\n",
    "A3_max = jn_zeros(0,1)[0]*8\n",
    "A3_range = len(np.append(np.linspace(0,19.2,193), [1]))\n",
    "# # domains\n",
    "dfP = dfO[\n",
    "           (dfO.A3 <=A3_max)\n",
    "           &(dfO.A3 >= A3_min)\n",
    "           &(dfO.A2 <=A2_max)\n",
    "           &(dfO.A2 >=A2_min)\n",
    "          ]\n"
   ]
  },
  {
   "cell_type": "code",
   "execution_count": 10,
   "metadata": {},
   "outputs": [
    {
     "data": {
      "image/png": "[encoded data removed]",
      "text/plain": [
       "<Figure size 275.591x236.22 with 2 Axes>"
      ]
     },
     "metadata": {},
     "output_type": "display_data"
    }
   ],
   "source": [
    "\n",
    "fontsize=10\n",
    "PlotParams(fontsize=fontsize)\n",
    "\n",
    "\n",
    "X_flat = np.array(dfP[\"FT-J12oJ23\"].to_list())\n",
    "Y_flat = np.array(dfP[\"FT-J31oJ23\"].to_list())\n",
    "\n",
    "# remove off diagonal parts\n",
    "X_flat = np.where(X_flat>Y_flat, X_flat, np.nan)\n",
    "Y_flat = np.where(X_flat>Y_flat, Y_flat, np.nan)\n",
    "\n",
    "#remove parts outside the triangl\n",
    "X_flat = np.where(X_flat<=1, X_flat, np.nan)\n",
    "Y_flat =np.where(X_flat<=1, Y_flat, np.nan)\n",
    "\n",
    "#set colour axis\n",
    "colour_flat = np.array(dfP.A2.to_list())\n",
    "# colour_flat = np.array(dfP.A3.to_list())\n",
    "\n",
    "minn, maxx = colour_flat.min(), colour_flat.max()\n",
    "norm = mpl.colors.Normalize(minn, maxx)\n",
    "cmap = LinearSegmentedColormap.from_list('custom hamiltonians', ['#006F63', '#F78320'], N=256)\n",
    "\n",
    "figsize=(7,6)\n",
    "cm_unit = 1/2.54\n",
    "# plot\n",
    "fig, ax = plt.subplots(figsize=(figsize[0]*cm_unit, figsize[1]*cm_unit), tight_layout=True)\n",
    "ax.scatter(X_flat, Y_flat, c=colour_flat, s = 1, alpha=1, norm=norm, cmap=cmap)\n",
    "\n",
    "ax.set_xlabel(r'$\\nicefrac{J_{\\mathrm{med}}}{J_{\\mathrm{max}}}$', labelpad = 0.00000001, rotation=0, fontsize=1.5)\n",
    "ax.set_ylabel(r'$\\nicefrac{J_{\\mathrm{min}}}{J_{\\mathrm{max}}}$', labelpad = 2, rotation = 0, fontsize=1.5)\n",
    "ax.tick_params(axis=\"x\", pad = 0.001)\n",
    "ax.tick_params(axis=\"y\", pad = 0.001)\n",
    "\n",
    "ax.set_xticks([0,1], labels=[\"0\", r\"$1$\"])\n",
    "ax.set_yticks([0,1], labels=[\"0\", r\"$1$\"])\n",
    "\n",
    "ax.set_xlim((0,1))\n",
    "ax.set_ylim((0,1))\n",
    "\n",
    "ax.set_xlabel(r'$\\nicefrac{J_{\\mathrm{mid}}}{J_{\\mathrm{max}}}$', labelpad = 0.0001, rotation=0, fontsize=fontsize*1.5)\n",
    "ax.set_ylabel(r'$\\frac{J_{\\mathrm{min}}}{J_{\\mathrm{max}}}$', labelpad = 14, rotation = 0, fontsize=fontsize*1.5)\n",
    "\n",
    "colourbar_pad = 0.1; colourbar_size_percentage=7\n",
    "divider = make_axes_locatable(ax)\n",
    "cax = divider.append_axes('right', size=f\"{colourbar_size_percentage}%\", pad=colourbar_pad)\n",
    "\n",
    "cbar = fig.colorbar(mpl.cm.ScalarMappable(norm=norm, cmap=cmap), cax=cax, ticks = [0, 6, 12, 18, 19.2])\n",
    "cbar.ax.set_yticklabels([r\"$0$\", r\"$6$\", r\"$12$\", r\"$18$\", r\"$\\ast$\"])\n",
    "cbar.ax.set_ylabel(r\"$A_2$\", rotation=0, labelpad=8)\n",
    "\n",
    "# fig.savefig(Path().absolute().parent.parent/\"figures\"/\"paper\"/\"2d_tunnelling_cover_alpha=beta_A2.pdf\", format=\"pdf\", bbox_inches=\"tight\")\n",
    "plt.show()"
   ]
  },
  {
   "cell_type": "code",
   "execution_count": null,
   "metadata": {},
   "outputs": [],
   "source": []
  }
 ],
 "metadata": {
  "kernelspec": {
   "display_name": "floquet-simulations-srXSFrPT-py3.10",
   "language": "python",
   "name": "python3"
  },
  "language_info": {
   "codemirror_mode": {
    "name": "ipython",
    "version": 3
   },
   "file_extension": ".py",
   "mimetype": "text/x-python",
   "name": "python",
   "nbconvert_exporter": "python",
   "pygments_lexer": "ipython3",
   "version": "3.10.6"
  },
  "orig_nbformat": 4
 },
 "nbformat": 4,
 "nbformat_minor": 2
}

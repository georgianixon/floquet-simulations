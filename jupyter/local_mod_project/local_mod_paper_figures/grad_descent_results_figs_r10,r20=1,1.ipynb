{
 "cells": [
  {
   "cell_type": "code",
   "execution_count": 1,
   "metadata": {},
   "outputs": [],
   "source": [
    "from pathlib import Path\n",
    "import pandas as pd\n",
    "import matplotlib.pyplot as plt\n",
    "from math import pi\n",
    "import numpy as np\n",
    "from floquet_simulations.plot_functions import PlotParams\n",
    "import scipy.integrate as integrate\n",
    "from numpy import pi, sin, cos\n",
    "from scipy.special import jv\n",
    "PlotParams()\n",
    "def ConvertToFloat(frac_str):\n",
    "    try:\n",
    "        return float(frac_str)\n",
    "    except ValueError:\n",
    "        try:\n",
    "            num, denom = frac_str.split('/')\n",
    "        except ValueError:\n",
    "            return None\n",
    "        try:\n",
    "            leading, num = num.split(' ')\n",
    "        except ValueError:\n",
    "            return float(num) / float(denom)        \n",
    "        if float(leading) < 0:\n",
    "            sign_mult = -1\n",
    "        else:\n",
    "            sign_mult = 1\n",
    "        return float(leading) + sign_mult * (float(num) / float(denom))\n",
    "    \n",
    "def f_J12(A2, A3, omega0, phi3):\n",
    "    \n",
    "    alpha = 1\n",
    "    \n",
    "    omega2 = alpha*omega0\n",
    "\n",
    "    J12 = jv(0,A2/omega2)\n",
    "\n",
    "\n",
    "    return np.abs(J12)\n",
    "\n",
    "\n",
    "\n",
    "def f_J23(A2, A3, omega0, phi3):\n",
    "    \n",
    "    alpha = 1\n",
    "    beta = 2\n",
    "    \n",
    "    omega2 = alpha*omega0\n",
    "    omega3 = beta*omega0\n",
    "\n",
    "    # first term expansion term\n",
    "    J23_real = omega0/2/pi*integrate.quad(lambda t: cos(A3/omega3*sin(omega3*t + phi3) - A2/omega2*sin(omega2*t)), -pi/omega0, pi/omega0)[0]\n",
    "    J23_imag = 1j*omega0/2/pi*integrate.quad(lambda t: sin(A3/omega3*sin(omega3*t + phi3) - A2/omega2*sin(omega2*t)), -pi/omega0, pi/omega0)[0]\n",
    "    # we are removing esimate of absolute error\n",
    "    J23 = J23_real + J23_imag\n",
    "\n",
    "\n",
    "    return np.abs(J23)\n",
    "\n",
    "    \n",
    "def f_J31(A2, A3, omega0, phi3):\n",
    "    \n",
    "\n",
    "    beta = 2\n",
    "\n",
    "    omega3 = beta*omega0\n",
    "\n",
    "\n",
    "    J31 = jv(0, A3/omega3)\n",
    "\n",
    "\n",
    "    return np.abs(J31)\n",
    "\n",
    "def Mid(v1, v2, v3):\n",
    "   return v1+v2+v3 - np.max([v1, v2, v3])-np.min([v1, v2, v3])\n",
    "\n",
    "def f_xi(A2, A3, omega0, phi3):\n",
    "    \n",
    "    alpha = 1\n",
    "    beta = 2\n",
    "    \n",
    "    omega2 = alpha*omega0\n",
    "    omega3 = beta*omega0\n",
    "\n",
    "    # first term expansion term\n",
    "    J23_real = omega0/2/pi*integrate.quad(lambda t: cos(A3/omega3*sin(omega3*t + phi3) - A2/omega2*sin(omega2*t)), -pi/omega0, pi/omega0)[0]\n",
    "    J23_imag = 1j*omega0/2/pi*integrate.quad(lambda t: sin(A3/omega3*sin(omega3*t + phi3) - A2/omega2*sin(omega2*t)), -pi/omega0, pi/omega0)[0]\n",
    "    # we are removing esimate of absolute error\n",
    "    J23 = J23_real + J23_imag\n",
    "\n",
    "\n",
    "    J31 = jv(0, A3/omega3)\n",
    "    J12 = jv(0,A2/omega2)\n",
    "\n",
    "    xi = np.angle(J12*J31*J23)\n",
    "\n",
    "    # r1 = Mid(np.abs(J31), np.abs(J23), np.abs(J12)) / np.max([np.abs(J31), np.abs(J23), np.abs(J12)])\n",
    "    # r2 = np.min([np.abs(J12), np.abs(J23), np.abs(J31)]) / np.max([np.abs(J12), np.abs(J23), np.abs(J31)])\n",
    "\n",
    "    # return r1, r2, xi\n",
    "\n",
    "    return xi\n",
    "\n",
    "def f_r1(A2, A3, omega0, phi3):\n",
    "    \n",
    "    alpha = 1\n",
    "    beta = 2\n",
    "    \n",
    "    omega2 = alpha*omega0\n",
    "    omega3 = beta*omega0\n",
    "\n",
    "    # first term expansion term\n",
    "    J23_real = omega0/2/pi*integrate.quad(lambda t: cos(A3/omega3*sin(omega3*t + phi3) - A2/omega2*sin(omega2*t)), -pi/omega0, pi/omega0)[0]\n",
    "    J23_imag = 1j*omega0/2/pi*integrate.quad(lambda t: sin(A3/omega3*sin(omega3*t + phi3) - A2/omega2*sin(omega2*t)), -pi/omega0, pi/omega0)[0]\n",
    "    # we are removing esimate of absolute error\n",
    "    J23 = J23_real + J23_imag\n",
    "\n",
    "\n",
    "    J31 = jv(0, A3/omega3)\n",
    "    J12 = jv(0,A2/omega2)\n",
    "\n",
    "    # xi = np.arg(J12*J31*J23)\n",
    "\n",
    "    r1 = Mid(np.abs(J31), np.abs(J23), np.abs(J12)) / np.max([np.abs(J31), np.abs(J23), np.abs(J12)])\n",
    "    # r2 = np.min([np.abs(J12), np.abs(J23), np.abs(J31)]) / np.max([np.abs(J12), np.abs(J23), np.abs(J31)])\n",
    "\n",
    "    # return r1, r2, xi\n",
    "\n",
    "    return r1\n",
    "\n",
    "\n",
    "\n",
    "def f_r2(A2, A3, omega0, phi3):\n",
    "    \n",
    "    alpha = 1\n",
    "    beta = 2\n",
    "    \n",
    "    omega2 = alpha*omega0\n",
    "    omega3 = beta*omega0\n",
    "\n",
    "    # first term expansion term\n",
    "    J23_real = omega0/2/pi*integrate.quad(lambda t: cos(A3/omega3*sin(omega3*t + phi3) - A2/omega2*sin(omega2*t)), -pi/omega0, pi/omega0)[0]\n",
    "    J23_imag = 1j*omega0/2/pi*integrate.quad(lambda t: sin(A3/omega3*sin(omega3*t + phi3) - A2/omega2*sin(omega2*t)), -pi/omega0, pi/omega0)[0]\n",
    "    # we are removing esimate of absolute error\n",
    "    J23 = J23_real + J23_imag\n",
    "\n",
    "\n",
    "    J31 = jv(0, A3/omega3)\n",
    "    J12 = jv(0,A2/omega2)\n",
    "\n",
    "    # xi = np.arg(J12*J31*J23)\n",
    "\n",
    "    # r1 = Mid(np.abs(J31), np.abs(J23), np.abs(J12)) / np.max([np.abs(J31), np.abs(J23), np.abs(J12)])\n",
    "    r2 = np.min([np.abs(J12), np.abs(J23), np.abs(J31)]) / np.max([np.abs(J12), np.abs(J23), np.abs(J31)])\n",
    "\n",
    "    # return r1, r2, xi\n",
    "\n",
    "    return r2"
   ]
  },
  {
   "cell_type": "code",
   "execution_count": 2,
   "metadata": {},
   "outputs": [],
   "source": [
    "omega0 = 8\n",
    "alpha=1; beta=2\n",
    "data_dir = Path().absolute().parent.parent.parent/\"paper_data\"/\"numerical_optimisation\"/\"continuous_neighbourhood_grad_descent_findminimum_initial_conds.csv\"\n",
    "# data_dir = Path().absolute().parent.parent.parent/\"paper_data\"/f\"grad_descent_findminimum_truevals.csv\"\n",
    "# data_dir = Path().absolute().parent.parent.parent/\"paper_data\"/\"numerical_optimisation\"/\"smooth_optimisation_data_(x,y)=(.5,.3).csv\""
   ]
  },
  {
   "cell_type": "code",
   "execution_count": 3,
   "metadata": {},
   "outputs": [],
   "source": [
    "df = pd.read_csv(data_dir,\n",
    "                  index_col=False,\n",
    "                   converters={\"xi0_frac\": ConvertToFloat\n",
    "                   }\n",
    "                  )"
   ]
  },
  {
   "cell_type": "code",
   "execution_count": 38,
   "metadata": {},
   "outputs": [],
   "source": [
    "r10 = 1\n",
    "r20 = 1\n",
    "\n",
    "dfI = df[(df.xi0_frac <=1)\n",
    "        &(df.r10 == r10)\n",
    "        &(df.r20 == r20)\n",
    "        # &(df.b == 20)\n",
    "        # &(df.c == 20)\n",
    "        # &(df.algo ==\n",
    "        #    \"FindMinimum,PG=3,AG=3,MI=inf,imported_ic_smart4.0\")\n",
    "          # \"FindMinimum,PG=5,AG=5,MI=inf,w=8,use_last_ic,3\")\n",
    "\n",
    "        ]\n",
    "dfI = dfI.sort_values(by=\"xi0_frac\")\n",
    "dfI.xi0_frac = np.round(dfI.xi0_frac.to_list(), 3)\n"
   ]
  },
  {
   "cell_type": "code",
   "execution_count": 18,
   "metadata": {},
   "outputs": [
    {
     "name": "stdout",
     "output_type": "stream",
     "text": [
      "['FindMinimum,PG=4,AG=4,MI=inf,w=8,imported_ic_smart4.0'\n",
      " 'FindMinimum,PG=5,AG=5,MI=inf,w=8,imported_ic_smart5.0'\n",
      " 'FindMinimum,PG=3,AG=3,MI=inf,imported_ic_smart4.0'\n",
      " 'FindMinimum,PG=7,AG=7,MI=inf,w=8,imported_ic_smart5.0']\n"
     ]
    }
   ],
   "source": [
    "algos = dfI.algo.unique()\n",
    "print(algos)"
   ]
  },
  {
   "cell_type": "code",
   "execution_count": 34,
   "metadata": {},
   "outputs": [
    {
     "name": "stderr",
     "output_type": "stream",
     "text": [
      "/tmp/ipykernel_14102/1151976872.py:1: UserWarning: Boolean Series key will be reindexed to match DataFrame index.\n",
      "  dfP = dfI[(df.algo == algos[2])]\n"
     ]
    }
   ],
   "source": [
    "dfP = dfI[(df.algo == algos[2])]"
   ]
  },
  {
   "cell_type": "code",
   "execution_count": 37,
   "metadata": {},
   "outputs": [
    {
     "data": {
      "image/png": "[encoded data removed]",
      "text/plain": [
       "<Figure size 234.375x156.25 with 2 Axes>"
      ]
     },
     "metadata": {},
     "output_type": "display_data"
    }
   ],
   "source": [
    "figsize = (6/2.56, 4/2.56)\n",
    "\n",
    "fig, ax1 = plt.subplots(figsize=figsize)\n",
    "ax1.plot(dfP.xi0_frac, dfP.A2, 'x', c=\"#006F63\", label=r\"$A_2$\", ms = 3)\n",
    "ax1.plot(dfP.xi0_frac, dfP.A3, 'x', c=\"#F78320\", label=r\"$A_3$\", ms = 3)\n",
    "ax1.set_yticks([ 0,10, 20, 30,40, 50, 60, 70, 80, 90,100])\n",
    "ax1.set_xticks(np.linspace(-1,1,5))\n",
    "ax1.set_xticklabels([r\"$-\\pi$\", r\"$-\\pi/2$\", r\"$0$\", r\"$\\pi/2$\", r\"$\\pi$\"])\n",
    "\n",
    "ax1.set_xlabel(r\"$\\Phi^t$\")\n",
    "# ax1.set_title(rf\"$(r_0^1, r_0^2) =({r10},{r20})$, $(\\alpha,\\beta)=({alpha},{beta})$\")\n",
    "ax1.set_ylabel(r\"$A_i$\", rotation=0, labelpad=10, y=0.5)\n",
    "\n",
    "ax2 = ax1.twinx()\n",
    "# ax2.plot(dfP[dfP.xi0_frac <0].xi0_frac, dfP[dfP.xi0_frac <0].phi, '--', c=\"#6517BC\", label=r\"$\\varphi$\", ms = 1)\n",
    "ax2.plot(dfP[dfP.xi0_frac >0].xi0_frac, dfP[dfP.xi0_frac >0].phi, 'x', c=\"#6517BC\", ms = 5, label=r\"$\\varphi$\",)\n",
    "ax2.set_yticks([0, pi/2, pi, 3*pi/2, 2*pi])\n",
    "ax2.set_yticklabels([ r\"$0$\", r\"$\\pi/2$\", r\"$\\pi$\",  r\"$3\\pi/2$\", r\"$2\\pi$\"])\n",
    "ax2.set_ylabel(r\"$\\varphi$\", rotation=0, labelpad = -5, y=0.62)\n",
    "leg = ax1.legend(loc='lower left', bbox_to_anchor=(0, 0))\n",
    "leg2 = ax2.legend(loc='lower right', bbox_to_anchor=(1, 0))\n",
    "# plt.savefig(Path().absolute().parent.parent.parent/\"figures\"/\"local_mod_paper\"/f\"flux_drive_params_findmin_nh=({r10},{r20})_alpha,beta={alpha},{beta}.pdf\", format=\"pdf\", bbox_inches=\"tight\"\n",
    "            # , dpi=1860\n",
    "            # )\n",
    "plt.show()"
   ]
  },
  {
   "cell_type": "code",
   "execution_count": 32,
   "metadata": {},
   "outputs": [
    {
     "name": "stderr",
     "output_type": "stream",
     "text": [
      "/tmp/ipykernel_14102/2783040871.py:1: SettingWithCopyWarning: \n",
      "A value is trying to be set on a copy of a slice from a DataFrame.\n",
      "Try using .loc[row_indexer,col_indexer] = value instead\n",
      "\n",
      "See the caveats in the documentation: https://pandas.pydata.org/pandas-docs/stable/user_guide/indexing.html#returning-a-view-versus-a-copy\n",
      "  dfP[\"absJ12\"] = dfP.apply(lambda row : f_J12(row[\"A2\"],\n",
      "/tmp/ipykernel_14102/2783040871.py:4: SettingWithCopyWarning: \n",
      "A value is trying to be set on a copy of a slice from a DataFrame.\n",
      "Try using .loc[row_indexer,col_indexer] = value instead\n",
      "\n",
      "See the caveats in the documentation: https://pandas.pydata.org/pandas-docs/stable/user_guide/indexing.html#returning-a-view-versus-a-copy\n",
      "  dfP[\"absJ23\"] = dfP.apply(lambda row : f_J23(row[\"A2\"],\n",
      "/tmp/ipykernel_14102/2783040871.py:7: SettingWithCopyWarning: \n",
      "A value is trying to be set on a copy of a slice from a DataFrame.\n",
      "Try using .loc[row_indexer,col_indexer] = value instead\n",
      "\n",
      "See the caveats in the documentation: https://pandas.pydata.org/pandas-docs/stable/user_guide/indexing.html#returning-a-view-versus-a-copy\n",
      "  dfP[\"absJ31\"] = dfP.apply(lambda row : f_J31(row[\"A2\"],\n",
      "/tmp/ipykernel_14102/2783040871.py:10: SettingWithCopyWarning: \n",
      "A value is trying to be set on a copy of a slice from a DataFrame.\n",
      "Try using .loc[row_indexer,col_indexer] = value instead\n",
      "\n",
      "See the caveats in the documentation: https://pandas.pydata.org/pandas-docs/stable/user_guide/indexing.html#returning-a-view-versus-a-copy\n",
      "  dfP[\"xi\"] = dfP.apply(lambda row : f_xi(row[\"A2\"],\n",
      "/tmp/ipykernel_14102/2783040871.py:13: SettingWithCopyWarning: \n",
      "A value is trying to be set on a copy of a slice from a DataFrame.\n",
      "Try using .loc[row_indexer,col_indexer] = value instead\n",
      "\n",
      "See the caveats in the documentation: https://pandas.pydata.org/pandas-docs/stable/user_guide/indexing.html#returning-a-view-versus-a-copy\n",
      "  dfP[\"r1\"] = dfP.apply(lambda row : f_r1(row[\"A2\"],\n",
      "/tmp/ipykernel_14102/2783040871.py:16: SettingWithCopyWarning: \n",
      "A value is trying to be set on a copy of a slice from a DataFrame.\n",
      "Try using .loc[row_indexer,col_indexer] = value instead\n",
      "\n",
      "See the caveats in the documentation: https://pandas.pydata.org/pandas-docs/stable/user_guide/indexing.html#returning-a-view-versus-a-copy\n",
      "  dfP[\"r2\"] = dfP.apply(lambda row : f_r2(row[\"A2\"],\n"
     ]
    }
   ],
   "source": [
    "dfP[\"absJ12\"] = dfP.apply(lambda row : f_J12(row[\"A2\"],\n",
    "                     row['A3'], row['omega'], row['phi']), axis = 1)\n",
    "\n",
    "dfP[\"absJ23\"] = dfP.apply(lambda row : f_J23(row[\"A2\"],\n",
    "                     row['A3'], row['omega'], row['phi']), axis = 1)\n",
    "\n",
    "dfP[\"absJ31\"] = dfP.apply(lambda row : f_J31(row[\"A2\"],\n",
    "                     row['A3'], row['omega'], row['phi']), axis = 1)\n",
    "\n",
    "dfP[\"xi\"] = dfP.apply(lambda row : f_xi(row[\"A2\"],\n",
    "                     row['A3'], row['omega'], row['phi']), axis = 1)\n",
    "\n",
    "dfP[\"r1\"] = dfP.apply(lambda row : f_r1(row[\"A2\"],\n",
    "                     row['A3'], row['omega'], row['phi']), axis = 1)\n",
    "\n",
    "dfP[\"r2\"] = dfP.apply(lambda row : f_r2(row[\"A2\"],\n",
    "                     row['A3'], row['omega'], row['phi']), axis = 1)"
   ]
  },
  {
   "cell_type": "code",
   "execution_count": 28,
   "metadata": {},
   "outputs": [
    {
     "data": {
      "text/plain": [
       "Index(['algo', 'r10', 'r20', 'xi0_frac', 'a', 'b', 'c', 'A2', 'A3', 'omega',\n",
       "       'phi', 'error', 'A2_ic', 'A3_ic', 'omega_ic', 'varphi_frac_ic',\n",
       "       'absJ12', 'absJ23', 'absJ31'],\n",
       "      dtype='object')"
      ]
     },
     "execution_count": 28,
     "metadata": {},
     "output_type": "execute_result"
    }
   ],
   "source": [
    "dfP.columns"
   ]
  },
  {
   "cell_type": "code",
   "execution_count": 33,
   "metadata": {},
   "outputs": [
    {
     "data": {
      "image/png": "[encoded data removed]",
      "text/plain": [
       "<Figure size 273.438x156.25 with 1 Axes>"
      ]
     },
     "metadata": {},
     "output_type": "display_data"
    }
   ],
   "source": [
    "figsize = (7/2.56, 4/2.56)\n",
    "marker = \".\"\n",
    "marker_size = 3\n",
    "fig, ax = plt.subplots(figsize=figsize)\n",
    "ax.plot(dfP.xi0_frac, dfP.absJ12, marker, ms = marker_size, c=\"#006F63\", label=r\"$|J_{12}|$\")\n",
    "ax.plot(dfP.xi0_frac, dfP.absJ23, marker, ms = marker_size, c=\"#F78320\", label=r\"$|J_{23}|$\")\n",
    "ax.plot(dfP.xi0_frac, dfP.absJ31, marker, ms = marker_size, c=\"#6517BC\", label=r\"$|J_{31}|$\")\n",
    "ax.set_xticks(np.linspace(0,1,3))\n",
    "ax.set_xticklabels([  r\"$0$\", r\"$\\pi/2$\", r\"$\\pi$\"])\n",
    "ax.set_xlabel(r\"$\\Phi^t$\")\n",
    "ax.set_yticks(np.linspace(0, 0.4, 5))\n",
    "# ax.set_title(rf\"$(r_0^1, r_0^2) =({r10},{r20})$, $(\\alpha,\\beta)=({alpha},{beta})$\")\n",
    "leg = ax.legend(loc='upper right', bbox_to_anchor=(1.45,1))\n",
    "# plt.savefig(Path().absolute().parent.parent.parent/\"figures\"/\"local_mod_paper\"/f\"flux_J_params_findmin_nh=({r10},{r20})_alpha,beta={alpha},{beta}.pdf\", format=\"pdf\", bbox_inches=\"tight\"\n",
    "            # , dpi=1860\n",
    "            # )\n",
    "plt.show()"
   ]
  },
  {
   "cell_type": "code",
   "execution_count": 25,
   "metadata": {},
   "outputs": [
    {
     "data": {
      "image/png": "[encoded data removed]",
      "text/plain": [
       "<Figure size 273.438x156.25 with 1 Axes>"
      ]
     },
     "metadata": {},
     "output_type": "display_data"
    }
   ],
   "source": [
    "figsize = (7/2.56, 4/2.56)\n",
    "marker = \"x\"\n",
    "marker_size = 5\n",
    "fig, ax = plt.subplots(figsize=figsize)\n",
    "ax.plot(dfP.xi0_frac, dfP.r1, marker, ms = marker_size, c=\"#006F63\", label=r\"$r_1$\")\n",
    "ax.plot(dfP.xi0_frac, dfP.r2, marker, ms = marker_size, c=\"#F78320\", label=r\"$r_2$\")\n",
    "ax.set_xticks(np.linspace(0,1,3))\n",
    "ax.set_xticklabels([  r\"$0$\", r\"$\\pi/2$\", r\"$\\pi$\"])\n",
    "ax.set_xlabel(r\"$\\Phi^t$\")\n",
    "ax.set_ylabel(r\"$r_i$\", rotation=0, labelpad=10, y=0.5)\n",
    "ax.set_yticks(np.linspace(0.99, 1, 3))\n",
    "# ax.set_title(rf\"$(r_0^1, r_0^2) =({r10},{r20})$, $(\\alpha,\\beta)=({alpha},{beta})$\")\n",
    "leg = ax.legend(loc='lower left', bbox_to_anchor=(0,0))\n",
    "# plt.savefig(Path().absolute().parent.parent.parent/\"figures\"/\"local_mod_paper\"/f\"flux_J_params_findmin_nh=({r10},{r20})_alpha,beta={alpha},{beta}.pdf\", format=\"pdf\", bbox_inches=\"tight\"\n",
    "            # , dpi=1860\n",
    "            # )\n",
    "plt.show()"
   ]
  },
  {
   "cell_type": "code",
   "execution_count": 13,
   "metadata": {},
   "outputs": [
    {
     "name": "stderr",
     "output_type": "stream",
     "text": [
      "No artists with labels found to put in legend.  Note that artists whose label start with an underscore are ignored when legend() is called with no argument.\n"
     ]
    },
    {
     "data": {
      "image/png": "[encoded data removed]",
      "text/plain": [
       "<Figure size 273.438x156.25 with 1 Axes>"
      ]
     },
     "metadata": {},
     "output_type": "display_data"
    }
   ],
   "source": [
    "figsize = (7/2.56, 4/2.56)\n",
    "marker = \"x\"\n",
    "marker_size = 5\n",
    "fig, ax = plt.subplots(figsize=figsize)\n",
    "ax.plot(dfP.xi0_frac, dfP.xi, marker, ms = marker_size, c=\"#006F63\")\n",
    "ax.set_xticks(np.linspace(0,1,3))\n",
    "ax.set_xticklabels([  r\"$0$\", r\"$\\pi/2$\", r\"$\\pi$\"])\n",
    "ax.set_xlabel(r\"$\\Phi^t$\")\n",
    "ax.set_ylabel(r\"$\\Phi$\", rotation=0, labelpad=10, y=0.5)\n",
    "ax.set_yticks(np.linspace(0,pi, 3))\n",
    "ax.set_yticklabels([  r\"$0$\", r\"$\\pi/2$\", r\"$\\pi$\"])\n",
    "# ax.set_title(rf\"$(r_0^1, r_0^2) =({r10},{r20})$, $(\\alpha,\\beta)=({alpha},{beta})$\")\n",
    "leg = ax.legend(loc='lower left', bbox_to_anchor=(0,0))\n",
    "# plt.savefig(Path().absolute().parent.parent.parent/\"figures\"/\"local_mod_paper\"/f\"flux_J_params_findmin_nh=({r10},{r20})_alpha,beta={alpha},{beta}.pdf\", format=\"pdf\", bbox_inches=\"tight\"\n",
    "            # , dpi=1860\n",
    "            # )\n",
    "plt.show()"
   ]
  },
  {
   "cell_type": "code",
   "execution_count": 14,
   "metadata": {},
   "outputs": [
    {
     "name": "stderr",
     "output_type": "stream",
     "text": [
      "No artists with labels found to put in legend.  Note that artists whose label start with an underscore are ignored when legend() is called with no argument.\n"
     ]
    },
    {
     "data": {
      "image/png": "[encoded data removed]",
      "text/plain": [
       "<Figure size 273.438x156.25 with 1 Axes>"
      ]
     },
     "metadata": {},
     "output_type": "display_data"
    }
   ],
   "source": [
    "figsize = (7/2.56, 4/2.56)\n",
    "marker = \"x\"\n",
    "marker_size = 5\n",
    "fig, ax = plt.subplots(figsize=figsize)\n",
    "ax.plot(dfP.xi0_frac, dfP.omega, marker, ms = marker_size, c=\"#006F63\")\n",
    "ax.set_xticks(np.linspace(0,1,3))\n",
    "ax.set_xticklabels([  r\"$0$\", r\"$\\pi/2$\", r\"$\\pi$\"])\n",
    "ax.set_xlabel(r\"$\\Phi^t$\")\n",
    "ax.set_ylabel(r\"$\\omega$\", rotation=0, labelpad=10, y=0.5)\n",
    "# ax.set_yticks(np.linspace(0,pi, 3))\n",
    "# ax.set_yticklabels([  r\"$0$\", r\"$\\pi/2$\", r\"$\\pi$\"])\n",
    "# ax.set_title(rf\"$(r_0^1, r_0^2) =({r10},{r20})$, $(\\alpha,\\beta)=({alpha},{beta})$\")\n",
    "leg = ax.legend(loc='lower left', bbox_to_anchor=(0,0))\n",
    "# plt.savefig(Path().absolute().parent.parent.parent/\"figures\"/\"local_mod_paper\"/f\"flux_J_params_findmin_nh=({r10},{r20})_alpha,beta={alpha},{beta}.pdf\", format=\"pdf\", bbox_inches=\"tight\"\n",
    "            # , dpi=1860\n",
    "            # )\n",
    "plt.show()"
   ]
  },
  {
   "cell_type": "code",
   "execution_count": 70,
   "metadata": {},
   "outputs": [],
   "source": []
  },
  {
   "cell_type": "code",
   "execution_count": null,
   "metadata": {},
   "outputs": [],
   "source": []
  },
  {
   "cell_type": "code",
   "execution_count": null,
   "metadata": {},
   "outputs": [],
   "source": []
  },
  {
   "cell_type": "code",
   "execution_count": null,
   "metadata": {},
   "outputs": [],
   "source": []
  },
  {
   "cell_type": "code",
   "execution_count": null,
   "metadata": {},
   "outputs": [],
   "source": []
  },
  {
   "cell_type": "code",
   "execution_count": 65,
   "metadata": {},
   "outputs": [],
   "source": [
    "dfP.to_csv(Path().absolute().parent.parent.parent/\"paper_data\"/f\"initialconds_pito2pi_r1,r2=0.5,0.3.csv\",\n",
    "                    index=False, \n",
    "                    # columns=[\"A2\", \"A3\", \"omega0\", \"alpha\", \"beta\", \"J12\", \"J23\", \"J31\"]\n",
    "                    )"
   ]
  },
  {
   "cell_type": "code",
   "execution_count": null,
   "metadata": {},
   "outputs": [],
   "source": []
  }
 ],
 "metadata": {
  "kernelspec": {
   "display_name": "floquet-simulations-srXSFrPT-py3.10",
   "language": "python",
   "name": "python3"
  },
  "language_info": {
   "codemirror_mode": {
    "name": "ipython",
    "version": 3
   },
   "file_extension": ".py",
   "mimetype": "text/x-python",
   "name": "python",
   "nbconvert_exporter": "python",
   "pygments_lexer": "ipython3",
   "version": "3.10.6"
  },
  "orig_nbformat": 4
 },
 "nbformat": 4,
 "nbformat_minor": 2
}

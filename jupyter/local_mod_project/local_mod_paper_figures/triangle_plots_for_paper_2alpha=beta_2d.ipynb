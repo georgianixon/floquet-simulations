{
 "cells": [
  {
   "cell_type": "code",
   "execution_count": 1,
   "metadata": {},
   "outputs": [],
   "source": [
    "import matplotlib.pyplot as plt\n",
    "import numpy as np\n",
    "from numpy import exp, log\n",
    "import pandas as pd\n",
    "import matplotlib as mpl\n",
    "from pathlib import Path\n",
    "from mpl_toolkits.axes_grid1 import make_axes_locatable\n",
    "from floquet_simulations.plot_functions import PlotParams\n",
    "from matplotlib.colors import LinearSegmentedColormap\n",
    "from floquet_simulations.hamiltonians import ConvertComplex\n",
    "PlotParams(fontsize=10)\n",
    "\n",
    "def unique(a):\n",
    "    unique, counts = np.unique(a, return_counts=True)\n",
    "    return np.asarray((unique, counts)).T\n",
    "\n",
    "def FloatToStringSave(a):\n",
    "    return str(a).replace(\".\", \"p\")"
   ]
  },
  {
   "cell_type": "code",
   "execution_count": 2,
   "metadata": {},
   "outputs": [],
   "source": [
    "# dfO = pd.read_csv(\"D:Data/Set21-alpha=1,beta=2,omega=8,local/\"+\"data_3.csv\",\n",
    "#                            index_col=False)\n",
    "# df_dir = Path().absolute().parent.parent/\"paper_data\"/\"data_3.csv\"\n",
    "# df_dir = Path().absolute().parent.parent/\"paper_data\"/\"Heff_omega=8,alpha=1,beta=2,phi3=0.csv\"\n",
    "df_dir = Path().absolute().parent.parent.parent/\"paper_data\"/\"Heff_omega=8,alpha=1,beta=2,phi3=0,newvals.csv\"\n",
    "dfO = pd.read_csv(df_dir, index_col=False, \n",
    "                        converters={\"FT-J12\": ConvertComplex,\n",
    "                                  \"FT-J23\": ConvertComplex,\n",
    "                                  \"FT-J31\": ConvertComplex})\n",
    "# dfO = pd.read_csv(\"D:/Data/Merges/alpha=1,beta=2,omega=8,0-40/FT/FT-Min,phi3=0.csv\",\n",
    "#                   index_col=False)\n",
    "# dfP0 = pd.read_csv(\"D:/Data/Set12-alpha=1,beta=2,omega=8/Summaries/FT-ABS-phi3=0.csv\", \n",
    "#                     index_col = False)\n",
    "dfO = dfO.sort_values(by=['A3', 'A2'], ignore_index=True)\n",
    "\n",
    "A2_min = 0\n",
    "A2_max = 18.5\n",
    "A2_range = int((A2_max - A2_min)*100 +1)\n",
    "A3_min = 37\n",
    "A3_max = 38.5\n",
    "A3_range = int((A3_max - A3_min)*100 +1)\n",
    "# domains\n",
    "dfP = dfO[\n",
    "           (dfO.A3 <=A3_max)\n",
    "           &(dfO.A3 >= A3_min)\n",
    "           &(dfO.A2 <=A2_max)\n",
    "           &(dfO.A2 >=A2_min)\n",
    "          ]\n",
    "\n",
    "dfP = dfP.sort_values(by=['A3', 'A2'], ignore_index=True)"
   ]
  },
  {
   "cell_type": "code",
   "execution_count": 3,
   "metadata": {},
   "outputs": [],
   "source": [
    "#%%\n",
    "\"\"\"plot raw hopping\"\"\"\n",
    "J12 = np.abs(np.array(dfP[\"FT-J12\"].to_list()))\n",
    "J23 = np.abs(np.array(dfP[\"FT-J23\"].to_list()))\n",
    "J31 = np.abs(np.array(dfP[\"FT-J31\"].to_list()))\n",
    "X_flat = J23 / J12\n",
    "Y_flat = J31 / J12\n",
    "A2_flat = np.array(dfP.A2.to_list())\n",
    "A3_flat = np.array(dfP.A3.to_list())\n",
    "\n",
    "# remove off diagonal parts\n",
    "X_flat = np.where(X_flat>Y_flat, X_flat, np.nan)\n",
    "Y_flat = np.where(X_flat>Y_flat, Y_flat, np.nan)\n",
    "\n",
    "#remove parts outside the triangl\n",
    "X_flat = np.where(X_flat<=1, X_flat, np.nan)\n",
    "Y_flat =np.where(X_flat<=1, Y_flat, np.nan)"
   ]
  },
  {
   "cell_type": "code",
   "execution_count": 4,
   "metadata": {},
   "outputs": [],
   "source": [
    "def _inverse(x):\n",
    "    return x**(1. / 10)\n",
    "\n",
    "\n",
    "def _forward(x):\n",
    "    return x**10\n",
    "\n",
    "norm = mpl.colors.FuncNorm((_forward, _inverse), vmin=0, vmax=18.5)"
   ]
  },
  {
   "cell_type": "code",
   "execution_count": 6,
   "metadata": {},
   "outputs": [
    {
     "data": {
      "image/png": "[encoded data removed]",
      "text/plain": [
       "<Figure size 275.591x236.22 with 2 Axes>"
      ]
     },
     "metadata": {},
     "output_type": "display_data"
    }
   ],
   "source": [
    "fontsize=10\n",
    "PlotParams(fontsize=fontsize)\n",
    "\n",
    "colour_flat = A2_flat\n",
    "\n",
    "colour_flat = np.where(colour_flat ==0, colour_flat+1e-9, colour_flat )\n",
    "minn, maxx = colour_flat.min(), colour_flat.max()\n",
    "# norm = mpl.colors.Normalize(minn, maxx)\n",
    "# norm = mpl.colors.LogNorm(vmin=minn+1e-9, vmax=maxx)\n",
    "cmap = LinearSegmentedColormap.from_list('custom hamiltonians', ['#006F63', '#F78320'], N=256)\n",
    "# m = plt.cm.ScalarMappable(norm=norm, cmap=cmap)\n",
    "# m.set_array([])\n",
    "# fcolors = m.to_rgba(color_dimension)\n",
    "\n",
    "figsize=(7,6)\n",
    "cm_unit = 1/2.54\n",
    "# plot\n",
    "fig, ax = plt.subplots(figsize=(figsize[0]*cm_unit, figsize[1]*cm_unit), tight_layout=True)\n",
    "ax.scatter(X_flat, Y_flat, c=colour_flat, s = 0.2, alpha=1, norm=norm, cmap=cmap)\n",
    "\n",
    "ax.set_xlabel(r'$\\nicefrac{J_{\\mathrm{med}}}{J_{\\mathrm{max}}}$', labelpad = 0.00000001, rotation=0, fontsize=1.5)\n",
    "ax.set_ylabel(r'$\\nicefrac{J_{\\mathrm{min}}}{J_{\\mathrm{max}}}$', labelpad = 2, rotation = 0, fontsize=1.5)\n",
    "ax.tick_params(axis=\"x\", pad = 0.001)\n",
    "ax.tick_params(axis=\"y\", pad = 0.001)\n",
    "\n",
    "ax.set_xticks([0,1], labels=[\"0\", r\"$1$\"])\n",
    "ax.set_yticks([0,1], labels=[\"0\", r\"$1$\"])\n",
    "\n",
    "ax.set_xlim((0,1))\n",
    "ax.set_ylim((0,1))\n",
    "\n",
    "\n",
    "ax.set_xlabel(r'$\\nicefrac{J_{\\mathrm{mid}}}{J_{\\mathrm{max}}}$', labelpad = 0.0001, rotation=0, fontsize=fontsize*1.5)\n",
    "ax.set_ylabel(r'$\\frac{J_{\\mathrm{min}}}{J_{\\mathrm{max}}}$', labelpad = 14, rotation = 0, fontsize=fontsize*1.5)\n",
    "\n",
    "colourbar_pad = 0.1; colourbar_size_percentage=7\n",
    "divider = make_axes_locatable(ax)\n",
    "cax = divider.append_axes('right', size=f\"{colourbar_size_percentage}%\", pad=colourbar_pad)\n",
    "# ticks = np.concatenate((np.array([0]), exp(log(np.linspace(1/3, 1, 3))/10)*18.5), axis=None)\n",
    "ticks = np.array([0, 15.5, 16.5, 17.5, 18.5])\n",
    "cbar = fig.colorbar(mpl.cm.ScalarMappable(norm=norm, cmap=cmap), cax=cax, ticks=ticks)\n",
    "cbar.ax.set_yticklabels([f\"${ti:.1f}$\" for ti in ticks])\n",
    "cbar.ax.set_ylabel(r\"$A_2$\", rotation=0, labelpad=8)\n",
    "# fig.savefig(Path().absolute().parent.parent.parent/\"figures\"/\"local_mod_paper\"/\"2d_tunnelling_cover_2alpha=beta_A2.pdf\", format=\"pdf\", bbox_inches=\"tight\")\n",
    "plt.show()\n"
   ]
  },
  {
   "cell_type": "code",
   "execution_count": 60,
   "metadata": {},
   "outputs": [],
   "source": []
  },
  {
   "cell_type": "code",
   "execution_count": null,
   "metadata": {},
   "outputs": [],
   "source": []
  },
  {
   "cell_type": "code",
   "execution_count": 7,
   "metadata": {},
   "outputs": [
    {
     "data": {
      "image/png": "[encoded data removed]",
      "text/plain": [
       "<Figure size 275.591x236.22 with 2 Axes>"
      ]
     },
     "metadata": {},
     "output_type": "display_data"
    }
   ],
   "source": [
    "fontsize=10\n",
    "PlotParams(fontsize=fontsize)\n",
    "\n",
    "# remove off diagonal parts\n",
    "X_flat = np.where(X_flat>=Y_flat, X_flat, np.nan)\n",
    "Y_flat = np.where(X_flat>=Y_flat, Y_flat, np.nan)\n",
    "\n",
    "#remove parts outside the triangl\n",
    "X_flat = np.where(X_flat<=1, X_flat, np.nan)\n",
    "Y_flat =np.where(X_flat<=1, Y_flat, np.nan)\n",
    "\n",
    "colour_flat = A3_flat\n",
    "\n",
    "minn, maxx = colour_flat.min(), colour_flat.max()\n",
    "norm = mpl.colors.Normalize(minn, maxx)\n",
    "cmap = LinearSegmentedColormap.from_list('custom hamiltonians', ['#006F63', '#F78320'], N=256)\n",
    "# m = plt.cm.ScalarMappable(norm=norm, cmap=cmap)\n",
    "# m.set_array([])\n",
    "# fcolors = m.to_rgba(color_dimension)\n",
    "\n",
    "figsize=(7,8)\n",
    "cm_unit = 1/2.54\n",
    "# plot\n",
    "fig, ax = plt.subplots(figsize=(figsize[0]*cm_unit, figsize[1]*cm_unit), tight_layout=True)\n",
    "ax.scatter(X_flat, Y_flat, c=colour_flat, s = 0.3, alpha=1, norm=norm, cmap=cmap)\n",
    "\n",
    "ax.set_xlabel(r'$\\nicefrac{J_{\\mathrm{med}}}{J_{\\mathrm{max}}}$', labelpad = 0.00000001, rotation=0, fontsize=1.5)\n",
    "ax.set_ylabel(r'$\\nicefrac{J_{\\mathrm{min}}}{J_{\\mathrm{max}}}$', labelpad = 2, rotation = 0, fontsize=1.5)\n",
    "ax.tick_params(axis=\"x\", pad = 0.001)\n",
    "ax.tick_params(axis=\"y\", pad = 0.001)\n",
    "\n",
    "ax.set_xticks([0,1], labels=[\"0\", r\"$1$\"])\n",
    "ax.set_yticks([0,1], labels=[\"0\", r\"$1$\"])\n",
    "\n",
    "ax.set_xlim((0,1))\n",
    "ax.set_ylim((0,1))\n",
    "\n",
    "ax.set_xlabel(r'$\\nicefrac{J_{\\mathrm{mid}}}{J_{\\mathrm{max}}}$', labelpad = 0.0001, rotation=0, fontsize=fontsize*1.5)\n",
    "ax.set_ylabel(r'$\\frac{J_{\\mathrm{min}}}{J_{\\mathrm{max}}}$', labelpad = 14, rotation = 0, fontsize=fontsize*1.5)\n",
    "\n",
    "colourbar_pad = 0.1; colourbar_size_percentage=7\n",
    "divider = make_axes_locatable(ax)\n",
    "cax = divider.append_axes('right', size=f\"{colourbar_size_percentage}%\", pad=colourbar_pad)\n",
    "\n",
    "cbar = fig.colorbar(mpl.cm.ScalarMappable(norm=norm, cmap=cmap), cax=cax)\n",
    "# cbar.ax.set_yticklabels([r\"$0$\", r\"$6$\", r\"$12$\", r\"$18$\", r\"$\\ast$\"])\n",
    "cbar.ax.set_ylabel(r\"$A_3$\", rotation=0, labelpad=8)\n",
    "# fig.savefig(Path().absolute().parent.parent/\"figures\"/\"paper\"/\"2d_tunnelling_cover_2alpha=beta_A3.pdf\", format=\"pdf\", bbox_inches=\"tight\")\n",
    "plt.show()"
   ]
  },
  {
   "cell_type": "code",
   "execution_count": null,
   "metadata": {},
   "outputs": [],
   "source": []
  }
 ],
 "metadata": {
  "kernelspec": {
   "display_name": "floquet-simulations-srXSFrPT-py3.10",
   "language": "python",
   "name": "python3"
  },
  "language_info": {
   "codemirror_mode": {
    "name": "ipython",
    "version": 3
   },
   "file_extension": ".py",
   "mimetype": "text/x-python",
   "name": "python",
   "nbconvert_exporter": "python",
   "pygments_lexer": "ipython3",
   "version": "3.10.6"
  },
  "orig_nbformat": 4
 },
 "nbformat": 4,
 "nbformat_minor": 2
}

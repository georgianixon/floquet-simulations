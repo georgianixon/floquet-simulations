{
 "cells": [
  {
   "attachments": {},
   "cell_type": "markdown",
   "metadata": {},
   "source": [
    "# Test fluctuations of stroboscopic Hamiltonian elements against the high-frequency Hamiltonian"
   ]
  },
  {
   "cell_type": "code",
   "execution_count": 1,
   "metadata": {},
   "outputs": [],
   "source": [
    "import numpy as np\n",
    "from math import cos, sin\n",
    "from numpy import pi\n",
    "import scipy.integrate as integrate\n",
    "from scipy.special import jv\n",
    "from floquet_simulations.hamiltonians import CreateHFGeneral, RemoveWannierGauge\n",
    "from floquet_simulations.periodic_functions import Cosine\n",
    "from floquet_simulations.plot_functions import PlotParams, PlotAbsRealImagHamiltonian, PlotRealHamiltonian\n",
    "from floquet_simulations.utilities import PhaseShiftPositive\n",
    "import matplotlib.pyplot as plt\n",
    "from pathlib import Path\n",
    "import time\n"
   ]
  },
  {
   "cell_type": "code",
   "execution_count": 2,
   "metadata": {},
   "outputs": [],
   "source": [
    "phi3_frac = 2*pi/10#pi/4\n",
    "# phi3_frac = np.round(phi3_frac, 3)\n",
    "phi3 = pi*phi3_frac\n",
    "omega0 = 8\n",
    "omega2 = omega0\n",
    "omega3 = 2*omega0\n",
    "T = 2*pi/omega0\n",
    "A2 = 15\n",
    "A3 = 15\n",
    "centres = [1,2]\n",
    "funcs= [Cosine, Cosine]\n",
    "paramss = [[A2, omega2, 0, 0], [A3, omega3, phi3, 0]]"
   ]
  },
  {
   "cell_type": "code",
   "execution_count": null,
   "metadata": {},
   "outputs": [],
   "source": []
  },
  {
   "cell_type": "code",
   "execution_count": 3,
   "metadata": {},
   "outputs": [],
   "source": [
    "# first term expansion term\n",
    "J23_real = (1/T)*integrate.quad(lambda t: cos(A3/omega3*sin(omega3*t + phi3) - A2/omega2*sin(omega2*t)), -T/2, T/2)[0]\n",
    "J23_imag = 1j*(1/T)*integrate.quad(lambda t: sin(A3/omega3*sin(omega3*t + phi3) - A2/omega2*sin(omega2*t)), -T/2, T/2)[0]\n",
    "# we are removing esimate of absolute error\n",
    "J23 = J23_real + J23_imag\n",
    "\n",
    "# J31 = -(1/T)*integrate.quad(lambda t: cos(-A3/omega3*sin(omega3*t + phi3)), -T/2, T/2)[0]\n",
    "J31 = jv(0, A3/omega3)\n",
    "# J31_imag = -1j*(1/T)*integrate.quad(lambda t: sin(-A3/omega3*sin(omega3*t + phi3)), -T/2, T/2)[0]\n",
    "\n",
    "J12 = jv(0,A2/omega2)\n",
    "\n",
    "hf_ft_flux = np.angle(J12*J23*J31); \n"
   ]
  },
  {
   "cell_type": "code",
   "execution_count": 4,
   "metadata": {},
   "outputs": [],
   "source": [
    "\n",
    "_, HF = CreateHFGeneral(3, centres, funcs, paramss, T, circle_boundary=1, t0=0)"
   ]
  },
  {
   "cell_type": "code",
   "execution_count": 5,
   "metadata": {},
   "outputs": [],
   "source": [
    "if not np.isnan(HF).all():\n",
    "    for site in range(3):\n",
    "        HF = RemoveWannierGauge(HF, site, 3)"
   ]
  },
  {
   "cell_type": "code",
   "execution_count": 6,
   "metadata": {},
   "outputs": [
    {
     "data": {
      "image/png": "[encoded data removed]",
      "text/plain": [
       "<Figure size 314.961x314.961 with 4 Axes>"
      ]
     },
     "metadata": {},
     "output_type": "display_data"
    },
    {
     "data": {
      "image/png": "[encoded data removed]",
      "text/plain": [
       "<Figure size 314.961x314.961 with 2 Axes>"
      ]
     },
     "metadata": {},
     "output_type": "display_data"
    }
   ],
   "source": [
    "PlotParams(fontsize=10)\n",
    "PlotAbsRealImagHamiltonian(HF, figsize=(8,8))\n",
    "PlotRealHamiltonian(HF, figsize=(8,8))\n",
    "# PlotAbsRealImagHamiltonian(HF_FT)\n",
    "# PlotRealHamiltonian(HF_FT)"
   ]
  },
  {
   "cell_type": "code",
   "execution_count": 5,
   "metadata": {},
   "outputs": [],
   "source": [
    "n_t0 = 60\n",
    "t0_lst = np.linspace(0,1,n_t0)\n",
    "hf_flux_lst = []\n",
    "for t0 in t0_lst:\n",
    "    _, HF = CreateHFGeneral(3, centres, funcs, paramss, T, circle_boundary=1, t0=t0)\n",
    "    hf_flux = np.angle(-HF[1,0]*HF[2,1]*HF[0,2]); \n",
    "    # hf_flux = np.where(hf_flux<0 , 2*pi+hf_flux, hf_flux); hf_flux = np.where(hf_flux>2*pi , hf_flux-2*pi, hf_flux) \n",
    "    hf_flux_lst.append(hf_flux)\n",
    "    "
   ]
  },
  {
   "cell_type": "code",
   "execution_count": 6,
   "metadata": {},
   "outputs": [
    {
     "name": "stdout",
     "output_type": "stream",
     "text": [
      "0.22905445700618515 0.26251739605460783\n"
     ]
    }
   ],
   "source": [
    "print(np.max(hf_flux_lst)/pi - np.min(hf_flux_lst)/pi/2, hf_ft_flux/pi)"
   ]
  },
  {
   "cell_type": "code",
   "execution_count": 28,
   "metadata": {},
   "outputs": [],
   "source": [
    "# calculate variations in strob flux vs high freq flux\n",
    "max_flux_fluc = np.max([np.abs(np.max(hf_flux_lst)/hf_ft_flux - 1), np.abs(np.min(hf_flux_lst)/hf_ft_flux - 1)])*100"
   ]
  },
  {
   "cell_type": "code",
   "execution_count": 6,
   "metadata": {},
   "outputs": [
    {
     "data": {
      "image/png": "[encoded data removed]",
      "text/plain": [
       "<Figure size 196.85x118.11 with 1 Axes>"
      ]
     },
     "metadata": {},
     "output_type": "display_data"
    }
   ],
   "source": [
    "cm_unit = 1/2.54\n",
    "PlotParams(fontsize=9)\n",
    "fig, ax = plt.subplots(figsize=(5*cm_unit,3*cm_unit))\n",
    "ax.plot(t0_lst, np.full(n_t0, hf_ft_flux),  color = '#006F63', linestyle = '-', label=r\"$H_{\\mathrm{eff}}^{0}$\")\n",
    "ax.plot(t0_lst, hf_flux_lst, color='#F78320', label=r\"$H_S^{t_0}$\")\n",
    "# ax.set_ylim([0,pi])\n",
    "plt.legend(bbox_to_anchor=(1.04, 1), borderaxespad=0)\n",
    "ax.set_xlabel(r\"$t_0$\", labelpad=-1)\n",
    "ax.set_ylabel(r\"$\\Phi$\", rotation=0, labelpad=7)\n",
    "ax.set_xticks([0,1])\n",
    "ax.set_xlim([0,1])\n",
    "# plt.axhline(y=0, color='0', linestyle='-', lw=0.5)\n",
    "ax.set_xticklabels([r\"$0$\", r\"$T$\"])\n",
    "ax.set_yticks([-pi, -pi/2, 0,pi/2, pi])\n",
    "ax.set_yticklabels([r\"$-\\pi$\", r\"$-\\pi/2$\", r\"$0$\", r\"$\\pi/2$\", r\"$\\pi$\"])\n",
    "# ax.set_title(r\"$\\alpha=1, \\beta=2, A_2=\"+str(A2)+\", A_3=\"+str(A3)+\", \\omega=\"+str(omega0)+\", \\phi_3=\"+\"{:.2f}\".format(phi3_frac)+\"\\pi, $\"+\"max \"+r\"$\\Phi$\"+ \" fluc\"+r\"$ = \"+\"{:.2f}\".format(max_flux_fluc)+ \"\\%$\")\n",
    "fig.savefig(Path().absolute().parent.parent.parent/\"figures\"/\"local_mod_paper\"/\"stroboscopic_flux_fluctuations.pdf\", format=\"pdf\", bbox_inches=\"tight\")\n",
    "plt.show()"
   ]
  },
  {
   "cell_type": "code",
   "execution_count": 16,
   "metadata": {},
   "outputs": [
    {
     "data": {
      "text/plain": [
       "array([0.82472272, 0.82472272, 0.82472272, 0.82472272, 0.82472272,\n",
       "       0.82472272, 0.82472272, 0.82472272, 0.82472272, 0.82472272,\n",
       "       0.82472272, 0.82472272, 0.82472272, 0.82472272, 0.82472272,\n",
       "       0.82472272, 0.82472272, 0.82472272, 0.82472272, 0.82472272,\n",
       "       0.82472272, 0.82472272, 0.82472272, 0.82472272, 0.82472272,\n",
       "       0.82472272, 0.82472272, 0.82472272, 0.82472272, 0.82472272,\n",
       "       0.82472272, 0.82472272, 0.82472272, 0.82472272, 0.82472272,\n",
       "       0.82472272, 0.82472272, 0.82472272, 0.82472272, 0.82472272,\n",
       "       0.82472272, 0.82472272, 0.82472272, 0.82472272, 0.82472272,\n",
       "       0.82472272, 0.82472272, 0.82472272, 0.82472272, 0.82472272,\n",
       "       0.82472272, 0.82472272, 0.82472272, 0.82472272, 0.82472272,\n",
       "       0.82472272, 0.82472272, 0.82472272, 0.82472272, 0.82472272])"
      ]
     },
     "execution_count": 16,
     "metadata": {},
     "output_type": "execute_result"
    }
   ],
   "source": []
  },
  {
   "cell_type": "code",
   "execution_count": null,
   "metadata": {},
   "outputs": [],
   "source": []
  },
  {
   "cell_type": "code",
   "execution_count": 10,
   "metadata": {},
   "outputs": [],
   "source": [
    "# #set params\n",
    "# omega0 = 8\n",
    "# omega2 = omega0\n",
    "# omega3 = 2*omega0\n",
    "# T = 2*pi/omega0\n",
    "# centres = [1,2]\n",
    "# funcs= [Cosine, Cosine]\n",
    "# a3_time = 0\n",
    "\n",
    "# max_flux_flucs = []\n",
    "# for A3 in np.linspace(0,40,41):\n",
    "    \n",
    "    \n",
    "#     for A2 in np.linspace(0,40,41):\n",
    "#         print(A3, A2, a3_time)\n",
    "#         t0 = time.process_time()\n",
    "\n",
    "#         for phi3 in np.linspace(0,2*pi, 10)[1:-1]:\n",
    "#             # print(phi3)\n",
    "\n",
    "#             # first term expansion term\n",
    "#             J23_real = -(1/T)*integrate.quad(lambda t: cos(A3/omega3*sin(omega3*t + phi3) - A2/omega2*sin(omega2*t)), -T/2, T/2)[0]\n",
    "#             J23_imag = -1j*(1/T)*integrate.quad(lambda t: sin(A3/omega3*sin(omega3*t + phi3) - A2/omega2*sin(omega2*t)), -T/2, T/2)[0]\n",
    "#             # we are removing esimate of absolute error\n",
    "#             J23 = J23_real + J23_imag\n",
    "\n",
    "#             J31 = -jv(0,A3/omega3)\n",
    "\n",
    "#             J12 = -jv(0,A2/omega2)\n",
    "\n",
    "#             hf_ft_flux =  np.angle(np.conj(J23)); hf_ft_flux = PhaseShiftPositive(hf_ft_flux)\n",
    "\n",
    "\n",
    "#             paramss = [[A2, omega2, 0, 0], [A3, omega3, phi3, 0]]\n",
    "#             strob_fluxes = np.empty(20)\n",
    "#             for i, t0 in enumerate(np.linspace(0,1,20)):\n",
    "#                 _, HF = CreateHFGeneral(3, centres, funcs, paramss, T, circle_boundary=1, t0=t0)\n",
    "#                 strob_flux = np.angle(HF[0,1]) + np.angle(HF[1,2]) + np.angle(HF[2,0]); strob_flux = PhaseShiftPositive(strob_flux)\n",
    "#                 strob_fluxes[i]=strob_flux\n",
    "\n",
    "\n",
    "#             max_flux_fluc = np.max([np.abs(np.max(strob_fluxes)/strob_fluxes - 1), np.abs(np.min(strob_fluxes)/strob_fluxes - 1)])*100\n",
    "#             max_flux_flucs.append(max_flux_fluc)\n",
    "            \n",
    "#         a3_time = time.process_time() - t0"
   ]
  },
  {
   "cell_type": "code",
   "execution_count": 11,
   "metadata": {},
   "outputs": [],
   "source": [
    "# print(phi3)\n",
    "\n",
    "# _, HF = CreateHFGeneral(3, centres, funcs, paramss, T, circle_boundary=1, t0=t0)\n",
    "# strob_flux = np.angle(HF[0,1]) + np.angle(HF[1,2]) + np.angle(HF[2,0]); strob_flux = PhaseShiftPositive(strob_flux)\n",
    "\n"
   ]
  },
  {
   "cell_type": "code",
   "execution_count": 12,
   "metadata": {},
   "outputs": [
    {
     "data": {
      "text/plain": [
       "array([[ 0.0784478+0.j       , -0.3461184+0.0045859j,\n",
       "        -0.4024416-0.5521928j],\n",
       "       [-0.3461184-0.0045859j, -0.1943272+0.j       ,\n",
       "        -0.3881691-0.0772808j],\n",
       "       [-0.4024416+0.5521928j, -0.3881691+0.0772808j,\n",
       "         0.1158794+0.j       ]])"
      ]
     },
     "execution_count": 12,
     "metadata": {},
     "output_type": "execute_result"
    }
   ],
   "source": [
    "HF"
   ]
  },
  {
   "cell_type": "code",
   "execution_count": null,
   "metadata": {},
   "outputs": [],
   "source": []
  }
 ],
 "metadata": {
  "kernelspec": {
   "display_name": ".floquetenv",
   "language": "python",
   "name": "python3"
  },
  "language_info": {
   "codemirror_mode": {
    "name": "ipython",
    "version": 3
   },
   "file_extension": ".py",
   "mimetype": "text/x-python",
   "name": "python",
   "nbconvert_exporter": "python",
   "pygments_lexer": "ipython3",
   "version": "3.10.6"
  },
  "orig_nbformat": 4,
  "vscode": {
   "interpreter": {
    "hash": "cd05a796d31cea8c13a2c6427176565462ae55ddf2b35c288cc9ffe5b9ebde3a"
   }
  }
 },
 "nbformat": 4,
 "nbformat_minor": 2
}

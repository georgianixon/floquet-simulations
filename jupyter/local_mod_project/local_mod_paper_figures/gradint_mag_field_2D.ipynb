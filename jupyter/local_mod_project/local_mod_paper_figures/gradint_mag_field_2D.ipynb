{
 "cells": [
  {
   "cell_type": "code",
   "execution_count": 1,
   "metadata": {},
   "outputs": [],
   "source": [
    "import numpy as np\n",
    "from floquet_simulations.plot_functions import PlotParams\n",
    "PlotParams(fontsize=10)\n",
    "from floquet_simulations.hamiltonians import GetEvalsAndEvecsGen\n",
    "from scipy.integrate import solve_ivp\n",
    "from floquet_simulations.hamiltonians import RoundComplex\n",
    "from floquet_simulations.plot_functions import PlotAbsRealImagHamiltonian\n",
    "import matplotlib as mpl\n",
    "from matplotlib.colors import LinearSegmentedColormap\n",
    "import matplotlib.pyplot as plt\n",
    "from mpl_toolkits.axes_grid1 import make_axes_locatable\n",
    "from scipy.special import jv\n",
    "from pathlib import Path\n",
    "import pandas as pd\n",
    "import math\n",
    "from numpy import sin, cos, pi\n",
    "\n",
    "\n",
    "\n",
    "def square_2D_edges(rows, columns):\n",
    "    H0 = np.zeros((rows*columns,rows*columns))\n",
    "    # \n",
    "    links = []\n",
    "    for y in range(rows):\n",
    "        for x in range(columns-1):\n",
    "            links.append((x + y*columns, x+1 + y* columns))\n",
    "    for y in range(rows-1):\n",
    "        for x in range(columns):\n",
    "            links.append((x + columns*y, x+columns + columns*y))\n",
    "    return(links)\n",
    "\n",
    "\n",
    "\n",
    "def H0_2D(rows, columns):\n",
    "    H0 = np.zeros((rows*columns,rows*columns))\n",
    "    links = square_2D_edges(rows, columns)\n",
    "    for link in links:\n",
    "        H0[link[0], link[1]] = -1\n",
    "        H0[link[1], link[0]] = -1\n",
    "    return H0\n",
    "\n",
    "\n",
    "\n",
    "def HT(H0, funcs, sites, t):\n",
    "    for func, site in zip(funcs, sites):\n",
    "        H0[site-1,site-1] = func(t)\n",
    "    return H0\n",
    "\n",
    "\n",
    "\n",
    "def FT(t, psi, H0, funcs, sites):\n",
    "    H = HT(H0, funcs, sites, t)\n",
    "    return -1j*np.dot(H, psi)\n",
    "\n",
    "\n",
    "\n",
    "def SolveSchrodinger(H0, funcs, sites, tspan, n_timesteps, psi0):\n",
    "    rtol=1e-11\n",
    "    # points to calculate the matter wave at\n",
    "    t_eval = np.linspace(tspan[0], tspan[1], n_timesteps+1, endpoint=True)\n",
    "    sol = solve_ivp(lambda t,psi: FT(t, psi, H0, funcs, sites), \n",
    "            t_span=tspan, y0=psi0, rtol=rtol, \n",
    "            atol=rtol, t_eval=t_eval,\n",
    "            method='RK45')\n",
    "    sol=sol.y\n",
    "    return sol\n",
    "\n",
    "\n",
    "\n",
    "def CreateHF(H0, funcs, sites, T, num_sites, t0=0, hermitian_accuracy_dp=7): \n",
    "    \"\"\"\n",
    "    t0 is fraction of T\n",
    "    \"\"\"\n",
    "    #sanity check\n",
    "    assert(len(H0) == num_sites)\n",
    "    tspan = (t0*T,T+t0*T)\n",
    "    UT = np.zeros([num_sites, num_sites], dtype=np.complex_)\n",
    "    n_timesteps = 100\n",
    "    for A_site_start in range(num_sites):\n",
    "        psi0 = np.zeros(num_sites, dtype=np.complex_); psi0[A_site_start] = 1\n",
    "        sol = SolveSchrodinger(H0, funcs, sites, tspan, n_timesteps, psi0)\n",
    "        UT[:,A_site_start]=sol[:,-1] \n",
    "    # evals_U, evecs = eig(UT)\n",
    "    evals_U, evecs = GetEvalsAndEvecsGen(UT) #evals can be imaginary\n",
    "    evals_H = 1j / T *np.log(evals_U)\n",
    "    HF = np.zeros([num_sites,num_sites], dtype=np.complex_)\n",
    "    for i in range(num_sites):\n",
    "        term = evals_H[i]*np.outer(evecs[:,i], np.conj(evecs[:,i]))\n",
    "        HF = HF+term\n",
    "    HF = RoundComplex(HF, hermitian_accuracy_dp)\n",
    "    # assert(np.all(0 == (HFr - np.conj(HFr.T))))\n",
    "    return UT, HF\n",
    "    # if np.all(0 == (HF - np.conj(HF.T))):\n",
    "    #     return UT, HF\n",
    "    # else:\n",
    "    #     return np.nan, np.nan\n",
    "\n",
    "def make_bewteen_0_2(x):\n",
    "    if x <0:\n",
    "        return x+2\n",
    "    elif x > 2:\n",
    "        return x - 2\n",
    "    else:\n",
    "        return x\n",
    "\n",
    "\n",
    "\n",
    "def get_xi_same_a(A, varphii, varphij):\n",
    "    Aij = A*np.abs(2*sin((varphij - varphii)/2))\n",
    "    if varphij > varphii:\n",
    "        # ie Aij is naturally positive\n",
    "        return Aij, (varphii + varphij)/2 -pi/2\n",
    "    elif varphij < varphii:\n",
    "        return Aij,  (varphii + varphij)/2 + pi/2\n",
    "    else:\n",
    "        return 0, 0\n",
    "    \n",
    "\n",
    "def get_A_and_xi_ij(Ai, Aj, phii, phij, same_A = False):\n",
    "# note we expect  Aj term to be negative ie we are finding the difference between Ai cos(omega t + phii) - Aj cos (omega t + phij)!!!!!\n",
    "# calculates the the difference, not the sum\n",
    "    if same_A:\n",
    "        #different algorithm\n",
    "        if  (np.round(phii/pi,7) == np.round(phij/pi,7)) or (np.round(phii/pi,7)== np.round( phij/pi + 2,7)) or (np.round(phii/pi + 2,7)== np.round( phij/pi,7)):\n",
    "            return 0,0\n",
    "    # elif (np.round(Ai,7) ==np.round(Aj,7)):\n",
    "        else:\n",
    "\n",
    "            return 2*sin((phii - phij)/2),  (phii + phij)/2 - pi/2\n",
    "    else:\n",
    "\n",
    "        if (np.round(Ai,7) ==np.round(Aj,7)) and ((np.round(phii/pi,7) == np.round(phij/pi,7)) or (np.round(phii/pi,7)== np.round( phij/pi + 2,7)) or (np.round(phii/pi + 2,7)== np.round( phij/pi,7))):\n",
    "            return 0,0\n",
    "\n",
    "        else:\n",
    "            Aij =  np.sqrt(Aj**2 + Ai**2 - 2*Ai*Aj*np.cos(phii - phij))\n",
    "\n",
    "            cos_result = (-Aj * np.cos(phij) + Ai*np.cos(phii))/(Aij)\n",
    "            sin_result = (-Aj*np.sin(phij) + Ai*np.sin(phii))/(Aij)\n",
    "            cos_args = np.round(np.array( [np.arccos(cos_result)/np.pi, 2 - np.arccos(cos_result)/np.pi])  , 5)\n",
    "            sin_args = np.round(np.array([i + 2 if i<0 else i for i in [np.arcsin(sin_result)/np.pi, 1 - np.arcsin(sin_result)/np.pi] ]), 5)\n",
    "\n",
    "            return Aij, np.intersect1d(cos_args, sin_args)[0]*np.pi\n",
    "\n",
    "\n",
    "\n",
    "def Vt(m,n, kappa, omega, t):\n",
    "    phi0 = 0\n",
    "    fr = np.cos(m*np.pi/2 - np.pi/4)\n",
    "    fb = np.cos(m*np.pi/2 + np.pi/4)\n",
    "    gr = phi0 - n*np.pi/2\n",
    "    gb = n*np.pi/2 - phi0 - np.pi/2\n",
    "    return kappa*(fr*np.cos(omega*t + gr) + fb*np.cos(omega*t + gb)) #+ Delta/2*(-1)**m + delta/2*((-1)**m + (-1)**n)\n",
    "\n"
   ]
  },
  {
   "cell_type": "markdown",
   "metadata": {},
   "source": [
    "## gradiented flux"
   ]
  },
  {
   "cell_type": "code",
   "execution_count": 2,
   "metadata": {},
   "outputs": [
    {
     "name": "stdout",
     "output_type": "stream",
     "text": [
      "[[ 0.   0.1  0.3  0.6  1.   1.5  2.1  2.8  3.6  4.5  5.5  6.6  7.8  9.1\n",
      "  10.5 12.  13.6 15.3 17.1 19. ]\n",
      " [ 0.5  0.6  0.8  1.1  1.5  2.   2.6  3.3  4.1  5.   6.   7.1  8.3  9.6\n",
      "  11.  12.5 14.1 15.8 17.6 19.5]\n",
      " [ 1.   1.1  1.3  1.6  2.   2.5  3.1  3.8  4.6  5.5  6.5  7.6  8.8 10.1\n",
      "  11.5 13.  14.6 16.3 18.1 20. ]\n",
      " [ 1.5  1.6  1.8  2.1  2.5  3.   3.6  4.3  5.1  6.   7.   8.1  9.3 10.6\n",
      "  12.  13.5 15.1 16.8 18.6 20.5]]\n",
      "[[ 0  0  0  0  0  0  0  0  0  0  0  0  0  0  0  0  0  0  0  0]\n",
      " [25 25 25 25 25 25 25 25 25 25 25 25 25 25 25 25 25 25 25 25]\n",
      " [50 50 50 50 50 50 50 50 50 50 50 50 50 50 50 50 50 50 50 50]\n",
      " [75 75 75 75 75 75 75 75 75 75 75 75 75 75 75 75 75 75 75 75]]\n"
     ]
    }
   ],
   "source": [
    "\n",
    "    # omega = 10\n",
    "omega = 25\n",
    "g_const = 0.1*pi #g\n",
    "h_const = 0.5*pi #h\n",
    "L_x = 20\n",
    "L_y = 4\n",
    "N = L_x*L_y\n",
    "AA = 5\n",
    "T = 2*np.pi/omega\n",
    "m_site, n_site = np.meshgrid(np.arange(L_x), np.arange(L_y))\n",
    "\n",
    "tri_nums = np.array([n*(n+1)/2 for n in range(L_x)])\n",
    "A_j= np.array([[AA]*(L_x) for row in range(L_y)])\n",
    "varphi_j = np.array([[tri_nums[i]*g_const + j*h_const for i in range(L_x)] for j in range(L_y)])\n",
    "nus = np.array([[0 + j*omega for i in range(L_x)] for j in range(L_y)] )\n",
    "print(varphi_j / np.pi)\n",
    "print(nus)\n",
    "# print(A_j)"
   ]
  },
  {
   "cell_type": "code",
   "execution_count": 3,
   "metadata": {},
   "outputs": [],
   "source": [
    "sites = np.arange(1,L_x*L_y + 1,1)\n",
    "## get drives on each site\n",
    "funcs = [lambda t, A=A, varphi=varphi, nu=nu: A*np.cos(omega*t + varphi) + nu for (A, varphi, nu) in zip(A_j.flatten(), varphi_j.flatten(), nus.flatten())]\n",
    "_, HF = CreateHF(H0_2D(L_y,L_x), funcs, sites, T, num_sites=L_x*L_y, t0=0, hermitian_accuracy_dp=7)\n"
   ]
  },
  {
   "cell_type": "code",
   "execution_count": null,
   "metadata": {},
   "outputs": [],
   "source": [
    "\n",
    "A_j = A_j.flatten()\n",
    "varphi_j = varphi_j.flatten()\n",
    "nus = nus.flatten()\n",
    "# for links 1-10\n",
    "Bs = np.zeros((N, N))\n",
    "xis = np.zeros((N, N))\n",
    "HF_theory = np.zeros((N, N), dtype=np.complex128)\n",
    "#do horizontal links\n",
    "for ny in range(L_y):\n",
    "        for nx in range(L_x-1):        \n",
    "                jj = nx + L_x*ny\n",
    "                ii = nx+L_x*ny + 1\n",
    "\n",
    "                nu_ij = int(nus[ii] - nus[jj])/omega\n",
    "                \n",
    "                B_ij, xi_ij= get_A_and_xi_ij(A_j[ii], A_j[jj], varphi_j[ii], varphi_j[jj], same_A = True)\n",
    "                t_ij = jv(nu_ij, B_ij/omega)*np.exp((-1)*nu_ij*1j*xi_ij)\n",
    "\n",
    "                print(ii,jj, nu_ij, f\"{np.abs(t_ij):.4f}\", f\"{np.angle(t_ij)/pi:.4f}\")\n",
    "\n",
    "                Bs[ii, jj] = B_ij\n",
    "                xis[ii, jj] = xi_ij\n",
    "\n",
    "                HF_theory[ii,jj] = t_ij\n",
    "                HF_theory[jj, ii] = np.conj(t_ij)\n",
    "\n",
    "        #do vertical links\n",
    "for ny in range(L_y-1):\n",
    "        for nx in range(L_x):\n",
    "                jj = nx + L_x*ny\n",
    "                ii = nx+L_x*ny + L_x\n",
    "\n",
    "                nu_ij = int(nus[ii] - nus[jj])/omega\n",
    "\n",
    "\n",
    "                B_ij, xi_ij= get_A_and_xi_ij(A_j[ii], A_j[jj], varphi_j[ii], varphi_j[jj], same_A = True)\n",
    "                t_ij = jv(nu_ij, B_ij/omega)*np.exp((-1)*nu_ij*1j*xi_ij)\n",
    "\n",
    "                print(ii,jj, nu_ij, f\"{np.abs(t_ij):.4f}\", f\"{np.angle(t_ij)/pi:.4f}\")\n",
    "\n",
    "                Bs[ii,jj] = B_ij\n",
    "                xis[ii, jj] = xi_ij\n",
    "                HF_theory[ii,jj] = t_ij\n",
    "                HF_theory[jj, ii] = np.conj(t_ij)\n",
    "        # \n",
    "\n",
    "tunnelling_indices = [(1,2), (2,3), (3,4), (1,5), (2,6), (3,7), (4,8), (5,6), (6,7), (7,8)\n",
    "                      ,(9,10), (10,11),(11,12)\n",
    "                #       ,(9,13),(10,14),(11,15),(12,16),(13,14),(14,15),(15,16)\n",
    "                      ]\n",
    "                            \n",
    "plaquettess = []\n",
    "plaquette_sides =  [(0,0), (L_x,1), (L_x - 1, L_x + 1), (-1,L_x)]\n",
    "# plaquettess = [[(kk+1+i, kk+j) for (i,j) in plaquette_sides] for kk in np.array([[jj*L_x+ ii for ii in range(L_x-1)] for jj in range(L_y - 1)]).flatten()]\n",
    "for p_num in range(1,L_x ):\n",
    "        plaquettess.append([(p_num+i, p_num - 1+j) for (i,j) in plaquette_sides])\n",
    "\n",
    "\n",
    "# with pd.option_context('display.max_rows', None,\n",
    "#                     'display.max_columns', 10,\n",
    "#                     'display.precision', 2,\n",
    "#                     ):\n",
    "# #         print(tunnellings_abs)\n",
    "#         print(pd.DataFrame(np.array([np.angle(math.prod([HF[i, j] for (i,j) in plaquette]))/np.pi for plaquette in plaquettess]).reshape((1,L_x - 1))))\n",
    "#         print(pd.DataFrame(np.array([np.angle(math.prod([HF_theory[i, j] for (i,j) in plaquette]))/np.pi for plaquette in plaquettess]).reshape((1,L_x - 1))))\n"
   ]
  },
  {
   "cell_type": "markdown",
   "metadata": {},
   "source": [
    "## plaquette flux as arrays to plot"
   ]
  },
  {
   "cell_type": "code",
   "execution_count": 4,
   "metadata": {},
   "outputs": [],
   "source": [
    "plaquette_sides =  [(0,1), (1,1 + L_x), (1+ L_x, L_x ), (L_x,0)]\n",
    "plaquette_vals = np.zeros((L_x - 1, L_y - 1))\n",
    "for my in range(L_y - 1):\n",
    "        for nx in range(L_x - 1):\n",
    "                jj = nx + L_x*my\n",
    "                plaquette_sides_jj = [(jj+i, jj+j) for (i,j) in plaquette_sides]\n",
    "                plaquette_vals[nx, my] = np.angle(math.prod([HF[i, j] for (i,j) in plaquette_sides_jj]))/np.pi\n",
    "# set to between 0 and 2 pi\n",
    "plaquette_vals = np.where(plaquette_vals< 0, plaquette_vals + 2, plaquette_vals)"
   ]
  },
  {
   "cell_type": "markdown",
   "metadata": {},
   "source": [
    "### For 2D figure"
   ]
  },
  {
   "cell_type": "code",
   "execution_count": 5,
   "metadata": {},
   "outputs": [
    {
     "data": {
      "image/png": "[encoded data removed]",
      "text/plain": [
       "<Figure size 397.638x79.5276 with 2 Axes>"
      ]
     },
     "metadata": {},
     "output_type": "display_data"
    }
   ],
   "source": [
    "colourbar_pad=0.1\n",
    "colourbar_size_percentage=5\n",
    "cm_unit = 1/2.54\n",
    "figsize = (L_x, L_y)/np.max([L_x, L_y])*10.1\n",
    "\n",
    "data_cmap_lims = (0,2); colourbar_cmap_lims=(0,2); colourbar_ticks = np.arange(0,2.1,1)\n",
    "norm = mpl.colors.Normalize(vmin=data_cmap_lims[0], vmax=data_cmap_lims[1])\n",
    "cmap = LinearSegmentedColormap.from_list('custom hamiltonians', [ \"#FFFFFF\",  '#F78320', '#006F63'], N=256)\n",
    "\n",
    "cm_unit = 1/2.54\n",
    "fig, ax = plt.subplots(figsize=(figsize[0]*cm_unit, figsize[1]*cm_unit))\n",
    "\n",
    "# fig.suptitle(rf\"$\\omega={omega1}, A_1 ={A1}, A_2 = {A2}, A_3 = {A3}, A_4 = {A4}$\")\n",
    "pcm = ax.matshow(plaquette_vals.T, interpolation='none', cmap=cmap,  norm=norm)\n",
    "# ax.set_title(label)\n",
    "\n",
    "ax.tick_params(axis=\"y\", left=True, right=True, labelleft=True, \n",
    "        labelright=False, direction = \"in\", length = 3, pad=1)  \n",
    "\n",
    "ax.yaxis.set_label_coords(-0.043,0)\n",
    "ax.set_ylabel('$n$', rotation=0)\n",
    "ax.set_yticks(np.arange(0,L_y-1,2))\n",
    "ax.set_yticklabels([f\"${i}$\" for i in np.arange(1,L_y,2)], font = \"stix\")\n",
    "ax.set_xlabel('$m$', rotation=0)\n",
    "ax.xaxis.set_label_coords(0.5,1.2)\n",
    "ax.set_xticks(np.arange(0,L_x-1,2))\n",
    "ax.set_xticklabels([f\"${i}$\" for i in np.arange(1,L_x,2)], font = \"stix\")\n",
    "\n",
    "ax.spines[:].set_visible(True)\n",
    "ax.set_xticks(np.arange(plaquette_vals.shape[0]+1)-.5, minor=True)\n",
    "ax.set_yticks(np.arange(plaquette_vals.shape[1]+1)-.5, minor=True)\n",
    "ax.grid(which=\"minor\", color=\"w\", linestyle='-', linewidth=3)\n",
    "ax.tick_params(which=\"minor\", bottom=False, left=False, top=False, right=False)\n",
    "\n",
    "ax.tick_params(axis=\"x\", bottom=True, top=True, labelbottom=False, \n",
    "        labeltop=True, direction = \"in\", length = 3, pad=1)\n",
    "  \n",
    "ax.set_axisbelow(True)\n",
    "from mpl_toolkits.axes_grid1.inset_locator import inset_axes\n",
    "axins = inset_axes(\n",
    "    ax,\n",
    "    width=\"100%\",  # width: 5% of parent_bbox width\n",
    "    height=\"10%\",  # height: 50%\n",
    "    loc=\"lower left\",\n",
    "    bbox_to_anchor=(0, -0.2, 1, 1),\n",
    "    bbox_transform=ax.transAxes,\n",
    "    borderpad=0,\n",
    ")\n",
    "cbar = fig.colorbar(mpl.cm.ScalarMappable(norm=norm, cmap=cmap), cax=axins, ticks=colourbar_ticks, orientation=\"horizontal\", format=mpl.ticker.FixedFormatter([r'$0$', r'$\\pi$', r\"$2\\pi$\"]), ticklocation=\"bottom\")\n",
    "cbar.ax.tick_params(labelsize=9, pad=1)\n",
    "\n",
    "\n",
    "# fig.savefig(Path().absolute().parent.parent.parent/\"figures\"/\"local_mod_paper\"/\"grad_mag_field_flux_5x20_v2.pdf\", format=\"pdf\", bbox_inches=\"tight\", pad_inches=0)\n",
    "\n",
    "plt.show()"
   ]
  },
  {
   "cell_type": "markdown",
   "metadata": {},
   "source": [
    "### For 1D Figure"
   ]
  },
  {
   "cell_type": "code",
   "execution_count": 7,
   "metadata": {},
   "outputs": [
    {
     "data": {
      "image/png": "[encoded data removed]",
      "text/plain": [
       "<Figure size 393.701x118.11 with 2 Axes>"
      ]
     },
     "metadata": {},
     "output_type": "display_data"
    }
   ],
   "source": [
    "colourbar_pad=0.1\n",
    "colourbar_size_percentage=5\n",
    "cm_unit = 1/2.54\n",
    "figsize = (L_x, L_y)/np.max([L_x, L_y])*10\n",
    "\n",
    "data_cmap_lims = (0,2); colourbar_cmap_lims=(0,2); colourbar_ticks = np.arange(0,2.1,1)\n",
    "norm = mpl.colors.Normalize(vmin=data_cmap_lims[0], vmax=data_cmap_lims[1])\n",
    "cmap = LinearSegmentedColormap.from_list('custom hamiltonians', [ \"#FFFFFF\",  '#F78320', '#006F63'], N=256)\n",
    "\n",
    "cm_unit = 1/2.54\n",
    "fig, ax = plt.subplots(figsize=(figsize[0]*cm_unit, figsize[1]*cm_unit))\n",
    "\n",
    "# fig.suptitle(rf\"$\\omega={omega1}, A_1 ={A1}, A_2 = {A2}, A_3 = {A3}, A_4 = {A4}$\")\n",
    "pcm = ax.matshow(plaquette_vals.T, interpolation='none', cmap=cmap,  norm=norm)\n",
    "# ax.set_title(label)\n",
    "\n",
    "ax.tick_params(axis=\"y\", left=True, right=True, labelleft=True, \n",
    "        labelright=False, direction = \"in\", length = 3, pad=1)  \n",
    "\n",
    "ax.yaxis.set_label_coords(-0.043,0)\n",
    "ax.set_ylabel('$n$', rotation=0)\n",
    "ax.set_yticks(np.arange(0,L_y-1,2))\n",
    "ax.set_yticklabels(np.arange(1,L_y,2))\n",
    "ax.set_xlabel('$m$', rotation=0)\n",
    "ax.xaxis.set_label_coords(0.5,2)\n",
    "ax.set_xticks(np.arange(0,L_x-1,2))\n",
    "ax.set_xticklabels(np.arange(1,L_x,2))\n",
    "\n",
    "ax.spines[:].set_visible(True)\n",
    "ax.set_xticks(np.arange(plaquette_vals.shape[0]+1)-.5, minor=True)\n",
    "# ax.set_yticks(np.arange(plaquette_vals.shape[1]+1)-.5, minor=True)\n",
    "ax.grid(which=\"minor\", color=\"w\", linestyle='-', linewidth=3)\n",
    "ax.tick_params(which=\"minor\", bottom=False, left=False, top=False, right=False)\n",
    "\n",
    "ax.tick_params(axis=\"x\", bottom=True, top=True, labelbottom=False, \n",
    "        labeltop=True, direction = \"in\", length = 3, pad=1)\n",
    "  \n",
    "ax.set_axisbelow(True)\n",
    "from mpl_toolkits.axes_grid1.inset_locator import inset_axes\n",
    "axins = inset_axes(\n",
    "    ax,\n",
    "    width=\"100%\",  # width: 5% of parent_bbox width\n",
    "    height=\"35%\",  # height: 50%\n",
    "    loc=\"lower left\",\n",
    "    bbox_to_anchor=(0, -0.7, 1, 1),\n",
    "    bbox_transform=ax.transAxes,\n",
    "    borderpad=0,\n",
    ")\n",
    "cbar = fig.colorbar(mpl.cm.ScalarMappable(norm=norm, cmap=cmap), cax=axins, ticks=colourbar_ticks, orientation=\"horizontal\", format=mpl.ticker.FixedFormatter([r'$0$', r'$\\pi$', r\"$2\\pi$\"]), ticklocation=\"bottom\")\n",
    "cbar.ax.tick_params(labelsize=7, pad=0)\n",
    "\n",
    "\n",
    "# fig.savefig(Path().absolute().parent.parent.parent/\"figures\"/\"local_mod_paper\"/\"grad_mag_field_flux.pdf\", format=\"pdf\", bbox_inches=\"tight\", pad_inches=0)\n",
    "\n",
    "plt.show()"
   ]
  },
  {
   "cell_type": "markdown",
   "metadata": {},
   "source": [
    "# plot HF"
   ]
  },
  {
   "cell_type": "code",
   "execution_count": null,
   "metadata": {},
   "outputs": [],
   "source": []
  },
  {
   "cell_type": "code",
   "execution_count": 8,
   "metadata": {},
   "outputs": [
    {
     "data": {
      "image/png": "[encoded data removed]",
      "text/plain": [
       "<Figure size 275.591x275.591 with 2 Axes>"
      ]
     },
     "metadata": {},
     "output_type": "display_data"
    }
   ],
   "source": [
    "colourbar_pad=0.1\n",
    "colourbar_size_percentage=5\n",
    "cm_unit = 1/2.54\n",
    "figsize = (7, 7)\n",
    "\n",
    "data_cmap_lims = (0, 1); colourbar_cmap_lims=(0,1); colourbar_ticks = np.arange(0,1.1,0.5)\n",
    "norm = mpl.colors.Normalize(vmin=data_cmap_lims[0], vmax=data_cmap_lims[1])\n",
    "cmap = LinearSegmentedColormap.from_list('custom hamiltonians', [ \"#FFFFFF\",  '#F78320'], N=256)\n",
    "\n",
    "cm_unit = 1/2.54\n",
    "fig, ax = plt.subplots(figsize=(figsize[0]*cm_unit, figsize[1]*cm_unit))\n",
    "\n",
    "# fig.suptitle(rf\"$\\omega={omega1}, A_1 ={A1}, A_2 = {A2}, A_3 = {A3}, A_4 = {A4}$\")\n",
    "pcm = ax.matshow(np.abs(HF), interpolation='none', cmap=cmap,  norm=norm)\n",
    "# ax.set_title(label)\n",
    "ax.tick_params(axis=\"x\", bottom=True, top=True, labelbottom=True, \n",
    "        labeltop=False, direction = \"in\", length = 3)  \n",
    "ax.tick_params(axis=\"y\", left=True, right=True, labelleft=True, \n",
    "        labelright=False, direction = \"in\", length = 3, pad=1)  \n",
    "\n",
    "\n",
    "ax.yaxis.set_label_coords(-0.1,0)\n",
    "ax.set_ylabel('$i$', rotation=0)\n",
    "ax.set_xlabel('$j$', rotation=0)\n",
    "\n",
    "ax.set_yticks(np.arange(0,L_x*L_y,10))\n",
    "ax.set_yticklabels(np.arange(1, L_x*L_y + 1,10))\n",
    "ax.set_xticks(np.arange(0,L_x *L_y, 10))\n",
    "ax.set_xticklabels(np.arange(1,L_x* L_y + 1,10))\n",
    "ax.set_title(r\"$|H_S^{t_0}|_{i,j}$\")\n",
    "from mpl_toolkits.axes_grid1.inset_locator import inset_axes\n",
    "axins = inset_axes(\n",
    "    ax,\n",
    "    width=\"5%\",  # width: 5% of parent_bbox width\n",
    "    height=\"50%\",  # height: 50%\n",
    "    loc=\"lower left\",\n",
    "    bbox_to_anchor=(0.9, 0.6, 1, 0.7),\n",
    "    bbox_transform=ax.transAxes,\n",
    "    borderpad=0,\n",
    ")\n",
    "cbar = fig.colorbar(mpl.cm.ScalarMappable(norm=norm, cmap=cmap), cax=axins, ticks=colourbar_ticks, ticklocation=\"left\")\n",
    "cbar.ax.tick_params(labelsize=7, pad=0)\n",
    "\n",
    "fig.savefig(Path().absolute().parent.parent.parent/\"figures\"/\"local_mod_paper\"/\"grad_mag_field_abs_ham.pdf\", format=\"pdf\", bbox_inches=\"tight\", pad_inches=0)\n",
    "\n",
    "plt.show()"
   ]
  },
  {
   "cell_type": "code",
   "execution_count": 9,
   "metadata": {},
   "outputs": [
    {
     "ename": "NameError",
     "evalue": "name 'second_row_x_tun_list' is not defined",
     "output_type": "error",
     "traceback": [
      "\u001b[0;31m---------------------------------------------------------------------------\u001b[0m",
      "\u001b[0;31mNameError\u001b[0m                                 Traceback (most recent call last)",
      "Cell \u001b[0;32mIn[9], line 1\u001b[0m\n\u001b[0;32m----> 1\u001b[0m \u001b[38;5;28mprint\u001b[39m(\u001b[43msecond_row_x_tun_list\u001b[49m)\n\u001b[1;32m      2\u001b[0m \u001b[38;5;28mprint\u001b[39m(top_row_x_tun_list)\n\u001b[1;32m      3\u001b[0m \u001b[38;5;28mprint\u001b[39m(\u001b[38;5;28mlen\u001b[39m(bottom_horizontal_tunnellings), \u001b[38;5;28mlen\u001b[39m(top_horizontal_tunnellings), \u001b[38;5;28mlen\u001b[39m(vertical_tunnellings))\n",
      "\u001b[0;31mNameError\u001b[0m: name 'second_row_x_tun_list' is not defined"
     ]
    }
   ],
   "source": [
    "print(second_row_x_tun_list)\n",
    "print(top_row_x_tun_list)\n",
    "print(len(bottom_horizontal_tunnellings), len(top_horizontal_tunnellings), len(vertical_tunnellings))"
   ]
  },
  {
   "cell_type": "code",
   "execution_count": null,
   "metadata": {},
   "outputs": [
    {
     "data": {
      "image/png": "[encoded data removed]",
      "text/plain": [
       "<Figure size 177.165x118.11 with 1 Axes>"
      ]
     },
     "metadata": {},
     "output_type": "display_data"
    },
    {
     "name": "stdout",
     "output_type": "stream",
     "text": [
      "0.040638949790263945\n"
     ]
    }
   ],
   "source": [
    "PlotParams(fontsize=8)\n",
    "params = {'legend.fontsize': 7,\n",
    "          'legend.handlelength': 0}\n",
    "mpl.rcParams.update(params)\n",
    "\n",
    "figsize = (4.5,3)\n",
    "fig, ax = plt.subplots(figsize=(figsize[0]*cm_unit, figsize[1]*cm_unit))\n",
    "# row_tun_i_list = [jj for jj in range(L_x*L_y - 1) if (jj+1)%L_x!=0 ]\n",
    "top_row_x_tun_list = list(range(L_x - 1))\n",
    "second_row_x_tun_list = list(range(L_x, 2*L_x - 1))\n",
    "\n",
    "\n",
    "top_horizontal_tunnellings = np.array([np.abs(HF[ii, ii+1]) for ii in top_row_x_tun_list])\n",
    "bottom_horizontal_tunnellings = np.array([np.abs(HF[ii, ii+1]) for ii in second_row_x_tun_list])\n",
    "vertical_tunnellings = np.array([np.abs(HF[ii, ii+L_x]) for ii in range(L_x )])\n",
    "ax.plot(range((L_x-1)), top_horizontal_tunnellings,    'o', ms=4, label=r\"$n_i = n_j = 1$\", color = \"#5778C7\")\n",
    "ax.plot(range((L_x-1)), bottom_horizontal_tunnellings, 'x', ms=3, label=r\"$n_i = n_j = 2$\", color = \"#F5AB00\")\n",
    "ax.plot(list(range(L_x)), vertical_tunnellings, '^', ms = 3, label=r\"$\\epsilon_{ij}^y$\", color = \"#C96480\")\n",
    "\n",
    "ax.tick_params(axis=\"x\", bottom=True, top=True, labelbottom=True, \n",
    "        labeltop=False, direction = \"in\", length = 3, pad=1)  \n",
    "ax.tick_params(axis=\"y\", left=True, right=True, labelleft=True, \n",
    "        labelright=False, direction = \"in\", length = 3, pad=1) \n",
    "\n",
    "\n",
    "ax.set_ylabel(r\"$| \\epsilon_{ij}|$\", rotation=0)\n",
    "ax.yaxis.set_label_coords(-0.09,0.54)\n",
    "ax.set_yticks(np.arange(0,1.1,1))\n",
    "ax.set_xlabel(r\"$m_j$\")\n",
    "ax.set_xticks(np.arange(0,21,5))\n",
    "ax.set_xticklabels(np.arange(1,22,5))\n",
    "ax.xaxis.set_label_coords(0.5,-0.12)       \n",
    "\n",
    "ax.set_ylim([0,1])\n",
    "ax.legend(loc=\"center right\")\n",
    "fig.savefig(Path().absolute().parent.parent.parent/\"figures\"/\"local_mod_paper\"/\"flux_ladder_abs_vals.pdf\", format=\"pdf\", bbox_inches=\"tight\", pad_inches=0)\n",
    "\n",
    "plt.show()\n",
    "print(np.max(np.concatenate([top_horizontal_tunnellings, bottom_horizontal_tunnellings])) - np.min(np.concatenate([top_horizontal_tunnellings, bottom_horizontal_tunnellings])))"
   ]
  },
  {
   "cell_type": "code",
   "execution_count": null,
   "metadata": {},
   "outputs": [
    {
     "data": {
      "text/plain": [
       "array([1, 2, 3, 1, 2, 3])"
      ]
     },
     "execution_count": 65,
     "metadata": {},
     "output_type": "execute_result"
    }
   ],
   "source": [
    "a = np.array([1,2,3])\n",
    "np.concatenate([a,a])"
   ]
  },
  {
   "cell_type": "code",
   "execution_count": null,
   "metadata": {},
   "outputs": [
    {
     "data": {
      "image/png": "[encoded data removed]",
      "text/plain": [
       "<Figure size 177.165x118.11 with 1 Axes>"
      ]
     },
     "metadata": {},
     "output_type": "display_data"
    }
   ],
   "source": [
    "figsize = (4.5,3)\n",
    "\n",
    "\n",
    "fig, ax = plt.subplots(figsize=(figsize[0]*cm_unit, figsize[1]*cm_unit))\n",
    "ax.plot(list(range((L_x-1))),plaquette_vals, 'x', ms=3, color=  '#F78320')\n",
    "ax.tick_params(axis=\"x\", bottom=True, top=True, labelbottom=True, \n",
    "        labeltop=False, direction = \"in\", length = 3, pad=1)  \n",
    "ax.tick_params(axis=\"y\", left=True, right=True, labelleft=True, \n",
    "        labelright=False, direction = \"in\", length = 3, pad=1)  \n",
    "ax.set_ylabel(r\"$\\Phi_{m}$\", rotation=0)\n",
    "ax.yaxis.set_label_coords(-0.1,0.54)\n",
    "ax.set_yticks(np.arange(0,2.1,1))\n",
    "ax.set_yticklabels([r\"$0$\", r\"$\\pi$\", r\"$2\\pi$\"])\n",
    "ax.set_xlabel(r\"$m$\")\n",
    "ax.set_xticks(np.arange(0,20,6))\n",
    "ax.set_xticklabels(np.arange(1,21,6))\n",
    "ax.xaxis.set_label_coords(0.5,-0.06)\n",
    "ax.set_ylim([0,2])\n",
    "fig.savefig(Path().absolute().parent.parent.parent/\"figures\"/\"local_mod_paper\"/\"flux_ladder_flux_vals.pdf\", format=\"pdf\", bbox_inches=\"tight\", pad_inches=0)\n",
    "\n",
    "plt.show()"
   ]
  },
  {
   "cell_type": "code",
   "execution_count": null,
   "metadata": {},
   "outputs": [],
   "source": []
  },
  {
   "cell_type": "code",
   "execution_count": null,
   "metadata": {},
   "outputs": [],
   "source": []
  },
  {
   "cell_type": "code",
   "execution_count": null,
   "metadata": {},
   "outputs": [
    {
     "data": {
      "image/png": "[encoded data removed]",
      "text/plain": [
       "<Figure size 640x480 with 1 Axes>"
      ]
     },
     "metadata": {},
     "output_type": "display_data"
    }
   ],
   "source": [
    "from numpy import pi, sin, cos\n",
    "phij = 0.3*pi\n",
    "phii = np.linspace(-4*pi,4*pi, 100)\n",
    "Aij = 2*sin((phii - phij)/2)\n",
    "xi_theory1 =  ((phii + phij)/2 - pi/2)%(2*pi) \n",
    "xi_theory2 = ((phii + phij)/2 + pi/2)%(2*pi)\n",
    "\n",
    "plt.plot(phii, sin(0.9 + phii) - sin(0.9+ phij),  label=\"sin adds\")\n",
    "plt.plot(phii, -Aij*sin(0.9+ xi_theory1), '.', label = \"theory1\")\n",
    "# plt.plot(phii, Aij*sin(xi_theory2), '.', label = \"theory2\")\n",
    "plt.legend()\n",
    "plt.show()"
   ]
  },
  {
   "cell_type": "code",
   "execution_count": null,
   "metadata": {},
   "outputs": [
    {
     "ename": "SyntaxError",
     "evalue": "invalid syntax (181085120.py, line 3)",
     "output_type": "error",
     "traceback": [
      "\u001b[0;36m  Cell \u001b[0;32mIn[103], line 3\u001b[0;36m\u001b[0m\n\u001b[0;31m    Ai_list  np.linspace()\u001b[0m\n\u001b[0m             ^\u001b[0m\n\u001b[0;31mSyntaxError\u001b[0m\u001b[0;31m:\u001b[0m invalid syntax\n"
     ]
    }
   ],
   "source": []
  }
 ],
 "metadata": {
  "kernelspec": {
   "display_name": "floquet-simulations-srXSFrPT-py3.10",
   "language": "python",
   "name": "python3"
  },
  "language_info": {
   "codemirror_mode": {
    "name": "ipython",
    "version": 3
   },
   "file_extension": ".py",
   "mimetype": "text/x-python",
   "name": "python",
   "nbconvert_exporter": "python",
   "pygments_lexer": "ipython3",
   "version": "3.10.6"
  }
 },
 "nbformat": 4,
 "nbformat_minor": 2
}

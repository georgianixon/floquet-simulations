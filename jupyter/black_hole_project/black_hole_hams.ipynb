{
 "cells": [
  {
   "cell_type": "code",
   "execution_count": 1,
   "metadata": {},
   "outputs": [],
   "source": [
    "from numpy import  cos, pi\n",
    "import numpy as np\n",
    "import matplotlib.pyplot as plt\n",
    "from floquet_simulations.hamiltonians import CreateHFGeneral\n",
    "from floquet_simulations.periodic_functions import Cosine\n",
    "from scipy.special import  jv\n",
    "from scipy.linalg import eigh\n",
    "import pandas as pd\n",
    "import os\n",
    "from pathlib import Path\n",
    "from floquet_simulations.plot_functions import PlotParams, PlotAbsRealImagHamiltonian, PlotRealHamiltonian\n",
    "from floquet_simulations.generate_gradients import ComputeAValsFromRequiredGradients, GetAValsFromBesselXVals\n",
    "PlotParams(fontsize=12)"
   ]
  },
  {
   "cell_type": "code",
   "execution_count": 2,
   "metadata": {},
   "outputs": [
    {
     "name": "stdout",
     "output_type": "stream",
     "text": [
      "100 -0.40275939344110157 25 accumulative\n",
      "100 -0.40275939344110157 25 alternating\n",
      "100 -0.40275939344110157 2 accumulative\n",
      "100 -0.40275939344110157 2 alternating\n",
      "100 -0.40275939344110157 40 accumulative\n",
      "100 -0.40275939344110157 40 alternating\n",
      "100 -0.40275939344110157 5 accumulative\n",
      "100 -0.40275939344110157 5 alternating\n",
      "100 -0.2 25 accumulative\n",
      "100 -0.2 25 alternating\n",
      "100 -0.2 2 accumulative\n",
      "100 -0.2 2 alternating\n",
      "100 -0.2 40 accumulative\n",
      "100 -0.2 40 alternating\n",
      "100 -0.2 5 accumulative\n",
      "100 -0.2 5 alternating\n",
      "100 -0.1 25 accumulative\n",
      "100 -0.1 25 alternating\n",
      "100 -0.1 2 accumulative\n",
      "100 -0.1 2 alternating\n",
      "100 -0.1 40 accumulative\n",
      "100 -0.1 40 alternating\n",
      "100 -0.1 5 accumulative\n",
      "100 -0.1 5 alternating\n",
      "50 -0.40275939344110157 25 accumulative\n",
      "50 -0.40275939344110157 25 alternating\n",
      "50 -0.40275939344110157 2 accumulative\n",
      "50 -0.40275939344110157 2 alternating\n",
      "50 -0.40275939344110157 40 accumulative\n",
      "50 -0.40275939344110157 40 alternating\n",
      "50 -0.40275939344110157 5 accumulative\n",
      "50 -0.40275939344110157 5 alternating\n",
      "50 -0.2 25 accumulative\n",
      "50 -0.2 25 alternating\n",
      "50 -0.2 2 accumulative\n",
      "50 -0.2 2 alternating\n",
      "50 -0.2 40 accumulative\n",
      "50 -0.2 40 alternating\n",
      "50 -0.2 5 accumulative\n",
      "50 -0.2 5 alternating\n",
      "50 -0.1 25 accumulative\n",
      "50 -0.1 25 alternating\n",
      "50 -0.1 2 accumulative\n",
      "50 -0.1 2 alternating\n",
      "50 -0.1 40 accumulative\n",
      "50 -0.1 40 alternating\n",
      "50 -0.1 5 accumulative\n",
      "50 -0.1 5 alternating\n"
     ]
    }
   ],
   "source": [
    "\n",
    "# get the A vals to get the right gradient\n",
    "\n",
    "for Ndiffs in [3]:\n",
    "    for ymin in [ jv(0, 3.8316)]:\n",
    "\n",
    "        gradients = np.abs(np.linspace(-ymin, ymin, Ndiffs)) # for linear\n",
    "        ideal_ham = np.zeros((Ndiffs+1, Ndiffs+1)) + np.diag(-1*gradients,-1)+np.diag(-1*gradients,1)   \n",
    "        ideal_ham_dir = Path().absolute().parent/\"hamiltonian_csvs\"/f\"ideal_ham_N={Ndiffs+1},grad={gradients[1]-gradients[0]:.4f},absval.csv\"\n",
    "        ideal_ham = pd.DataFrame(np.real(ideal_ham))\n",
    "        ideal_ham.to_csv(ideal_ham_dir, \n",
    "                    index=False, header=False)\n",
    "\n",
    "        xvals = ComputeAValsFromRequiredGradients(gradients)\n",
    "\n",
    "        for omega in [25, 2, 40, 5]:\n",
    "            for drive_style in [\"accumulative\", \"alternating\"]:\n",
    "                print(Ndiffs, ymin, omega, drive_style)\n",
    "                eff_ham_dir = Path().absolute().parent/\"hamiltonian_csvs\"/f\"H_N={Ndiffs+1},w={omega},{drive_style},grad={gradients[1]-gradients[0]:.4f},absval.csv\"\n",
    "\n",
    "                if not os.path.isfile(eff_ham_dir):\n",
    "                    print(\"y\")\n",
    "\n",
    "                    A_vals = GetAValsFromBesselXVals(xvals, omega, addition_type=drive_style, constant_shift=\"zero centre\") # get actual shaking values\n",
    "\n",
    "\n",
    "                    #oscilating A_vals\n",
    "                    # A_vals = np.array([i%2 for i in range(Ndiffs +1)])*10\n",
    "\n",
    "\n",
    "                    _, HF = CreateHFGeneral(Ndiffs+1,\n",
    "                                            [int(i) for i in list(np.linspace(0,Ndiffs,Ndiffs+1))],\n",
    "                                            [Cosine]*(Ndiffs+1),\n",
    "                                            [[i,omega,0,0] for i in A_vals], #a, omega, phi onsite\n",
    "                            \n",
    "                               \n",
    "                                            2*pi/omega,\n",
    "                                            0\n",
    "                                            )\n",
    "\n",
    "                    #make real\n",
    "                    if np.all(np.imag(HF))==0:\n",
    "                        HF =np.real(HF)\n",
    "\n",
    "\n",
    "\n",
    "                    eff_ham_pd = pd.DataFrame(HF)\n",
    "                    eff_ham_pd.to_csv(eff_ham_dir, \n",
    "                                index=False, header=False)"
   ]
  },
  {
   "cell_type": "code",
   "execution_count": 9,
   "metadata": {},
   "outputs": [],
   "source": []
  },
  {
   "cell_type": "code",
   "execution_count": 10,
   "metadata": {},
   "outputs": [
    {
     "data": {
      "text/plain": [
       "144"
      ]
     },
     "execution_count": 10,
     "metadata": {},
     "output_type": "execute_result"
    }
   ],
   "source": []
  },
  {
   "cell_type": "code",
   "execution_count": null,
   "metadata": {},
   "outputs": [],
   "source": []
  }
 ],
 "metadata": {
  "kernelspec": {
   "display_name": "floquet-simulations-srXSFrPT-py3.10",
   "language": "python",
   "name": "python3"
  },
  "language_info": {
   "codemirror_mode": {
    "name": "ipython",
    "version": 3
   },
   "file_extension": ".py",
   "mimetype": "text/x-python",
   "name": "python",
   "nbconvert_exporter": "python",
   "pygments_lexer": "ipython3",
   "version": "3.10.6"
  },
  "orig_nbformat": 4
 },
 "nbformat": 4,
 "nbformat_minor": 2
}

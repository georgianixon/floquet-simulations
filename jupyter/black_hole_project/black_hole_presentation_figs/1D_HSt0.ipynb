{
 "cells": [
  {
   "cell_type": "code",
   "execution_count": 6,
   "metadata": {},
   "outputs": [],
   "source": [
    "from floquet_simulations.periodic_functions import Cosine\n",
    "from floquet_simulations.hamiltonians import CreateHFGeneral\n",
    "from floquet_simulations.plot_functions import *\n",
    "from mpl_toolkits.axes_grid1.inset_locator import inset_axes\n",
    "from numpy import pi\n",
    "from pathlib import Path\n",
    "import numpy as np\n",
    "import matplotlib as mpl\n",
    "from scipy.special import jv\n",
    "dpi=600\n",
    "figsize_hams=(4.1,4.1)\n",
    "figsize_hams_large = (6,6)\n",
    "fontsize = 9\n",
    "PlotParams(fontsize=fontsize)\n",
    "num_sites = 13\n",
    "axes_tick_pos=np.array([0,2,4,6,8,10,12])\n",
    "bbox_colourbar_anchor = (0.9, 0.57, 1, 0.73)\n",
    "colourbar_pad=0.1\n",
    "colourbar_size_percentage=5\n",
    "cm_unit = 1/2.54\n",
    "cmap = mpl.colors.LinearSegmentedColormap.from_list('custom hamiltonians', ['#006F63', \"#FFFFFF\", '#F78320'], N=256)\n",
    "xlabel_coords = [0.52,-0.11]\n",
    "ylabel_coords = [-0.14,0.5]\n",
    "\n",
    "ylabel_coords_large = [-0.09,0.5]\n",
    "xlabel_coords_large = [0.5,-0.08]\n",
    "\n",
    "save_dir = Path().absolute().parent.parent.parent/\"figures\"/\"black_hole_pres\"\n",
    "\n",
    "colourbar_width_large = \"3.5%\""
   ]
  },
  {
   "cell_type": "code",
   "execution_count": 3,
   "metadata": {},
   "outputs": [
    {
     "name": "stdout",
     "output_type": "stream",
     "text": [
      "Ham is real\n"
     ]
    }
   ],
   "source": [
    "from floquet_simulations.generate_gradients import ComputeAValsFromRequiredGradients, GetAValsFromBesselXVals\n",
    "\n",
    "Ndiffs = 12\n",
    "ymin = -0.38#jv(0, 3.8316) \n",
    "tunnellings = np.linspace(-ymin, ymin, Ndiffs) # for linear\n",
    "tunnellings = tunnellings[::-1]\n",
    "omega = 25\n",
    "drive_style = \"alternating\"\n",
    "xvals = ComputeAValsFromRequiredGradients(tunnellings)\n",
    "A_vals = GetAValsFromBesselXVals(xvals, omega, addition_type=drive_style, constant_shift=\"zero centre\") # get actual shaking values\n",
    "N= len(A_vals)\n",
    "_, HF = CreateHFGeneral(Ndiffs+1,\n",
    "                        [int(i) for i in list(np.linspace(0,Ndiffs,Ndiffs+1))],\n",
    "                        [Cosine]*(Ndiffs+1),\n",
    "                        [[i,omega,0,0] for i in A_vals], #a, omega, phi onsite\n",
    "                        2*pi/omega,\n",
    "                        circle_boundary = 0\n",
    "                        )\n",
    "#make real\n",
    "if np.all(np.imag(HF))==0:\n",
    "    print(\"Ham is real\")\n",
    "    HF =np.real(HF)\n"
   ]
  },
  {
   "cell_type": "code",
   "execution_count": 4,
   "metadata": {},
   "outputs": [
    {
     "data": {
      "image/png": "[encoded data removed]",
      "text/plain": [
       "<Figure size 236.22x236.22 with 1 Axes>"
      ]
     },
     "metadata": {},
     "output_type": "display_data"
    }
   ],
   "source": [
    "# plot gradient\n",
    "# '#006F63', \"#FFFFFF\", '#F78320\n",
    "fig, ax = plt.subplots(figsize=(figsize_hams_large[0]*cm_unit,figsize_hams_large[1]*cm_unit))\n",
    "plt.axhline(y=0, color='0', linestyle='-', lw=0.5)\n",
    "y = [np.round(-HF[i,i+1], 3) for i in range(N-1)]\n",
    "x = list(range(0, N-1))\n",
    "plt.plot(x, tunnellings, \n",
    "        #  label=r\"$10 \\> \\tanh(0.1*(i- nh- 0.5))/(4*0.1)$\"\n",
    "        label=r\"$\\frac{\\alpha (j - j_h + 0.5)}{4}$\",\n",
    "        # label = r\"$\\alpha (j - j_h +0.5)/4$\",\n",
    "         c=\"#F78320\")\n",
    "\n",
    "ax.plot(range(N-1), y, 'x',\n",
    "        #  label = \"1\" \n",
    "        label=r'$[H_S^{t_0}]_{j,j+1}/(\\kappa J_0)$'\n",
    "        , c=\"#1565C0\", ms = 3)\n",
    "\n",
    "ax.tick_params(axis=\"x\", bottom=True, top=True, labelbottom=True, \n",
    "        labeltop=False, direction = \"in\", length = 3, pad=2)  \n",
    "ax.tick_params(axis=\"y\", left=True, right=True, labelleft=True, \n",
    "        labelright=False, direction = \"in\", length = 3, pad=2)  \n",
    " \n",
    " \n",
    "ax.set_ylabel(r\"$\\kappa_{j}/\\kappa$\")\n",
    "ax.yaxis.set_label_coords(ylabel_coords_large[0] +(0.02), ylabel_coords_large[1])\n",
    "ax.set_yticks([-0.4,0,0.4])\n",
    "ax.set_ylim([-0.44, 0.44])\n",
    "ax.set_yticklabels([r\"$-0.4$\", r\"$0$\", r\"$0.4$\"])\n",
    "\n",
    "ax.set_xlabel(\"$j$\", fontsize=fontsize)\n",
    "ax.xaxis.set_label_coords(xlabel_coords_large[0], xlabel_coords_large[1])\n",
    "xticks = np.arange(0,N-1,2)\n",
    "ax.set_xticks(xticks)\n",
    "ax.set_xticklabels([f\"${i+1}$\" for i in xticks], font=\"stix\", fontsize=fontsize*0.9)\n",
    "#  plt.legend(loc=\"upper right\", bbox_to_anchor=(1.1, 2))\n",
    "# plt.legend(loc=\"lower left\", bbox_to_anchor=(0.4, 0.05))\n",
    "fig.savefig(save_dir/\"HSt0_linear_gradient_tunnelling_terms_sz6.png\", format=\"png\", bbox_inches=\"tight\", pad_inches=0.01, dpi=600)\n",
    "plt.show()\n"
   ]
  },
  {
   "cell_type": "code",
   "execution_count": 5,
   "metadata": {},
   "outputs": [
    {
     "name": "stdout",
     "output_type": "stream",
     "text": [
      "-0.3736586 0.3793787\n"
     ]
    },
    {
     "data": {
      "image/png": "[encoded data removed]",
      "text/plain": [
       "<Figure size 161.417x161.417 with 2 Axes>"
      ]
     },
     "metadata": {},
     "output_type": "display_data"
    }
   ],
   "source": [
    "colourbar_min = np.min(np.real(HF))\n",
    "colourbar_max = np.max(np.real(HF))\n",
    "print(colourbar_min, colourbar_max)\n",
    "\n",
    "\n",
    "axes_tick_labels=[rf\"${i}$\" for i in axes_tick_pos+np.array([1])] \n",
    "ham_plot_dir = Path().absolute().parent.parent.parent/\"figures\"/\"black_hole_paper\"/\"stroboscopic_ham.pdf\"\n",
    "\n",
    "# figsize = (4.68,4.68)\n",
    "data_cmap_lims = (-0.4, 0.4); colourbar_cmap_lims=(-0.4,0.4); colourbar_ticks = np.arange(-0.4,0.6,0.4)\n",
    "# data_cmap_lims = (-0.4,0.4); colourbar_cmap_lims=(-0.6,0.6); colourbar_ticks = np.arange(-1,1.1,1)\n",
    "\n",
    "norm = mpl.colors.Normalize(vmin=data_cmap_lims[0], vmax=data_cmap_lims[1])\n",
    "\n",
    "fig, ax = plt.subplots(figsize=(figsize_hams[0]*cm_unit, figsize_hams[1]*cm_unit))\n",
    "ax.tick_params(axis='both', which='major', pad=1)\n",
    "im = ax.matshow(np.real(HF), interpolation='none', cmap=cmap,  norm=norm)\n",
    "ax.set_title(r'$[H_S^{t_0}]_{i,j}/(\\kappa J_0)$')\n",
    "# ax.set_title( r\"$ \\left[H_{S}^{t_0}\\right]_{l,l'} /(\\kappa J_0)$\")\n",
    "ax.tick_params(axis=\"x\", bottom=True, top=True, labelbottom=True, \n",
    "        labeltop=False, direction = \"in\", length = 3, pad=2)  \n",
    "ax.tick_params(axis=\"y\", left=True, right=True, labelleft=True, \n",
    "        labelright=False, direction = \"in\", length = 3, pad=2)  \n",
    " \n",
    " \n",
    "ax.set_ylabel('$i$', rotation=0)\n",
    "ax.yaxis.set_label_coords(ylabel_coords[0], ylabel_coords[1])\n",
    "ax.set_yticks(axes_tick_pos)\n",
    "ax.set_yticklabels(axes_tick_labels, font=\"stix\", fontsize=fontsize*0.9)\n",
    "\n",
    "ax.set_xlabel(\"$j$\", fontsize=fontsize)\n",
    "ax.xaxis.set_label_coords(xlabel_coords[0], xlabel_coords[1])\n",
    "ax.set_xticks(axes_tick_pos)\n",
    "ax.set_xticklabels(axes_tick_labels, font=\"stix\", fontsize=fontsize*0.9)\n",
    "\n",
    "\n",
    "new_norm = mpl.colors.Normalize(vmin=colourbar_cmap_lims[0], vmax=colourbar_cmap_lims[1])\n",
    "new_cmap = truncate_colormap(cmap, (colourbar_cmap_lims[0]-data_cmap_lims[0])/(data_cmap_lims[1] - data_cmap_lims[0]), (colourbar_cmap_lims[1]-data_cmap_lims[0])/(data_cmap_lims[1] - data_cmap_lims[0]))\n",
    "\n",
    "axins = inset_axes(\n",
    "    ax,\n",
    "    width=\"5%\",  # width: 5% of parent_bbox width\n",
    "    height=\"50%\",  # height: 50%\n",
    "    loc=\"lower left\",\n",
    "    bbox_to_anchor=bbox_colourbar_anchor,\n",
    "    bbox_transform=ax.transAxes,\n",
    "    borderpad=0,\n",
    ")\n",
    "cbar = fig.colorbar(mpl.cm.ScalarMappable(norm=new_norm, cmap=new_cmap), cax=axins, ticks=colourbar_ticks, ticklocation=\"left\")\n",
    "cbar.ax.tick_params(labelsize=fontsize*0.7, pad=0)\n",
    "fig.savefig(save_dir/\"HSt0_linear_gradient.png\", format=\"png\", bbox_inches=\"tight\",  pad_inches=0, dpi=600)\n",
    "plt.show()\n",
    "\n",
    "\n"
   ]
  },
  {
   "cell_type": "code",
   "execution_count": 7,
   "metadata": {},
   "outputs": [
    {
     "name": "stdout",
     "output_type": "stream",
     "text": [
      "-0.3736586 0.3793787\n"
     ]
    },
    {
     "data": {
      "image/png": "[encoded data removed]",
      "text/plain": [
       "<Figure size 236.22x236.22 with 2 Axes>"
      ]
     },
     "metadata": {},
     "output_type": "display_data"
    }
   ],
   "source": [
    "colourbar_min = np.min(np.real(HF))\n",
    "colourbar_max = np.max(np.real(HF))\n",
    "print(colourbar_min, colourbar_max)\n",
    "\n",
    "\n",
    "axes_tick_labels=[rf\"${i}$\" for i in axes_tick_pos+np.array([1])] \n",
    "ham_plot_dir = Path().absolute().parent.parent.parent/\"figures\"/\"black_hole_paper\"/\"stroboscopic_ham.pdf\"\n",
    "\n",
    "# figsize = (4.68,4.68)\n",
    "data_cmap_lims = (-0.4, 0.4); colourbar_cmap_lims=(-0.4,0.4); colourbar_ticks = np.arange(-0.4,0.6,0.4)\n",
    "# data_cmap_lims = (-0.4,0.4); colourbar_cmap_lims=(-0.6,0.6); colourbar_ticks = np.arange(-1,1.1,1)\n",
    "\n",
    "norm = mpl.colors.Normalize(vmin=data_cmap_lims[0], vmax=data_cmap_lims[1])\n",
    "\n",
    "fig, ax = plt.subplots(figsize=(figsize_hams_large[0]*cm_unit, figsize_hams_large[1]*cm_unit))\n",
    "ax.tick_params(axis='both', which='major', pad=1)\n",
    "im = ax.matshow(np.real(HF), interpolation='none', cmap=cmap,  norm=norm)\n",
    "ax.set_title(r'$[H_S^{t_0}]_{i,j}/(\\kappa J_0)$')\n",
    "# ax.set_title( r\"$ \\left[H_{S}^{t_0}\\right]_{l,l'} /(\\kappa J_0)$\")\n",
    "ax.tick_params(axis=\"x\", bottom=True, top=True, labelbottom=True, \n",
    "        labeltop=False, direction = \"in\", length = 3, pad=2)  \n",
    "ax.tick_params(axis=\"y\", left=True, right=True, labelleft=True, \n",
    "        labelright=False, direction = \"in\", length = 3, pad=2)  \n",
    " \n",
    " \n",
    "ax.set_ylabel('$i$', rotation=0)\n",
    "ax.yaxis.set_label_coords(ylabel_coords_large[0], ylabel_coords_large[1])\n",
    "ax.set_yticks(axes_tick_pos)\n",
    "ax.set_yticklabels(axes_tick_labels, font=\"stix\", fontsize=fontsize*0.9)\n",
    "\n",
    "ax.set_xlabel(\"$j$\", fontsize=fontsize)\n",
    "ax.xaxis.set_label_coords(xlabel_coords_large[0], xlabel_coords_large[1])\n",
    "ax.set_xticks(axes_tick_pos)\n",
    "ax.set_xticklabels(axes_tick_labels, font=\"stix\", fontsize=fontsize*0.9)\n",
    "\n",
    "\n",
    "new_norm = mpl.colors.Normalize(vmin=colourbar_cmap_lims[0], vmax=colourbar_cmap_lims[1])\n",
    "new_cmap = truncate_colormap(cmap, (colourbar_cmap_lims[0]-data_cmap_lims[0])/(data_cmap_lims[1] - data_cmap_lims[0]), (colourbar_cmap_lims[1]-data_cmap_lims[0])/(data_cmap_lims[1] - data_cmap_lims[0]))\n",
    "\n",
    "axins = inset_axes(\n",
    "    ax,\n",
    "    width=colourbar_width_large,  # width: 5% of parent_bbox width\n",
    "    height=\"50%\",  # height: 50%\n",
    "    loc=\"lower left\",\n",
    "    bbox_to_anchor=bbox_colourbar_anchor,\n",
    "    bbox_transform=ax.transAxes,\n",
    "    borderpad=0,\n",
    ")\n",
    "cbar = fig.colorbar(mpl.cm.ScalarMappable(norm=new_norm, cmap=new_cmap), cax=axins, ticks=colourbar_ticks, ticklocation=\"left\")\n",
    "cbar.ax.tick_params(labelsize=fontsize*0.7, pad=0)\n",
    "fig.savefig(save_dir/\"HSt0_linear_gradient_sz6.png\", format=\"png\", bbox_inches=\"tight\",  pad_inches=0, dpi=dpi)\n",
    "plt.show()\n",
    "\n",
    "\n"
   ]
  },
  {
   "cell_type": "code",
   "execution_count": null,
   "metadata": {},
   "outputs": [],
   "source": []
  }
 ],
 "metadata": {
  "kernelspec": {
   "display_name": "floquet-simulations-srXSFrPT-py3.10",
   "language": "python",
   "name": "python3"
  },
  "language_info": {
   "codemirror_mode": {
    "name": "ipython",
    "version": 3
   },
   "file_extension": ".py",
   "mimetype": "text/x-python",
   "name": "python",
   "nbconvert_exporter": "python",
   "pygments_lexer": "ipython3",
   "version": "3.10.6"
  }
 },
 "nbformat": 4,
 "nbformat_minor": 2
}

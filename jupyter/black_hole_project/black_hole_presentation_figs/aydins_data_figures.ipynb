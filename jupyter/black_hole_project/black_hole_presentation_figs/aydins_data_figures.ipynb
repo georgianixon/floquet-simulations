{
 "cells": [
  {
   "cell_type": "code",
   "execution_count": 1,
   "metadata": {},
   "outputs": [],
   "source": [
    "import pandas as pd\n",
    "from pathlib import Path\n",
    "read_dir = Path().absolute().parent.parent.parent/\"data\"/\"black_hole\"/\"aydin_data\"\n",
    "import numpy as np\n",
    "import matplotlib.pyplot as plt\n",
    "from floquet_simulations.plot_functions import PlotParams\n",
    "fontsize=9\n",
    "PlotParams(fontsize=9)\n",
    "save_dir = Path().absolute().parent.parent.parent/\"figures\"/\"black_hole_pres\"\n"
   ]
  },
  {
   "cell_type": "code",
   "execution_count": 2,
   "metadata": {},
   "outputs": [],
   "source": [
    "df = pd.read_csv(read_dir/\"fig3_a_data.csv\")\n",
    "a_data = pd.read_csv(read_dir/'panel_a_data.txt', sep=\" \", header=None).to_numpy().flatten()\n",
    "a_err = pd.read_csv(read_dir/'panel_a_err.txt', sep=\" \", header=None).to_numpy().flatten()\n",
    "b_data = pd.read_csv(read_dir/'panel_b_data.txt', sep=\" \", header=None).to_numpy().flatten()\n",
    "b_err = pd.read_csv(read_dir/'panel_b_err.txt', sep=\" \", header=None).to_numpy().flatten()\n",
    "c_data = pd.read_csv(read_dir/'panel_c_data.txt', sep=\" \", header=None).to_numpy().flatten()\n",
    "c_err = pd.read_csv(read_dir/'panel_c_err.txt', sep=\" \", header=None).to_numpy().flatten()\n",
    "d_V1 = pd.read_csv(read_dir/'panel_d_V=1.txt', sep=\" \", header=None).to_numpy().flatten()\n",
    "d_Vm1 = pd.read_csv(read_dir/'panel_d_V=-1.txt', sep=\" \", header=None).to_numpy().flatten()\n",
    "d_V2 = pd.read_csv(read_dir/'panel_d_V=2.txt', sep=\" \", header=None).to_numpy().flatten()\n",
    "d_Vm2 = pd.read_csv(read_dir/'panel_d_V=-2.txt', sep=\" \", header=None).to_numpy().flatten()\n",
    "theory_values = pd.read_csv(read_dir/'theory_values.txt', sep=\" \", header=None).to_numpy().flatten()"
   ]
  },
  {
   "cell_type": "code",
   "execution_count": 5,
   "metadata": {},
   "outputs": [
    {
     "data": {
      "image/png": "[encoded data removed]",
      "text/plain": [
       "<Figure size 236.22x236.22 with 1 Axes>"
      ]
     },
     "metadata": {},
     "output_type": "display_data"
    }
   ],
   "source": [
    "figsize = (6/2.54, 6/2.54)\n",
    "marker = \".\"\n",
    "fig, ax = plt.subplots(figsize=figsize)\n",
    "alpha = np.linspace(1,3,len(a_data))/4/np.pi\n",
    "ax.plot(np.linspace(0,0.3,100), np.linspace(0,0.3,100), linewidth=0.7, c=\"0.3\", linestyle=\"--\", label=r\"_nolabel\")\n",
    "ax.errorbar(alpha, a_data, yerr=a_err, fmt=marker, markersize=2,  elinewidth=1,capsize=1.7, c=\"#A91401\", label=r\"$k=0$\")#\"#1565C0\", label=r\"$k=0$\")\n",
    "ax.errorbar(alpha, b_data, yerr=b_err,fmt=marker, markersize=2,  elinewidth=1,capsize=1.7, c=\"#F78320\", label=r\"$k=1$\")\n",
    "ax.errorbar(alpha, c_data, yerr=c_err,fmt=marker,markersize=2,  elinewidth=1,capsize=1.7,  c=\"#006F63\", label=r\"$k=2$\")\n",
    "\n",
    "# plt.errorbar(a, b, yerr=c, fmt=\"o\", color=\"r\")\n",
    "\n",
    "ax.tick_params(axis=\"x\", bottom=True, top=False, labelbottom=True, \n",
    "        labeltop=False, direction = \"in\", length = 3, pad=2)  \n",
    "ax.tick_params(axis=\"y\", left=True, right=False, labelleft=True, \n",
    "        labelright=False, direction = \"in\", length = 3, pad=2)  \n",
    "# ax.plot(dfP.xi0_frac, dfP.absJ23, marker, c=\"#27BED2\", label=r\"$|J_{23}|$\")\n",
    "# ax.plot(dfP.xi0_frac, dfP.absJ31, marker, c=\"#006F63\", label=r\"$|J_{31}|$\")\n",
    "# ax.set_xticks(np.linspace(-1,1,5))\n",
    "# ax.set_xticklabels([ r\"$-\\pi$\", r\"$-\\pi/2$\", r\"$0$\", r\"$\\pi/2$\", r\"$\\pi$\"])\n",
    "# ax.xaxis.set_label_coords(0.5,-0.14)\n",
    "\n",
    "ax.set_ylim([0.06,0.27])\n",
    "ax.set_xlim([0.06,0.27])\n",
    "ax.set_ylabel(r\"$\\tilde{T}_H$\")\n",
    "ax.yaxis.set_label_coords(-0.08,0.53)\n",
    "\n",
    "ax.set_xlabel(r\"$T_H$\")\n",
    "ax.xaxis.set_label_coords(0.5,-0.08)\n",
    "\n",
    "# ax.set_yticks(np.linspace(0, 0.8, 5))\n",
    "# ax.set_title(rf\"$(r_0^1, r_0^2) =({r10},{r20})$, $(\\alpha,\\beta)=({alpha},{beta})$\")\n",
    "leg = ax.legend(loc='upper left', bbox_to_anchor=(0,1), fontsize=fontsize*0.7, prop={'family':'stix'})\n",
    "\n",
    "fig.savefig(save_dir/\"bh_errors_tunnelling.png\", format=\"png\", bbox_inches=\"tight\", pad_inches=0.01, dpi=600)\n",
    "\n",
    "plt.show()"
   ]
  },
  {
   "cell_type": "code",
   "execution_count": 6,
   "metadata": {},
   "outputs": [
    {
     "data": {
      "image/png": "[encoded data removed]",
      "text/plain": [
       "<Figure size 236.22x236.22 with 1 Axes>"
      ]
     },
     "metadata": {},
     "output_type": "display_data"
    }
   ],
   "source": [
    "figsize = (6/2.54, 6/2.54)\n",
    "marker = \"o\"\n",
    "fig, ax = plt.subplots(figsize=figsize)\n",
    "alpha = np.linspace(1,3,len(d_V1))/4/np.pi\n",
    "ax.plot(np.linspace(0,0.3,100), np.linspace(0,0.3,100), linewidth=0.7, c=\"0.3\", linestyle=\"--\", label=r\"_nolabel\")\n",
    "markersize = 4\n",
    "ax.plot(alpha, d_V2, \"*\",markersize=markersize,  c=\"#1565C0\", label=r\"$V = 2$\")\n",
    "ax.plot(alpha, d_V1, \"+\",markersize=markersize,   c=\"#006F63\", label=r\"$V = 1$\")\n",
    "ax.plot(alpha, d_Vm1, \"o\", markersize=markersize,   c=\"#F78320\", label=r\"$V = -1$\")\n",
    "ax.plot(alpha, d_Vm2, \"x\", markersize=markersize,  c=\"#A91401\", label=r\"$V = -2$\")#\"#1565C0\", label=r\"$k=0$\")\n",
    "\n",
    "\n",
    "ax.tick_params(axis=\"x\", bottom=True, top=False, labelbottom=True, \n",
    "        labeltop=False, direction = \"in\", length = 3, pad=2)  \n",
    "ax.tick_params(axis=\"y\", left=True, right=False, labelleft=True, \n",
    "        labelright=False, direction = \"in\", length = 3, pad=2)  \n",
    "# ax.plot(dfP.xi0_frac, dfP.absJ23, marker, c=\"#27BED2\", label=r\"$|J_{23}|$\")\n",
    "# ax.plot(dfP.xi0_frac, dfP.absJ31, marker, c=\"#006F63\", label=r\"$|J_{31}|$\")\n",
    "# ax.set_xticks(np.linspace(-1,1,5))\n",
    "# ax.set_xticklabels([ r\"$-\\pi$\", r\"$-\\pi/2$\", r\"$0$\", r\"$\\pi/2$\", r\"$\\pi$\"])\n",
    "# ax.xaxis.set_label_coords(0.5,-0.14)\n",
    "\n",
    "ax.set_ylim([0.06,0.35])\n",
    "ax.set_xlim([0.06,0.26])\n",
    "ax.set_ylabel(r\"$\\tilde{T}_H$\")\n",
    "ax.yaxis.set_label_coords(-0.14,0.53)\n",
    "\n",
    "ax.set_xlabel(r\"$T_H$\")\n",
    "ax.xaxis.set_label_coords(0.5,-0.08)\n",
    "\n",
    "# ax.set_yticks(np.linspace(0, 0.8, 5))\n",
    "# ax.set_title(rf\"$(r_0^1, r_0^2) =({r10},{r20})$, $(\\alpha,\\beta)=({alpha},{beta})$\")\n",
    "leg = ax.legend(loc='upper left', bbox_to_anchor=(0,1), fontsize=fontsize*0.7, prop={'family':'stix'})\n",
    "\n",
    "fig.savefig(save_dir/\"bh_errors_interactions.png\", format=\"png\", bbox_inches=\"tight\", pad_inches=0.01, dpi=600)\n",
    "\n",
    "plt.show()"
   ]
  },
  {
   "cell_type": "code",
   "execution_count": null,
   "metadata": {},
   "outputs": [],
   "source": []
  },
  {
   "cell_type": "code",
   "execution_count": null,
   "metadata": {},
   "outputs": [],
   "source": []
  }
 ],
 "metadata": {
  "kernelspec": {
   "display_name": "floquet-simulations-srXSFrPT-py3.10",
   "language": "python",
   "name": "python3"
  },
  "language_info": {
   "codemirror_mode": {
    "name": "ipython",
    "version": 3
   },
   "file_extension": ".py",
   "mimetype": "text/x-python",
   "name": "python",
   "nbconvert_exporter": "python",
   "pygments_lexer": "ipython3",
   "version": "3.10.6"
  }
 },
 "nbformat": 4,
 "nbformat_minor": 2
}

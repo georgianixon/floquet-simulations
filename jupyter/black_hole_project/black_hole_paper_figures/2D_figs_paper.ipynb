{
 "cells": [
  {
   "cell_type": "code",
   "execution_count": 124,
   "metadata": {},
   "outputs": [],
   "source": [
    "from floquet_simulations.periodic_functions import Cosine\n",
    "from floquet_simulations.hamiltonians import CreateHFGeneral\n",
    "from floquet_simulations.plot_functions import *\n",
    "from floquet_simulations.generate_gradients import ComputeAValsFromRequiredGradients, GetAValsFromBesselXVals\n",
    "from numpy import pi\n",
    "from scipy.special import jv\n",
    "import math\n",
    "from pathlib import Path\n",
    "import matplotlib.pyplot as plt\n",
    "from itertools import product\n",
    "figsize_hams=(3.9,3.9)\n",
    "fontsize = 9\n",
    "PlotParams(fontsize=fontsize)"
   ]
  },
  {
   "cell_type": "code",
   "execution_count": 106,
   "metadata": {},
   "outputs": [
    {
     "name": "stdout",
     "output_type": "stream",
     "text": [
      "-0.40275939344110157\n",
      "[-47.89493607  47.89493607 -37.59631606  43.64985019 -34.32349258\n",
      "  40.87030974 -31.85271815  38.61378293 -29.75459258  36.63726158\n",
      " -27.8744503   34.8346989  -26.13529312  33.14780788 -24.4915072\n",
      "  31.53964453 -22.91249274  29.98424069 -21.37572669  28.46149788\n",
      " -19.86292407  26.95460528 -18.35792356  25.44785606 -16.84545067]\n"
     ]
    }
   ],
   "source": [
    "Ndiffs = 24\n",
    "ymin = jv(0, 3.8316) \n",
    "print(ymin)\n",
    "tunnellings = np.linspace(-ymin, ymin, Ndiffs) # for linear\n",
    "tunnellings = tunnellings[::-1]\n",
    "#get A vals to get the right gradient\n",
    "omega = 25\n",
    "# print(gradients)\n",
    "drive_style = \"alternating\"\n",
    "\n",
    "bessel_arguments = ComputeAValsFromRequiredGradients(tunnellings)\n",
    "\n",
    "A_vals = GetAValsFromBesselXVals(bessel_arguments, omega, addition_type=drive_style, constant_shift=\"zero centre\") # get actual shaking values\n",
    "N= len(A_vals)\n",
    "print(A_vals)\n",
    "\n",
    "N_Avals = 19\n",
    "A_vals = A_vals[:N_Avals]\n",
    "# _, HF = CreateHFGeneral(Ndiffs+1,\n",
    "#                         [int(i) for i in list(np.linspace(0,Ndiffs,Ndiffs+1))],\n",
    "#                         [Cosine]*(Ndiffs+1),\n",
    "#                         [[i,omega,0,0] for i in A_vals], #a, omega, phi onsite\n",
    "#                         2*pi/omega,\n",
    "#                         circle_boundary = 0\n",
    "#                         )\n",
    "\n",
    "# #make real\n",
    "# if np.all(np.imag(HF))==0:\n",
    "#     print(\"Ham is real\")\n",
    "#     HF =np.real(HF)"
   ]
  },
  {
   "cell_type": "code",
   "execution_count": 107,
   "metadata": {},
   "outputs": [
    {
     "data": {
      "image/png": "[encoded data removed]",
      "text/plain": [
       "<Figure size 287.402x208.661 with 1 Axes>"
      ]
     },
     "metadata": {},
     "output_type": "display_data"
    }
   ],
   "source": [
    "colours = [\"#FF1212\", \"#EB7317\", \"#F7BA00\", \"#F7EB00\", \"#A0F76B\", \"#65EF9A\",\"#5BF3DF\", \"#0F87FF\", \"#0230D9\", \"#9933FF\", \"#FF40F9\", \"#FF458C\", \"#FFCCE0\", \"#FEA764\",\"#FFCB30\", \"#FCF519\", \"#9EFF66\"]\n",
    "fig, ax = plt.subplots(figsize=(7.3/2.54,5.3/2.54))\n",
    "\n",
    "n_avals_plot = 17\n",
    "markerline, stemlines, baseline = ax.stem(range(n_avals_plot),\n",
    "                                           -A_vals[:n_avals_plot], linefmt=':', markerfmt='x',\n",
    "                                           basefmt=\" \"\n",
    ")\n",
    "stemlines.set_linewidth(1)\n",
    "stemlines.set_color(\"0.5\")\n",
    "\n",
    "markerline.set_markersize(0)\n",
    "ax.scatter(range(n_avals_plot), -A_vals[:n_avals_plot], marker = 'x', c=colours, s = 13)\n",
    "\n",
    "plt.axhline(y=0, color='0', linestyle='-', lw=0.5)\n",
    "\n",
    "ax.set_ylabel(r\"$A_l/ (\\kappa J_0)$\", rotation=90)\n",
    "ax.yaxis.set_label_coords(-0.06,0.5)\n",
    "ax.tick_params(axis='both', which='major', pad=1)\n",
    "ax.set_xticks(np.arange(0,n_avals_plot,2))\n",
    "ax.set_xlabel(r\"$l$\")\n",
    "ax.xaxis.set_label_coords(0.53,-0.07)\n",
    "xticks = np.arange(0,n_avals_plot,2)\n",
    "ax.set_xticks(xticks)\n",
    "ax.set_xticklabels([str(i+1) for i in xticks])\n",
    "save_dir = Path().absolute().parent.parent.parent/\"figures\"/\"black_hole_paper\"\n",
    "# save_dir = Path().absolute().parent.parent.parent\n",
    "fig.savefig(save_dir/\"a_vals_alternating_2D.pdf\", format=\"pdf\", bbox_inches=\"tight\", pad_inches=0.01)\n",
    "# fig.savefig(save_dir/\"a_vals_alternating.png\", format=\"png\", bbox_inches=\"tight\", dpi=1080)\n",
    "plt.show()"
   ]
  },
  {
   "cell_type": "markdown",
   "metadata": {},
   "source": [
    "## tunnellings on diagonal"
   ]
  },
  {
   "cell_type": "code",
   "execution_count": 114,
   "metadata": {},
   "outputs": [],
   "source": [
    "tunnellings_diagonal = [jv(0,(A_vals[i] - A_vals[i+1])/omega) for i in range(len(A_vals)-1)]\n",
    "points_diagonal = [( i/2, (i+1)/2) for i in range(18)]\n",
    "r_diagonal = [np.sqrt(x**2 + y**2) for x,y in points_diagonal]\n",
    "r_axes = [i+0.5 for i in np.arange(0,11,1)]\n",
    "A_vals_axes_indicies = [0,1,2,5,6,7,8,9,12,13,14, 15]\n",
    "A_vals_axes = [A_vals[i] for i in A_vals_axes_indicies]\n",
    "tunnellings_axes =  [jv(0,(A_vals_axes[i] - A_vals_axes[i+1])/omega) for i in range(len(A_vals_axes)-1)]"
   ]
  },
  {
   "cell_type": "code",
   "execution_count": 1,
   "metadata": {},
   "outputs": [],
   "source": [
    "points_diagonal = [( i/2, (i+1)/2) for i in range(18)]\n"
   ]
  },
  {
   "cell_type": "code",
   "execution_count": 118,
   "metadata": {},
   "outputs": [
    {
     "data": {
      "image/png": "[encoded data removed]",
      "text/plain": [
       "<Figure size 287.402x208.661 with 1 Axes>"
      ]
     },
     "metadata": {},
     "output_type": "display_data"
    }
   ],
   "source": [
    "# colours_tunnelling_diagonal = [\"#FF1212\", \"#EB7317\", \"#F7BA00\", \"#F7EB00\", \"#A0F76B\", \"#65EF9A\",\"#5BF3DF\", \"#0F87FF\", \"#0230D9\", \"#9933FF\", \"#FF40F9\", \"#FF458C\", \"#FFCCE0\", \"#FEA764\",\"#FFCB30\", \"#FCF519\"]\n",
    "# colours_tunnelling_axes = [\"#FF1212\", \"#EB7317\", \"#F7BA00\", \"#F7EB00\", \"#A0F76B\", \"#65EF9A\",\"#5BF3DF\", \"#0F87FF\", \"#0230D9\", \"#9933FF\", \"0.1\"]\n",
    "\n",
    "colour_axes = \"#FFB69C\"\n",
    "colour_diagonal = \"#9BA2FF\"\n",
    "fig, ax = plt.subplots(figsize=(7.3/2.54,5.3/2.54))\n",
    "plt.axhline(y=0, color='0', linestyle='-', lw=0.5)\n",
    "ax.plot(r_diagonal[:n_avals_plot-1], tunnellings_diagonal[:n_avals_plot-1],c=colour_diagonal, label=r\"stepwise $45^0$\")\n",
    "ax.plot(r_axes, tunnellings_axes,c= colour_axes, label=r\"$y=0$\")\n",
    "\n",
    "ax.scatter(r_diagonal[:n_avals_plot-1], tunnellings_diagonal[:n_avals_plot-1], marker = 'x', c=colour_diagonal, s = 13)\n",
    "ax.scatter(r_axes, tunnellings_axes, marker = 'x', c=colour_axes, s = 13)\n",
    "\n",
    "ax.tick_params(axis='both', which='major', pad=1)\n",
    "ax.set_xlabel(r\"$r_{ij}$\")\n",
    "ax.xaxis.set_label_coords(0.45,-0.05)\n",
    "\n",
    "ax.set_ylabel(r\"$\\kappa_{ij}$\", rotation=0)\n",
    "ax.yaxis.set_label_coords(-0.12,0.47)\n",
    "\n",
    "# xticks = np.arange(0,12,2)\n",
    "# ax.set_xticks(xticks)\n",
    "# ax.set_xticklabels([str(i+1) for i in xticks])\\\n",
    "ax.legend()\n",
    "# fig.savefig(save_dir/\"linear_tunnelling_2D.pdf\", format=\"pdf\", bbox_inches=\"tight\", pad_inches=0.01)\n",
    "plt.show()"
   ]
  },
  {
   "cell_type": "markdown",
   "metadata": {},
   "source": [
    "## plot all tunnelling links"
   ]
  },
  {
   "cell_type": "code",
   "execution_count": 159,
   "metadata": {},
   "outputs": [
    {
     "name": "stdout",
     "output_type": "stream",
     "text": [
      "An Exception occured\n",
      "An Exception occured\n",
      "An Exception occured\n",
      "An Exception occured\n",
      "An Exception occured\n",
      "An Exception occured\n",
      "An Exception occured\n"
     ]
    }
   ],
   "source": [
    "# a_matrix = np.array([[15, 16, 15, 18, 17, 18],\n",
    "#                      [14, 15, 14, 15, 16, 15],\n",
    "#                      [13, 12, 13, 12, 13, 14]\n",
    "#                      ])\n",
    "\n",
    "a_matrix = [[ 0, 1, 2, 5, 6, 7, 8, 9,12,13],\n",
    "                     [ 1, 2, 3, 4, 5, 8, 9,10,22,12],\n",
    "                     [ 2, 3, 4, 5, 6, 7,10, 9,12,13],\n",
    "                     [ 5, 4, 5, 6, 7, 8, 9,12,11,12],\n",
    "                     [ 6, 5, 6, 7, 8, 9,10,11,12,13],\n",
    "                     [ 7, 8, 7, 8, 9,10,11,12,13,14],\n",
    "                     [ 8, 9,10, 9,10,11,12,13,14,15],\n",
    "                     [ 9,10, 9,12,11,12,13,14,15,16],\n",
    "                     [12,11,12,11,12,13,14,15,16,17],\n",
    "                     [13,12,13,12,13,14,15,16,17,18],\n",
    "                     [14,15,14,15,16,15,18,17,18],\n",
    "                     [15,16,15,18,17,18]\n",
    "                     ]\n",
    "\n",
    "tunnelling_list = []\n",
    "for i_y, i_x in product(range(1,12), range(10)):\n",
    "    if i_y > i_x:\n",
    "        \n",
    "        try:\n",
    "            tunnelling_right =  jv(0,(A_vals[a_matrix[i_y][i_x]] - A_vals[a_matrix[i_y][i_x+1]])/omega) \n",
    "            tunnelling_down =  jv(0,(A_vals[a_matrix[i_y][i_x]] - A_vals[a_matrix[i_y-1][i_x]])/omega) \n",
    "\n",
    "            r_right = np.sqrt( (i_x+0.5)**2 + (i_y)**2)\n",
    "            r_down = np.sqrt( (i_x)**2 + (i_y-0.5)**2)\n",
    "\n",
    "            tunnelling_list.append((tunnelling_right, r_right))\n",
    "            tunnelling_list.append((tunnelling_down, r_down))\n",
    "        except:\n",
    "            print(\"An Exception occured\")\n",
    "        # print(a_matrix[i_y,i_x], a_matrix[i_y,i_x+1], (a_matrix[i_y, i_x] - a_matrix[i_y,i_x+1])/omega, tunnelling_right)\n",
    "\n",
    "tunnelling_list = [(i,j) for i,j in tunnelling_list if j<11.3]"
   ]
  },
  {
   "cell_type": "code",
   "execution_count": 169,
   "metadata": {},
   "outputs": [
    {
     "data": {
      "image/png": "[encoded data removed]",
      "text/plain": [
       "<Figure size 287.402x208.661 with 1 Axes>"
      ]
     },
     "metadata": {},
     "output_type": "display_data"
    }
   ],
   "source": [
    "colour_axes = \"#FFB69C\"\n",
    "colour_diagonal = \"#9BA2FF\"\n",
    "\n",
    "tunnellings, r_vals = list(zip(*tunnelling_list))\n",
    "fig, ax = plt.subplots(figsize=(7.3/2.54,5.3/2.54))\n",
    "plt.axhline(y=0, color='0', linestyle='-', lw=0.5)\n",
    "ax.scatter(r_vals, tunnellings, marker= '.',  c=\"0.86\", s = 13, label=\"all links\")\n",
    "\n",
    "ax.plot(r_diagonal[:n_avals_plot-1], tunnellings_diagonal[:n_avals_plot-1],c=colour_diagonal, label=r\"stepwise $45^0$\")\n",
    "ax.plot(r_axes, tunnellings_axes,c= colour_axes, label=r\"$y=0$\")\n",
    "\n",
    "ax.scatter(r_diagonal[:n_avals_plot-1], tunnellings_diagonal[:n_avals_plot-1], marker = 'x', c=colour_diagonal, s = 13)\n",
    "ax.scatter(r_axes, tunnellings_axes, marker = 'x', c=colour_axes, s = 13)\n",
    "\n",
    "ax.tick_params(axis='both', which='major', pad=1)\n",
    "\n",
    "ax.set_ylabel(r\"$\\kappa_{ij}$\", rotation=0)\n",
    "ax.yaxis.set_label_coords(-0.12,0.44)\n",
    "\n",
    "\n",
    "ax.set_xlabel(r\"$r_{ij}$\")\n",
    "ax.xaxis.set_label_coords(0.45,-0.05)\n",
    "# ax.set_xticks(np.arange(0,11))\n",
    "\n",
    "ax.legend()\n",
    "\n",
    "\n",
    "fig.savefig(save_dir/\"linear_tunnelling_2D.pdf\", format=\"pdf\", bbox_inches=\"tight\", pad_inches=0.01)\n",
    "plt.show()"
   ]
  },
  {
   "cell_type": "code",
   "execution_count": null,
   "metadata": {},
   "outputs": [],
   "source": []
  }
 ],
 "metadata": {
  "kernelspec": {
   "display_name": "floquet-simulations-srXSFrPT-py3.10",
   "language": "python",
   "name": "python3"
  },
  "language_info": {
   "codemirror_mode": {
    "name": "ipython",
    "version": 3
   },
   "file_extension": ".py",
   "mimetype": "text/x-python",
   "name": "python",
   "nbconvert_exporter": "python",
   "pygments_lexer": "ipython3",
   "version": "3.10.6"
  }
 },
 "nbformat": 4,
 "nbformat_minor": 2
}

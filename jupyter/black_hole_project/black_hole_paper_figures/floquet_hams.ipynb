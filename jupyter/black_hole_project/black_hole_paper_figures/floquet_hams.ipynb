{
 "cells": [
  {
   "cell_type": "code",
   "execution_count": 1,
   "metadata": {},
   "outputs": [],
   "source": [
    "from floquet_simulations.periodic_functions import Cosine\n",
    "from floquet_simulations.hamiltonians import CreateHFGeneral\n",
    "from floquet_simulations.plot_functions import *\n",
    "from floquet_simulations.generate_gradients import ComputeAValsFromRequiredGradients, GetAValsFromBesselXVals\n",
    "from numpy import pi\n",
    "from scipy.special import jv\n",
    "import math\n",
    "from pathlib import Path\n",
    "import matplotlib.pyplot as plt\n",
    "figsize_hams=(3.9,3.9)\n",
    "fontsize = 9\n",
    "PlotParams(fontsize=fontsize)"
   ]
  },
  {
   "cell_type": "code",
   "execution_count": null,
   "metadata": {},
   "outputs": [],
   "source": []
  },
  {
   "attachments": {},
   "cell_type": "markdown",
   "metadata": {},
   "source": [
    "### Get Ham from gradient"
   ]
  },
  {
   "cell_type": "code",
   "execution_count": 2,
   "metadata": {},
   "outputs": [
    {
     "name": "stdout",
     "output_type": "stream",
     "text": [
      "-0.35\n",
      "[-41.58129882  41.58129882 -32.68924589  35.24080678 -27.3405605\n",
      "  30.41640246 -22.81620936  26.05459543 -18.51474724]\n"
     ]
    },
    {
     "name": "stdout",
     "output_type": "stream",
     "text": [
      "Ham is real\n"
     ]
    }
   ],
   "source": [
    "Ndiffs = 8\n",
    "ymin = -0.35#jv(0, 3.8316) \n",
    "print(ymin)\n",
    "tunnellings = np.linspace(-ymin, ymin, Ndiffs) # for linear\n",
    "tunnellings = tunnellings[::-1]\n",
    "#get A vals to get the right gradient\n",
    "omega = 25\n",
    "# print(gradients)\n",
    "drive_style = \"alternating\"\n",
    "\n",
    "xvals = ComputeAValsFromRequiredGradients(tunnellings)\n",
    "A_vals = GetAValsFromBesselXVals(xvals, omega, addition_type=drive_style, constant_shift=\"zero centre\") # get actual shaking values\n",
    "N= len(A_vals)\n",
    "print(A_vals)\n",
    "\n",
    "_, HF = CreateHFGeneral(Ndiffs+1,\n",
    "                        [int(i) for i in list(np.linspace(0,Ndiffs,Ndiffs+1))],\n",
    "                        [Cosine]*(Ndiffs+1),\n",
    "                        [[i,omega,0,0] for i in A_vals], #a, omega, phi onsite\n",
    "                        2*pi/omega,\n",
    "                        circle_boundary = 0\n",
    "                        )\n",
    "\n",
    "#make real\n",
    "if np.all(np.imag(HF))==0:\n",
    "    print(\"Ham is real\")\n",
    "    HF =np.real(HF)"
   ]
  },
  {
   "cell_type": "code",
   "execution_count": 3,
   "metadata": {},
   "outputs": [
    {
     "name": "stdout",
     "output_type": "stream",
     "text": [
      "0.40000000000000013\n",
      "-0.05000000000000002 0.05000000000000002 0.15000000000000005\n",
      "[-0.35 -0.25 -0.15 -0.05  0.05  0.15  0.25  0.35]\n",
      "-0.35000000000000003\n",
      "J_1 =  -0.3500000000000001\n",
      "J_2 =  -0.2500000000000001\n"
     ]
    }
   ],
   "source": [
    "alpha = [tunnellings[i+1]-tunnellings[i] for i in range(len(tunnellings)-1)][1]*4\n",
    "print(alpha)\n",
    "y_lh = -alpha/8\n",
    "y_lh1 = alpha/8\n",
    "y_lh2 = 3*alpha/8\n",
    "print(y_lh, y_lh1, y_lh2)\n",
    "print(tunnellings)\n",
    "print(0.4*(1-4-0.5)/4)\n",
    "print(\"J_1 = \", alpha*(1 - 5 + 0.5)/4)\n",
    "print(\"J_2 = \", alpha*(2 - 5 + 0.5)/4)"
   ]
  },
  {
   "cell_type": "code",
   "execution_count": 5,
   "metadata": {},
   "outputs": [
    {
     "data": {
      "image/png": "[encoded data removed]",
      "text/plain": [
       "<Figure size 169.291x169.291 with 1 Axes>"
      ]
     },
     "metadata": {},
     "output_type": "display_data"
    }
   ],
   "source": [
    "\n",
    "fig, ax = plt.subplots(figsize=(4.3/2.54,4.3/2.54))\n",
    "ax.plot(range(N), A_vals, 'x', c=\"#1565C0\", ms = 3)\n",
    "markerline, stemlines, baseline = ax.stem(range(N),\n",
    "                                           A_vals, linefmt=':', markerfmt='x',\n",
    "                                           basefmt=\" \"\n",
    ")\n",
    "stemlines.set_linewidth(1)\n",
    "stemlines.set_color(\"0.5\")\n",
    "\n",
    "markerline.set_markersize(3)\n",
    "plt.axhline(y=0, color='0', linestyle='-', lw=0.5)\n",
    "\n",
    "ax.set_ylabel(r\"$A_l/J_0$\", rotation=90)\n",
    "ax.yaxis.set_label_coords(-0.11,0.5)\n",
    "ax.tick_params(axis='both', which='major', pad=1)\n",
    "ax.set_xticks(np.arange(0,N,2))\n",
    "ax.set_xlabel(r\"$l$\")\n",
    "ax.xaxis.set_label_coords(0.5,-0.12)\n",
    "xticks = np.arange(0,N,2)\n",
    "ax.set_xticks(xticks)\n",
    "ax.set_xticklabels([str(i+1) for i in xticks])\n",
    "save_dir = Path().absolute().parent.parent.parent/\"figures\"/\"black_hole_paper\"\n",
    "# save_dir = Path().absolute().parent.parent.parent\n",
    "fig.savefig(save_dir/\"a_vals_alternating.pdf\", format=\"pdf\", bbox_inches=\"tight\", pad_inches=0.01)\n",
    "# fig.savefig(save_dir/\"a_vals_alternating.png\", format=\"png\", bbox_inches=\"tight\", dpi=1080)\n",
    "plt.show()"
   ]
  },
  {
   "cell_type": "code",
   "execution_count": 5,
   "metadata": {},
   "outputs": [
    {
     "data": {
      "image/png": "[encoded data removed]",
      "text/plain": [
       "<Figure size 169.291x169.291 with 1 Axes>"
      ]
     },
     "metadata": {},
     "output_type": "display_data"
    }
   ],
   "source": [
    "fig, ax = plt.subplots(figsize=(4.3/2.54,4.3/2.54))\n",
    "plt.axhline(y=0, color='0', linestyle='-', lw=0.5)\n",
    "t = np.linspace(0,2*pi, 200)\n",
    "ax.plot(t, np.sin(t), c=\"#1565C0\", lw = 0.9)\n",
    "# markerline, stemlines, baseline = ax.stem([pi/2],\n",
    "#                                            [1], markerfmt=\"x\", linefmt='-',\n",
    "#                                            basefmt=\" \"\n",
    "# )\n",
    "# stemlines.set_linewidth(1)\n",
    "# stemlines.set_color(\"0.5\")\n",
    "# plt.setp(markerline, 'color', plt.getp(stemlines,'color'))\n",
    "# markerline.set_markersize(3)\n",
    "\n",
    "# ax.quiver([pi/2, 3*pi/2], [0, 0], [0, 0], [1, -1], scale=1, scale_units = 'y', color=\"#1565C0\")\n",
    "ax.tick_params(axis='both', which='major', pad=1.2)\n",
    "ax.set_ylabel(r\"$\\epsilon_l(t)$\")\n",
    "ax.yaxis.set_label_coords(-0.12,0.5)\n",
    "ax.set_yticks([0,1])\n",
    "ax.set_yticklabels([r\"$0$\", r\"$A_l$\"])\n",
    "ax.set_ylim([-1.3, 1.3])\n",
    "ax.set_xticks([0, 2*pi])\n",
    "ax.set_xticklabels([r\"$0$\", r\"$T$\"])\n",
    "ax.set_xlabel(r\"$t$\")\n",
    "ax.xaxis.set_label_coords(1.03,0.53)\n",
    "ax.set_xlim([0,2.03*pi])\n",
    "\n",
    "\n",
    "save_dir = Path().absolute().parent.parent.parent/\"figures\"/\"black_hole_paper\"\n",
    "fig.savefig(save_dir/\"epsilon_l(t).pdf\", format=\"pdf\", bbox_inches=\"tight\", pad_inches=0.01)\n",
    "plt.show()"
   ]
  },
  {
   "cell_type": "code",
   "execution_count": null,
   "metadata": {},
   "outputs": [],
   "source": [
    "X = np.arange(-10, 10, 1)\n",
    "Y = np.arange(-10, 10, 1)\n",
    "U, V = np.meshgrid(X, Y)"
   ]
  },
  {
   "cell_type": "code",
   "execution_count": null,
   "metadata": {},
   "outputs": [],
   "source": []
  },
  {
   "cell_type": "code",
   "execution_count": null,
   "metadata": {},
   "outputs": [],
   "source": []
  },
  {
   "cell_type": "code",
   "execution_count": 4,
   "metadata": {},
   "outputs": [
    {
     "data": {
      "image/png": "[encoded data removed]",
      "text/plain": [
       "<Figure size 169.291x169.291 with 1 Axes>"
      ]
     },
     "metadata": {},
     "output_type": "display_data"
    }
   ],
   "source": [
    "# plot gradient\n",
    "# '#006F63', \"#FFFFFF\", '#F78320\n",
    "fig, ax = plt.subplots(figsize=(4.3/2.54,4.3/2.54))\n",
    "plt.axhline(y=0, color='0', linestyle='-', lw=0.5)\n",
    "y = [np.round(-HF[i,i+1], 3) for i in range(N-1)]\n",
    "x = list(range(0, N-1))\n",
    "plt.plot(x, tunnellings, \n",
    "        #  label=r\"$10 \\> \\tanh(0.1*(i- nh- 0.5))/(4*0.1)$\"\n",
    "        label = \"target\",\n",
    "         c=\"#F78320\")\n",
    "\n",
    "ax.plot(range(N-1), y, 'x', label = r\"Floquet\", c=\"#1565C0\", ms = 3)\n",
    "ax.yaxis.set_label_coords(-0.11,0.5)\n",
    "ax.tick_params(axis='both', which='major', pad=0.4)\n",
    "ax.set_yticks([-0.4,0,0.4])\n",
    "ax.set_yticklabels([r\"$-0.4$\", r\"$0$\", r\"$0.4$\"])\n",
    "ax.set_xlim([-0.1,7.1])\n",
    "ax.set_xlabel(r\"$l$\")\n",
    "ax.xaxis.set_label_coords(0.5,-0.12)\n",
    "ax.set_ylabel(r\"$\\kappa_{l}/\\kappa$\", labelpad=-11)\n",
    "ax.set_ylim([-0.41, 0.41])\n",
    "xticks = np.arange(0,N-1,2)\n",
    "ax.set_xticks(xticks)\n",
    "ax.set_xticklabels([str(i+1) for i in xticks])\n",
    "# plt.legend(loc=\"upper right\", bbox_to_anchor=(1.1, 2))\n",
    "save_dir = Path().absolute().parent.parent.parent/\"figures\"/\"black_hole_paper\"/\"tunnellings_alternating.pdf\"\n",
    "# fig.savefig(save_dir, format=\"pdf\", bbox_inches=\"tight\", pad_inches=0.01)\n",
    "plt.show()\n"
   ]
  },
  {
   "cell_type": "code",
   "execution_count": 18,
   "metadata": {},
   "outputs": [],
   "source": []
  },
  {
   "cell_type": "code",
   "execution_count": 34,
   "metadata": {},
   "outputs": [
    {
     "data": {
      "image/png": "[encoded data removed]",
      "text/plain": [
       "<Figure size 70.8661x70.8661 with 1 Axes>"
      ]
     },
     "metadata": {},
     "output_type": "display_data"
    }
   ],
   "source": [
    "# plot gradient\n",
    "# '#006F63', \"#FFFFFF\", '#F78320\n",
    "fig, ax = plt.subplots(figsize=(1.8/2.54,1.8/2.54))\n",
    "\n",
    "plt.axhline(y=0, color='0', linestyle='-', lw=0.5)\n",
    "y = [np.round(-HF[i,i+1], 3) for i in range(N-1)]\n",
    "x = list(range(0, N-1))\n",
    "plt.plot(x, tunnellings, \n",
    "        #  label=r\"$10 \\> \\tanh(0.1*(i- nh- 0.5))/(4*0.1)$\"\n",
    "        label = \"target\",\n",
    "         c=\"#F78320\")\n",
    "ax.plot(range(N-1), y, 'x', label = r\"Floquet\", c=\"#1565C0\", ms = 3)\n",
    "\n",
    "ax.yaxis.set_label_coords(-0.21,0.5)\n",
    "ax.set_ylabel(r\"$\\kappa_{l}/\\kappa$\")\n",
    "ax.tick_params(axis='both', which='major', pad=0.4)\n",
    "ax.set_yticks([-0.4,0,0.4])\n",
    "ax.set_ylim([-0.41, 0.41])\n",
    "\n",
    "ax.xaxis.set_label_coords(0.44,-0.18)\n",
    "ax.set_yticklabels([r\"$-0.4$\", r\"$0$\", r\"$0.4$\"])\n",
    "ax.set_xlim([-0.1,7.1])\n",
    "ax.set_xlabel(r\"$l$\")\n",
    "\n",
    "\n",
    "\n",
    "xticks = np.arange(0,N-1,2)\n",
    "ax.set_xticks(xticks)\n",
    "ax.set_xticklabels([str(i+1) for i in xticks])\n",
    "# plt.legend(loc=\"upper right\", bbox_to_anchor=(1.1, 2))\n",
    "save_dir = Path().absolute().parent.parent.parent/\"figures\"/\"black_hole_paper\"/\"tunnellings_alternating_inset.pdf\"\n",
    "fig.savefig(save_dir, format=\"pdf\", bbox_inches=\"tight\", pad_inches=0.01)\n",
    "plt.show()\n"
   ]
  },
  {
   "cell_type": "code",
   "execution_count": 22,
   "metadata": {},
   "outputs": [],
   "source": [
    "fontsize = 9\n",
    "PlotParams(fontsize=fontsize)"
   ]
  },
  {
   "cell_type": "code",
   "execution_count": 25,
   "metadata": {},
   "outputs": [
    {
     "name": "stdout",
     "output_type": "stream",
     "text": [
      "-0.3440989 0.349358\n"
     ]
    },
    {
     "data": {
      "image/png": "[encoded data removed]",
      "text/plain": [
       "<Figure size 184.252x184.252 with 2 Axes>"
      ]
     },
     "metadata": {},
     "output_type": "display_data"
    }
   ],
   "source": [
    "from mpl_toolkits.axes_grid1.inset_locator import inset_axes\n",
    "\n",
    "colourbar_min = np.min(np.real(HF))\n",
    "colourbar_max = np.max(np.real(HF))\n",
    "print(colourbar_min, colourbar_max)\n",
    "# plt.rc('text.latex', preamble=r'\\usepackage{amsmath,nicefrac,xfrac}')\n",
    "xticks = list(np.arange(0,N,2))\n",
    "ham_plot_dir = Path().absolute().parent.parent.parent/\"figures\"/\"black_hole_paper\"/\"stroboscopic_ham.pdf\"\n",
    "\n",
    "figsize = (4.68,4.68)\n",
    "data_cmap_lims = (-0.4, 0.4); colourbar_cmap_lims=(-0.4,0.4); colourbar_ticks = np.arange(-0.4,0.6,0.4)\n",
    "\n",
    "norm = mpl.colors.Normalize(vmin=data_cmap_lims[0], vmax=data_cmap_lims[1])\n",
    "cmap = LinearSegmentedColormap.from_list('custom hamiltonians', ['#006F63', \"#FFFFFF\", '#F78320'], N=256)\n",
    "cm_unit = 1/2.54\n",
    "fig, ax = plt.subplots(constrained_layout=True, \n",
    "                       figsize=(figsize[0]*cm_unit, figsize[1]*cm_unit))\n",
    "ax.tick_params(axis='both', which='major', pad=1)\n",
    "im = ax.matshow(np.real(HF), interpolation='none', cmap=cmap,  norm=norm)\n",
    "ax.set_title( r\"$ \\left[H_{S}^{t_0}\\right]_{l,l'} /(\\kappa J_0)$\")\n",
    "ax.tick_params(axis=\"x\", bottom=True, top=False, labelbottom=True, \n",
    "  labeltop=False)  \n",
    "ax.set_xlabel(r'$l$')\n",
    "ax.set_ylabel(r\"$l'$\", rotation=0, labelpad=2)#, fontsize=13.2)\n",
    "ax.set_xticks(xticks)\n",
    "ax.set_yticks(xticks)\n",
    "\n",
    "ax.set_xticklabels([str(i+1) for i in xticks])\n",
    "ax.set_yticklabels([str(i+1) for i in xticks])\n",
    "ax.xaxis.set_label_coords(0.5,-0.12)\n",
    "\n",
    "# divider = make_axes_locatable(ax)\n",
    "# cax = divider.append_axes('upper right', size=f\"7.5%\", pad=0.03)\n",
    "\n",
    "new_norm = mpl.colors.Normalize(vmin=colourbar_cmap_lims[0], vmax=colourbar_cmap_lims[1])\n",
    "new_cmap = truncate_colormap(cmap, (colourbar_cmap_lims[0]-data_cmap_lims[0])/(data_cmap_lims[1] - data_cmap_lims[0]), (colourbar_cmap_lims[1]-data_cmap_lims[0])/(data_cmap_lims[1] - data_cmap_lims[0]))\n",
    "\n",
    "axins = inset_axes(\n",
    "    ax,\n",
    "    width=\"5%\",  # width: 5% of parent_bbox width\n",
    "    height=\"50%\",  # height: 50%\n",
    "    loc=\"lower left\",\n",
    "    bbox_to_anchor=(0.9, 0.6, 1, 0.7),\n",
    "    bbox_transform=ax.transAxes,\n",
    "    borderpad=0,\n",
    ")\n",
    "# axins.xaxis.set_ticks_position(\"bottom\")\n",
    "cbar = fig.colorbar(mpl.cm.ScalarMappable(norm=new_norm, cmap=new_cmap), cax=axins, ticks=colourbar_ticks, ticklocation=\"left\")\n",
    "# cbar.ax.set_label_position('left')\n",
    "\n",
    "# cbar = fig.colorbar(mpl.cm.ScalarMappable(norm=new_norm, cmap=new_cmap), cax=cax, ticks = colourbar_ticks)\n",
    "cbar.ax.tick_params(labelsize=7, pad=0)\n",
    "fig.savefig(ham_plot_dir, format=\"pdf\", bbox_inches=\"tight\",  pad_inches=0)\n",
    "\n",
    "plt.show()\n"
   ]
  },
  {
   "cell_type": "code",
   "execution_count": null,
   "metadata": {},
   "outputs": [],
   "source": [
    "print()"
   ]
  },
  {
   "cell_type": "code",
   "execution_count": null,
   "metadata": {},
   "outputs": [],
   "source": [
    "import matplotlib.pyplot as plt\n",
    "from mpl_toolkits.axes_grid1.inset_locator import inset_axes\n",
    "\n",
    "fig, (ax1, ax2) = plt.subplots(1, 2, figsize=[6, 3])\n",
    "\n",
    "im1 = ax1.imshow([[1, 2], [2, 3]])\n",
    "axins1 = inset_axes(\n",
    "    ax1,\n",
    "    width=\"5%\",  # width: 50% of parent_bbox width\n",
    "    height=\"50%\",  # height: 5%\n",
    "    loc=\"upper right\",\n",
    ")\n",
    "axins1.xaxis.set_ticks_position(\"bottom\")\n",
    "fig.colorbar(im1, cax=axins1, orientation=\"vertical\", ticks=[1, 2, 3])\n",
    "\n",
    "im = ax2.imshow([[1, 2], [2, 3]])\n",
    "axins = inset_axes(\n",
    "    ax2,\n",
    "    width=\"5%\",  # width: 5% of parent_bbox width\n",
    "    height=\"50%\",  # height: 50%\n",
    "    loc=\"upper left\",\n",
    "    bbox_to_anchor=(0.8, 0., 1, 1),\n",
    "    bbox_transform=ax2.transAxes,\n",
    "    borderpad=0,\n",
    ")\n",
    "fig.colorbar(im, cax=axins, ticks=[1, 2, 3])\n",
    "\n",
    "plt.show()"
   ]
  },
  {
   "cell_type": "code",
   "execution_count": null,
   "metadata": {},
   "outputs": [],
   "source": [
    "from numpy import exp\n",
    "print(exp(-80))\n",
    "print(exp(-80))\n",
    "print(exp(-80))\n"
   ]
  },
  {
   "cell_type": "code",
   "execution_count": null,
   "metadata": {},
   "outputs": [],
   "source": []
  },
  {
   "cell_type": "code",
   "execution_count": null,
   "metadata": {},
   "outputs": [],
   "source": [
    "# fig, (ax1, ax2, ax3) = plt.subplots(1, 3, figsize=(3*4/2.54, 4/2.54))\n",
    "# fig.suptitle('Horizontally stacked subplots')\n",
    "# ax1.plot(x, y)\n",
    "# ax2.plot(x, -y)\n",
    "# ax3.plot()"
   ]
  },
  {
   "cell_type": "code",
   "execution_count": null,
   "metadata": {},
   "outputs": [],
   "source": [
    "cm_unit = 1/2.54\n",
    "fig, (ax1, ax2, ax3) = plt.subplots(nrows=1, ncols=3, constrained_layout=True, \n",
    "                            figsize=(15.6*cm_unit, 5.2*cm_unit))\n",
    "# fig, (ax1, ax2, ax3) = plt.subplots(nrows=1, ncols=4, constrained_layout=True, \n",
    "#                             figsize=(12*cm_unit, 4*cm_unit))\n",
    "ax1.plot(range(N), A_vals, '.')\n",
    "ax1.set_ylabel(r\"$A_l$\", rotation=0)\n",
    "ax1.set_xticks(np.arange(0,N,2))\n",
    "ax1.set_xlabel(r\"$l$\")\n",
    "xticks = np.arange(0,N,2)\n",
    "ax1.set_xticks(xticks)\n",
    "ax1.set_xticklabels([str(i+1) for i in xticks])\n",
    "\n",
    "colourbar_pad=0.07; colourbar_size_percentage=6.5, \n",
    "axes_tick_pos=xticks; axes_tick_labels=[str(i+1) for i in xticks];title_labelpad=10\n",
    "data_cmap_lims = (-0.5, 0.5); colourbar_ticks = np.arange(-0.5,0.6,0.5)\n",
    "norm = mpl.colors.Normalize(vmin=data_cmap_lims[0], vmax=data_cmap_lims[1])\n",
    "cmap = LinearSegmentedColormap.from_list('custom hamiltonians', ['#006F63', \"#FFFFFF\", '#F78320'], N=256)\n",
    "ax2.matshow(np.real(HF), interpolation='none', cmap=cmap,  norm=norm)\n",
    "ax2.set_title( r'$ \\left[H_{S}^{t_0}\\right]_{i,j} /J$', pad=title_labelpad)\n",
    "ax2.tick_params(axis=\"x\", bottom=True, top=False, labelbottom=True, \n",
    "  labeltop=False)  \n",
    "ax2.set_xlabel('$i$')\n",
    "ax2.set_ylabel('$j$', rotation=0, labelpad=10)\n",
    "ax2.set_xticks(axes_tick_pos)\n",
    "ax2.set_yticks(axes_tick_pos)\n",
    "ax2.set_xticklabels(axes_tick_labels)\n",
    "ax2.set_yticklabels(axes_tick_labels)\n",
    "\n",
    "\n",
    "ax2.matshow(np.real(HF), interpolation='none', cmap=cmap,  norm=norm)\n",
    "ax2.set_title( r\"$ \\left[H_{S}^{t_0}\\right]_{l,l'} /J$\", pad=title_labelpad)\n",
    "ax2.tick_params(axis=\"x\", bottom=True, top=False, labelbottom=True, \n",
    "  labeltop=False)  \n",
    "ax2.set_xlabel('$l$')\n",
    "ax2.set_ylabel(\"$l'$\", rotation=0, labelpad=10)\n",
    "ax2.set_xticks(axes_tick_pos)\n",
    "ax2.set_yticks(axes_tick_pos)\n",
    "ax2.set_xticklabels(axes_tick_labels)\n",
    "ax2.set_yticklabels(axes_tick_labels)\n",
    "divider = make_axes_locatable(ax2)\n",
    "cax = divider.append_axes('right', size=f\"5%\", pad=0.1)\n",
    "fig.colorbar(mpl.cm.ScalarMappable(norm=norm, cmap=cmap), cax=cax, ticks = np.arange(-1,1.2,0.2))\n",
    "       \n",
    "\n",
    "\n",
    "# divider = make_axes_locatable(ax2)\n",
    "# cax = divider.append_axes('right', size=f\"{colourbar_size_percentage}%\", pad=colourbar_pad)\n",
    "# fig.colorbar(mpl.cm.ScalarMappable(norm=norm, cmap=cmap), cax=cax, ticks = colourbar_ticks)\n",
    "    \n",
    "\n",
    "y = [np.round(-HF[i,i+1], 3) for i in range(N-1)]\n",
    "ax3.plot(range(N-1), y, '.', label = r\"Floquet\")\n",
    "ax3.plot(range(N-1), gradients, \n",
    "        #  label=r\"$10 \\> \\tanh(0.1*(i- nh- 0.5))/(4*0.1)$\"\n",
    "        label = \"target\"\n",
    "         )\n",
    "ax3.set_xlabel(r\"$l$\")\n",
    "ax3.set_ylabel(r\"$J_{l, l+1}/J$\", rotation=90, labelpad=2)\n",
    "ax3.set_ylim([-0.41, 0.41])\n",
    "xticks = np.arange(0,N-1,2)\n",
    "ax3.set_xticks(xticks)\n",
    "ax3.set_xticklabels([str(i+1) for i in xticks])\n",
    "# ax3.legend(loc='center left', bbox_to_anchor=(1, 0.5))\n",
    "# save_dir = Path().absolute().parent.parent/\"figures\"/\"black_hole_paper\"/\"tunnellings_alternating.pdf\"\n",
    "# fig.savefig(save_dir, format=\"pdf\", bbox_inches=\"tight\")\n",
    "\n",
    "save_dir = Path().absolute().parent.parent/\"figures\"/\"black_hole_paper\"/f\"floquet_sequence_accumulative_omega={omega}_small.pdf\"\n",
    "# fig.savefig(save_dir, format=\"pdf\", bbox_inches=\"tight\")\n",
    "plt.show()\n"
   ]
  },
  {
   "cell_type": "code",
   "execution_count": null,
   "metadata": {},
   "outputs": [],
   "source": [
    "print(A_vals/(A_vals[3]))"
   ]
  },
  {
   "cell_type": "code",
   "execution_count": null,
   "metadata": {},
   "outputs": [],
   "source": [
    "from numpy import tanh\n",
    "j_list = np.linspace(-10, 10, 100)\n",
    "jh = 5\n",
    "d = 1\n",
    "plt.plot(j_list, [tanh(d*(j-jh)) for j in j_list], 'x')\n",
    "plt.show()"
   ]
  },
  {
   "cell_type": "code",
   "execution_count": null,
   "metadata": {},
   "outputs": [],
   "source": []
  }
 ],
 "metadata": {
  "kernelspec": {
   "display_name": "floquet-simulations-srXSFrPT-py3.10",
   "language": "python",
   "name": "python3"
  },
  "language_info": {
   "codemirror_mode": {
    "name": "ipython",
    "version": 3
   },
   "file_extension": ".py",
   "mimetype": "text/x-python",
   "name": "python",
   "nbconvert_exporter": "python",
   "pygments_lexer": "ipython3",
   "version": "3.10.6"
  },
  "orig_nbformat": 4
 },
 "nbformat": 4,
 "nbformat_minor": 2
}

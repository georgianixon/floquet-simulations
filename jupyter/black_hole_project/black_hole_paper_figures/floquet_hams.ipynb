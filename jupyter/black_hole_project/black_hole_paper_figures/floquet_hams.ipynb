{
 "cells": [
  {
   "cell_type": "code",
   "execution_count": 2,
   "metadata": {},
   "outputs": [],
   "source": [
    "from floquet_simulations.periodic_functions import Cosine\n",
    "from floquet_simulations.hamiltonians import CreateHFGeneral\n",
    "from floquet_simulations.plot_functions import *\n",
    "from floquet_simulations.generate_gradients import ComputeAValsFromRequiredGradients, GetAValsFromBesselXVals\n",
    "from numpy import pi\n",
    "from scipy.special import jv\n",
    "import math\n",
    "from pathlib import Path\n",
    "import matplotlib.pyplot as plt\n",
    "figsize_hams=(3.9,3.9)\n",
    "fontsize = 9\n",
    "PlotParams(fontsize=fontsize)"
   ]
  },
  {
   "cell_type": "code",
   "execution_count": 18,
   "metadata": {},
   "outputs": [],
   "source": [
    "# tanh gradient\n",
    "# N = 40\n",
    "# alpha = 10\n",
    "# d = 0.1\n",
    "# nh = N/2\n",
    "# ymin = jv(0, 3.8316)\n",
    "# kn = np.zeros(N)\n",
    "# for i in range(N):\n",
    "#     kn[i] = alpha*math.tanh(d*(i- nh- 0.5))/4/d\n",
    "# knmax = np.max(np.abs(kn))\n",
    "# gradients = kn/knmax*ymin\n",
    "\n",
    "# plt.plot(range(N), -gradients)\n",
    "# plt.show()\n"
   ]
  },
  {
   "attachments": {},
   "cell_type": "markdown",
   "metadata": {},
   "source": [
    "### Get Ham from gradient"
   ]
  },
  {
   "cell_type": "code",
   "execution_count": 3,
   "metadata": {},
   "outputs": [
    {
     "name": "stdout",
     "output_type": "stream",
     "text": [
      "-0.40275939344110157\n",
      "[-12.83046361  29.46284312 -17.78481717  34.45130448 -22.95627295\n",
      "  40.00619815 -29.24459932  47.89493607 -47.89493607]\n"
     ]
    },
    {
     "name": "stdout",
     "output_type": "stream",
     "text": [
      "Ham is real\n"
     ]
    }
   ],
   "source": [
    "Ndiffs = 8\n",
    "ymin = jv(0, 3.8316) \n",
    "print(ymin)\n",
    "gradients = np.linspace(-ymin, ymin, Ndiffs) # for linear\n",
    "#get A vals to get the right gradient\n",
    "omega = 25\n",
    "# print(gradients)\n",
    "drive_style = \"alternating\"\n",
    "\n",
    "xvals = ComputeAValsFromRequiredGradients(gradients)\n",
    "A_vals = GetAValsFromBesselXVals(xvals, omega, addition_type=drive_style, constant_shift=\"zero centre\") # get actual shaking values\n",
    "N= len(A_vals)\n",
    "print(A_vals)\n",
    "\n",
    "_, HF = CreateHFGeneral(Ndiffs+1,\n",
    "                        [int(i) for i in list(np.linspace(0,Ndiffs,Ndiffs+1))],\n",
    "                        [Cosine]*(Ndiffs+1),\n",
    "                        [[i,omega,0,0] for i in A_vals], #a, omega, phi onsite\n",
    "                        2*pi/omega,\n",
    "                        circle_boundary = 0\n",
    "                        )\n",
    "\n",
    "#make real\n",
    "if np.all(np.imag(HF))==0:\n",
    "    print(\"Ham is real\")\n",
    "    HF =np.real(HF)"
   ]
  },
  {
   "cell_type": "code",
   "execution_count": 8,
   "metadata": {},
   "outputs": [
    {
     "data": {
      "text/plain": [
       "-0.11507411241174331"
      ]
     },
     "execution_count": 8,
     "metadata": {},
     "output_type": "execute_result"
    }
   ],
   "source": [
    "gradients[1]-gradients[0]"
   ]
  },
  {
   "cell_type": "code",
   "execution_count": 122,
   "metadata": {},
   "outputs": [
    {
     "data": {
      "image/png": "[encoded data removed]",
      "text/plain": [
       "<Figure size 82.6772x82.6772 with 1 Axes>"
      ]
     },
     "metadata": {},
     "output_type": "display_data"
    }
   ],
   "source": [
    "\n",
    "fig, ax = plt.subplots(figsize=(1.6/2.54,1.6/2.54))\n",
    "ax.plot(range(N), A_vals, 'x', c=\"#1565C0\", ms = 3)\n",
    "ax.set_ylabel(r\"$\\frac{A_l}{J_0}$\", rotation=0, fontsize=12.5)\n",
    "ax.yaxis.set_label_coords(-0.6,0.3\n",
    "                          )\n",
    "\n",
    "ax.set_xticks(np.arange(0,N,2))\n",
    "ax.set_xlabel(r\"$l$\")\n",
    "xticks = np.arange(0,N,2)\n",
    "ax.set_xticks(xticks)\n",
    "ax.set_xticklabels([str(i+1) for i in xticks])\n",
    "save_dir = Path().absolute().parent.parent.parent/\"figures\"/\"black_hole_paper\"\n",
    "# save_dir = Path().absolute().parent.parent.parent\n",
    "fig.savefig(save_dir/\"a_vals_alternating_big.pdf\", format=\"pdf\", bbox_inches=\"tight\")\n",
    "# fig.savefig(save_dir/\"a_vals_alternating.png\", format=\"png\", bbox_inches=\"tight\", dpi=1080)\n",
    "plt.show()"
   ]
  },
  {
   "cell_type": "code",
   "execution_count": 142,
   "metadata": {},
   "outputs": [
    {
     "data": {
      "image/png": "[encoded data removed]",
      "text/plain": [
       "<Figure size 122.047x122.047 with 1 Axes>"
      ]
     },
     "metadata": {},
     "output_type": "display_data"
    }
   ],
   "source": [
    "\n",
    "fig, ax = plt.subplots(figsize=(3.1/2.54,3.1/2.54))\n",
    "ax.plot(range(N), A_vals, 'x', c=\"#1565C0\", ms = 3)\n",
    "ax.set_ylabel(r\"$\\frac{A_l}{J_0}$\", rotation=0, fontsize=12.5)\n",
    "ax.yaxis.set_label_coords(-0.32,0.4)\n",
    "\n",
    "ax.set_xticks(np.arange(0,N,2))\n",
    "ax.set_xlabel(r\"$l$\")\n",
    "xticks = np.arange(0,N,2)\n",
    "ax.set_xticks(xticks)\n",
    "ax.set_xticklabels([str(i+1) for i in xticks])\n",
    "save_dir = Path().absolute().parent.parent.parent/\"figures\"/\"black_hole_paper\"\n",
    "# save_dir = Path().absolute().parent.parent.parent\n",
    "fig.savefig(save_dir/\"a_vals_alternating_big.pdf\", format=\"pdf\", bbox_inches=\"tight\")\n",
    "# fig.savefig(save_dir/\"a_vals_alternating.png\", format=\"png\", bbox_inches=\"tight\", dpi=1080)\n",
    "plt.show()"
   ]
  },
  {
   "cell_type": "code",
   "execution_count": 156,
   "metadata": {},
   "outputs": [
    {
     "data": {
      "image/png": "[encoded data removed]",
      "text/plain": [
       "<Figure size 94.4882x94.4882 with 1 Axes>"
      ]
     },
     "metadata": {},
     "output_type": "display_data"
    }
   ],
   "source": [
    "\n",
    "fig, ax = plt.subplots(figsize=(2.4/2.54,2.4/2.54))\n",
    "ax.plot(range(N), A_vals, 'x', c=\"#1565C0\", ms = 3)\n",
    "ax.set_ylabel(r\"$\\frac{A_l}{J_0}$\", rotation=0, fontsize=12.5)\n",
    "ax.yaxis.set_label_coords(-0.37,0.4)\n",
    "\n",
    "ax.set_xticks(np.arange(0,N,2))\n",
    "ax.set_xlabel(r\"$l$\")\n",
    "xticks = np.arange(0,N,2)\n",
    "ax.set_xticks(xticks)\n",
    "ax.set_xticklabels([str(i+1) for i in xticks])\n",
    "save_dir = Path().absolute().parent.parent.parent/\"figures\"/\"black_hole_paper\"\n",
    "# save_dir = Path().absolute().parent.parent.parent\n",
    "fig.savefig(save_dir/\"a_vals_alternating_medium.pdf\", format=\"pdf\", bbox_inches=\"tight\")\n",
    "# fig.savefig(save_dir/\"a_vals_alternating.png\", format=\"png\", bbox_inches=\"tight\", dpi=1080)\n",
    "plt.show()"
   ]
  },
  {
   "cell_type": "code",
   "execution_count": 94,
   "metadata": {},
   "outputs": [
    {
     "data": {
      "image/png": "[encoded data removed]",
      "text/plain": [
       "<Figure size 62.9921x62.9921 with 1 Axes>"
      ]
     },
     "metadata": {},
     "output_type": "display_data"
    }
   ],
   "source": [
    "\n",
    "# plot gradient\n",
    "# '#006F63', \"#FFFFFF\", '#F78320\n",
    "fig, ax = plt.subplots(figsize=(1.6/2.54,1.6/2.54))\n",
    "y = [np.round(-HF[i,i+1], 3) for i in range(N-1)]\n",
    "plt.plot(range(N-1), gradients, \n",
    "        #  label=r\"$10 \\> \\tanh(0.1*(i- nh- 0.5))/(4*0.1)$\"\n",
    "        label = \"target\",\n",
    "         c=\"#F78320\")\n",
    "ax.plot(range(N-1), y, 'x', label = r\"Floquet\", c=\"#1565C0\", ms = 3)\n",
    "\n",
    "ax.set_xlabel(r\"$l$\")\n",
    "ax.set_ylabel(r\"$J_{l, l+1}/J_0$\", labelpad=-1.6)\n",
    "ax.set_ylim([-0.41, 0.41])\n",
    "xticks = np.arange(0,N-1,2)\n",
    "ax.set_xticks(xticks)\n",
    "ax.set_xticklabels([str(i+1) for i in xticks])\n",
    "plt.legend(loc=\"upper right\", bbox_to_anchor=(1.1, 2\n",
    "                                              ))\n",
    "save_dir = Path().absolute().parent.parent.parent/\"figures\"/\"black_hole_paper\"/\"tunnellings_alternating.pdf\"\n",
    "fig.savefig(save_dir, format=\"pdf\", bbox_inches=\"tight\")\n",
    "plt.show()\n"
   ]
  },
  {
   "cell_type": "code",
   "execution_count": 4,
   "metadata": {},
   "outputs": [
    {
     "data": {
      "image/png": "[encoded data removed]",
      "text/plain": [
       "<Figure size 196.85x62.9921 with 1 Axes>"
      ]
     },
     "metadata": {},
     "output_type": "display_data"
    }
   ],
   "source": [
    "\n",
    "# plot gradient\n",
    "# '#006F63', \"#FFFFFF\", '#F78320\n",
    "fig, ax = plt.subplots(figsize=(5/2.54,1.6/2.54))\n",
    "y = [np.round(-HF[i,i+1], 3) for i in range(N-1)]\n",
    "plt.plot(range(N-1), gradients, \n",
    "        #  label=r\"$10 \\> \\tanh(0.1*(i- nh- 0.5))/(4*0.1)$\"\n",
    "        label = \"target\",\n",
    "         c=\"#F78320\")\n",
    "ax.plot(range(N-1), y, 'x', label = r\"Floquet\", c=\"#1565C0\", ms = 3)\n",
    "\n",
    "ax.set_xlabel(r\"$l$\", labelpad = 1)\n",
    "ax.set_ylabel(r\"$J_{l, l+1}$/$J_0$\", labelpad=0)\n",
    "ax.set_ylim([-0.41, 0.41])\n",
    "xticks = np.arange(0,N-1,2)\n",
    "ax.set_xticks(xticks)\n",
    "ax.set_xticklabels([str(i+1) for i in xticks])\n",
    "plt.legend(loc=\"upper right\", bbox_to_anchor=(1.65, 1\n",
    "                                              ))\n",
    "save_dir = Path().absolute().parent.parent.parent/\"figures\"/\"black_hole_paper\"/\"tunnellings_alternating_long.pdf\"\n",
    "fig.savefig(save_dir, format=\"pdf\", bbox_inches=\"tight\")\n",
    "plt.show()\n"
   ]
  },
  {
   "cell_type": "code",
   "execution_count": 22,
   "metadata": {},
   "outputs": [
    {
     "data": {
      "image/png": "[encoded data removed]",
      "text/plain": [
       "<Figure size 640x480 with 1 Axes>"
      ]
     },
     "metadata": {},
     "output_type": "display_data"
    }
   ],
   "source": [
    "\n",
    "# plot gradient 2\n",
    "y = [np.round(np.real(HF[i,i+2]), 3) for i in range(N-2)]\n",
    "fig, ax = plt.subplots()\n",
    "ax.plot(range(N-2), y, '.')\n",
    "ax.set_ylabel(r\"$J_{i, i+2}$\")\n",
    "ax.set_ylim([-0.41, 0.41])\n",
    "ax.set_xlabel(\"i\")\n",
    "ax.set_xticks(np.arange(0,N-2,2))\n",
    "plt.show()"
   ]
  },
  {
   "cell_type": "code",
   "execution_count": 103,
   "metadata": {},
   "outputs": [
    {
     "name": "stdout",
     "output_type": "stream",
     "text": [
      "-0.3964003 0.4021638\n"
     ]
    },
    {
     "data": {
      "image/png": "[encoded data removed]",
      "text/plain": [
       "<Figure size 110.236x110.236 with 2 Axes>"
      ]
     },
     "metadata": {},
     "output_type": "display_data"
    }
   ],
   "source": [
    "colourbar_min = np.min(np.real(HF))\n",
    "colourbar_max = np.max(np.real(HF))\n",
    "print(colourbar_min, colourbar_max)\n",
    "# plt.rc('text.latex', preamble=r'\\usepackage{amsmath,nicefrac,xfrac}')\n",
    "xticks = list(np.arange(0,N,2))\n",
    "ham_plot_dir = Path().absolute().parent.parent.parent/\"figures\"/\"black_hole_paper\"/\"stroboscopic_ham.pdf\"\n",
    "# PlotRealHamiltonian(HF, figsize=(4, 4), \n",
    "#                     colourbar_pad=0.07, colourbar_size_percentage=6.5, \n",
    "#                     # save_location = ham_plot_dir,\n",
    "#                       axes_tick_pos=xticks, axes_tick_labels=[str(i+1) for i in xticks], \n",
    "#                     data_cmap_lims = (-0.5, 0.5), colourbar_cmap_lims=(-0.5,0.5), colourbar_ticks = np.arange(-0.5,0.6,0.5)\n",
    "#                     )\n",
    "\n",
    "figsize = (2.8,2.8)\n",
    "data_cmap_lims = (-0.5, 0.5); colourbar_cmap_lims=(-0.5,0.5); colourbar_ticks = np.arange(-0.5,0.6,0.5)\n",
    "\n",
    "norm = mpl.colors.Normalize(vmin=data_cmap_lims[0], vmax=data_cmap_lims[1])\n",
    "cmap = LinearSegmentedColormap.from_list('custom hamiltonians', ['#006F63', \"#FFFFFF\", '#F78320'], N=256)\n",
    "cm_unit = 1/2.54\n",
    "fig, ax = plt.subplots(constrained_layout=True, \n",
    "                       figsize=(figsize[0]*cm_unit, figsize[1]*cm_unit))\n",
    "ax.matshow(np.real(HF), interpolation='none', cmap=cmap,  norm=norm)\n",
    "ax.set_title( r\"$ \\left[H_{S}^{t_0}\\right]_{l,l'} /J_0$\")\n",
    "ax.tick_params(axis=\"x\", bottom=True, top=False, labelbottom=True, \n",
    "  labeltop=False)  \n",
    "ax.set_xlabel('$l$')\n",
    "ax.set_ylabel(\"$l'$\", rotation=0, labelpad=5)\n",
    "ax.set_xticks(xticks)\n",
    "ax.set_yticks(xticks)\n",
    "\n",
    "ax.set_xticklabels([str(i+1) for i in xticks])\n",
    "ax.set_yticklabels([str(i+1) for i in xticks])\n",
    "\n",
    "divider = make_axes_locatable(ax)\n",
    "cax = divider.append_axes('right', size=f\"10.5%\", pad=0.03)\n",
    "\n",
    "new_norm = mpl.colors.Normalize(vmin=colourbar_cmap_lims[0], vmax=colourbar_cmap_lims[1])\n",
    "new_cmap = truncate_colormap(cmap, (colourbar_cmap_lims[0]-data_cmap_lims[0])/(data_cmap_lims[1] - data_cmap_lims[0]), (colourbar_cmap_lims[1]-data_cmap_lims[0])/(data_cmap_lims[1] - data_cmap_lims[0]))\n",
    "fig.colorbar(mpl.cm.ScalarMappable(norm=new_norm, cmap=new_cmap), cax=cax, ticks = colourbar_ticks)\n",
    "# \n",
    "fig.savefig(ham_plot_dir, format=\"pdf\", bbox_inches=\"tight\")\n",
    "\n",
    "plt.show()\n"
   ]
  },
  {
   "cell_type": "code",
   "execution_count": 143,
   "metadata": {},
   "outputs": [
    {
     "name": "stdout",
     "output_type": "stream",
     "text": [
      "-0.3964003 0.4021638\n"
     ]
    },
    {
     "data": {
      "image/png": "[encoded data removed]",
      "text/plain": [
       "<Figure size 149.606x149.606 with 2 Axes>"
      ]
     },
     "metadata": {},
     "output_type": "display_data"
    }
   ],
   "source": [
    "colourbar_min = np.min(np.real(HF))\n",
    "colourbar_max = np.max(np.real(HF))\n",
    "print(colourbar_min, colourbar_max)\n",
    "# plt.rc('text.latex', preamble=r'\\usepackage{amsmath,nicefrac,xfrac}')\n",
    "xticks = list(np.arange(0,N,2))\n",
    "ham_plot_dir = Path().absolute().parent.parent.parent/\"figures\"/\"black_hole_paper\"/\"stroboscopic_ham_big.pdf\"\n",
    "# PlotRealHamiltonian(HF, figsize=(4, 4), \n",
    "#                     colourbar_pad=0.07, colourbar_size_percentage=6.5, \n",
    "#                     # save_location = ham_plot_dir,\n",
    "#                       axes_tick_pos=xticks, axes_tick_labels=[str(i+1) for i in xticks], \n",
    "#                     data_cmap_lims = (-0.5, 0.5), colourbar_cmap_lims=(-0.5,0.5), colourbar_ticks = np.arange(-0.5,0.6,0.5)\n",
    "#                     )\n",
    "\n",
    "figsize = (3.8,3.8)\n",
    "data_cmap_lims = (-0.5, 0.5); colourbar_cmap_lims=(-0.5,0.5); colourbar_ticks = np.arange(-0.5,0.6,0.5)\n",
    "\n",
    "norm = mpl.colors.Normalize(vmin=data_cmap_lims[0], vmax=data_cmap_lims[1])\n",
    "cmap = LinearSegmentedColormap.from_list('custom hamiltonians', ['#006F63', \"#FFFFFF\", '#F78320'], N=256)\n",
    "cm_unit = 1/2.54\n",
    "fig, ax = plt.subplots(constrained_layout=True, \n",
    "                       figsize=(figsize[0]*cm_unit, figsize[1]*cm_unit))\n",
    "ax.matshow(np.real(HF), interpolation='none', cmap=cmap,  norm=norm)\n",
    "ax.set_title( r\"$ \\left[H_{S}^{t_0}\\right]_{l,l'} /J_0$\")\n",
    "ax.tick_params(axis=\"x\", bottom=True, top=False, labelbottom=True, \n",
    "  labeltop=False)  \n",
    "ax.set_xlabel('$l$')\n",
    "ax.set_ylabel(\"$l'$\", rotation=0, labelpad=6)\n",
    "ax.set_xticks(xticks)\n",
    "ax.set_yticks(xticks)\n",
    "\n",
    "ax.set_xticklabels([str(i+1) for i in xticks])\n",
    "ax.set_yticklabels([str(i+1) for i in xticks])\n",
    "\n",
    "divider = make_axes_locatable(ax)\n",
    "cax = divider.append_axes('right', size=f\"10.5%\", pad=0.06)\n",
    "\n",
    "new_norm = mpl.colors.Normalize(vmin=colourbar_cmap_lims[0], vmax=colourbar_cmap_lims[1])\n",
    "new_cmap = truncate_colormap(cmap, (colourbar_cmap_lims[0]-data_cmap_lims[0])/(data_cmap_lims[1] - data_cmap_lims[0]), (colourbar_cmap_lims[1]-data_cmap_lims[0])/(data_cmap_lims[1] - data_cmap_lims[0]))\n",
    "fig.colorbar(mpl.cm.ScalarMappable(norm=new_norm, cmap=new_cmap), cax=cax, ticks = colourbar_ticks)\n",
    "# \n",
    "fig.savefig(ham_plot_dir, format=\"pdf\", bbox_inches=\"tight\")\n",
    "\n",
    "plt.show()\n"
   ]
  },
  {
   "cell_type": "code",
   "execution_count": 6,
   "metadata": {},
   "outputs": [
    {
     "name": "stdout",
     "output_type": "stream",
     "text": [
      "-0.3964003 0.4021638\n"
     ]
    },
    {
     "data": {
      "image/png": "[encoded data removed]",
      "text/plain": [
       "<Figure size 133.858x133.858 with 2 Axes>"
      ]
     },
     "metadata": {},
     "output_type": "display_data"
    }
   ],
   "source": [
    "colourbar_min = np.min(np.real(HF))\n",
    "colourbar_max = np.max(np.real(HF))\n",
    "print(colourbar_min, colourbar_max)\n",
    "# plt.rc('text.latex', preamble=r'\\usepackage{amsmath,nicefrac,xfrac}')\n",
    "xticks = list(np.arange(0,N,2))\n",
    "ham_plot_dir = Path().absolute().parent.parent.parent/\"figures\"/\"black_hole_paper\"/\"stroboscopic_ham_medium.pdf\"\n",
    "# PlotRealHamiltonian(HF, figsize=(4, 4), \n",
    "#                     colourbar_pad=0.07, colourbar_size_percentage=6.5, \n",
    "#                     # save_location = ham_plot_dir,\n",
    "#                       axes_tick_pos=xticks, axes_tick_labels=[str(i+1) for i in xticks], \n",
    "#                     data_cmap_lims = (-0.5, 0.5), colourbar_cmap_lims=(-0.5,0.5), colourbar_ticks = np.arange(-0.5,0.6,0.5)\n",
    "#                     )\n",
    "\n",
    "figsize = (3.4,3.4)\n",
    "data_cmap_lims = (-0.5, 0.5); colourbar_cmap_lims=(-0.5,0.5); colourbar_ticks = np.arange(-0.5,0.6,0.5)\n",
    "\n",
    "norm = mpl.colors.Normalize(vmin=data_cmap_lims[0], vmax=data_cmap_lims[1])\n",
    "cmap = LinearSegmentedColormap.from_list('custom hamiltonians', ['#006F63', \"#FFFFFF\", '#F78320'], N=256)\n",
    "cm_unit = 1/2.54\n",
    "fig, ax = plt.subplots(constrained_layout=True, \n",
    "                       figsize=(figsize[0]*cm_unit, figsize[1]*cm_unit))\n",
    "ax.matshow(np.real(HF), interpolation='none', cmap=cmap,  norm=norm)\n",
    "ax.set_title( r\"$ \\left[H_{S}^{t_0}\\right]_{l,l'} $/$J_0$\")\n",
    "ax.tick_params(axis=\"x\", bottom=True, top=False, labelbottom=True, \n",
    "  labeltop=False)  \n",
    "ax.set_xlabel('$l$')\n",
    "ax.set_ylabel(\"$l'$\", rotation=0, labelpad=6)\n",
    "ax.set_xticks(xticks)\n",
    "ax.set_yticks(xticks)\n",
    "\n",
    "ax.set_xticklabels([str(i+1) for i in xticks])\n",
    "ax.set_yticklabels([str(i+1) for i in xticks])\n",
    "\n",
    "divider = make_axes_locatable(ax)\n",
    "cax = divider.append_axes('right', size=f\"10.5%\", pad=0.06)\n",
    "\n",
    "new_norm = mpl.colors.Normalize(vmin=colourbar_cmap_lims[0], vmax=colourbar_cmap_lims[1])\n",
    "new_cmap = truncate_colormap(cmap, (colourbar_cmap_lims[0]-data_cmap_lims[0])/(data_cmap_lims[1] - data_cmap_lims[0]), (colourbar_cmap_lims[1]-data_cmap_lims[0])/(data_cmap_lims[1] - data_cmap_lims[0]))\n",
    "fig.colorbar(mpl.cm.ScalarMappable(norm=new_norm, cmap=new_cmap), cax=cax, ticks = colourbar_ticks)\n",
    "# \n",
    "fig.savefig(ham_plot_dir, format=\"pdf\", bbox_inches=\"tight\")\n",
    "\n",
    "plt.show()\n"
   ]
  },
  {
   "cell_type": "code",
   "execution_count": 24,
   "metadata": {},
   "outputs": [],
   "source": [
    "# fig, (ax1, ax2, ax3) = plt.subplots(1, 3, figsize=(3*4/2.54, 4/2.54))\n",
    "# fig.suptitle('Horizontally stacked subplots')\n",
    "# ax1.plot(x, y)\n",
    "# ax2.plot(x, -y)\n",
    "# ax3.plot()"
   ]
  },
  {
   "cell_type": "code",
   "execution_count": 5,
   "metadata": {},
   "outputs": [
    {
     "data": {
      "image/png": "[encoded data removed]",
      "text/plain": [
       "<Figure size 614.173x204.724 with 4 Axes>"
      ]
     },
     "metadata": {},
     "output_type": "display_data"
    }
   ],
   "source": [
    "cm_unit = 1/2.54\n",
    "fig, (ax1, ax2, ax3) = plt.subplots(nrows=1, ncols=3, constrained_layout=True, \n",
    "                            figsize=(15.6*cm_unit, 5.2*cm_unit))\n",
    "# fig, (ax1, ax2, ax3) = plt.subplots(nrows=1, ncols=4, constrained_layout=True, \n",
    "#                             figsize=(12*cm_unit, 4*cm_unit))\n",
    "ax1.plot(range(N), A_vals, '.')\n",
    "ax1.set_ylabel(r\"$A_l$\", rotation=0)\n",
    "ax1.set_xticks(np.arange(0,N,2))\n",
    "ax1.set_xlabel(r\"$l$\")\n",
    "xticks = np.arange(0,N,2)\n",
    "ax1.set_xticks(xticks)\n",
    "ax1.set_xticklabels([str(i+1) for i in xticks])\n",
    "\n",
    "colourbar_pad=0.07; colourbar_size_percentage=6.5, \n",
    "axes_tick_pos=xticks; axes_tick_labels=[str(i+1) for i in xticks];title_labelpad=10\n",
    "data_cmap_lims = (-0.5, 0.5); colourbar_ticks = np.arange(-0.5,0.6,0.5)\n",
    "norm = mpl.colors.Normalize(vmin=data_cmap_lims[0], vmax=data_cmap_lims[1])\n",
    "cmap = LinearSegmentedColormap.from_list('custom hamiltonians', ['#006F63', \"#FFFFFF\", '#F78320'], N=256)\n",
    "ax2.matshow(np.real(HF), interpolation='none', cmap=cmap,  norm=norm)\n",
    "ax2.set_title( r'$ \\left[H_{S}^{t_0}\\right]_{i,j} /J$', pad=title_labelpad)\n",
    "ax2.tick_params(axis=\"x\", bottom=True, top=False, labelbottom=True, \n",
    "  labeltop=False)  \n",
    "ax2.set_xlabel('$i$')\n",
    "ax2.set_ylabel('$j$', rotation=0, labelpad=10)\n",
    "ax2.set_xticks(axes_tick_pos)\n",
    "ax2.set_yticks(axes_tick_pos)\n",
    "ax2.set_xticklabels(axes_tick_labels)\n",
    "ax2.set_yticklabels(axes_tick_labels)\n",
    "\n",
    "\n",
    "ax2.matshow(np.real(HF), interpolation='none', cmap=cmap,  norm=norm)\n",
    "ax2.set_title( r\"$ \\left[H_{S}^{t_0}\\right]_{l,l'} /J$\", pad=title_labelpad)\n",
    "ax2.tick_params(axis=\"x\", bottom=True, top=False, labelbottom=True, \n",
    "  labeltop=False)  \n",
    "ax2.set_xlabel('$l$')\n",
    "ax2.set_ylabel(\"$l'$\", rotation=0, labelpad=10)\n",
    "ax2.set_xticks(axes_tick_pos)\n",
    "ax2.set_yticks(axes_tick_pos)\n",
    "ax2.set_xticklabels(axes_tick_labels)\n",
    "ax2.set_yticklabels(axes_tick_labels)\n",
    "divider = make_axes_locatable(ax2)\n",
    "cax = divider.append_axes('right', size=f\"5%\", pad=0.1)\n",
    "fig.colorbar(mpl.cm.ScalarMappable(norm=norm, cmap=cmap), cax=cax, ticks = np.arange(-1,1.2,0.2))\n",
    "       \n",
    "\n",
    "\n",
    "# divider = make_axes_locatable(ax2)\n",
    "# cax = divider.append_axes('right', size=f\"{colourbar_size_percentage}%\", pad=colourbar_pad)\n",
    "# fig.colorbar(mpl.cm.ScalarMappable(norm=norm, cmap=cmap), cax=cax, ticks = colourbar_ticks)\n",
    "    \n",
    "\n",
    "y = [np.round(-HF[i,i+1], 3) for i in range(N-1)]\n",
    "ax3.plot(range(N-1), y, '.', label = r\"Floquet\")\n",
    "ax3.plot(range(N-1), gradients, \n",
    "        #  label=r\"$10 \\> \\tanh(0.1*(i- nh- 0.5))/(4*0.1)$\"\n",
    "        label = \"target\"\n",
    "         )\n",
    "ax3.set_xlabel(r\"$l$\")\n",
    "ax3.set_ylabel(r\"$J_{l, l+1}/J$\", rotation=90, labelpad=2)\n",
    "ax3.set_ylim([-0.41, 0.41])\n",
    "xticks = np.arange(0,N-1,2)\n",
    "ax3.set_xticks(xticks)\n",
    "ax3.set_xticklabels([str(i+1) for i in xticks])\n",
    "# ax3.legend(loc='center left', bbox_to_anchor=(1, 0.5))\n",
    "# save_dir = Path().absolute().parent.parent/\"figures\"/\"black_hole_paper\"/\"tunnellings_alternating.pdf\"\n",
    "# fig.savefig(save_dir, format=\"pdf\", bbox_inches=\"tight\")\n",
    "\n",
    "save_dir = Path().absolute().parent.parent/\"figures\"/\"black_hole_paper\"/f\"floquet_sequence_accumulative_omega={omega}_small.pdf\"\n",
    "# fig.savefig(save_dir, format=\"pdf\", bbox_inches=\"tight\")\n",
    "plt.show()\n"
   ]
  },
  {
   "cell_type": "code",
   "execution_count": 29,
   "metadata": {},
   "outputs": [
    {
     "name": "stdout",
     "output_type": "stream",
     "text": [
      "[-0.37242316  0.85520254 -0.51623059  1.         -0.66633973  1.16123899\n",
      " -0.84886769  1.39022126 -1.39022126]\n"
     ]
    }
   ],
   "source": [
    "print(A_vals/(A_vals[3]))"
   ]
  },
  {
   "cell_type": "code",
   "execution_count": 35,
   "metadata": {},
   "outputs": [
    {
     "data": {
      "image/png": "[encoded data removed]",
      "text/plain": [
       "<Figure size 640x480 with 1 Axes>"
      ]
     },
     "metadata": {},
     "output_type": "display_data"
    }
   ],
   "source": [
    "from numpy import tanh\n",
    "j_list = np.linspace(-10, 10, 100)\n",
    "jh = 5\n",
    "d = 1\n",
    "plt.plot(j_list, [tanh(d*(j-jh)) for j in j_list], 'x')\n",
    "plt.show()"
   ]
  },
  {
   "cell_type": "code",
   "execution_count": null,
   "metadata": {},
   "outputs": [],
   "source": []
  }
 ],
 "metadata": {
  "kernelspec": {
   "display_name": "floquet-simulations-srXSFrPT-py3.10",
   "language": "python",
   "name": "python3"
  },
  "language_info": {
   "codemirror_mode": {
    "name": "ipython",
    "version": 3
   },
   "file_extension": ".py",
   "mimetype": "text/x-python",
   "name": "python",
   "nbconvert_exporter": "python",
   "pygments_lexer": "ipython3",
   "version": "3.10.6"
  },
  "orig_nbformat": 4
 },
 "nbformat": 4,
 "nbformat_minor": 2
}

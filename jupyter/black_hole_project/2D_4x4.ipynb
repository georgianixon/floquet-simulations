{
 "cells": [
  {
   "cell_type": "code",
   "execution_count": 2,
   "metadata": {},
   "outputs": [],
   "source": [
    "from numpy import  cos, pi\n",
    "import numpy as np\n",
    "import matplotlib.pyplot as plt\n",
    "from floquet_simulations.hamiltonians import CreateHFGeneral\n",
    "from floquet_simulations.periodic_functions import Cosine\n",
    "from scipy.special import  jv\n",
    "from scipy.linalg import eigh\n",
    "import pandas as pd\n",
    "import os\n",
    "from pathlib import Path\n",
    "from floquet_simulations.plot_functions import PlotParams, PlotAbsRealImagHamiltonian, PlotRealHamiltonian\n",
    "from floquet_simulations.generate_gradients import ComputeAValsFromRequiredGradients, GetAValsFromBesselXVals\n",
    "PlotParams(fontsize=12)"
   ]
  },
  {
   "cell_type": "markdown",
   "metadata": {},
   "source": [
    "## option 1 - 90 degree rotational symmetry\n"
   ]
  },
  {
   "cell_type": "code",
   "execution_count": 18,
   "metadata": {},
   "outputs": [],
   "source": [
    "l_red = (0,0.5);r_red = np.sqrt(l_red[0]**2 + l_red[1]**2)\n",
    "l_yel = (1,0.5);r_yel = np.sqrt(l_yel[0]**2 + l_yel[1]**2)\n",
    "l_gre = (0,1.5);r_gre = np.sqrt(l_gre[0]**2 + l_gre[1]**2)\n",
    "l_blu = (1,1.5);r_blu = np.sqrt(l_blu[0]**2 + l_blu[1]**2)\n",
    "\n",
    "scale = 0.4\n",
    "radii = np.array([r_red, r_yel, r_gre, r_blu])*scale\n",
    "gradients = radii - radii[0]+ jv(0, 3.8316)\n",
    "xvals = ComputeAValsFromRequiredGradients(gradients)"
   ]
  },
  {
   "cell_type": "code",
   "execution_count": 20,
   "metadata": {},
   "outputs": [
    {
     "name": "stdout",
     "output_type": "stream",
     "text": [
      "[[-0.40275939321752835, -0.1555450307354284, 0.4392114597028585, 0.11835072696749332], [-0.40275939321752835, -0.29826007567906826, -0.002760217206570637, 0.11835072696749332], [-0.27646749740707743, -0.1555450307354284, -0.002760217206570637, 0.11835072696749332]]\n"
     ]
    }
   ],
   "source": [
    "omega = 1\n",
    "A1_red = xvals[0]*omega/2\n",
    "A2_yelred = xvals[1]*omega - A1_red\n",
    "A2_gre = xvals[2]*omega/2\n",
    "A3_bluyelred = xvals[3]*omega - A2_yelred\n",
    "A3_blugre = xvals[3]*omega - A2_gre\n",
    "A1_yelgre = xvals[1]*omega - A2_gre\n",
    "\n",
    "Avals1 = [A1_red, A2_yelred, A3_bluyelred]\n",
    "Avals2 = [A1_red, A2_gre, A3_blugre]\n",
    "Avals3 = [A1_yelgre, A2_gre, A3_blugre]\n",
    "\n",
    "couples = [(0,0), (0,1), (1,1), (1,2)]\n",
    "tunnellings = [[jv(0,(Avals[i] + Avals[j])/omega) for i,j in couples] for Avals in [Avals1, Avals2, Avals3]]\n",
    "print(tunnellings)"
   ]
  },
  {
   "cell_type": "code",
   "execution_count": 33,
   "metadata": {},
   "outputs": [
    {
     "data": {
      "image/png": "[encoded data removed]",
      "text/plain": [
       "<Figure size 287.402x208.661 with 1 Axes>"
      ]
     },
     "metadata": {},
     "output_type": "display_data"
    }
   ],
   "source": [
    "colour1 = \"#FFB69C\"\n",
    "colour2= \"#9BA2FF\"\n",
    "colour3 = \"#\"\n",
    "fig, ax = plt.subplots(figsize=(7.3/2.54,5.3/2.54))\n",
    "plt.axhline(y=0, color='0', linestyle='-', lw=0.5)\n",
    "ax.scatter(radii,tunnellings[0], marker = 'o', c=colour2, s = 30, label=\"1\")\n",
    "ax.scatter(radii,tunnellings[1], marker = 'x', c=colour1, s = 20, label=\"2\")\n",
    "ax.scatter(radii,tunnellings[2], marker = '>',  s = 9, label=\"3\")\n",
    "\n",
    "# ax.plot(r_axes, tunnellings_axes,c= colour_axes, label=r\"$y=0$\")\n",
    "\n",
    "# ax.scatter(r_diagonal[:n_avals_plot-1], tunnellings_diagonal[:n_avals_plot-1], marker = 'x', c=colour_diagonal, s = 13)\n",
    "# ax.scatter(r_axes, tunnellings_axes, marker = 'x', c=colour_axes, s = 13)\n",
    "\n",
    "ax.tick_params(axis='both', which='major', pad=1)\n",
    "ax.set_xlabel(r\"$r_{ij}$\")\n",
    "\n",
    "ax.set_ylabel(r\"$\\kappa_{ij}$\", rotation=0)\n",
    "ax.legend(loc=\"upper left\")\n",
    "# xticks = np.arange(0,12,2)\n",
    "# ax.set_xticks(xticks)\n",
    "# ax.set_xticklabels([str(i+1) for i in xticks])\\\n",
    "# fig.savefig(save_dir/\"linear_tunnelling_2D.pdf\", format=\"pdf\", bbox_inches=\"tight\", pad_inches=0.01)\n",
    "plt.show()\n"
   ]
  },
  {
   "cell_type": "code",
   "execution_count": 35,
   "metadata": {},
   "outputs": [
    {
     "data": {
      "text/plain": [
       "array([[ 0., -1.,  0.,  0.],\n",
       "       [-1.,  0., -1.,  0.],\n",
       "       [ 0., -1.,  0., -1.],\n",
       "       [ 0.,  0., -1.,  0.]])"
      ]
     },
     "execution_count": 35,
     "metadata": {},
     "output_type": "execute_result"
    }
   ],
   "source": []
  },
  {
   "cell_type": "markdown",
   "metadata": {},
   "source": [
    "## 5x5"
   ]
  },
  {
   "cell_type": "code",
   "execution_count": 50,
   "metadata": {},
   "outputs": [],
   "source": [
    "# l_red = (0,0.5);r_red = np.sqrt(l_red[0]**2 + l_red[1]**2)\n",
    "# l_ora = (1,0.5);r_ora = np.sqrt(l_ora[0]**2 + l_ora[1]**2)\n",
    "# l_yel = (0,1.5);r_yel = np.sqrt(l_yel[0]**2 + l_yel[1]**2)\n",
    "# l_gre = (1,1.5);r_gre = np.sqrt(l_gre[0]**2 + l_gre[1]**2)\n",
    "# l_aqu = (2,0.5);r_aqu = np.sqrt(l_aqu[0]**2 + l_aqu[1]**2)\n",
    "# l_blu = (2,1.5);r_blu = np.sqrt(l_blu[0]**2 + l_blu[1]**2)"
   ]
  },
  {
   "cell_type": "code",
   "execution_count": 51,
   "metadata": {},
   "outputs": [],
   "source": [
    "link_indices = [(0,0.5), (1,0.5),(0,1.5), (1,1.5), (2,0.5), (2,1.5)]\n",
    "r_vals = np.array([np.sqrt(x**2 + y**2) for (x,y) in link_indices])"
   ]
  },
  {
   "cell_type": "code",
   "execution_count": 61,
   "metadata": {},
   "outputs": [
    {
     "name": "stdout",
     "output_type": "stream",
     "text": [
      "[-0.20275939  0.1062576   0.29724061  0.44862843  0.57801701  0.79724061]\n"
     ]
    }
   ],
   "source": [
    "scale = 0.5\n",
    "radii = r_vals*scale\n",
    "gradients = radii - radii[0]+ jv(0, 3.8316) +0.2\n",
    "xvals = ComputeAValsFromRequiredGradients(gradients)\n",
    "print(gradients)"
   ]
  },
  {
   "cell_type": "code",
   "execution_count": 62,
   "metadata": {},
   "outputs": [],
   "source": [
    "A1 = xvals[0]/2\n",
    "A2 = -xvals[0]/2\n",
    "A4 = xvals[1]+A2\n",
    "A5 = -(xvals[3] - A4)\n",
    "A6 = xvals[5] + A5\n",
    "A3_ora = xvals[2] + A2\n",
    "A3_aqa = xvals[4] + A5\n",
    "Avals1 = [A1, A2, A3_ora, A4, A5, A6]\n",
    "Avals2 = [A1, A2, A3_aqa, A4, A5, A6]"
   ]
  },
  {
   "cell_type": "code",
   "execution_count": 63,
   "metadata": {},
   "outputs": [],
   "source": [
    "couples = [(0,1), (3,1), (2,1), (3,4), (2,4), (5,4)]\n",
    "tunnellings = [[jv(0,(Avals[i] - Avals[j])) for i,j in couples] for Avals in [Avals1, Avals2]]"
   ]
  },
  {
   "cell_type": "code",
   "execution_count": 64,
   "metadata": {},
   "outputs": [
    {
     "data": {
      "image/png": "[encoded data removed]",
      "text/plain": [
       "<Figure size 287.402x208.661 with 1 Axes>"
      ]
     },
     "metadata": {},
     "output_type": "display_data"
    }
   ],
   "source": [
    "fig, ax = plt.subplots(figsize=(7.3/2.54,5.3/2.54))\n",
    "plt.axhline(y=0, color='0', linestyle='-', lw=0.5)\n",
    "ax.scatter(radii,tunnellings[0], marker = 'o', c=colour2, s = 30, label=\"1\")\n",
    "ax.scatter(radii,tunnellings[1], marker = 'x', c=colour1, s = 20, label=\"2\")\n",
    "\n",
    "ax.tick_params(axis='both', which='major', pad=1)\n",
    "ax.set_xlabel(r\"$r_{ij}$\")\n",
    "\n",
    "ax.set_ylabel(r\"$\\kappa_{ij}$\", rotation=0)\n",
    "ax.legend(loc=\"upper left\")\n",
    "# xticks = np.arange(0,12,2)\n",
    "# ax.set_xticks(xticks)\n",
    "# ax.set_xticklabels([str(i+1) for i in xticks])\\\n",
    "# fig.savefig(save_dir/\"linear_tunnelling_2D.pdf\", format=\"pdf\", bbox_inches=\"tight\", pad_inches=0.01)\n",
    "plt.show()\n"
   ]
  },
  {
   "cell_type": "code",
   "execution_count": 65,
   "metadata": {},
   "outputs": [
    {
     "data": {
      "text/plain": [
       "[-0.20275997465732187,\n",
       " 0.10625803323847303,\n",
       " 0.2972409043270414,\n",
       " 0.44862869905749025,\n",
       " 0.6315380383955597,\n",
       " 0.797239953606068]"
      ]
     },
     "execution_count": 65,
     "metadata": {},
     "output_type": "execute_result"
    }
   ],
   "source": [
    "tunnellings[0]"
   ]
  },
  {
   "cell_type": "code",
   "execution_count": null,
   "metadata": {},
   "outputs": [],
   "source": []
  }
 ],
 "metadata": {
  "kernelspec": {
   "display_name": "floquet-simulations-srXSFrPT-py3.10",
   "language": "python",
   "name": "python3"
  },
  "language_info": {
   "codemirror_mode": {
    "name": "ipython",
    "version": 3
   },
   "file_extension": ".py",
   "mimetype": "text/x-python",
   "name": "python",
   "nbconvert_exporter": "python",
   "pygments_lexer": "ipython3",
   "version": "3.10.6"
  }
 },
 "nbformat": 4,
 "nbformat_minor": 2
}

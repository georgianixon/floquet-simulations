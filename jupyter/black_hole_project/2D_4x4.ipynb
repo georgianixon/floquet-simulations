{
 "cells": [
  {
   "cell_type": "code",
   "execution_count": 1,
   "metadata": {},
   "outputs": [],
   "source": [
    "from numpy import  cos, pi\n",
    "import numpy as np\n",
    "import matplotlib.pyplot as plt\n",
    "from floquet_simulations.hamiltonians import CreateHFGeneral\n",
    "from floquet_simulations.periodic_functions import Cosine\n",
    "from scipy.special import  jv, jn_zeros\n",
    "from scipy.linalg import eigh\n",
    "from itertools import product\n",
    "import pandas as pd\n",
    "import os\n",
    "from pathlib import Path\n",
    "from floquet_simulations.plot_functions import PlotParams, PlotAbsRealImagHamiltonian, PlotRealHamiltonian\n",
    "from floquet_simulations.generate_gradients import ComputeAValsFromRequiredGradients, GetAValsFromBesselXVals\n",
    "PlotParams(fontsize=12)\n",
    "colour1 = \"#FFB69C\"\n",
    "colour2= \"#9BA2FF\""
   ]
  },
  {
   "cell_type": "markdown",
   "metadata": {},
   "source": [
    "## option 1 - 90 degree rotational symmetry\n"
   ]
  },
  {
   "cell_type": "code",
   "execution_count": 18,
   "metadata": {},
   "outputs": [],
   "source": [
    "l_red = (0,0.5);r_red = np.sqrt(l_red[0]**2 + l_red[1]**2)\n",
    "l_yel = (1,0.5);r_yel = np.sqrt(l_yel[0]**2 + l_yel[1]**2)\n",
    "l_gre = (0,1.5);r_gre = np.sqrt(l_gre[0]**2 + l_gre[1]**2)\n",
    "l_blu = (1,1.5);r_blu = np.sqrt(l_blu[0]**2 + l_blu[1]**2)\n",
    "\n",
    "scale = 0.4\n",
    "radii = np.array([r_red, r_yel, r_gre, r_blu])*scale\n",
    "gradients = radii - radii[0]+ jv(0, 3.8316)\n",
    "xvals = ComputeAValsFromRequiredGradients(gradients)"
   ]
  },
  {
   "cell_type": "code",
   "execution_count": 20,
   "metadata": {},
   "outputs": [
    {
     "name": "stdout",
     "output_type": "stream",
     "text": [
      "[[-0.40275939321752835, -0.1555450307354284, 0.4392114597028585, 0.11835072696749332], [-0.40275939321752835, -0.29826007567906826, -0.002760217206570637, 0.11835072696749332], [-0.27646749740707743, -0.1555450307354284, -0.002760217206570637, 0.11835072696749332]]\n"
     ]
    }
   ],
   "source": [
    "omega = 1\n",
    "A1_red = xvals[0]*omega/2\n",
    "A2_yelred = xvals[1]*omega - A1_red\n",
    "A2_gre = xvals[2]*omega/2\n",
    "A3_bluyelred = xvals[3]*omega - A2_yelred\n",
    "A3_blugre = xvals[3]*omega - A2_gre\n",
    "A1_yelgre = xvals[1]*omega - A2_gre\n",
    "\n",
    "Avals1 = [A1_red, A2_yelred, A3_bluyelred]\n",
    "Avals2 = [A1_red, A2_gre, A3_blugre]\n",
    "Avals3 = [A1_yelgre, A2_gre, A3_blugre]\n",
    "\n",
    "couples = [(0,0), (0,1), (1,1), (1,2)]\n",
    "tunnellings = [[jv(0,(Avals[i] + Avals[j])/omega) for i,j in couples] for Avals in [Avals1, Avals2, Avals3]]\n",
    "print(tunnellings)"
   ]
  },
  {
   "cell_type": "code",
   "execution_count": 33,
   "metadata": {},
   "outputs": [
    {
     "data": {
      "image/png": "[encoded data removed]",
      "text/plain": [
       "<Figure size 287.402x208.661 with 1 Axes>"
      ]
     },
     "metadata": {},
     "output_type": "display_data"
    }
   ],
   "source": [
    "\n",
    "colour3 = \"#\"\n",
    "fig, ax = plt.subplots(figsize=(7.3/2.54,5.3/2.54))\n",
    "plt.axhline(y=0, color='0', linestyle='-', lw=0.5)\n",
    "ax.scatter(radii,tunnellings[0], marker = 'o', c=colour2, s = 30, label=\"1\")\n",
    "ax.scatter(radii,tunnellings[1], marker = 'x', c=colour1, s = 20, label=\"2\")\n",
    "ax.scatter(radii,tunnellings[2], marker = '>',  s = 9, label=\"3\")\n",
    "\n",
    "# ax.plot(r_axes, tunnellings_axes,c= colour_axes, label=r\"$y=0$\")\n",
    "\n",
    "# ax.scatter(r_diagonal[:n_avals_plot-1], tunnellings_diagonal[:n_avals_plot-1], marker = 'x', c=colour_diagonal, s = 13)\n",
    "# ax.scatter(r_axes, tunnellings_axes, marker = 'x', c=colour_axes, s = 13)\n",
    "\n",
    "ax.tick_params(axis='both', which='major', pad=1)\n",
    "ax.set_xlabel(r\"$r_{ij}$\")\n",
    "\n",
    "ax.set_ylabel(r\"$\\kappa_{ij}$\", rotation=0)\n",
    "ax.legend(loc=\"upper left\")\n",
    "# xticks = np.arange(0,12,2)\n",
    "# ax.set_xticks(xticks)\n",
    "# ax.set_xticklabels([str(i+1) for i in xticks])\\\n",
    "# fig.savefig(save_dir/\"linear_tunnelling_2D.pdf\", format=\"pdf\", bbox_inches=\"tight\", pad_inches=0.01)\n",
    "plt.show()\n"
   ]
  },
  {
   "cell_type": "code",
   "execution_count": null,
   "metadata": {},
   "outputs": [],
   "source": []
  },
  {
   "cell_type": "markdown",
   "metadata": {},
   "source": [
    "## 5x5"
   ]
  },
  {
   "cell_type": "code",
   "execution_count": 50,
   "metadata": {},
   "outputs": [],
   "source": [
    "# l_red = (0,0.5);r_red = np.sqrt(l_red[0]**2 + l_red[1]**2)\n",
    "# l_ora = (1,0.5);r_ora = np.sqrt(l_ora[0]**2 + l_ora[1]**2)\n",
    "# l_yel = (0,1.5);r_yel = np.sqrt(l_yel[0]**2 + l_yel[1]**2)\n",
    "# l_gre = (1,1.5);r_gre = np.sqrt(l_gre[0]**2 + l_gre[1]**2)\n",
    "# l_aqu = (2,0.5);r_aqu = np.sqrt(l_aqu[0]**2 + l_aqu[1]**2)\n",
    "# l_blu = (2,1.5);r_blu = np.sqrt(l_blu[0]**2 + l_blu[1]**2)"
   ]
  },
  {
   "cell_type": "code",
   "execution_count": 51,
   "metadata": {},
   "outputs": [],
   "source": [
    "link_indices = [(0,0.5), (1,0.5),(0,1.5), (1,1.5), (2,0.5), (2,1.5)]\n",
    "r_vals = np.array([np.sqrt(x**2 + y**2) for (x,y) in link_indices])"
   ]
  },
  {
   "cell_type": "code",
   "execution_count": 61,
   "metadata": {},
   "outputs": [
    {
     "name": "stdout",
     "output_type": "stream",
     "text": [
      "[-0.20275939  0.1062576   0.29724061  0.44862843  0.57801701  0.79724061]\n"
     ]
    }
   ],
   "source": [
    "scale = 0.5\n",
    "radii = r_vals*scale\n",
    "gradients = radii - radii[0]+ jv(0, 3.8316) +0.2\n",
    "xvals = ComputeAValsFromRequiredGradients(gradients)\n",
    "print(gradients)"
   ]
  },
  {
   "cell_type": "code",
   "execution_count": 62,
   "metadata": {},
   "outputs": [],
   "source": [
    "A1 = xvals[0]/2\n",
    "A2 = -xvals[0]/2\n",
    "A4 = xvals[1]+A2\n",
    "A5 = -(xvals[3] - A4)\n",
    "A6 = xvals[5] + A5\n",
    "A3_ora = xvals[2] + A2\n",
    "A3_aqa = xvals[4] + A5\n",
    "Avals1 = [A1, A2, A3_ora, A4, A5, A6]\n",
    "Avals2 = [A1, A2, A3_aqa, A4, A5, A6]"
   ]
  },
  {
   "cell_type": "code",
   "execution_count": 63,
   "metadata": {},
   "outputs": [],
   "source": [
    "couples = [(0,1), (3,1), (2,1), (3,4), (2,4), (5,4)]\n",
    "tunnellings = [[jv(0,(Avals[i] - Avals[j])) for i,j in couples] for Avals in [Avals1, Avals2]]"
   ]
  },
  {
   "cell_type": "code",
   "execution_count": 64,
   "metadata": {},
   "outputs": [
    {
     "data": {
      "image/png": "[encoded data removed]",
      "text/plain": [
       "<Figure size 287.402x208.661 with 1 Axes>"
      ]
     },
     "metadata": {},
     "output_type": "display_data"
    }
   ],
   "source": [
    "fig, ax = plt.subplots(figsize=(7.3/2.54,5.3/2.54))\n",
    "plt.axhline(y=0, color='0', linestyle='-', lw=0.5)\n",
    "ax.scatter(radii,tunnellings[0], marker = 'o', c=colour2, s = 30, label=\"1\")\n",
    "ax.scatter(radii,tunnellings[1], marker = 'x', c=colour1, s = 20, label=\"2\")\n",
    "\n",
    "ax.tick_params(axis='both', which='major', pad=1)\n",
    "ax.set_xlabel(r\"$r_{ij}$\")\n",
    "\n",
    "ax.set_ylabel(r\"$\\kappa_{ij}$\", rotation=0)\n",
    "ax.legend(loc=\"upper left\")\n",
    "# xticks = np.arange(0,12,2)\n",
    "# ax.set_xticks(xticks)\n",
    "# ax.set_xticklabels([str(i+1) for i in xticks])\\\n",
    "# fig.savefig(save_dir/\"linear_tunnelling_2D.pdf\", format=\"pdf\", bbox_inches=\"tight\", pad_inches=0.01)\n",
    "plt.show()\n"
   ]
  },
  {
   "cell_type": "code",
   "execution_count": null,
   "metadata": {},
   "outputs": [],
   "source": []
  },
  {
   "cell_type": "markdown",
   "metadata": {},
   "source": [
    "# 8x8 using Manhattan distance for radius"
   ]
  },
  {
   "cell_type": "code",
   "execution_count": 5,
   "metadata": {},
   "outputs": [
    {
     "name": "stdout",
     "output_type": "stream",
     "text": [
      "1:-0.40275939344110157\n",
      "2:-0.2877593934411016\n",
      "3:-0.2877593934411016\n",
      "4:-0.17275939344110153\n",
      "5:-0.17275939344110153\n",
      "6:-0.17275939344110153\n",
      "7:-0.057759393441101536\n",
      "8:-0.057759393441101536\n",
      "9:-0.057759393441101536\n",
      "10:-0.057759393441101536\n",
      "11:0.05724060655889851\n",
      "12:0.05724060655889851\n",
      "13:0.05724060655889851\n",
      "14:0.1722406065588985\n",
      "15:0.1722406065588985\n",
      "16:0.2872406065588985\n"
     ]
    }
   ],
   "source": [
    "#indices; real radius; manhattan radius\n",
    "l_J1 = (0,0.5);r_J1 = np.sqrt(l_J1[0]**2 + l_J1[1]**2); rm_J1 = l_J1[0]+ l_J1[1]\n",
    "l_J2 = (1,0.5);r_J2 = np.sqrt(l_J2[0]**2 + l_J2[1]**2); rm_J2 = l_J2[0]+ l_J2[1]\n",
    "l_J3 = (0,1.5);r_J3 = np.sqrt(l_J3[0]**2 + l_J3[1]**2); rm_J3 = l_J3[0]+ l_J3[1]\n",
    "l_J4 = (1,1.5);r_J4 = np.sqrt(l_J4[0]**2 + l_J4[1]**2); rm_J4 = l_J4[0]+ l_J4[1]\n",
    "l_J5 = (2,0.5);r_J5 = np.sqrt(l_J5[0]**2 + l_J5[1]**2); rm_J5 = l_J5[0]+ l_J5[1]\n",
    "l_J6 = (0,2.5);r_J6 = np.sqrt(l_J6[0]**2 + l_J6[1]**2); rm_J6 = l_J6[0]+ l_J6[1]\n",
    "l_J7 = (3,0.5);r_J7 = np.sqrt(l_J7[0]**2 + l_J7[1]**2); rm_J7 = l_J7[0]+ l_J7[1]\n",
    "l_J8 = (1,2.5);r_J8 = np.sqrt(l_J8[0]**2 + l_J8[1]**2); rm_J8 = l_J8[0]+ l_J8[1]\n",
    "l_J9 = (2,1.5);r_J9 = np.sqrt(l_J9[0]**2 + l_J9[1]**2); rm_J9 = l_J9[0]+ l_J9[1]\n",
    "l_J10 = (0,3.5);r_J10 = np.sqrt(l_J10[0]**2 + l_J10[1]**2); rm_J10 = l_J10[0]+ l_J10[1]\n",
    "l_J11 = (1,3.5);r_J11 = np.sqrt(l_J11[0]**2 + l_J11[1]**2); rm_J11 = l_J11[0]+ l_J11[1]\n",
    "l_J12 = (3,1.5);r_J12 = np.sqrt(l_J12[0]**2 + l_J12[1]**2); rm_J12 = l_J12[0]+ l_J12[1]\n",
    "l_J13 = (2,2.5);r_J13 = np.sqrt(l_J13[0]**2 + l_J13[1]**2); rm_J13 = l_J13[0]+ l_J13[1]\n",
    "l_J14 = (2,3.5);r_J14 = np.sqrt(l_J14[0]**2 + l_J14[1]**2); rm_J14 = l_J14[0]+ l_J14[1]\n",
    "l_J15 = (3,2.5);r_J15 = np.sqrt(l_J15[0]**2 + l_J15[1]**2); rm_J15 = l_J15[0]+ l_J15[1]\n",
    "l_J16 = (3,3.5);r_J16 = np.sqrt(l_J16[0]**2 + l_J16[1]**2); rm_J16 = l_J16[0]+ l_J16[1]\n",
    "\n",
    "\n",
    "radii = np.array([r_J1, r_J2, r_J3, r_J4, r_J5, r_J6, r_J7, r_J8, r_J9, r_J10,\n",
    "                  r_J11, r_J12, r_J13, r_J14, r_J15, r_J16])\n",
    "radii_manhat = np.array([rm_J1, rm_J2, rm_J3, rm_J4, rm_J5, rm_J6, rm_J7, rm_J8, rm_J9, rm_J10,\n",
    "                  rm_J11, rm_J12, rm_J13, rm_J14, rm_J15, rm_J16])\n",
    "\n",
    "# choose scale to get gradients positive and negative where you want them to be\n",
    "scale = 0.115\n",
    "gradients = radii_manhat*scale - radii_manhat[0]*scale+ jv(0, 3.8316)\n",
    "for i,j in enumerate(gradients):\n",
    "    print(f\"{i+1}:{j}\") "
   ]
  },
  {
   "cell_type": "code",
   "execution_count": 6,
   "metadata": {},
   "outputs": [
    {
     "name": "stdout",
     "output_type": "stream",
     "text": [
      "[3.83159489 3.0858241  3.0858241  2.77038862 2.77038862 2.77038862\n",
      " 2.51895144 2.51895144 2.51895144 2.51895144 2.29685053 2.29685053\n",
      " 2.29685053 2.09009583 2.09009583 1.89067151]\n",
      "[1.57491121 1.5109129  1.25947572 1.25947572 1.0373748  1.05272102\n",
      " 0.83795049]\n"
     ]
    }
   ],
   "source": [
    "xvals = ComputeAValsFromRequiredGradients(gradients)\n",
    "print(xvals)\n",
    "# get diagonal A values from diagonal x values\n",
    "# diagonal x values are xvals[0], xvals[1], xvals[3], xvals[8], xvals[12], xvals[14], xvals[15]\n",
    "\n",
    "\n",
    "# choose A4 first from boundary\n",
    "A4 = xvals[9]/2\n",
    "A5 = xvals[12] - A4\n",
    "A6 = xvals[14] - A5\n",
    "A7 = xvals[15] - A6\n",
    "A3 = xvals[8] - A4\n",
    "A2 = xvals[3] - A3\n",
    "A1 = xvals[1] - A2\n",
    "\n",
    "# choose A3 first from boundary\n",
    "# A3 = xvals[5]/2\n",
    "# A4 = xvals[8] - A3\n",
    "# A5 = xvals[12] - A4\n",
    "# A6 = xvals[14] - A5\n",
    "# A7 = xvals[15] - A6\n",
    "# A2 = xvals[3] - A3\n",
    "# A1 = xvals[1] - A2\n",
    "\n",
    "# choose A2 first from boundary\n",
    "# A2 = xvals[2]/2\n",
    "# A3 = xvals[3] - A2\n",
    "# A4 = xvals[8] - A3\n",
    "# A5 = xvals[12] - A4\n",
    "# A6 = xvals[14] - A5\n",
    "# A7 = xvals[15] - A6\n",
    "# A1 = xvals[1] - A2\n",
    "\n",
    "# choose A1 first from boundary\n",
    "# A1 = xvals[0]/2\n",
    "# A2 = xvals[1] - A1\n",
    "# A3 = xvals[3] - A2\n",
    "# A4 = xvals[8] - A3\n",
    "# A5 = xvals[12] - A4\n",
    "# A6 = xvals[14] - A5\n",
    "# A7 = xvals[15] - A6\n",
    "\n",
    "# now these A values should ensure that the gradient along the diagonal is linear\n",
    "Avals = np.array([A1, A2, A3, A4, A5, A6, A7])\n",
    "print(Avals)\n",
    "\n",
    "# now these A values should ensure that the gradient along the diagonal is linear"
   ]
  },
  {
   "cell_type": "code",
   "execution_count": 7,
   "metadata": {},
   "outputs": [
    {
     "data": {
      "image/png": "[encoded data removed]",
      "text/plain": [
       "<Figure size 287.402x208.661 with 1 Axes>"
      ]
     },
     "metadata": {},
     "output_type": "display_data"
    },
    {
     "data": {
      "image/png": "[encoded data removed]",
      "text/plain": [
       "<Figure size 287.402x208.661 with 1 Axes>"
      ]
     },
     "metadata": {},
     "output_type": "display_data"
    }
   ],
   "source": [
    "#find J vals on diagonal\n",
    "couples_diag = [(1,1), (2,1), (3,2), (4,3), (5,4), (6,5), (7,6)]\n",
    "radii_diag =  np.array([r_J1, r_J2, r_J4,  r_J9,  r_J13, r_J15, r_J16])\n",
    "radii_diag_manhat = np.array([rm_J1, rm_J2, rm_J4,  rm_J9,  rm_J13, rm_J15, rm_J16])\n",
    "J_diag =  [[jv(0,(Avals[i-1] + Avals[j-1])) for i,j in couples_diag]]\n",
    "\n",
    "# find J vals on the boundary\n",
    "couples_boundary = ((1,1), (2,2), (3,3), (4,4))\n",
    "radii_boundary = np.array([r_J1, r_J3, r_J6, r_J10])\n",
    "radii_boundary_manhat = np.array([rm_J1, rm_J3, rm_J6, rm_J10])\n",
    "J_boundary =  [[jv(0,(Avals[i-1] + Avals[j-1])) for i,j in couples_boundary]]\n",
    "\n",
    "# find all other J vals\n",
    "a_matrix = [[1, 1, 2, 3, 4],\n",
    "            [1, 1, 2, 3, 4],\n",
    "            [2, 2, 3, 4, 5],\n",
    "            [3, 3, 4, 5, 6],\n",
    "            [4, 4, 5, 6, 7]\n",
    "            ]\n",
    "J_list = []\n",
    "for i_y, i_x in product(range(1, 5), range(1, 5)):\n",
    "\n",
    "    J_left =  jv(0,(Avals[a_matrix[i_y][i_x]-1] + Avals[a_matrix[i_y][i_x-1]-1])) # y same\n",
    "    J_down =  jv(0,(Avals[a_matrix[i_y][i_x]-1] + Avals[a_matrix[i_y-1][i_x]-1])) #x same\n",
    "    # print(a_matrix[i_y][i_x], a_matrix[i_y][i_x-1], J_left)\n",
    "\n",
    "    r_down = np.sqrt( (i_x-0.5)**2 + (i_y-1)**2)\n",
    "    r_left = np.sqrt( (i_x-1)**2 + (i_y-0.5)**2)\n",
    "\n",
    "    # manhattan distance\n",
    "    rm= i_x+ i_y-1.5\n",
    "\n",
    "    J_list.append((J_left, r_left, rm))\n",
    "    J_list.append((J_down, r_down, rm))\n",
    "J_all, r_all, r_all_manhat = list(zip(*J_list))\n",
    "\n",
    "fig, ax = plt.subplots(figsize=(7.3/2.54,5.3/2.54))\n",
    "plt.axhline(y=0, color='0', linestyle='-', lw=0.5)\n",
    "ax.scatter(r_all_manhat, J_all, marker= '.',  c=\"0.86\", s = 13, label=\"all links\")\n",
    "ax.scatter(radii_diag_manhat,J_diag, marker = 'o', c=colour1, s = 30, label=\"diag\")\n",
    "ax.scatter(radii_boundary_manhat,J_boundary, marker = 'x', c=colour2, s = 30, label=\"boundary\")\n",
    "\n",
    "ax.tick_params(axis='both', which='major', pad=1)\n",
    "ax.set_xlabel(r\"$r_{ij}$\")\n",
    "ax.set_ylabel(r\"$\\kappa_{ij}$\", rotation=0)\n",
    "ax.legend()\n",
    "ax.set_title(\"manhattan dist\")\n",
    "\n",
    "# xticks = np.arange(0,12,2)\n",
    "# ax.set_xticks(xticks)\n",
    "# ax.set_xticklabels([str(i+1) for i in xticks])\\\n",
    "# fig.savefig(save_dir/\"linear_tunnelling_2D.pdf\", format=\"pdf\", bbox_inches=\"tight\", pad_inches=0.01)\n",
    "plt.show()\n",
    "\n",
    "fig, ax = plt.subplots(figsize=(7.3/2.54,5.3/2.54))\n",
    "plt.axhline(y=0, color='0', linestyle='-', lw=0.5)\n",
    "ax.scatter(r_all, J_all, marker= '.',  c=\"0.86\", s = 13, label=\"all links\")\n",
    "\n",
    "ax.scatter(radii_diag,J_diag, marker = 'o', c=colour1, s = 30, label=\"diag\")\n",
    "ax.scatter(radii_boundary,J_boundary, marker = 'x', c=colour2, s = 30, label=\"boundary\")\n",
    "ax.tick_params(axis='both', which='major', pad=1)\n",
    "ax.set_xlabel(r\"$r_{ij}$\")\n",
    "ax.set_ylabel(r\"$\\kappa_{ij}$\", rotation=0)\n",
    "ax.legend()\n",
    "ax.set_title(\"radius dist\")\n",
    "# xticks = np.arange(0,12,2)\n",
    "# ax.set_xticks(xticks)\n",
    "# ax.set_xticklabels([str(i+1) for i in xticks])\\\n",
    "# fig.savefig(save_dir/\"linear_tunnelling_2D.pdf\", format=\"pdf\", bbox_inches=\"tight\", pad_inches=0.01)\n",
    "plt.show()\n"
   ]
  },
  {
   "cell_type": "code",
   "execution_count": 11,
   "metadata": {},
   "outputs": [
    {
     "name": "stdout",
     "output_type": "stream",
     "text": [
      "J1:-0.30657\n",
      "J2:-0.28776\n",
      "J3:-0.26736\n",
      "J4:-0.17276\n",
      "J5:-0.05776\n",
      "J6:-0.05776\n",
      "J7:-0.05776\n",
      "J8:0.05724\n",
      "J9:0.17224\n",
      "J10:0.28724\n"
     ]
    }
   ],
   "source": [
    "couples_order = [(1,1), (1,2), (2,2), (2,3), (3,3), (3,4), (4,4), (4,5), (5,6), (6,7)]\n",
    "J_order =  [jv(0,(Avals[i-1] + Avals[j-1])) for i,j in couples_order]\n",
    "for i in range(len(couples_order)):\n",
    "    print(f\"J{i+1}:{J_order[i]:.5f}\")\n"
   ]
  },
  {
   "cell_type": "markdown",
   "metadata": {},
   "source": [
    "# 7x7\n",
    "###### Strategy: \n",
    "######      1) set diag A vals to be linear\n",
    "######      2) set boundary vals to be linear\n",
    "######      3) fill in A8\n"
   ]
  },
  {
   "cell_type": "code",
   "execution_count": 2,
   "metadata": {},
   "outputs": [
    {
     "name": "stdout",
     "output_type": "stream",
     "text": [
      "J1:-0.40275939344110157\n",
      "J2:-0.18656492383650083\n",
      "J3:-0.0529493934411015\n",
      "J4:0.0529645523939275\n",
      "J5:0.14348739600755545\n",
      "J6:0.29686060655889845\n",
      "J7:0.29686060655889845\n",
      "J8:0.3642278571507589\n",
      "J9:0.5422740513070908\n",
      "J10:0.4862411869207085\n",
      "J11:0.5956340153727008\n",
      "J12:0.7883873261233516\n"
     ]
    }
   ],
   "source": [
    "#indices; real radius; manhattan radius\n",
    "l_J1 = (0,0.5);r_J1 = np.sqrt(l_J1[0]**2 + l_J1[1]**2); rm_J1 = l_J1[0]+ l_J1[1]\n",
    "l_J2 = (1,0.5);r_J2 = np.sqrt(l_J2[0]**2 + l_J2[1]**2); rm_J2 = l_J2[0]+ l_J2[1]\n",
    "l_J3 = (0,1.5);r_J3 = np.sqrt(l_J3[0]**2 + l_J3[1]**2); rm_J3 = l_J3[0]+ l_J3[1]\n",
    "l_J4 = (1,1.5);r_J4 = np.sqrt(l_J4[0]**2 + l_J4[1]**2); rm_J4 = l_J4[0]+ l_J4[1]\n",
    "l_J5 = (2,0.5);r_J5 = np.sqrt(l_J5[0]**2 + l_J5[1]**2); rm_J5 = l_J5[0]+ l_J5[1]\n",
    "l_J6 = (2,1.5);r_J6 = np.sqrt(l_J6[0]**2 + l_J6[1]**2); rm_J6 = l_J6[0]+ l_J6[1]\n",
    "l_J7 = (0,2.5);r_J7 = np.sqrt(l_J7[0]**2 + l_J7[1]**2); rm_J7 = l_J7[0]+ l_J7[1]\n",
    "l_J8 = (1,2.5);r_J8 = np.sqrt(l_J8[0]**2 + l_J8[1]**2); rm_J8 = l_J8[0]+ l_J8[1]\n",
    "l_J9 = (2,2.5);r_J9 = np.sqrt(l_J9[0]**2 + l_J9[1]**2); rm_J9 = l_J9[0]+ l_J9[1]\n",
    "l_J10 = (3,0.5);r_J10 = np.sqrt(l_J10[0]**2 + l_J10[1]**2); rm_J10 = l_J10[0]+ l_J10[1]\n",
    "l_J11 = (3,1.5);r_J11 = np.sqrt(l_J11[0]**2 + l_J11[1]**2); rm_J11 = l_J11[0]+ l_J11[1]\n",
    "l_J12 = (3,2.5);r_J12 = np.sqrt(l_J12[0]**2 + l_J12[1]**2); rm_J12 = l_J12[0]+ l_J12[1]\n",
    "\n",
    "\n",
    "radii = np.array([r_J1, r_J2, r_J3, r_J4, r_J5, r_J6, r_J7, r_J8, r_J9, r_J10, r_J11, r_J12])\n",
    "radii_manhat = np.array([rm_J1, rm_J2, rm_J3, rm_J4, rm_J5, rm_J6, rm_J7, rm_J8, rm_J9, rm_J10, rm_J11, rm_J12])\n",
    "\n",
    "# choose scale to get gradients positive and negative where you want them to be\n",
    "scale = 0.34981\n",
    "gradients = radii*scale - radii[0]*scale+ jv(0, 3.8316)\n",
    "for i,j in enumerate(gradients):\n",
    "    print(f\"J{i+1}:{j}\") "
   ]
  },
  {
   "cell_type": "code",
   "execution_count": null,
   "metadata": {},
   "outputs": [],
   "source": [
    "xvals = ComputeAValsFromRequiredGradients(gradients)\n",
    "print(xvals)\n",
    "\n",
    "\n",
    "\n",
    "\n"
   ]
  },
  {
   "cell_type": "code",
   "execution_count": 3,
   "metadata": {},
   "outputs": [
    {
     "name": "stdout",
     "output_type": "stream",
     "text": [
      "[3.83159489 2.80373732 2.50920738 2.3047754  2.14084171 1.8741304\n",
      " 1.8741304  1.75827855 1.44503007 1.54560872 1.34640085 0.9462159 ]\n",
      "[2.11579744 1.71579744 1.08793988 0.79340994 1.21683552 0.65729488\n",
      " 1.08072047 0.46488826 0.78773519 0.1584807 ]\n"
     ]
    }
   ],
   "source": [
    "xvals = ComputeAValsFromRequiredGradients(gradients)\n",
    "print(xvals)\n",
    "# get diagonal A values from diagonal x values\n",
    "# diagonal x values are xvals[0], xvals[1], xvals[3], xvals[5], xvals[8], xvals[11]\n",
    "\n",
    "# choose A1 first from centre\n",
    "A1 = xvals[0]/2+0.2 # add the 0.2 as this seems to keep all A vals positive..\n",
    "A2 = xvals[0] - A1\n",
    "A3 = xvals[1] - A2\n",
    "A5 = xvals[3] - A3\n",
    "A6 = xvals[5] - A5\n",
    "A9 = xvals[8] - A6\n",
    "A10= xvals[11] - A9\n",
    "\n",
    "# get boundary A vals from boundary x vals\n",
    "A4 = xvals[2] - A2\n",
    "A7 = xvals[6] - A4\n",
    "\n",
    "# get last A val A8 somehow\n",
    "A8 = xvals[9] - A7\n",
    "\n",
    "# now these A values should ensure that the gradient along the diagonal is linear\n",
    "Avals = np.array([A1, A2, A3, A4, A5, A6, A7, A8, A9, A10])\n",
    "print(Avals)\n",
    "\n",
    "# now these A values should ensure that the gradient along the diagonal is linear"
   ]
  },
  {
   "cell_type": "code",
   "execution_count": 4,
   "metadata": {},
   "outputs": [],
   "source": [
    "def cost(x):\n",
    "    \"\"\" x are list of A we are trying to find\"\"\"\n",
    "    cost = ((jv(0, x[0] + x[1]) - gradients[0])**2 + \n",
    "            (jv(0, x[1] + x[2]) - gradients[1])**2 + \n",
    "            (jv(0, x[1] + x[3]) - gradients[2])**2 + \n",
    "            (jv(0, x[2] + x[4]) - gradients[3])**2 + \n",
    "            (jv(0, x[3] + x[4]) - gradients[4])**2 + \n",
    "            (jv(0, x[4] + x[5]) - gradients[5])**2 + \n",
    "            (jv(0, x[3] + x[6]) - gradients[6])**2 + \n",
    "            (jv(0, x[4] + x[7]) - gradients[7])**2 + \n",
    "            (jv(0, x[5] + x[8]) - gradients[8])**2 + \n",
    "            (jv(0, x[6] + x[7]) - gradients[9])**2 + \n",
    "            (jv(0, x[7] + x[8]) - gradients[10])**2 + \n",
    "            (jv(0, x[8] + x[9]) - gradients[11])**2)\n",
    "    return cost\n",
    "\n",
    "# initial conditions from figuring out systematically\n",
    "x0 = (A1, A2, A3, A4, A5, A6, A7, A8, A9, A10)\n",
    "bnds = ((0, None), (0, None), (0, None), (0, None), (0, None), (0, None), (0, None), (0, None), (0, None), (0, None))\n",
    "\n",
    "from scipy.optimize import minimize\n",
    "res = minimize(cost, x0, bounds = bnds)\n",
    "Avals_gd = res.x"
   ]
  },
  {
   "cell_type": "code",
   "execution_count": 5,
   "metadata": {},
   "outputs": [
    {
     "name": "stdout",
     "output_type": "stream",
     "text": [
      "[2.11579744 1.71579744 1.08793988 0.79340994 1.21683552 0.65729488\n",
      " 1.08072047 0.46488826 0.78773519 0.1584807 ]\n",
      "[2.11582203 1.68720929 1.07389822 0.85328855 1.25699391 0.61473761\n",
      " 1.02771616 0.51056825 0.832959   0.11328618]\n"
     ]
    }
   ],
   "source": [
    "print(Avals)\n",
    "print(Avals_gd)"
   ]
  },
  {
   "cell_type": "code",
   "execution_count": 6,
   "metadata": {},
   "outputs": [
    {
     "data": {
      "image/png": "[encoded data removed]",
      "text/plain": [
       "<Figure size 287.402x208.661 with 1 Axes>"
      ]
     },
     "metadata": {},
     "output_type": "display_data"
    },
    {
     "data": {
      "image/png": "[encoded data removed]",
      "text/plain": [
       "<Figure size 287.402x208.661 with 1 Axes>"
      ]
     },
     "metadata": {},
     "output_type": "display_data"
    }
   ],
   "source": [
    "#find J vals on diagonal\n",
    "couples_diag = [(1,2), (2,3), (3,5), (5,6), (6,9), (9,10)]\n",
    "radii_diag =  np.array([r_J1, r_J2, r_J4,  r_J6,  r_J9, r_J12])\n",
    "#from initial conditions\n",
    "J_diag =  [[jv(0,(Avals[i-1] + Avals[j-1])) for i,j in couples_diag]]\n",
    "#from gradient descent\n",
    "J_diag_gd =  [[jv(0,(Avals_gd[i-1] + Avals_gd[j-1])) for i,j in couples_diag]]\n",
    "\n",
    "# find J vals on the boundary\n",
    "couples_boundary = ((1,2), (2,4), (4,7))\n",
    "radii_boundary = np.array([r_J1, r_J3, r_J7])\n",
    "#from initial conditions\n",
    "J_boundary =  [[jv(0,(Avals[i-1] + Avals[j-1])) for i,j in couples_boundary]]\n",
    "#from gradient descent\n",
    "J_boundary_gd =  [[jv(0,(Avals_gd[i-1] + Avals_gd[j-1])) for i,j in couples_boundary]]\n",
    "\n",
    "# find all other J vals\n",
    "#begin by encoding A values on 5x5 grid, then taking all tunnellings down and left on a 4x4 grid\n",
    "a_matrix = [[3, 2, 3, 5, 8],\n",
    "            [2, 1, 2, 4, 7],\n",
    "            [3, 2, 3, 5, 8],\n",
    "            [5, 4, 5, 6, 9],\n",
    "            [8, 7, 8, 9, 10]]\n",
    "\n",
    "J_list = []\n",
    "J_list_gd = []\n",
    "for i_y, i_x in product(range(1, 5), range(1, 5)):\n",
    "    J_down =  jv(0,(Avals[a_matrix[i_y][i_x]-1] + Avals[a_matrix[i_y][i_x-1]-1])) # i_y the same\n",
    "    J_left =  jv(0,(Avals[a_matrix[i_y][i_x]-1] + Avals[a_matrix[i_y-1][i_x]-1])) # i_x the same\n",
    "    J_down_gd =  jv(0,(Avals_gd[a_matrix[i_y][i_x]-1] + Avals_gd[a_matrix[i_y][i_x-1]-1])) \n",
    "    J_left_gd =  jv(0,(Avals_gd[a_matrix[i_y][i_x]-1] + Avals_gd[a_matrix[i_y-1][i_x]-1])) \n",
    "    # print(a_matrix[i_y][i_x], a_matrix[i_y][i_x-1], J_left)\n",
    "    r_down = np.sqrt( (i_x-1.5)**2 + (i_y-1)**2) # i_y the same\n",
    "    r_left = np.sqrt( (i_x-1)**2 + (i_y-1.5)**2) #i_x the same\n",
    "\n",
    "    J_list.append((J_left, r_left))\n",
    "    J_list.append((J_down, r_down))\n",
    "    J_list_gd.append((J_left_gd, r_left))\n",
    "    J_list_gd.append((J_down_gd, r_down))\n",
    "J_all, r_all = list(zip(*J_list))\n",
    "J_all_gd, _= list(zip(*J_list_gd))\n",
    "\n",
    "\n",
    "\n",
    "fig, ax = plt.subplots(figsize=(7.3/2.54,5.3/2.54))\n",
    "plt.axhline(y=0, color='0', linestyle='-', lw=0.5)\n",
    "ax.scatter(r_all, J_all, marker= '.',  c=\"0.86\", s = 13, label=\"all links\")\n",
    "ax.scatter(radii_diag,J_diag, marker = 'o', c=colour1, s = 30, label=\"diag\")\n",
    "ax.scatter(radii_boundary,J_boundary, marker = 'x', c=colour2, s = 30, label=\"boundary\")\n",
    "ax.tick_params(axis='both', which='major', pad=1)\n",
    "ax.set_xlabel(r\"$r_{ij}$\")\n",
    "ax.set_ylabel(r\"$\\kappa_{ij}$\", rotation=0)\n",
    "ax.legend()\n",
    "ax.set_title(\"x0\")\n",
    "# xticks = np.arange(0,12,2)\n",
    "# ax.set_xticks(xticks)\n",
    "# ax.set_xticklabels([str(i+1) for i in xticks])\\\n",
    "# fig.savefig(save_dir/\"linear_tunnelling_2D.pdf\", format=\"pdf\", bbox_inches=\"tight\", pad_inches=0.01)\n",
    "plt.show()\n",
    "\n",
    "fig, ax = plt.subplots(figsize=(7.3/2.54,5.3/2.54))\n",
    "plt.axhline(y=0, color='0', linestyle='-', lw=0.5)\n",
    "ax.scatter(r_all, J_all_gd, marker= '.',  c=\"0.86\", s = 13, label=\"all links\")\n",
    "ax.scatter(radii_diag,J_diag_gd, marker = 'o', c=colour1, s = 30, label=\"diag\")\n",
    "ax.scatter(radii_boundary,J_boundary_gd, marker = 'x', c=colour2, s = 30, label=\"boundary\")\n",
    "ax.tick_params(axis='both', which='major', pad=1)\n",
    "ax.set_xlabel(r\"$r_{ij}$\")\n",
    "ax.set_ylabel(r\"$\\kappa_{ij}$\", rotation=0)\n",
    "ax.legend()\n",
    "ax.set_title(\"grad desc\")\n",
    "# xticks = np.arange(0,12,2)\n",
    "# ax.set_xticks(xticks)\n",
    "# ax.set_xticklabels([str(i+1) for i in xticks])\\\n",
    "# fig.savefig(save_dir/\"linear_tunnelling_2D.pdf\", format=\"pdf\", bbox_inches=\"tight\", pad_inches=0.01)\n",
    "plt.show()\n"
   ]
  },
  {
   "cell_type": "code",
   "execution_count": 7,
   "metadata": {},
   "outputs": [
    {
     "data": {
      "image/png": "[encoded data removed]",
      "text/plain": [
       "<Figure size 287.402x208.661 with 1 Axes>"
      ]
     },
     "metadata": {},
     "output_type": "display_data"
    },
    {
     "data": {
      "image/png": "[encoded data removed]",
      "text/plain": [
       "<Figure size 287.402x208.661 with 1 Axes>"
      ]
     },
     "metadata": {},
     "output_type": "display_data"
    }
   ],
   "source": [
    "#check right tunnellings are positive vs negative\n",
    "# find tunnellings that should be negative\n",
    "couples_neg = [(1,2), (2,3), (2,4)]\n",
    "radii_neg =  np.array([r_J1, r_J2, r_J3])\n",
    "#from initial conditions\n",
    "J_neg =  [[jv(0,(Avals[i-1] + Avals[j-1])) for i,j in couples_neg]]\n",
    "#from gradient descent\n",
    "J_neg_gd =  [[jv(0,(Avals_gd[i-1] + Avals_gd[j-1])) for i,j in couples_neg]]\n",
    "\n",
    "# tunnellings that should be positive\n",
    "couples_pos = ((3,5), (4,5), (5,6), (4, 7), (5, 8), (6, 9), (7,8), (8,9), (9,10))\n",
    "radii_pos = np.array([r_J4, r_J5, r_J6, r_J7, r_J8, r_J9, r_J10, r_J11, r_J12])\n",
    "#from initial conditions\n",
    "J_pos =  [[jv(0,(Avals[i-1] + Avals[j-1])) for i,j in couples_pos]]\n",
    "#from gradient descent\n",
    "J_pos_gd =  [[jv(0,(Avals_gd[i-1] + Avals_gd[j-1])) for i,j in couples_pos]]\n",
    "\n",
    "\n",
    "fig, ax = plt.subplots(figsize=(7.3/2.54,5.3/2.54))\n",
    "plt.axhline(y=0, color='0', linestyle='-', lw=0.5)\n",
    "ax.scatter(radii_neg,J_neg, marker = 'o', c=colour1, s = 30, label=\"neg\")\n",
    "ax.scatter(radii_pos,J_pos, marker = 'x', c=colour2, s = 30, label=\"pos\")\n",
    "ax.tick_params(axis='both', which='major', pad=1)\n",
    "ax.set_xlabel(r\"$r_{ij}$\")\n",
    "ax.set_ylabel(r\"$\\kappa_{ij}$\", rotation=0)\n",
    "ax.legend()\n",
    "ax.set_title(\"x0\")\n",
    "# xticks = np.arange(0,12,2)\n",
    "# ax.set_xticks(xticks)\n",
    "# ax.set_xticklabels([str(i+1) for i in xticks])\\\n",
    "# fig.savefig(save_dir/\"linear_tunnelling_2D.pdf\", format=\"pdf\", bbox_inches=\"tight\", pad_inches=0.01)\n",
    "plt.show()\n",
    "\n",
    "fig, ax = plt.subplots(figsize=(7.3/2.54,5.3/2.54))\n",
    "plt.axhline(y=0, color='0', linestyle='-', lw=0.5)\n",
    "ax.scatter(radii_neg,J_neg_gd, marker = 'o', c=colour1, s = 30, label=\"neg\")\n",
    "ax.scatter(radii_pos,J_pos_gd, marker = 'x', c=colour2, s = 30, label=\"pos\")\n",
    "ax.tick_params(axis='both', which='major', pad=1)\n",
    "ax.set_xlabel(r\"$r_{ij}$\")\n",
    "ax.set_ylabel(r\"$\\kappa_{ij}$\", rotation=0)\n",
    "ax.legend()\n",
    "ax.set_title(\"grad desc\")\n",
    "# xticks = np.arange(0,12,2)\n",
    "# ax.set_xticks(xticks)\n",
    "# ax.set_xticklabels([str(i+1) for i in xticks])\\\n",
    "# fig.savefig(save_dir/\"linear_tunnelling_2D.pdf\", format=\"pdf\", bbox_inches=\"tight\", pad_inches=0.01)\n",
    "plt.show()\n"
   ]
  },
  {
   "cell_type": "code",
   "execution_count": 14,
   "metadata": {},
   "outputs": [
    {
     "name": "stdout",
     "output_type": "stream",
     "text": [
      "J1:-0.40259\n",
      "J2:-0.16885\n",
      "J3:-0.06831\n",
      "J4:0.03895\n",
      "J5:0.16077\n",
      "J6:0.29826\n",
      "J7:0.29286\n",
      "J8:0.35884\n",
      "J9:0.54081\n",
      "J10:0.49037\n",
      "J11:0.59716\n",
      "J12:0.78837\n"
     ]
    }
   ],
   "source": [
    "#okay ^ this looks good!\n",
    "# print J vals\n",
    "\n",
    "couples_order = [(1,2), (2,3), (2,4), (3,5), (4,5), (5,6), (4, 7), (5, 8), (6, 9), (7,8), (8,9), (9,10)]\n",
    "J_order =  [jv(0,(Avals_gd[i-1] + Avals_gd[j-1])) for i,j in couples_order]\n",
    "for i in range(len(couples_order)):\n",
    "    print(f\"J{i+1}:{J_order[i]:.5f}\")\n",
    "\n"
   ]
  },
  {
   "cell_type": "code",
   "execution_count": null,
   "metadata": {},
   "outputs": [],
   "source": []
  }
 ],
 "metadata": {
  "kernelspec": {
   "display_name": "floquet-simulations-srXSFrPT-py3.10",
   "language": "python",
   "name": "python3"
  },
  "language_info": {
   "codemirror_mode": {
    "name": "ipython",
    "version": 3
   },
   "file_extension": ".py",
   "mimetype": "text/x-python",
   "name": "python",
   "nbconvert_exporter": "python",
   "pygments_lexer": "ipython3",
   "version": "3.10.6"
  }
 },
 "nbformat": 4,
 "nbformat_minor": 2
}

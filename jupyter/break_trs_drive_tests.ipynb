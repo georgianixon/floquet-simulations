{
 "cells": [
  {
   "cell_type": "code",
   "execution_count": 79,
   "metadata": {},
   "outputs": [],
   "source": [
    "import numpy as np\n",
    "import matplotlib.pyplot as plt\n",
    "from scipy.integrate import solve_ivp\n",
    "from floquet_simulations.hamiltonians import GetEvalsAndEvecsGen, RoundComplex\n",
    "from floquet_simulations.plot_functions import PlotAbsRealImagHamiltonian, PlotParams\n",
    "from scipy.special import jv\n"
   ]
  },
  {
   "cell_type": "code",
   "execution_count": 33,
   "metadata": {},
   "outputs": [],
   "source": [
    "def H0(N):\n",
    "    return np.diag(-np.ones(N-1),-1)+np.diag(-np.ones(N-1),1)       \n",
    "\n",
    "def HT(H0, funcs, sites, t):\n",
    "\n",
    "    for func, site in zip(funcs, sites):\n",
    "        H0[site-1,site-1] = func(t)\n",
    "    return H0\n",
    "\n",
    "def FT(t, psi, H0, funcs, sites):\n",
    "    H = HT(H0, funcs, sites, t)\n",
    "    return -1j*np.dot(H, psi)\n",
    "\n",
    "def SolveSchrodinger(H0, funcs, sites, tspan, n_timesteps, psi0):\n",
    "    \n",
    "    rtol=1e-11\n",
    "    # points to calculate the matter wave at\n",
    "    t_eval = np.linspace(tspan[0], tspan[1], n_timesteps+1, endpoint=True)\n",
    "    sol = solve_ivp(lambda t,psi: FT(t, psi, H0, funcs, sites), \n",
    "            t_span=tspan, y0=psi0, rtol=rtol, \n",
    "            atol=rtol, t_eval=t_eval,\n",
    "            method='RK45')\n",
    "    sol=sol.y\n",
    "    return sol\n",
    "\n",
    "\n",
    "def CreateHF(H0, funcs, sites, T, num_sites, t0=0, hermitian_accuracy_dp=7): \n",
    "    \"\"\"\n",
    "    t0 is fraction of T\n",
    "    \"\"\"\n",
    "\n",
    "    #sanity check\n",
    "    assert(len(H0) == num_sites)\n",
    "    \n",
    "    tspan = (t0*T,T+t0*T)\n",
    "    UT = np.zeros([num_sites, num_sites], dtype=np.complex_)\n",
    "    n_timesteps = 100\n",
    "    \n",
    "    for A_site_start in range(num_sites):\n",
    "        psi0 = np.zeros(num_sites, dtype=np.complex_); psi0[A_site_start] = 1\n",
    "        sol = SolveSchrodinger(H0, funcs, sites, tspan, n_timesteps, psi0)\n",
    "        UT[:,A_site_start]=sol[:,-1] \n",
    "    \n",
    "    # evals_U, evecs = eig(UT)\n",
    "    evals_U, evecs = GetEvalsAndEvecsGen(UT) #evals can be imaginary\n",
    "    evals_H = 1j / T *np.log(evals_U)\n",
    "    \n",
    "    HF = np.zeros([num_sites,num_sites], dtype=np.complex_)\n",
    "    for i in range(num_sites):\n",
    "        term = evals_H[i]*np.outer(evecs[:,i], np.conj(evecs[:,i]))\n",
    "        HF = HF+term\n",
    "\n",
    "    HF = RoundComplex(HF, hermitian_accuracy_dp)\n",
    "    return UT, HF\n",
    "\n",
    "def step_function(x, T1, T):\n",
    "    xp = x%T\n",
    "    if (np.floor(xp/T1) == 0):\n",
    "        return 1\n",
    "    else:\n",
    "        return 0"
   ]
  },
  {
   "cell_type": "code",
   "execution_count": 121,
   "metadata": {},
   "outputs": [
    {
     "name": "stdout",
     "output_type": "stream",
     "text": [
      "-0.04838377646819789\n"
     ]
    }
   ],
   "source": [
    "omega = 20\n",
    "\n",
    "A = 50\n",
    "T1 = 2*np.pi/omega\n",
    "phi = np.pi*0.2\n",
    "print(jv(0,A/omega))\n",
    "sites = [5]\n",
    "tunnelling_elements = []\n",
    "num_checks = 40\n",
    "T_checks = np.linspace(1,20,num_checks)\n",
    "A_vals = np.linspace(0,10,40)\n",
    "for A_val in A_vals:\n",
    "    T = T1*2.1\n",
    "    funcs = [lambda x: A_val*np.cos(omega*x + phi)*step_function(x, T1, T)]\n",
    "\n",
    "\n",
    "    _, HF = CreateHF(H0(10), funcs, sites, T, num_sites=10, t0=0, hermitian_accuracy_dp=7)\n",
    "    tunnelling_elements.append(HF[5,6])"
   ]
  },
  {
   "cell_type": "code",
   "execution_count": 113,
   "metadata": {},
   "outputs": [],
   "source": []
  },
  {
   "cell_type": "code",
   "execution_count": 122,
   "metadata": {},
   "outputs": [
    {
     "data": {
      "image/png": "[encoded data removed]",
      "text/plain": [
       "<Figure size 640x480 with 1 Axes>"
      ]
     },
     "metadata": {},
     "output_type": "display_data"
    }
   ],
   "source": [
    "fig, ax = plt.subplots()\n",
    "ax.plot(T_checks, np.abs(tunnelling_elements), '.', label=\"abs\")\n",
    "ax.plot(T_checks, np.real(tunnelling_elements), '.', label=\"real\")\n",
    "ax.plot(T_checks, np.imag(tunnelling_elements), '.', label=\"imag\")\n",
    "# ax.plot(T_checks, np.angle(tunnelling_elements) %(2*np.pi)  -np.pi, '.', label=\"angle\")\n",
    "ax.legend()\n",
    "plt.show()"
   ]
  },
  {
   "cell_type": "code",
   "execution_count": 104,
   "metadata": {},
   "outputs": [
    {
     "data": {
      "image/png": "[encoded data removed]",
      "text/plain": [
       "<Figure size 984.252x984.252 with 4 Axes>"
      ]
     },
     "metadata": {},
     "output_type": "display_data"
    }
   ],
   "source": [
    "import matplotlib as mpl\n",
    "from mpl_toolkits.axes_grid1 import make_axes_locatable\n",
    "figsize = (25,25)\n",
    "colourbar_pad=0.1; colourbar_size_percentage=3\n",
    "norm = mpl.colors.Normalize(vmin=-1, vmax=1)\n",
    "\n",
    "'''abs real imag'''\n",
    "\n",
    "apply = [\n",
    "            np.abs, \n",
    "            np.real, np.imag]\n",
    "labels = [\n",
    "            r'$\\mathrm{Abs}\\{G_{n,m}\\}$', \n",
    "            r'$\\mathrm{Re}\\{G_{n,m}\\}$',\n",
    "            r'$\\mathrm{Imag}\\{G_{n,m}\\}$'\n",
    "            ]\n",
    "\n",
    "cmap = mpl.colors.LinearSegmentedColormap.from_list('custom hamiltonians', ['#006F63', \"#FFFFFF\", '#F78320'], N=256)\n",
    "cm_unit = 1/2.54\n",
    "fig, ax = plt.subplots(nrows=1, ncols=len(apply), sharey=True, constrained_layout=True, \n",
    "                        figsize=(figsize[0]*cm_unit, figsize[1]*cm_unit))\n",
    "\n",
    "for n1, f in enumerate(apply):\n",
    "    pcm = ax[n1].matshow(f(HF), interpolation='none', cmap=cmap,  norm=norm)\n",
    "    ax[n1].set_title(labels[n1])\n",
    "    ax[n1].tick_params(axis=\"x\", bottom=True, top=False, labelbottom=True, \n",
    "        labeltop=False)  \n",
    "    ax[n1].set_xlabel('m')\n",
    "\n",
    "ax[0].set_ylabel('n', rotation=0, labelpad=10)\n",
    "\n",
    "divider = make_axes_locatable(ax[2])\n",
    "cax = divider.append_axes('right', size=f\"{colourbar_size_percentage}%\", pad=colourbar_pad)\n",
    "fig.colorbar(mpl.cm.ScalarMappable(norm=norm, cmap=cmap), cax=cax)# label=\"unweighted graph distance\")\n",
    "\n",
    "plt.show()\n"
   ]
  },
  {
   "cell_type": "code",
   "execution_count": null,
   "metadata": {},
   "outputs": [],
   "source": []
  }
 ],
 "metadata": {
  "kernelspec": {
   "display_name": "floquet-simulations-srXSFrPT-py3.10",
   "language": "python",
   "name": "python3"
  },
  "language_info": {
   "codemirror_mode": {
    "name": "ipython",
    "version": 3
   },
   "file_extension": ".py",
   "mimetype": "text/x-python",
   "name": "python",
   "nbconvert_exporter": "python",
   "pygments_lexer": "ipython3",
   "version": "3.10.6"
  }
 },
 "nbformat": 4,
 "nbformat_minor": 2
}

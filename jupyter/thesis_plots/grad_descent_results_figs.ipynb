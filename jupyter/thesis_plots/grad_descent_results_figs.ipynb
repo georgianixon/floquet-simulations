{
 "cells": [
  {
   "cell_type": "code",
   "execution_count": 12,
   "metadata": {},
   "outputs": [],
   "source": [
    "from pathlib import Path\n",
    "import pandas as pd\n",
    "import matplotlib.pyplot as plt\n",
    "from math import pi\n",
    "import numpy as np\n",
    "from floquet_simulations.plot_functions import PlotParams\n",
    "import scipy.integrate as integrate\n",
    "from numpy import pi, sin, cos\n",
    "from scipy.special import jv\n",
    "figsize_hams=(4.3,4.3)\n",
    "fontsize = 10\n",
    "PlotParams(fontsize=fontsize)\n",
    "cm_unit = 1/2.54\n",
    "save_dir = Path().absolute().parent.parent/\"figures\"/\"thesis\"/\"floquet\"\n",
    "\n",
    "def ConvertToFloat(frac_str):\n",
    "    try:\n",
    "        return float(frac_str)\n",
    "    except ValueError:\n",
    "        try:\n",
    "            num, denom = frac_str.split('/')\n",
    "        except ValueError:\n",
    "            return None\n",
    "        try:\n",
    "            leading, num = num.split(' ')\n",
    "        except ValueError:\n",
    "            return float(num) / float(denom)        \n",
    "        if float(leading) < 0:\n",
    "            sign_mult = -1\n",
    "        else:\n",
    "            sign_mult = 1\n",
    "        return float(leading) + sign_mult * (float(num) / float(denom))\n",
    "    \n",
    "def f_J12(A2, A3, omega0, phi3):\n",
    "    \n",
    "    alpha = 1\n",
    "    \n",
    "    omega2 = alpha*omega0\n",
    "\n",
    "    J12 = jv(0,A2/omega2)\n",
    "\n",
    "\n",
    "    return np.abs(J12)\n",
    "\n",
    "\n",
    "\n",
    "def f_J23(A2, A3, omega0, phi3):\n",
    "    \n",
    "    alpha = 1\n",
    "    beta = 2\n",
    "    \n",
    "    omega2 = alpha*omega0\n",
    "    omega3 = beta*omega0\n",
    "\n",
    "    # first term expansion term\n",
    "    J23_real = omega0/2/pi*integrate.quad(lambda t: cos(A3/omega3*sin(omega3*t + phi3) - A2/omega2*sin(omega2*t)), -pi/omega0, pi/omega0)[0]\n",
    "    J23_imag = 1j*omega0/2/pi*integrate.quad(lambda t: sin(A3/omega3*sin(omega3*t + phi3) - A2/omega2*sin(omega2*t)), -pi/omega0, pi/omega0)[0]\n",
    "    # we are removing esimate of absolute error\n",
    "    J23 = J23_real + J23_imag\n",
    "\n",
    "\n",
    "    return np.abs(J23)\n",
    "\n",
    "    \n",
    "def f_J31(A2, A3, omega0, phi3):\n",
    "    \n",
    "\n",
    "    beta = 2\n",
    "\n",
    "    omega3 = beta*omega0\n",
    "\n",
    "\n",
    "    J31 = jv(0, A3/omega3)\n",
    "\n",
    "\n",
    "    return np.abs(J31)"
   ]
  },
  {
   "cell_type": "code",
   "execution_count": 5,
   "metadata": {},
   "outputs": [],
   "source": [
    "omega0 = 8\n",
    "alpha=1; beta=2\n",
    "# data_dir = Path().absolute().parent.parent.parent/\"paper_data\"/\"numerical_optimisation\"/\"continuous_neighbourhood_grad_descent_findminimum_initial_conds.csv\"\n",
    "# data_dir = Path().absolute().parent.parent.parent/\"paper_data\"/f\"grad_descent_findminimum_truevals.csv\"\n",
    "data_dir = Path().absolute().parent.parent/\"paper_data\"/\"numerical_optimisation\"/\"smooth_optimisation_data_(x,y)=(.5,.3).csv\""
   ]
  },
  {
   "cell_type": "code",
   "execution_count": 6,
   "metadata": {},
   "outputs": [],
   "source": [
    "df = pd.read_csv(data_dir,\n",
    "                  index_col=False,\n",
    "                   converters={\"xi0_frac\": ConvertToFloat\n",
    "                   }\n",
    "                  )"
   ]
  },
  {
   "cell_type": "code",
   "execution_count": 7,
   "metadata": {},
   "outputs": [],
   "source": [
    "r10 = 0.5\n",
    "r20 = 0.3\n",
    "\n",
    "dfP = df[(df.xi0_frac <=1)\n",
    "        &(df.r10 == r10)\n",
    "        &(df.r20 == r20)\n",
    "        &(df.algo ==\n",
    "        #    \"FindMinimum,PG=3,AG=3,MI=inf,imported_ic_smart4.0\")\n",
    "           \"FindMinimum,PG=5,AG=5,MI=inf,w=8,use_last_ic\")\n",
    "          # \"FindMinimum,PG=5,AG=5,MI=inf,w=8,use_last_ic,3\")\n",
    "\n",
    "        ]\n",
    "\n",
    "dfP = dfP.sort_values(by=\"xi0_frac\")\n",
    "dfP.xi0_frac = np.round(dfP.xi0_frac.to_list(), 3)\n"
   ]
  },
  {
   "cell_type": "code",
   "execution_count": 11,
   "metadata": {},
   "outputs": [],
   "source": [
    "# dfP.to_csv(Path().absolute().parent.parent.parent/\"paper_data\"/\"numerical_optimisation\"/\"smooth_optimisation_data_(x,y)=(.9,.9).csv\", index=False)"
   ]
  },
  {
   "cell_type": "code",
   "execution_count": 23,
   "metadata": {},
   "outputs": [
    {
     "data": {
      "image/png": "[encoded data removed]",
      "text/plain": [
       "<Figure size 230.469x156.25 with 2 Axes>"
      ]
     },
     "metadata": {},
     "output_type": "display_data"
    }
   ],
   "source": [
    "figsize = (5.9/2.56, 4/2.56)\n",
    "\n",
    "fig, ax1 = plt.subplots(figsize=figsize)\n",
    "\n",
    "ax1.plot(dfP.xi0_frac, dfP.A2, '-', c=\"#C30934\", label=r\"$A_2$\", ms = 1)\n",
    "ax1.plot(dfP.xi0_frac, dfP.A3, '-', c=\"#6517BC\", label=r\"$A_3$\", ms = 1)\n",
    "ax1.set_yticks([ 0,10, 20, 30,40])\n",
    "ax1.set_xticks(np.linspace(-1,1,5))\n",
    "ax1.set_xticklabels([ r\"$-\\pi$\", r\"$-\\pi/2$\", r\"$0$\", r\"$\\pi/2$\", r\"$\\pi$\"])\n",
    "ax1.set_xlabel(r\"$\\Phi^t$\")\n",
    "ax1.xaxis.set_label_coords(0.5,-0.14)\n",
    "\n",
    "ax1.tick_params(axis=\"y\", left=True, right=False, labelleft=True, \n",
    "        labelright=False, direction = \"in\", length = 3, pad=2)  \n",
    "\n",
    "ax1.set_ylabel(r\"$A_i$\", rotation=0)\n",
    "ax1.yaxis.set_label_coords(-0.12, 0.54)\n",
    "\n",
    "ax2 = ax1.twinx()\n",
    "ax2.plot(dfP[dfP.xi0_frac <=0].xi0_frac, dfP[dfP.xi0_frac <=0].phi, '--', c=\"#FFA0C0\", label=r\"$\\varphi$\", ms = 1)\n",
    "ax2.plot(dfP[dfP.xi0_frac >=0].xi0_frac, dfP[dfP.xi0_frac >=0].phi, '--', c=\"#FFA0C0\", ms = 1)\n",
    "ax2.set_yticks([-pi/8, 0, pi/8])\n",
    "ax2.set_yticklabels([r\"$-\\pi/8$\", r\"$0$\", r\"$\\pi/8$\"])\n",
    "ax2.set_ylabel(r\"$\\varphi$\", rotation=0)\n",
    "ax2.yaxis.set_label_coords(1.1,0.63)\n",
    "ax2.tick_params(axis=\"y\", left=False, right=True, labelleft=False, \n",
    "        labelright=True, direction = \"in\", length = 3, pad=2)  \n",
    "\n",
    "leg = ax1.legend(loc='lower left', bbox_to_anchor=(0, 0))\n",
    "leg2 = ax2.legend(loc='lower right', bbox_to_anchor=(1, 0))\n",
    "fig.savefig(save_dir/\"flux_drive_params_findmin_nh=(0.5,0.3).pdf\", format=\"pdf\", bbox_inches=\"tight\", pad_inches=0)\n",
    "\n",
    "plt.show()"
   ]
  },
  {
   "cell_type": "code",
   "execution_count": 10,
   "metadata": {},
   "outputs": [],
   "source": [
    "dfP[\"absJ12\"] = dfP.apply(lambda row : f_J12(row[\"A2\"],\n",
    "                     row['A3'], row['omega'], row['phi']), axis = 1)\n",
    "\n",
    "dfP[\"absJ23\"] = dfP.apply(lambda row : f_J23(row[\"A2\"],\n",
    "                     row['A3'], row['omega'], row['phi']), axis = 1)\n",
    "\n",
    "dfP[\"absJ31\"] = dfP.apply(lambda row : f_J31(row[\"A2\"],\n",
    "                     row['A3'], row['omega'], row['phi']), axis = 1)"
   ]
  },
  {
   "cell_type": "code",
   "execution_count": 19,
   "metadata": {},
   "outputs": [
    {
     "data": {
      "image/png": "[encoded data removed]",
      "text/plain": [
       "<Figure size 250x156.25 with 1 Axes>"
      ]
     },
     "metadata": {},
     "output_type": "display_data"
    }
   ],
   "source": [
    "figsize = (6.4/2.56, 4/2.56)\n",
    "marker = \"-\"\n",
    "fig, ax = plt.subplots(figsize=figsize)\n",
    "\n",
    "\n",
    "ax.plot(dfP.xi0_frac, dfP.absJ12, marker, c=\"#F57F17\", label=r\"$|J_{12}|$\")\n",
    "ax.plot(dfP.xi0_frac, dfP.absJ23, marker, c=\"#27BED2\", label=r\"$|J_{23}|$\")\n",
    "ax.plot(dfP.xi0_frac, dfP.absJ31, marker, c=\"#006F63\", label=r\"$|J_{31}|$\")\n",
    "ax.set_xticks(np.linspace(-1,1,5))\n",
    "ax.set_xticklabels([ r\"$-\\pi$\", r\"$-\\pi/2$\", r\"$0$\", r\"$\\pi/2$\", r\"$\\pi$\"])\n",
    "ax.xaxis.set_label_coords(0.5,-0.14)\n",
    "\n",
    "ax.tick_params(axis=\"y\", left=True, right=False, labelleft=True, \n",
    "        labelright=False, direction = \"in\", length = 3, pad=2) \n",
    "\n",
    "ax.set_xlabel(r\"$\\Phi^t$\")\n",
    "ax.set_yticks(np.linspace(0, 0.8, 5))\n",
    "# ax.set_title(rf\"$(r_0^1, r_0^2) =({r10},{r20})$, $(\\alpha,\\beta)=({alpha},{beta})$\")\n",
    "leg = ax.legend(loc='upper right', bbox_to_anchor=(1,1), fontsize=fontsize*0.9)\n",
    "\n",
    "fig.savefig(save_dir/\"flux_J_params_findmin_nh=(0.5,0.3).pdf\", format=\"pdf\", bbox_inches=\"tight\", pad_inches=0)\n",
    "\n",
    "plt.show()"
   ]
  },
  {
   "cell_type": "code",
   "execution_count": 24,
   "metadata": {},
   "outputs": [],
   "source": [
    "omega0 = 8\n",
    "alpha=1; beta=2\n",
    "data_dir = Path().absolute().parent.parent/\"paper_data\"/\"numerical_optimisation\"/\"smooth_optimisation_data_(x,y)=(.9,.9).csv\""
   ]
  },
  {
   "cell_type": "code",
   "execution_count": 25,
   "metadata": {},
   "outputs": [],
   "source": [
    "df = pd.read_csv(data_dir,\n",
    "                  index_col=False,\n",
    "                   converters={\"xi0_frac\": ConvertToFloat\n",
    "                   }\n",
    "                  )"
   ]
  },
  {
   "cell_type": "code",
   "execution_count": 27,
   "metadata": {},
   "outputs": [],
   "source": [
    "r10 = 0.9\n",
    "r20 = 0.9\n",
    "\n",
    "dfP = df[(df.xi0_frac <=1)\n",
    "        &(df.r10 == r10)\n",
    "        &(df.r20 == r20)\n",
    "        ]\n",
    "\n",
    "dfP = dfP.sort_values(by=\"xi0_frac\")\n",
    "dfP.xi0_frac = np.round(dfP.xi0_frac.to_list(), 3)\n"
   ]
  },
  {
   "cell_type": "code",
   "execution_count": 36,
   "metadata": {},
   "outputs": [
    {
     "data": {
      "image/png": "[encoded data removed]",
      "text/plain": [
       "<Figure size 230.469x156.25 with 2 Axes>"
      ]
     },
     "metadata": {},
     "output_type": "display_data"
    }
   ],
   "source": [
    "figsize = (5.9/2.56, 4/2.56)\n",
    "\n",
    "fig, ax1 = plt.subplots(figsize=figsize)\n",
    "\n",
    "ax1.plot(dfP.xi0_frac, dfP.A2, '-', c=\"#C30934\", label=r\"$A_2$\", ms = 1)\n",
    "ax1.plot(dfP.xi0_frac, dfP.A3, '-', c=\"#6517BC\", label=r\"$A_3$\", ms = 1)\n",
    "ax1.set_yticks([ 0,10, 20, 30,40])\n",
    "ax1.set_xticks(np.linspace(-1,1,5))\n",
    "ax1.set_xticklabels([ r\"$-\\pi$\", r\"$-\\pi/2$\", r\"$0$\", r\"$\\pi/2$\", r\"$\\pi$\"])\n",
    "ax1.set_xlabel(r\"$\\Phi^t$\")\n",
    "ax1.xaxis.set_label_coords(0.5,-0.14)\n",
    "\n",
    "ax1.tick_params(axis=\"y\", left=True, right=False, labelleft=True, \n",
    "        labelright=False, direction = \"in\", length = 3, pad=2)  \n",
    "\n",
    "ax1.set_ylabel(r\"$A_i$\", rotation=0)\n",
    "ax1.yaxis.set_label_coords(-0.12, 0.54)\n",
    "\n",
    "ax2 = ax1.twinx()\n",
    "ax2.plot(dfP[dfP.xi0_frac <0].xi0_frac, dfP[dfP.xi0_frac <0].phi, '--', c=\"#FFA0C0\", label=r\"$\\varphi$\", ms = 1)\n",
    "ax2.plot(dfP[dfP.xi0_frac >0].xi0_frac, dfP[dfP.xi0_frac >0].phi, '--', c=\"#FFA0C0\", ms = 1)\n",
    "ax2.set_yticks([-pi/2, 0, pi/2])\n",
    "ax2.set_yticklabels([r\"$-\\pi/2$\", r\"$0$\",  r\"$\\pi/2$\"])\n",
    "ax2.set_ylabel(r\"$\\varphi$\", rotation=0)\n",
    "ax2.yaxis.set_label_coords(1.1,0.63)\n",
    "ax2.tick_params(axis=\"y\", left=False, right=True, labelleft=False, \n",
    "        labelright=True, direction = \"in\", length = 3, pad=2)  \n",
    "\n",
    "leg = ax1.legend(loc='lower left', bbox_to_anchor=(0, 0))\n",
    "leg2 = ax2.legend(loc='lower right', bbox_to_anchor=(1, 0))\n",
    "fig.savefig(save_dir/\"flux_drive_params_findmin_nh=(0.9,0.9).pdf\", format=\"pdf\", bbox_inches=\"tight\", pad_inches=0)\n",
    "\n",
    "plt.show()"
   ]
  },
  {
   "cell_type": "code",
   "execution_count": 37,
   "metadata": {},
   "outputs": [],
   "source": [
    "dfP[\"absJ12\"] = dfP.apply(lambda row : f_J12(row[\"A2\"],\n",
    "                     row['A3'], row['omega'], row['phi']), axis = 1)\n",
    "\n",
    "dfP[\"absJ23\"] = dfP.apply(lambda row : f_J23(row[\"A2\"],\n",
    "                     row['A3'], row['omega'], row['phi']), axis = 1)\n",
    "\n",
    "dfP[\"absJ31\"] = dfP.apply(lambda row : f_J31(row[\"A2\"],\n",
    "                     row['A3'], row['omega'], row['phi']), axis = 1)\n"
   ]
  },
  {
   "cell_type": "code",
   "execution_count": 44,
   "metadata": {},
   "outputs": [
    {
     "data": {
      "image/png": "[encoded data removed]",
      "text/plain": [
       "<Figure size 250x156.25 with 1 Axes>"
      ]
     },
     "metadata": {},
     "output_type": "display_data"
    }
   ],
   "source": [
    "figsize = (6.4/2.56, 4/2.56)\n",
    "marker = \"-\"\n",
    "marker1 = \"--\"\n",
    "fig, ax = plt.subplots(figsize=figsize)\n",
    "\n",
    "\n",
    "ax.plot(dfP.xi0_frac, dfP.absJ12, marker, c=\"#F57F17\", label=r\"$|J_{12}|$\")\n",
    "ax.plot(dfP.xi0_frac, dfP.absJ23, marker, c=\"#27BED2\", label=r\"$|J_{23}|$\")\n",
    "ax.plot(dfP.xi0_frac, dfP.absJ31, marker1, c=\"#006F63\", label=r\"$|J_{31}|$\")\n",
    "ax.set_xticks(np.linspace(-1,1,5))\n",
    "ax.set_xticklabels([ r\"$-\\pi$\", r\"$-\\pi/2$\", r\"$0$\", r\"$\\pi/2$\", r\"$\\pi$\"])\n",
    "ax.xaxis.set_label_coords(0.5,-0.14)\n",
    "\n",
    "ax.tick_params(axis=\"y\", left=True, right=False, labelleft=True, \n",
    "        labelright=False, direction = \"in\", length = 3, pad=2) \n",
    "\n",
    "ax.set_xlabel(r\"$\\Phi^t$\")\n",
    "ax.set_yticks(np.linspace(0, 0.4, 5))\n",
    "# ax.set_title(rf\"$(r_0^1, r_0^2) =({r10},{r20})$, $(\\alpha,\\beta)=({alpha},{beta})$\")\n",
    "leg = ax.legend(loc='lower right', bbox_to_anchor=(1,0), fontsize=fontsize*0.9)\n",
    "\n",
    "fig.savefig(save_dir/\"flux_J_params_findmin_nh=(0.9,0.9).pdf\", format=\"pdf\", bbox_inches=\"tight\", pad_inches=0)\n",
    "\n",
    "plt.show()"
   ]
  },
  {
   "cell_type": "code",
   "execution_count": 65,
   "metadata": {},
   "outputs": [],
   "source": []
  },
  {
   "cell_type": "code",
   "execution_count": null,
   "metadata": {},
   "outputs": [],
   "source": []
  }
 ],
 "metadata": {
  "kernelspec": {
   "display_name": "floquet-simulations-srXSFrPT-py3.10",
   "language": "python",
   "name": "python3"
  },
  "language_info": {
   "codemirror_mode": {
    "name": "ipython",
    "version": 3
   },
   "file_extension": ".py",
   "mimetype": "text/x-python",
   "name": "python",
   "nbconvert_exporter": "python",
   "pygments_lexer": "ipython3",
   "version": "3.10.6"
  },
  "orig_nbformat": 4
 },
 "nbformat": 4,
 "nbformat_minor": 2
}

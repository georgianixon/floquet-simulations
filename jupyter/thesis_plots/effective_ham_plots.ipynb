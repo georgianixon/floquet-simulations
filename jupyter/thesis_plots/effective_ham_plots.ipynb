{
 "cells": [
  {
   "cell_type": "code",
   "execution_count": 1,
   "metadata": {},
   "outputs": [],
   "source": [
    "from floquet_simulations.periodic_functions import Cosine\n",
    "from floquet_simulations.hamiltonians import CreateHFGeneral\n",
    "from floquet_simulations.plot_functions import *\n",
    "from mpl_toolkits.axes_grid1.inset_locator import inset_axes\n",
    "from numpy import pi\n",
    "from pathlib import Path\n",
    "import numpy as np\n",
    "import matplotlib as mpl\n",
    "from scipy.special import jv\n",
    "\n",
    "figsize_hams=(4.1,4.1)\n",
    "fontsize = 10\n",
    "PlotParams(fontsize=fontsize)\n",
    "num_sites = 13\n",
    "axes_tick_pos=np.array([0,2,4,6,8,10,12])\n",
    "bbox_colourbar_anchor = (0.9, 0.57, 1, 0.73)\n",
    "colourbar_pad=0.1\n",
    "colourbar_size_percentage=5\n",
    "cm_unit = 1/2.54\n",
    "cmap = mpl.colors.LinearSegmentedColormap.from_list('custom hamiltonians', ['#006F63', \"#FFFFFF\", '#F78320'], N=256)\n",
    "xlabel_coords = [0.52,-0.11]\n",
    "ylabel_coords = [-0.14,0.5]\n",
    "\n",
    "save_fig_dir = Path().absolute().parent.parent/\"figures\"/\"thesis\"/\"floquet\"\n",
    "\n"
   ]
  },
  {
   "cell_type": "markdown",
   "metadata": {},
   "source": [
    "### Single Site Shake\n"
   ]
  },
  {
   "cell_type": "code",
   "execution_count": 2,
   "metadata": {},
   "outputs": [
    {
     "name": "stdout",
     "output_type": "stream",
     "text": [
      "0.3917377 -1.0\n"
     ]
    },
    {
     "data": {
      "image/png": "[encoded data removed]",
      "text/plain": [
       "<Figure size 161.417x161.417 with 2 Axes>"
      ]
     },
     "metadata": {},
     "output_type": "display_data"
    }
   ],
   "source": [
    "#SSS\n",
    "\n",
    "centres = np.array([6])\n",
    "funcs = [Cosine]\n",
    "a_val = 90\n",
    "omega0 = 25; T = 2*pi/omega0\n",
    "phi0 = 0\n",
    "onsite0 =0\n",
    "\n",
    "params = [[a_val, omega0, phi0, onsite0]]\n",
    "_, HF = CreateHFGeneral(num_sites, centres, funcs, params, T, circle_boundary=0)\n",
    " \n",
    "sss_plot_dir_path =save_fig_dir/\"strob_ham_single_site_shake.pdf\"\n",
    "\n",
    "colourbar_min = np.min(np.real(HF))\n",
    "colourbar_max = np.max(np.real(HF))\n",
    "print(colourbar_max, colourbar_min)\n",
    "\n",
    "axes_tick_labels=[rf\"${i}$\" for i in axes_tick_pos+np.array([1])] \n",
    "data_cmap_lims = (-1 ,1); colourbar_cmap_lims=(-1,0.5); colourbar_ticks = np.arange(-1,1.5,0.5)\n",
    "norm = mpl.colors.Normalize(vmin=data_cmap_lims[0], vmax=data_cmap_lims[1])\n",
    "\n",
    "fig, ax = plt.subplots(figsize=(figsize_hams[0]*cm_unit, figsize_hams[1]*cm_unit))\n",
    "pcm = ax.matshow(np.real(HF), interpolation='none', cmap=cmap,  norm=norm)\n",
    "ax.tick_params(axis=\"x\", bottom=True, top=True, labelbottom=True, \n",
    "        labeltop=False, direction = \"in\", length = 3, pad=2)  \n",
    "ax.tick_params(axis=\"y\", left=True, right=True, labelleft=True, \n",
    "        labelright=False, direction = \"in\", length = 3, pad=2)  \n",
    "\n",
    "\n",
    "ax.set_ylabel('$i$', rotation=0)\n",
    "ax.yaxis.set_label_coords(ylabel_coords[0], ylabel_coords[1])\n",
    "ax.set_yticks(axes_tick_pos)\n",
    "ax.set_yticklabels(axes_tick_labels)#, font=\"stix\", fontsize=fontsize*0.9)\n",
    "\n",
    "ax.set_xlabel(\"$j$\")\n",
    "ax.xaxis.set_label_coords(xlabel_coords[0], xlabel_coords[1])\n",
    "ax.set_xticks(axes_tick_pos)\n",
    "ax.set_xticklabels(axes_tick_labels)#, font=\"stix\", fontsize=fontsize*0.9)\n",
    "\n",
    "ax.set_title(r'$[H_S^{t_0}]_{i,j}/J$')\n",
    "\n",
    "new_norm = mpl.colors.Normalize(vmin=colourbar_cmap_lims[0], vmax=colourbar_cmap_lims[1])\n",
    "new_cmap = truncate_colormap(cmap, (colourbar_cmap_lims[0]-data_cmap_lims[0])/(data_cmap_lims[1] - data_cmap_lims[0]), (colourbar_cmap_lims[1]-data_cmap_lims[0])/(data_cmap_lims[1] - data_cmap_lims[0]))\n",
    "axins = inset_axes(\n",
    "    ax,\n",
    "    width=\"5%\",  # width: 5% of parent_bbox width\n",
    "    height=\"50%\",  # height: 50%\n",
    "    loc=\"lower left\",\n",
    "    bbox_to_anchor=bbox_colourbar_anchor,\n",
    "    bbox_transform=ax.transAxes,\n",
    "    borderpad=0,\n",
    ")\n",
    "cbar = fig.colorbar(mpl.cm.ScalarMappable(norm=new_norm, cmap=new_cmap), cax=axins, ticks=colourbar_ticks, ticklocation=\"left\")\n",
    "cbar.ax.tick_params(labelsize=fontsize*0.7, pad=0)\n",
    "\n",
    "# fig.savefig(sss_plot_dir_path, format=\"pdf\", bbox_inches=\"tight\", pad_inches=0)\n",
    "plt.show()\n",
    "\n",
    "\n"
   ]
  },
  {
   "cell_type": "markdown",
   "metadata": {},
   "source": [
    "#### log scale\n"
   ]
  },
  {
   "cell_type": "code",
   "execution_count": 22,
   "metadata": {},
   "outputs": [
    {
     "name": "stdout",
     "output_type": "stream",
     "text": [
      "0.3917377 -1.0\n"
     ]
    },
    {
     "data": {
      "image/png": "[encoded data removed]",
      "text/plain": [
       "<Figure size 161.417x161.417 with 2 Axes>"
      ]
     },
     "metadata": {},
     "output_type": "display_data"
    }
   ],
   "source": [
    "centres = np.array([6])\n",
    "funcs = [Cosine]\n",
    "a_val = 90\n",
    "omega0 = 25; T = 2*pi/omega0\n",
    "phi0 = 0\n",
    "onsite0 =0\n",
    "params = [[a_val, omega0, phi0, onsite0]]\n",
    "_, HF = CreateHFGeneral(num_sites, centres, funcs, params, T, circle_boundary=0)\n",
    " \n",
    "sss_log_plot_dir = save_fig_dir/\"strob_ham_single_site_shake_log.pdf\"\n",
    "\n",
    "colourbar_min = np.min(np.real(HF))\n",
    "colourbar_max = np.max(np.real(HF))\n",
    "print(colourbar_max, colourbar_min)\n",
    "\n",
    "axes_tick_labels=[rf\"${i}$\" for i in axes_tick_pos+np.array([1])] \n",
    "data_cmap_lims = (-1 ,1); colourbar_cmap_lims=(-1,1); colourbar_ticks = [-1,-0.1,0,0.1,1]\n",
    "\n",
    "linthresh = 1e-1\n",
    "norm=mpl.colors.SymLogNorm(linthresh=linthresh, linscale=1, vmin=-1.0, vmax=1.0, base=10)\n",
    "\n",
    "fig, ax = plt.subplots(figsize=(figsize_hams[0]*cm_unit, figsize_hams[1]*cm_unit))\n",
    "pcm = ax.matshow(np.real(HF), interpolation='none', cmap=cmap,  norm=norm)\n",
    "ax.tick_params(axis=\"x\", bottom=True, top=True, labelbottom=True, \n",
    "        labeltop=False, direction = \"in\", length = 3, pad=2)  \n",
    "ax.tick_params(axis=\"y\", left=True, right=True, labelleft=True, \n",
    "        labelright=False, direction = \"in\", length = 3, pad=2)  \n",
    "\n",
    "\n",
    "ax.set_ylabel('$i$', rotation=0)\n",
    "ax.yaxis.set_label_coords(ylabel_coords[0], ylabel_coords[1])\n",
    "ax.set_yticks(axes_tick_pos)\n",
    "ax.set_yticklabels(axes_tick_labels, font=\"stix\", fontsize=fontsize*0.9)\n",
    "\n",
    "ax.set_xlabel(\"$j$\", fontsize=fontsize)\n",
    "ax.xaxis.set_label_coords(xlabel_coords[0], xlabel_coords[1])\n",
    "ax.set_xticks(axes_tick_pos)\n",
    "ax.set_xticklabels(axes_tick_labels, font=\"stix\", fontsize=fontsize*0.9)\n",
    "ax.set_title(r'$[H_S^{t_0}]_{i,j}/J$')\n",
    "\n",
    "new_norm=mpl.colors.SymLogNorm(linthresh=linthresh, linscale=1, vmin=colourbar_cmap_lims[0], vmax=colourbar_cmap_lims[1], base=10)\n",
    "new_cmap = truncate_colormap(cmap, (colourbar_cmap_lims[0]-data_cmap_lims[0])/(data_cmap_lims[1] - data_cmap_lims[0]), (colourbar_cmap_lims[1]-data_cmap_lims[0])/(data_cmap_lims[1] - data_cmap_lims[0]))\n",
    "axins = inset_axes(\n",
    "    ax,\n",
    "    width=\"5%\",  # width: 5% of parent_bbox width\n",
    "    height=\"50%\",  # height: 50%\n",
    "    loc=\"lower left\",\n",
    "    bbox_to_anchor=bbox_colourbar_anchor,\n",
    "    bbox_transform=ax.transAxes,\n",
    "    borderpad=0,\n",
    ")\n",
    "cbar = fig.colorbar(mpl.cm.ScalarMappable(norm=new_norm, cmap=new_cmap), cax=axins, ticks=colourbar_ticks, ticklocation=\"left\")\n",
    "cbar.ax.tick_params(labelsize=fontsize*0.7, pad=0)\n",
    "\n",
    "fig.savefig(sss_log_plot_dir, format=\"pdf\", bbox_inches=\"tight\", pad_inches=0)\n",
    "plt.show()\n",
    "\n",
    "\n"
   ]
  },
  {
   "cell_type": "markdown",
   "metadata": {},
   "source": [
    "### SSH"
   ]
  },
  {
   "cell_type": "code",
   "execution_count": 21,
   "metadata": {},
   "outputs": [
    {
     "name": "stdout",
     "output_type": "stream",
     "text": [
      "0.2865181 -0.9986129\n"
     ]
    },
    {
     "data": {
      "image/png": "[encoded data removed]",
      "text/plain": [
       "<Figure size 161.417x161.417 with 2 Axes>"
      ]
     },
     "metadata": {},
     "output_type": "display_data"
    }
   ],
   "source": [
    "#SSH\n",
    "centres = np.array(range(num_sites))\n",
    "funcs = [Cosine]*num_sites\n",
    "a1 = 39; a2 = 38\n",
    "omega0 = 25; T = 2*pi/omega0\n",
    "phi0 = 0; onsite0 = 0\n",
    "params = ([[a_val, omega0, phi0, onsite0] for a_val in [a1, a2, -a1, -a2]]*5)[:num_sites]\n",
    "_, HF = CreateHFGeneral(num_sites, centres, funcs, params, T, circle_boundary=0)\n",
    "\n",
    "ssh_plot_dir = save_fig_dir/\"strob_ham_ssh.pdf\"\n",
    "\n",
    "colourbar_min = np.min(np.real(HF))\n",
    "colourbar_max = np.max(np.real(HF))\n",
    "print(colourbar_max, colourbar_min)\n",
    "\n",
    "axes_tick_labels=[rf\"${i}$\" for i in axes_tick_pos+np.array([1])] \n",
    "data_cmap_lims = (-1 ,1); colourbar_cmap_lims=(-1,0.5); colourbar_ticks = np.arange(-1,1.5,0.5)\n",
    "norm = mpl.colors.Normalize(vmin=data_cmap_lims[0], vmax=data_cmap_lims[1])\n",
    "\n",
    "fig, ax = plt.subplots(figsize=(figsize_hams[0]*cm_unit, figsize_hams[1]*cm_unit))\n",
    "pcm = ax.matshow(np.real(HF), interpolation='none', cmap=cmap,  norm=norm)\n",
    "ax.tick_params(axis=\"x\", bottom=True, top=True, labelbottom=True, \n",
    "        labeltop=False, direction = \"in\", length = 3, pad=2)  \n",
    "ax.tick_params(axis=\"y\", left=True, right=True, labelleft=True, \n",
    "        labelright=False, direction = \"in\", length = 3, pad=2)  \n",
    "\n",
    "\n",
    "ax.set_ylabel('$i$', rotation=0)\n",
    "ax.yaxis.set_label_coords(ylabel_coords[0], ylabel_coords[1])\n",
    "ax.set_yticks(axes_tick_pos)\n",
    "ax.set_yticklabels(axes_tick_labels)\n",
    "\n",
    "ax.set_xlabel(\"$j$\")\n",
    "ax.xaxis.set_label_coords(xlabel_coords[0], xlabel_coords[1])\n",
    "ax.set_xticks(axes_tick_pos)\n",
    "ax.set_xticklabels(axes_tick_labels)\n",
    "ax.set_title(r'$[H_S^{t_0}]_{i,j}/J$')\n",
    "from mpl_toolkits.axes_grid1.inset_locator import inset_axes\n",
    "new_norm = mpl.colors.Normalize(vmin=colourbar_cmap_lims[0], vmax=colourbar_cmap_lims[1])\n",
    "new_cmap = truncate_colormap(cmap, (colourbar_cmap_lims[0]-data_cmap_lims[0])/(data_cmap_lims[1] - data_cmap_lims[0]), (colourbar_cmap_lims[1]-data_cmap_lims[0])/(data_cmap_lims[1] - data_cmap_lims[0]))\n",
    "axins = inset_axes(\n",
    "    ax,\n",
    "    width=\"5%\",  # width: 5% of parent_bbox width\n",
    "    height=\"50%\",  # height: 50%\n",
    "    loc=\"lower left\",\n",
    "    bbox_to_anchor=bbox_colourbar_anchor,\n",
    "    bbox_transform=ax.transAxes,\n",
    "    borderpad=0,\n",
    ")\n",
    "cbar = fig.colorbar(mpl.cm.ScalarMappable(norm=new_norm, cmap=new_cmap), cax=axins, ticks=colourbar_ticks, ticklocation=\"left\")\n",
    "cbar.ax.tick_params(labelsize=\n",
    "                    7, pad=0)\n",
    "\n",
    "fig.savefig(ssh_plot_dir, format=\"pdf\", bbox_inches=\"tight\", pad_inches=0)\n",
    "plt.show()"
   ]
  },
  {
   "cell_type": "markdown",
   "metadata": {},
   "source": [
    "#### Edge state"
   ]
  },
  {
   "cell_type": "code",
   "execution_count": 20,
   "metadata": {},
   "outputs": [
    {
     "data": {
      "image/png": "[encoded data removed]",
      "text/plain": [
       "<Figure size 161.417x161.417 with 1 Axes>"
      ]
     },
     "metadata": {},
     "output_type": "display_data"
    }
   ],
   "source": [
    "figsize_evec = figsize_hams\n",
    "from floquet_simulations.hamiltonians import GetEvalsAndEvecsGen\n",
    "evals, evecs = GetEvalsAndEvecsGen(HF)\n",
    "fig, ax = plt.subplots(figsize=(figsize_evec[0]*cm_unit, figsize_evec[1]*cm_unit))\n",
    "ax.plot(np.linspace(1,num_sites,num_sites), np.abs(evecs[:,6])**2, \n",
    "            linestyle = \"-\",\n",
    "                # linestyle=(1,(3,1,1,1,1)), \n",
    "                c='#006F63')\n",
    "\n",
    "ax.tick_params(axis=\"x\", bottom=True, top=False, labelbottom=True, \n",
    "        labeltop=False, direction = \"in\", length = 3, pad=2)  \n",
    "ax.tick_params(axis=\"y\", left=True, right=False, labelleft=True, \n",
    "        labelright=False, direction = \"in\", length = 3, pad=2)  \n",
    "\n",
    "ax.set_ylabel(\"Probability Density\", rotation = 90)\n",
    "ax.yaxis.set_label_coords(ylabel_coords[0], ylabel_coords[1])\n",
    "# ax.yaxis.set_label_coords(-0.1,0.5)\n",
    "ax.set_title(\"Edge State\", y=0.97)\n",
    "\n",
    "ax.set_xlabel(r\"site\")\n",
    "# ax.xaxis.set_label_coords(0.5,-0.09)\n",
    "ax.xaxis.set_label_coords(xlabel_coords[0], xlabel_coords[1])\n",
    "ax.set_ylim(-0.05, 1.05)\n",
    "# ax.set_xticks([1,3,5,7,9,11])\n",
    "ax.set_yticks([0,1,1])\n",
    "ax.set_xticks([i + 1 for i in axes_tick_pos])\n",
    "# ax.set_xticklabels(axes_tick_labels)\n",
    "\n",
    "\n",
    "fig.savefig(save_fig_dir/\"zero_energy_edge_state.pdf\", format=\"pdf\", bbox_inches=\"tight\", pad_inches=0)\n",
    "\n",
    "plt.show()\n"
   ]
  },
  {
   "cell_type": "markdown",
   "metadata": {},
   "source": [
    "### SSH3"
   ]
  },
  {
   "cell_type": "code",
   "execution_count": 24,
   "metadata": {},
   "outputs": [
    {
     "name": "stdout",
     "output_type": "stream",
     "text": [
      "0.3982664 -0.3924209\n"
     ]
    },
    {
     "data": {
      "image/png": "[encoded data removed]",
      "text/plain": [
       "<Figure size 161.417x161.417 with 2 Axes>"
      ]
     },
     "metadata": {},
     "output_type": "display_data"
    }
   ],
   "source": [
    "#SSH3 v2\n",
    "centres = np.array(range(num_sites))\n",
    "funcs = [Cosine]*num_sites\n",
    "a1 = -40; a2 = 2.5; a3=-52\n",
    "omega0 = 25; T = 2*pi/omega0\n",
    "phi0 = 0\n",
    "onsite0 =0\n",
    "params = ([[a_val, omega0, phi0, onsite0] for a_val in [a1, a2, a3, -a1, -a2, -a3]]*5)[:num_sites]\n",
    "_, HF = CreateHFGeneral(num_sites, centres, funcs, params, T, circle_boundary=0)\n",
    " \n",
    "ssh3_plot_dir = Path().absolute().parent.parent/\"figures\"/\"thesis\"/\"floquet\"/\"strob_ham_ssh3.pdf\"\n",
    "\n",
    "colourbar_min = np.min(np.real(HF))\n",
    "colourbar_max = np.max(np.real(HF))\n",
    "print(colourbar_max, colourbar_min)\n",
    "\n",
    "axes_tick_labels=[rf\"${i}$\" for i in axes_tick_pos+np.array([1])] \n",
    "data_cmap_lims = (-0.5 ,0.5); colourbar_cmap_lims=(-0.4,0.4); colourbar_ticks = np.arange(-0.4,0.5,0.4)\n",
    "norm = mpl.colors.Normalize(vmin=data_cmap_lims[0], vmax=data_cmap_lims[1])\n",
    "\n",
    "fig, ax = plt.subplots(figsize=(figsize_hams[0]*cm_unit, figsize_hams[1]*cm_unit))\n",
    "\n",
    "pcm = ax.matshow(np.real(HF), interpolation='none', cmap=cmap,  norm=norm)\n",
    "ax.tick_params(axis=\"x\", bottom=True, top=True, labelbottom=True, \n",
    "        labeltop=False, direction = \"in\", length = 3, pad=2)  \n",
    "ax.tick_params(axis=\"y\", left=True, right=True, labelleft=True, \n",
    "        labelright=False, direction = \"in\", length = 3, pad=2)  \n",
    "\n",
    "ax.set_ylabel('$i$', rotation=0, fontsize=fontsize)\n",
    "ax.yaxis.set_label_coords(ylabel_coords[0], ylabel_coords[1])\n",
    "ax.set_yticks(axes_tick_pos)\n",
    "ax.set_yticklabels(axes_tick_labels, font=\"stix\", fontsize=fontsize*0.9)\n",
    "ax.set_title(r'$[H_S^{t_0}]_{i,j}/J$')\n",
    "\n",
    "ax.set_xlabel(\"$j$\", fontsize=fontsize)\n",
    "ax.xaxis.set_label_coords(xlabel_coords[0], xlabel_coords[1])\n",
    "ax.set_xticks(axes_tick_pos)\n",
    "ax.set_xticklabels(axes_tick_labels, font=\"stix\", fontsize=fontsize*0.9)\n",
    "\n",
    "new_norm = mpl.colors.Normalize(vmin=colourbar_cmap_lims[0], vmax=colourbar_cmap_lims[1])\n",
    "new_cmap = truncate_colormap(cmap, (colourbar_cmap_lims[0]-data_cmap_lims[0])/(data_cmap_lims[1] - data_cmap_lims[0]), (colourbar_cmap_lims[1]-data_cmap_lims[0])/(data_cmap_lims[1] - data_cmap_lims[0]))\n",
    "axins = inset_axes(\n",
    "    ax,\n",
    "    width=\"5%\",  # width: 5% of parent_bbox width\n",
    "    height=\"50%\",  # height: 50%\n",
    "    loc=\"lower left\",\n",
    "    bbox_to_anchor=bbox_colourbar_anchor,\n",
    "    bbox_transform=ax.transAxes,\n",
    "    borderpad=0,\n",
    ")\n",
    "cbar = fig.colorbar(mpl.cm.ScalarMappable(norm=new_norm, cmap=new_cmap), cax=axins, ticks=colourbar_ticks, ticklocation=\"left\")\n",
    "cbar.ax.tick_params(labelsize=fontsize*0.7, pad=0)\n",
    "\n",
    "fig.savefig(ssh3_plot_dir, format=\"pdf\", bbox_inches=\"tight\", pad_inches=0)\n",
    "plt.show()\n",
    "\n",
    "\n"
   ]
  },
  {
   "cell_type": "markdown",
   "metadata": {},
   "source": [
    "### SSH4"
   ]
  },
  {
   "cell_type": "code",
   "execution_count": 25,
   "metadata": {},
   "outputs": [
    {
     "name": "stdout",
     "output_type": "stream",
     "text": [
      "0.3842382 -0.9793254\n"
     ]
    },
    {
     "data": {
      "image/png": "[encoded data removed]",
      "text/plain": [
       "<Figure size 161.417x161.417 with 2 Axes>"
      ]
     },
     "metadata": {},
     "output_type": "display_data"
    }
   ],
   "source": [
    "#SSH4\n",
    "centres = np.array(range(num_sites))\n",
    "funcs = [Cosine]*num_sites\n",
    "a1 = 16.917322691940058; a2 = -50; a3 = 38.315948852085626; a4 = -10\n",
    "omega0 = 25; T = 2*pi/omega0\n",
    "phi0 = 0\n",
    "onsite0=0\n",
    "params = ([[a_val, omega0, phi0, onsite0] for a_val in [a1, a2, a3, a4, -a1, -a2, -a3, -a4]]*5)[:num_sites]\n",
    "_, HF = CreateHFGeneral(num_sites, centres, funcs, params, T, circle_boundary=0)\n",
    "\n",
    "\n",
    "ssh4_plot_dir = Path().absolute().parent.parent/\"figures\"/\"thesis\"/\"floquet\"/\"strob_ham_ssh4.pdf\"\n",
    "\n",
    "colourbar_min = np.min(np.real(HF))\n",
    "colourbar_max = np.max(np.real(HF))\n",
    "print(colourbar_max, colourbar_min)\n",
    "\n",
    "\n",
    "axes_tick_labels=[rf\"${i}$\" for i in axes_tick_pos+np.array([1])] \n",
    "data_cmap_lims = (-1 ,1); colourbar_cmap_lims=(-1,0.5); colourbar_ticks = np.arange(-1,1,0.5)\n",
    "norm = mpl.colors.Normalize(vmin=data_cmap_lims[0], vmax=data_cmap_lims[1])\n",
    "fig, ax = plt.subplots(figsize=(figsize_hams[0]*cm_unit, figsize_hams[1]*cm_unit))\n",
    "\n",
    "pcm = ax.matshow(np.real(HF), interpolation='none', cmap=cmap,  norm=norm)\n",
    "ax.tick_params(axis=\"x\", bottom=True, top=True, labelbottom=True, \n",
    "        labeltop=False, direction = \"in\", length = 3, pad=2)  \n",
    "ax.tick_params(axis=\"y\", left=True, right=True, labelleft=True, \n",
    "        labelright=False, direction = \"in\", length = 3, pad=2)  \n",
    "\n",
    "\n",
    "ax.set_ylabel('$i$', rotation=0, fontsize=fontsize)\n",
    "ax.yaxis.set_label_coords(ylabel_coords[0], ylabel_coords[1])\n",
    "ax.set_yticks(axes_tick_pos)\n",
    "ax.set_yticklabels(axes_tick_labels, font=\"stix\", fontsize=fontsize*0.9)\n",
    "\n",
    "ax.set_xlabel(\"$j$\", fontsize=fontsize)\n",
    "ax.xaxis.set_label_coords(xlabel_coords[0], xlabel_coords[1])\n",
    "ax.set_xticks(axes_tick_pos)\n",
    "ax.set_xticklabels(axes_tick_labels, font=\"stix\", fontsize=fontsize*0.9)\n",
    "ax.set_title(r'$[H_S^{t_0}]_{i,j}/J$')\n",
    "\n",
    "new_norm = mpl.colors.Normalize(vmin=colourbar_cmap_lims[0], vmax=colourbar_cmap_lims[1])\n",
    "new_cmap = truncate_colormap(cmap, (colourbar_cmap_lims[0]-data_cmap_lims[0])/(data_cmap_lims[1] - data_cmap_lims[0]), (colourbar_cmap_lims[1]-data_cmap_lims[0])/(data_cmap_lims[1] - data_cmap_lims[0]))\n",
    "axins = inset_axes(\n",
    "    ax,\n",
    "    width=\"5%\",  # width: 5% of parent_bbox width\n",
    "    height=\"50%\",  # height: 50%\n",
    "    loc=\"lower left\",\n",
    "    bbox_to_anchor=bbox_colourbar_anchor,\n",
    "    bbox_transform=ax.transAxes,\n",
    "    borderpad=0,\n",
    ")\n",
    "cbar = fig.colorbar(mpl.cm.ScalarMappable(norm=new_norm, cmap=new_cmap), cax=axins, ticks=colourbar_ticks, ticklocation=\"left\")\n",
    "cbar.ax.tick_params(labelsize=fontsize*0.7, pad=0)\n",
    "\n",
    "fig.savefig(ssh4_plot_dir, format=\"pdf\", bbox_inches=\"tight\", pad_inches=0)\n",
    "plt.show()\n",
    "\n",
    "\n"
   ]
  },
  {
   "cell_type": "markdown",
   "metadata": {},
   "source": [
    "### Bessel"
   ]
  },
  {
   "cell_type": "code",
   "execution_count": 61,
   "metadata": {},
   "outputs": [],
   "source": [
    "#bessel\n",
    "num_sites = 5\n",
    "centres = [2]\n",
    "funcs = [Cosine]\n",
    "omega0 = 10\n",
    "num_As = 50\n",
    "As = np.linspace(0,100,num_As)\n",
    "phi0 = 0\n",
    "onsite0 =0\n",
    "hoppings = np.empty(num_As, dtype=np.complex128)\n",
    "for i, a0 in enumerate(As):\n",
    "    T = 2*pi/omega0\n",
    "    params = [[a0, omega0, phi0, onsite0]]\n",
    "    _, HF = CreateHFGeneral(num_sites, centres, funcs, params, T, circle_boundary=0)\n",
    "    hoppings[i] = HF[2,3]"
   ]
  },
  {
   "cell_type": "code",
   "execution_count": 63,
   "metadata": {},
   "outputs": [
    {
     "data": {
      "image/png": "[encoded data removed]",
      "text/plain": [
       "<Figure size 161.417x161.417 with 1 Axes>"
      ]
     },
     "metadata": {},
     "output_type": "display_data"
    }
   ],
   "source": [
    "\n",
    "figsize_rec = figsize_hams\n",
    "fig, ax = plt.subplots(figsize=(figsize_rec[0]*cm_unit, figsize_rec[1]*cm_unit))\n",
    "ax.hlines(0,-0.5,11, color=\"0.9\")\n",
    "\n",
    "ax.plot(As/omega0, jv(0, As/omega0), color='0.5', label=r\"from $H_\\mathrm{eff}^{(0)}$\")\n",
    "ax.plot(As/omega0,  -np.real(hoppings),':', color=\"#C30934\", label=r\"from $H_S^{t_0}$\")\n",
    "\n",
    "ax.tick_params(axis=\"x\", bottom=True, top=True, labelbottom=True, \n",
    "        labeltop=False, direction = \"in\", length = 3, pad=2)  \n",
    "ax.tick_params(axis=\"y\", left=True, right=True, labelleft=True, \n",
    "        labelright=False, direction = \"in\", length = 3, pad=2)  \n",
    "\n",
    "\n",
    "ax.set_xlabel(r\"$A/\\omega$\")\n",
    "ax.set_ylabel(r\"$\\frac{J'}{J}$\", fontsize=fontsize*1.3, rotation=0)#\n",
    "ax.yaxis.set_label_coords(ylabel_coords[0], ylabel_coords[1])\n",
    "ax.xaxis.set_label_coords(xlabel_coords[0], xlabel_coords[1])\n",
    "# ax.set_xticks(np.arange(0,0.27, 0.05))\n",
    "ax.set_xlim([0,10])\n",
    "xticks = [0, 5, 10]\n",
    "ax.set_xticks(xticks)\n",
    "ax.set_xticklabels([rf\"${i}$\" for i in xticks])\n",
    "ax.set_yticks([0,1])\n",
    "ax.legend(loc='upper right', bbox_to_anchor=(0.98, 1.0), ncol=1 )\n",
    "bessel_plot_dir =  Path().absolute().parent.parent/\"figures\"/\"thesis\"/\"floquet\"/\"bessel_func_strob.pdf\"\n",
    "fig.savefig(bessel_plot_dir, format=\"pdf\", bbox_inches=\"tight\", pad_inches=0)\n",
    "plt.show()\n"
   ]
  },
  {
   "cell_type": "code",
   "execution_count": null,
   "metadata": {},
   "outputs": [],
   "source": []
  },
  {
   "cell_type": "code",
   "execution_count": null,
   "metadata": {},
   "outputs": [],
   "source": []
  },
  {
   "cell_type": "code",
   "execution_count": null,
   "metadata": {},
   "outputs": [],
   "source": []
  },
  {
   "cell_type": "code",
   "execution_count": null,
   "metadata": {},
   "outputs": [],
   "source": []
  },
  {
   "cell_type": "code",
   "execution_count": null,
   "metadata": {},
   "outputs": [],
   "source": []
  }
 ],
 "metadata": {
  "kernelspec": {
   "display_name": "floquet-simulations-srXSFrPT-py3.10",
   "language": "python",
   "name": "python3"
  },
  "language_info": {
   "codemirror_mode": {
    "name": "ipython",
    "version": 3
   },
   "file_extension": ".py",
   "mimetype": "text/x-python",
   "name": "python",
   "nbconvert_exporter": "python",
   "pygments_lexer": "ipython3",
   "version": "3.10.6"
  }
 },
 "nbformat": 4,
 "nbformat_minor": 2
}

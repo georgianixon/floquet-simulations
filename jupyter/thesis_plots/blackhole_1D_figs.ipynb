{
 "cells": [
  {
   "cell_type": "code",
   "execution_count": 1,
   "metadata": {},
   "outputs": [],
   "source": [
    "from floquet_simulations.periodic_functions import Cosine\n",
    "from floquet_simulations.hamiltonians import CreateHFGeneral\n",
    "from floquet_simulations.plot_functions import *\n",
    "from floquet_simulations.generate_gradients import ComputeAValsFromRequiredGradients, GetAValsFromBesselXVals\n",
    "from numpy import pi\n",
    "from scipy.special import jv\n",
    "import math\n",
    "from pathlib import Path\n",
    "import matplotlib.pyplot as plt\n",
    "cm_unit = 1/2.54\n",
    "# figsize = (4.6,4.6)\n",
    "figsize = (6.4, 4)\n",
    "fontsize = 9\n",
    "PlotParams(fontsize=fontsize)\n",
    "save_dir = Path().absolute().parent.parent/\"figures\"/\"thesis\"/\"black_hole\"\n"
   ]
  },
  {
   "cell_type": "code",
   "execution_count": null,
   "metadata": {},
   "outputs": [],
   "source": []
  },
  {
   "attachments": {},
   "cell_type": "markdown",
   "metadata": {},
   "source": [
    "### Get Ham from gradient"
   ]
  },
  {
   "cell_type": "code",
   "execution_count": 2,
   "metadata": {},
   "outputs": [
    {
     "name": "stdout",
     "output_type": "stream",
     "text": [
      "-0.35\n",
      "[-41.58129882  41.58129882 -35.45076338  36.94394738 -31.51095737\n",
      "  33.41739639 -28.25614112  30.35071075 -25.32198388  27.50906476\n",
      " -22.54137143  24.7631676  -19.80617506]\n",
      "Ham is real\n"
     ]
    }
   ],
   "source": [
    "Ndiffs = 12\n",
    "ymin = -0.35#jv(0, 3.8316) \n",
    "print(ymin)\n",
    "tunnellings = np.linspace(-ymin, ymin, Ndiffs) # for linear\n",
    "tunnellings = tunnellings[::-1]\n",
    "#get A vals to get the right gradient\n",
    "omega = 25\n",
    "# print(gradients)\n",
    "drive_style = \"alternating\"\n",
    "\n",
    "xvals = ComputeAValsFromRequiredGradients(tunnellings)\n",
    "A_vals = GetAValsFromBesselXVals(xvals, omega, addition_type=drive_style, constant_shift=\"zero centre\") # get actual shaking values\n",
    "N= len(A_vals)\n",
    "print(A_vals)\n",
    "\n",
    "_, HF = CreateHFGeneral(Ndiffs+1,\n",
    "                        [int(i) for i in list(np.linspace(0,Ndiffs,Ndiffs+1))],\n",
    "                        [Cosine]*(Ndiffs+1),\n",
    "                        [[i,omega,0,0] for i in A_vals], #a, omega, phi onsite\n",
    "                        2*pi/omega,\n",
    "                        circle_boundary = 0\n",
    "                        )\n",
    "\n",
    "#make real\n",
    "if np.all(np.imag(HF))==0:\n",
    "    print(\"Ham is real\")\n",
    "    HF =np.real(HF)"
   ]
  },
  {
   "cell_type": "code",
   "execution_count": null,
   "metadata": {},
   "outputs": [],
   "source": []
  },
  {
   "cell_type": "code",
   "execution_count": 4,
   "metadata": {},
   "outputs": [
    {
     "data": {
      "image/png": "[encoded data removed]",
      "text/plain": [
       "<Figure size 251.969x157.48 with 1 Axes>"
      ]
     },
     "metadata": {},
     "output_type": "display_data"
    }
   ],
   "source": [
    "\n",
    "fig, ax = plt.subplots(figsize=(figsize[0]*cm_unit, cm_unit*figsize[1]))\n",
    "ax.plot(range(N), A_vals, 'x', c=\"#1565C0\", ms = 3)\n",
    "markerline, stemlines, baseline = ax.stem(range(N),\n",
    "                                           A_vals, linefmt=':', markerfmt='x',\n",
    "                                           basefmt=\" \"\n",
    ")\n",
    "stemlines.set_linewidth(1)\n",
    "stemlines.set_color(\"0.5\")\n",
    "\n",
    "markerline.set_markersize(3)\n",
    "plt.axhline(y=0, color='0', linestyle='-', lw=0.5)\n",
    "ax.tick_params(axis=\"x\", bottom=True, top=True, labelbottom=True, \n",
    "        labeltop=False, direction = \"in\", length = 3, pad=2)  \n",
    "ax.tick_params(axis=\"y\", left=True, right=True, labelleft=True, \n",
    "        labelright=False, direction = \"in\", length = 3, pad=2)  \n",
    "\n",
    "ylabel_coords = (-0.06,0.5)\n",
    "xlabel_coords = (0.5,-0.12)\n",
    "\n",
    "ax.set_ylabel(r\"$A_j/J_0$\", rotation=90)\n",
    "ax.yaxis.set_label_coords(ylabel_coords[0], ylabel_coords[1])\n",
    "# ax.set_yticks(axes_tick_pos)\n",
    "# ax.set_yticklabels(axes_tick_labels)#, font=\"stix\", fontsize=fontsize*0.9)\n",
    "\n",
    "xticks = np.arange(0,N,2)\n",
    "ax.set_xlabel(\"$j$\")\n",
    "ax.xaxis.set_label_coords(xlabel_coords[0], xlabel_coords[1])\n",
    "ax.set_xticks(xticks)\n",
    "ax.set_xticklabels([f\"${i+1}$\" for i in xticks])#, font=\"stix\", fontsize=fontsize*0.9)\n",
    "\n",
    "# save_dir = Path().absolute().parent.parent.parent\n",
    "fig.savefig(save_dir/\"a_vals_alternating.pdf\", format=\"pdf\", bbox_inches=\"tight\", pad_inches=0.01)\n",
    "# fig.savefig(save_dir/\"a_vals_alternating.png\", format=\"png\", bbox_inches=\"tight\", dpi=1080)\n",
    "plt.show()"
   ]
  },
  {
   "cell_type": "code",
   "execution_count": 5,
   "metadata": {},
   "outputs": [
    {
     "data": {
      "image/png": "[encoded data removed]",
      "text/plain": [
       "<Figure size 251.969x157.48 with 1 Axes>"
      ]
     },
     "metadata": {},
     "output_type": "display_data"
    }
   ],
   "source": [
    "fig, ax = plt.subplots(figsize=(figsize[0]*cm_unit, cm_unit*figsize[1]))\n",
    "plt.axhline(y=0, color='0', linestyle='-', lw=0.5)\n",
    "t = np.linspace(0,2*pi, 200)\n",
    "ax.plot(t, np.sin(t), c=\"#1565C0\", lw = 0.9)\n",
    "\n",
    "ax.tick_params(axis=\"x\", bottom=True, top=False, labelbottom=True, \n",
    "        labeltop=False, direction = \"in\", length = 3, pad=2)  \n",
    "ax.tick_params(axis=\"y\", left=True, right=False, labelleft=True, \n",
    "        labelright=False, direction = \"in\", length = 3, pad=2)  \n",
    "\n",
    "\n",
    "ax.set_ylabel(r\"$W_j(t)$\")\n",
    "ax.yaxis.set_label_coords(ylabel_coords[0], ylabel_coords[1])\n",
    "ax.set_yticks([0,1])\n",
    "ax.set_yticklabels([r\"$0$\", r\"$A_j$\"])#, font=\"stix\", fontsize=fontsize*0.9)\n",
    "ax.set_ylim([-1.3, 1.3])\n",
    "\n",
    "xticks = np.arange(0,N,2)\n",
    "ax.set_xlabel(r\"$t$\")\n",
    "ax.xaxis.set_label_coords(1.02,0.53)\n",
    "ax.set_xticks([0, 2*pi])\n",
    "ax.set_xticklabels([r\"$0$\", r\"$T$\"])#, font=\"stix\", fontsize=fontsize*0.9)\n",
    "ax.set_xlim([0,2.0*pi])\n",
    "\n",
    "fig.savefig(save_dir/\"epsilon_j(t).pdf\", format=\"pdf\", bbox_inches=\"tight\", pad_inches=0.01)\n",
    "plt.show()"
   ]
  },
  {
   "cell_type": "code",
   "execution_count": null,
   "metadata": {},
   "outputs": [],
   "source": []
  },
  {
   "cell_type": "code",
   "execution_count": null,
   "metadata": {},
   "outputs": [],
   "source": []
  },
  {
   "cell_type": "code",
   "execution_count": null,
   "metadata": {},
   "outputs": [],
   "source": []
  },
  {
   "cell_type": "code",
   "execution_count": null,
   "metadata": {},
   "outputs": [],
   "source": []
  },
  {
   "cell_type": "code",
   "execution_count": 18,
   "metadata": {},
   "outputs": [],
   "source": []
  },
  {
   "cell_type": "code",
   "execution_count": null,
   "metadata": {},
   "outputs": [],
   "source": []
  },
  {
   "cell_type": "code",
   "execution_count": 22,
   "metadata": {},
   "outputs": [],
   "source": []
  },
  {
   "cell_type": "code",
   "execution_count": null,
   "metadata": {},
   "outputs": [],
   "source": []
  },
  {
   "cell_type": "code",
   "execution_count": null,
   "metadata": {},
   "outputs": [],
   "source": []
  },
  {
   "cell_type": "code",
   "execution_count": null,
   "metadata": {},
   "outputs": [],
   "source": []
  },
  {
   "cell_type": "code",
   "execution_count": null,
   "metadata": {},
   "outputs": [],
   "source": []
  },
  {
   "cell_type": "code",
   "execution_count": null,
   "metadata": {},
   "outputs": [],
   "source": []
  },
  {
   "cell_type": "code",
   "execution_count": null,
   "metadata": {},
   "outputs": [],
   "source": []
  },
  {
   "cell_type": "code",
   "execution_count": null,
   "metadata": {},
   "outputs": [],
   "source": []
  },
  {
   "cell_type": "code",
   "execution_count": null,
   "metadata": {},
   "outputs": [],
   "source": []
  },
  {
   "cell_type": "code",
   "execution_count": null,
   "metadata": {},
   "outputs": [],
   "source": []
  },
  {
   "cell_type": "code",
   "execution_count": null,
   "metadata": {},
   "outputs": [],
   "source": []
  }
 ],
 "metadata": {
  "kernelspec": {
   "display_name": "floquet-simulations-srXSFrPT-py3.10",
   "language": "python",
   "name": "python3"
  },
  "language_info": {
   "codemirror_mode": {
    "name": "ipython",
    "version": 3
   },
   "file_extension": ".py",
   "mimetype": "text/x-python",
   "name": "python",
   "nbconvert_exporter": "python",
   "pygments_lexer": "ipython3",
   "version": "3.10.6"
  },
  "orig_nbformat": 4
 },
 "nbformat": 4,
 "nbformat_minor": 2
}

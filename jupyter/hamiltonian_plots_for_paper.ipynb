{
 "cells": [
  {
   "cell_type": "code",
   "execution_count": 1,
   "metadata": {},
   "outputs": [],
   "source": [
    "from floquet_simulations.periodic_functions import Cosine\n",
    "from floquet_simulations.hamiltonians import CreateHFGeneral\n",
    "from floquet_simulations.plot_functions import *\n",
    "from numpy import pi\n",
    "from pathlib import Path\n",
    "figsize_hams=(3.9,3.9)"
   ]
  },
  {
   "cell_type": "code",
   "execution_count": 2,
   "metadata": {},
   "outputs": [
    {
     "name": "stdout",
     "output_type": "stream",
     "text": [
      "0.3857062 -0.7295157\n"
     ]
    },
    {
     "data": {
      "image/png": "[encoded data removed]",
      "text/plain": [
       "<Figure size 153.543x153.543 with 2 Axes>"
      ]
     },
     "metadata": {},
     "output_type": "display_data"
    }
   ],
   "source": [
    "#SSH4\n",
    "num_sites = 9\n",
    "centres = np.array(range(num_sites))\n",
    "funcs = [Cosine]*num_sites\n",
    "a1 = 16.917322691940058; a2 = -50; a3 = 38.315948852085626; a4 = -10\n",
    "omega0 = 25; T = 2*pi/omega0\n",
    "phi1 = 0; phi2 = 0; phi3 = 0; phi4 = 0\n",
    "onsite1 =0.0697854749060796; onsite2 = 0.068;  onsite3=0;onsite4 = -0.068\n",
    "# params = [onsite0, [a1, omega1, phi1, onsite1], [(a2, a3), (omega2, omega3), (phi2, phi3), onsite2], [a4, omega4, phi4, onsite4]]*2\n",
    "params = ([ [a1, omega0, phi1, onsite1], [a2, omega0, phi2, onsite2], [a3, omega0, phi3, onsite3], [a4, omega0, phi4, onsite4]]*3)[:num_sites]\n",
    "_, HF = CreateHFGeneral(num_sites, centres, funcs, params, T, circle_boundary=0)\n",
    "\n",
    "colourbar_min = np.min(np.real(HF))\n",
    "colourbar_max = np.max(np.real(HF))\n",
    "\n",
    "plt.rc('text.latex', preamble=r'\\usepackage{amsmath}\\usepackage{amssymb}')\n",
    "# mpl.verbose.level = 'debug-annoying'\n",
    " \n",
    "PlotParams(fontsize=10)\n",
    "\n",
    "print(colourbar_max, colourbar_min)\n",
    "ssh_plot_dir_path = Path().absolute().parent/\"figures\"/\"paper\"/\"ssh4_model.pdf\"\n",
    "PlotParams(fontsize=10)\n",
    "# PlotRealHamiltonian(HF, figsize=figsize_hams, colourbar_pad = 0.05, colourbar_size_percentage=10, save_location=ssh_plot_dir_path, axes_tick_pos=[0,2,4,6,8], axes_tick_labels=[1,3,5,7,9])\n",
    "# PlotRealHamiltonian(HF, figsize=figsize_hams, colourbar_pad=0.05, colourbar_size_percentage=10, \n",
    "#                     save_location = False, axes_tick_pos=[0,2,4,6,8], axes_tick_labels=[1,3,5,7,9], \n",
    "#                     cmap_lims=(-0.8,0.4), colourbar_ticks = [-0.8,-0.6,-0.4,-0.2,0,0.2,0.4, 0.6])\n",
    "PlotRealHamiltonian(HF, figsize=figsize_hams, colourbar_pad=0.05, colourbar_size_percentage=10, \n",
    "                    save_location = ssh_plot_dir_path, axes_tick_pos=[0,2,4,6,8], axes_tick_labels=[1,3,5,7,9], \n",
    "                    cmap_lims=(-0.8,0.4), colourbar_ticks = np.arange(-1,1,0.2))\n"
   ]
  },
  {
   "cell_type": "code",
   "execution_count": 3,
   "metadata": {},
   "outputs": [
    {
     "name": "stdout",
     "output_type": "stream",
     "text": [
      "0.4444915 -0.4444915\n"
     ]
    },
    {
     "data": {
      "image/png": "[encoded data removed]",
      "text/plain": [
       "<Figure size 153.543x153.543 with 2 Axes>"
      ]
     },
     "metadata": {},
     "output_type": "display_data"
    }
   ],
   "source": [
    "num_sites = 9\n",
    "omega = 8; T = 2*pi/omega\n",
    "centres = np.array(range(num_sites))\n",
    "onsite = 0\n",
    "_, HF = CreateHFGeneral(num_sites,\n",
    "                          centres,\n",
    "                          [Cosine]*num_sites,\n",
    "                          [[10,omega,i*pi/8,onsite] for i in range(1,num_sites+1)],\n",
    "                          T,\n",
    "                          0\n",
    "                          )\n",
    "PlotParams(fontsize=10)\n",
    "twisted_phase_plot_dir_path = Path().absolute().parent/\"figures\"/\"paper\"/\"twisted_phase_model.pdf\"\n",
    "colourbar_min = np.min(np.imag(HF))\n",
    "colourbar_max = np.max(np.imag(HF))\n",
    "\n",
    "\n",
    "print(colourbar_max, colourbar_min)\n",
    "# PlotImagHamiltonian(HF, figsize=figsize_hams, colourbar_pad = 0.05, colourbar_size_percentage=10, save_location=twisted_phase_plot_dir_path, axes_tick_pos=[0,2,4,6,8], axes_tick_labels=[1,3,5,7,9])\n",
    "colourbar_tick_spacing=0.5\n",
    "PlotImagHamiltonian(HF, figsize=figsize_hams, colourbar_pad=0.05, colourbar_size_percentage=10, \n",
    "                    save_location = twisted_phase_plot_dir_path, axes_tick_pos=[0,2,4,6,8], axes_tick_labels=[1,3,5,7,9], \n",
    "                    cmap_lims=(-0.5,0.5), colourbar_ticks = np.arange(-1,1+colourbar_tick_spacing,colourbar_tick_spacing))\n"
   ]
  },
  {
   "cell_type": "code",
   "execution_count": 4,
   "metadata": {},
   "outputs": [
    {
     "name": "stdout",
     "output_type": "stream",
     "text": [
      "-0.9986129 0.2865181\n"
     ]
    },
    {
     "data": {
      "image/png": "[encoded data removed]",
      "text/plain": [
       "<Figure size 153.543x153.543 with 2 Axes>"
      ]
     },
     "metadata": {},
     "output_type": "display_data"
    }
   ],
   "source": [
    "#SSH\n",
    "\n",
    "num_sites = 9\n",
    "centres = np.array(range(num_sites))\n",
    "funcs = [Cosine]*num_sites\n",
    "a1 = 39; a2 = 38; a3=-a1; a4=-a2\n",
    "omega0 = 25; T = 2*pi/omega0\n",
    "phi1 = 0; phi2 = 0; phi3 = 0; phi4 = 0\n",
    "onsite1 =0; onsite2 = 0;  onsite3=0;onsite4 = 0\n",
    "# params = [onsite0, [a1, omega1, phi1, onsite1], [(a2, a3), (omega2, omega3), (phi2, phi3), onsite2], [a4, omega4, phi4, onsite4]]*2\n",
    "params = ([ [a1, omega0, phi1, onsite1], [a2, omega0, phi2, onsite2], [a3, omega0, phi3, onsite3], [a4, omega0, phi4, onsite4]]*3)[:num_sites]\n",
    "_, HF = CreateHFGeneral(num_sites, centres, funcs, params, T, circle_boundary=0)\n",
    "\n",
    "colourbar_min = np.min(np.real(HF))\n",
    "colourbar_max = np.max(np.real(HF))\n",
    "\n",
    "ssh_plot_dir_path = Path().absolute().parent/\"figures\"/\"paper\"/\"ssh_model.pdf\"\n",
    "PlotParams(fontsize=10)\n",
    "import numpy as np\n",
    "from floquet_simulations.plot_functions import *\n",
    "                    \n",
    "colourbar_min = np.min(np.real(HF))\n",
    "colourbar_max = np.max(np.real(HF))\n",
    "print(colourbar_min, colourbar_max)\n",
    "\n",
    "PlotRealHamiltonian(HF, figsize=figsize_hams, colourbar_pad=0.05, colourbar_size_percentage=10, \n",
    "                    save_location = ssh_plot_dir_path, axes_tick_pos=[0,2,4,6,8], axes_tick_labels=[1,3,5,7,9], \n",
    "                    cmap_lims=(-1,0.4), colourbar_ticks = np.arange(-1,1,0.2))\n"
   ]
  },
  {
   "cell_type": "code",
   "execution_count": 7,
   "metadata": {},
   "outputs": [
    {
     "data": {
      "image/png": "[encoded data removed]",
      "text/plain": [
       "<Figure size 145.669x145.669 with 1 Axes>"
      ]
     },
     "metadata": {},
     "output_type": "display_data"
    }
   ],
   "source": [
    "from floquet_simulations.hamiltonians import GetEvalsAndEvecsGen\n",
    "\n",
    "figsize_evec = (3.7,3.7)\n",
    "evals, evecs = GetEvalsAndEvecsGen(HF)\n",
    "PlotParams(fontsize=10)\n",
    "cm_unit = 1/2.54\n",
    "fig, ax = plt.subplots(figsize=(figsize_evec[0]*cm_unit, figsize_evec[1]*cm_unit))\n",
    "ax.plot(np.linspace(1,num_sites,num_sites), np.real(evecs[:,4]), \n",
    "            linestyle = \"-\",\n",
    "                # linestyle=(1,(3,1,1,1,1)), \n",
    "                c='#006F63')\n",
    "ax.set_ylabel(r\"probability distribution \", rotation = 90, labelpad = 3)\n",
    "ax.set_xlabel(r\"site\")\n",
    "ax.set_xticks([1,3,5,7,9])\n",
    "fig.savefig(Path().absolute().parent/\"figures\"/\"paper\"/\"zero_energy_edge_state_ssh.pdf\", format=\"pdf\", bbox_inches=\"tight\")\n",
    "plt.show()\n"
   ]
  },
  {
   "cell_type": "code",
   "execution_count": 6,
   "metadata": {},
   "outputs": [
    {
     "name": "stdout",
     "output_type": "stream",
     "text": [
      "-0.3924209 0.3982664\n"
     ]
    },
    {
     "data": {
      "image/png": "[encoded data removed]",
      "text/plain": [
       "<Figure size 153.543x153.543 with 2 Axes>"
      ]
     },
     "metadata": {},
     "output_type": "display_data"
    }
   ],
   "source": [
    "#SSH3\n",
    "num_sites = 9\n",
    "centres = np.array(range(num_sites))\n",
    "funcs = [Cosine]*num_sites\n",
    "a1 = -40; a2 = 2.5; a3=-52; a4=-a1; a5=-a2; a6=-a3\n",
    "omega0 = 25; T = 2*pi/omega0\n",
    "phi0 = 0\n",
    "onsite0 =0\n",
    "params = ([[a_val, omega0, phi0, onsite0] for a_val in [a1, a2, a3, a4, a5, a6]]*3)[:num_sites]\n",
    "_, HF = CreateHFGeneral(num_sites, centres, funcs, params, T, circle_boundary=0)\n",
    " \n",
    "                     \n",
    "colourbar_min = np.min(np.real(HF))\n",
    "colourbar_max = np.max(np.real(HF))\n",
    "print(colourbar_min, colourbar_max)\n",
    "\n",
    "\n",
    "ssh_plot_dir_path = Path().absolute().parent/\"figures\"/\"paper\"/\"ssh3_model.pdf\"\n",
    "PlotParams(fontsize=10)\n",
    "PlotRealHamiltonian(HF, figsize=figsize_hams, colourbar_pad = 0.05, colourbar_size_percentage=10, save_location=ssh_plot_dir_path, axes_tick_pos=[0,2,4,6,8], axes_tick_labels=[1,3,5,7,9],\n",
    "                            cmap_lims=(-0.4,0.4), colourbar_ticks = np.arange(-1,1,0.2))"
   ]
  },
  {
   "cell_type": "code",
   "execution_count": null,
   "metadata": {},
   "outputs": [],
   "source": []
  },
  {
   "cell_type": "code",
   "execution_count": null,
   "metadata": {},
   "outputs": [],
   "source": []
  },
  {
   "cell_type": "code",
   "execution_count": null,
   "metadata": {},
   "outputs": [],
   "source": []
  }
 ],
 "metadata": {
  "kernelspec": {
   "display_name": "floquet-simulations-lUP30Jl2-py3.8",
   "language": "python",
   "name": "python3"
  },
  "language_info": {
   "codemirror_mode": {
    "name": "ipython",
    "version": 3
   },
   "file_extension": ".py",
   "mimetype": "text/x-python",
   "name": "python",
   "nbconvert_exporter": "python",
   "pygments_lexer": "ipython3",
   "version": "3.10.6"
  },
  "orig_nbformat": 4
 },
 "nbformat": 4,
 "nbformat_minor": 2
}

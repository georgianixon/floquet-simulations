{
 "cells": [
  {
   "cell_type": "code",
   "execution_count": null,
   "metadata": {},
   "outputs": [],
   "source": [
    "import numpy as np\n",
    "%matplotlib inline\n",
    "import matplotlib.pyplot as plt\n",
    "from scipy.constants import h, hbar, u, g, pi\n",
    "\n",
    "import glob\n",
    "import os\n",
    "import pandas as pd\n",
    "from scipy.optimize import minimize\n",
    "import re\n",
    "\n",
    "def str_to_list(s):\n",
    "    s_sub = re.sub(r\"(?<=[^\\[])\\s\", \",\", s)\n",
    "    return eval(s_sub)\n",
    "\n",
    "def order(ij):\n",
    "    ij = np.array(ij)\n",
    "    i = ij[..., 0]\n",
    "    j = ij[..., 1]\n",
    "    return np.where(np.sign(i) * np.sign(j) >= 0, np.abs(i + j), np.maximum(np.abs(i), np.abs(j)))\n",
    "\n",
    "def order1d(ij):\n",
    "    ij = np.array(ij)\n",
    "    \n",
    "    i = ij[..., 0]\n",
    "    j = ij[..., 1]\n",
    "    return np.where(np.sign(i) * np.sign(j) >= 0, np.abs(i + j), np.maximum(np.abs(i), np.abs(j))) * np.sign(ij[...,0])\n",
    "\n",
    "def modsq(z):\n",
    "    return z.real**2 + z.imag**2"
   ]
  },
  {
   "cell_type": "code",
   "execution_count": 2,
   "metadata": {
    "tags": []
   },
   "outputs": [],
   "source": [
    "URbDipole0 = -2.09931e-36  # at 1064\n",
    "UKDipole0 = -1.83711e-36   # K39 at 1064\n",
    "mRb = 86.909*u\n",
    "mK = 39*u\n",
    "\n",
    "def VRb(P, w0h, w0v):\n",
    "    return np.abs(URbDipole0 * 2 * P / (np.pi * w0h * w0v))\n",
    "def VK(P, w0h, w0v):\n",
    "    return np.abs(UKDipole0 * 2 * P / (np.pi * w0h * w0v))\n",
    "\n",
    "def ωxRb(P, w0h, w0v):\n",
    "    return np.sqrt(4 * VRb(P, w0v, w0h) / (mRb * w0h**2))\n",
    "def fxRb(P, w0h, w0v):\n",
    "    return ωxRb(P, w0h, w0v) / (2*np.pi)\n",
    "\n",
    "\n",
    "\n",
    "λlatt = 1064.5e-9\n",
    "klatt = 2*np.pi / λlatt\n",
    "# λlatt = 725e-9\n",
    "ErRb = (h/λlatt)**2 / (2 * mRb)\n",
    "ErK = (h/λlatt)**2 / (2 * mK)\n",
    "ωrRb = ErRb / hbar\n",
    "ωrK = ErK / hbar\n",
    "\n",
    "#ωBlochRb = mRb * g / hbar\n",
    "#ωBlochK = mK * g / hbar\n",
    "#tBlochRb = 2*np.pi / ωBlochRb\n",
    "#tBlochK = 2*np.pi / ωBlochK\n",
    "tBlochRb = 2 * hbar * klatt / (mRb * g)\n",
    "tBlochK = 2 * hbar * klatt / (mK * g)"
   ]
  },
  {
   "cell_type": "code",
   "execution_count": 3,
   "metadata": {
    "tags": []
   },
   "outputs": [],
   "source": [
    "V0 = 1\n",
    "nmax = 15\n",
    "karr = 2 * np.arange(-nmax, nmax+1)\n",
    "q = 0\n",
    "\n",
    "# M = np.diag(np.array([-V0/2]*(2*nmax+1)) + (q + karr) ** 2) +\\\n",
    "# np.diag([-V0/4]*(2*nmax), 1) +\\\n",
    "# np.diag([-V0/4]*(2*nmax), -1)\n",
    "\n",
    "def H(q, V0):\n",
    "    M = np.diag(np.array([-V0/2]*(2*nmax+1)) + (q + karr) ** 2) +\\\n",
    "    np.diag([-V0/4]*(2*nmax), 1) +\\\n",
    "    np.diag([-V0/4]*(2*nmax), -1)\n",
    "    return M\n",
    "\n",
    "def E1(q, V0):\n",
    "    return np.linalg.eigvalsh(H(q, V0))\n",
    "\n",
    "def Ψ1(q, V0):\n",
    "    vecs = np.linalg.eigh(H(q, V0))[1]\n",
    "    \n",
    "    # change sign of eigenvectors so that the largest component with k>=0 is positive\n",
    "    vpos = vecs[nmax:, :]\n",
    "    maxpos = np.argmax(vpos, axis=0)\n",
    "    maxvals = vpos[maxpos, np.arange(2*nmax+1)]\n",
    "    sgn = np.sign(maxvals)\n",
    "    sgn[sgn==0] = 1\n",
    "    \n",
    "    return (vecs * sgn).T\n",
    "    #return vecs.T\n",
    "\n",
    "#E = np.vectorize(E1, otypes=[np.ndarray])\n",
    "E = np.vectorize(E1, signature='(),()->(n)')\n",
    "Ψ = np.vectorize(Ψ1, signature='(),()->(n,n)')\n",
    "\n",
    "def KapitzaDirac1(k_BEC, V0, t_pulse):    \n",
    "    # free BEC coefficients in momentum basis\n",
    "    v0 = np.zeros(2*nmax+1)\n",
    "    \n",
    "    #q_BEC = (k_BEC + 0.5) % 1 - 0.5\n",
    "    q_BEC = (k_BEC + 1) % 2 - 1\n",
    "    #q_BEC = (k_BEC + 1 - 10*np.finfo(float).eps) % 2 - 1\n",
    "    \n",
    "    G_BEC = int(np.round(k_BEC - q_BEC))\n",
    "    \n",
    "    # account for nonzero k_BEC\n",
    "    v0[nmax + G_BEC//2] = 1\n",
    "    \n",
    "    M = Ψ(q_BEC, V0=V0) # use eigenvectors as unitary operator to convert from free space to Bloch waves\n",
    "    ω = E(q_BEC, V0=V0) # use eigenenergies for time evolution\n",
    "    c = M @ v0          # project free space onto Bloch waves\n",
    "    ct = c * np.exp(-1j*ω*t_pulse) # time evolution in Bloch state\n",
    "    vt = np.conj(M).T @ ct         # project back to free space\n",
    "    \n",
    "    return vt\n",
    "\n",
    "KapitzaDirac = np.vectorize(KapitzaDirac1, signature='(),(),()->(n)')"
   ]
  },
  {
   "cell_type": "markdown",
   "metadata": {
    "jp-MarkdownHeadingCollapsed": true,
    "tags": []
   },
   "source": [
    "# KD Fitting"
   ]
  },
  {
   "cell_type": "code",
   "execution_count": 4,
   "metadata": {},
   "outputs": [],
   "source": [
    "folder = r\"Z:\\Shared\\Kagome\\Data\\2022\\01\\27\\it_K39_Lattice_KD\"  #r\"Z:\\Shared\\Kagome\\Data\\2021\\06\\09\\it_Rb_Z_Lattice\"\n",
    "time = \"11_37_31\" #\"20_59_55\" #\"12_52_47\"\n",
    "files = glob.glob(os.path.join(folder, time)+\"*Gauss2DFit*order.txt\")"
   ]
  },
  {
   "cell_type": "code",
   "execution_count": 5,
   "metadata": {},
   "outputs": [
    {
     "data": {
      "text/plain": [
       "[]"
      ]
     },
     "execution_count": 5,
     "metadata": {},
     "output_type": "execute_result"
    }
   ],
   "source": [
    "files"
   ]
  },
  {
   "cell_type": "code",
   "execution_count": 17,
   "metadata": {},
   "outputs": [
    {
     "data": {
      "text/plain": [
       "0"
      ]
     },
     "execution_count": 17,
     "metadata": {},
     "output_type": "execute_result"
    }
   ],
   "source": [
    "int(os.path.splitext(os.path.split(f)[-1])[0].split(\"_\")[-2])"
   ]
  },
  {
   "cell_type": "code",
   "execution_count": 21,
   "metadata": {},
   "outputs": [],
   "source": [
    "#df = pd.DataFrame()\n",
    "wavelength = 532\n",
    "df_list = []\n",
    "orders = []\n",
    "index_list = []\n",
    "for f in files:\n",
    "    with open(f, 'r') as file:\n",
    "        #order = int(os.path.splitext(os.path.split(f)[-1])[0].split(\"_\")[-2][:-2])\n",
    "        order = int(os.path.splitext(os.path.split(f)[-1])[0].split(\"_\")[-2])\n",
    "        if wavelength == 532:\n",
    "            order = order//2\n",
    "        s = file.readlines()\n",
    "        varnames = s[3]\n",
    "        data = np.array([eval(line) for line in s[4:]])\n",
    "        orders.append(order)\n",
    "        index = data[:, 0]\n",
    "        index_list.append(index * 1e6)\n",
    "        \n",
    "with open(files[0], 'r') as file:\n",
    "    s = file.readlines()\n",
    "    data = np.array([eval(line) for line in s[4:]])\n",
    "    index_list.append(data[:, 0] * 1e6)#.astype(float)\n",
    "\n",
    "index = np.sort(np.unique([e for l in index_list for e in l]))\n",
    "\n",
    "df = pd.DataFrame(index=index, columns=orders)\n",
    "df.sort_index(inplace=True)\n",
    "\n",
    "for f in files:\n",
    "    with open(f, 'r') as file:\n",
    "        #order = os.path.splitext(os.path.split(f)[-1])[0].split(\"_\")[-2]\n",
    "        # order = int(os.path.splitext(os.path.split(f)[-1])[0].split(\"_\")[-2][:-2])\n",
    "        order = int(os.path.splitext(os.path.split(f)[-1])[0].split(\"_\")[-2])\n",
    "        if wavelength == 532:\n",
    "            order = order//2\n",
    "        s = file.readlines()\n",
    "        varnames = s[3][1:-2].split(',')\n",
    "        data = np.array([eval(line) for line in s[4:]])\n",
    "        df.loc[data[:, 0] * 1e6, order] = data[:, 1]"
   ]
  },
  {
   "cell_type": "code",
   "execution_count": 22,
   "metadata": {},
   "outputs": [
    {
     "data": {
      "text/html": [
       "<div>\n",
       "<style scoped>\n",
       "    .dataframe tbody tr th:only-of-type {\n",
       "        vertical-align: middle;\n",
       "    }\n",
       "\n",
       "    .dataframe tbody tr th {\n",
       "        vertical-align: top;\n",
       "    }\n",
       "\n",
       "    .dataframe thead th {\n",
       "        text-align: right;\n",
       "    }\n",
       "</style>\n",
       "<table border=\"1\" class=\"dataframe\">\n",
       "  <thead>\n",
       "    <tr style=\"text-align: right;\">\n",
       "      <th></th>\n",
       "      <th>0</th>\n",
       "      <th>1</th>\n",
       "      <th>-1</th>\n",
       "    </tr>\n",
       "  </thead>\n",
       "  <tbody>\n",
       "    <tr>\n",
       "      <th>10.0</th>\n",
       "      <td>19859.665194</td>\n",
       "      <td>3708.838646</td>\n",
       "      <td>3950.00863</td>\n",
       "    </tr>\n",
       "    <tr>\n",
       "      <th>13.0</th>\n",
       "      <td>16256.293823</td>\n",
       "      <td>4736.892682</td>\n",
       "      <td>5073.840794</td>\n",
       "    </tr>\n",
       "    <tr>\n",
       "      <th>16.0</th>\n",
       "      <td>13741.395917</td>\n",
       "      <td>5530.743848</td>\n",
       "      <td>5600.973684</td>\n",
       "    </tr>\n",
       "    <tr>\n",
       "      <th>19.0</th>\n",
       "      <td>16936.041</td>\n",
       "      <td>4453.398333</td>\n",
       "      <td>5240.880329</td>\n",
       "    </tr>\n",
       "    <tr>\n",
       "      <th>22.0</th>\n",
       "      <td>21986.708353</td>\n",
       "      <td>4099.435742</td>\n",
       "      <td>4269.248215</td>\n",
       "    </tr>\n",
       "    <tr>\n",
       "      <th>25.0</th>\n",
       "      <td>22315.111595</td>\n",
       "      <td>2187.060855</td>\n",
       "      <td>2560.242289</td>\n",
       "    </tr>\n",
       "    <tr>\n",
       "      <th>28.0</th>\n",
       "      <td>35107.012059</td>\n",
       "      <td>903.922996</td>\n",
       "      <td>1043.561804</td>\n",
       "    </tr>\n",
       "    <tr>\n",
       "      <th>31.0</th>\n",
       "      <td>32811.776349</td>\n",
       "      <td>149.505744</td>\n",
       "      <td>393.841104</td>\n",
       "    </tr>\n",
       "    <tr>\n",
       "      <th>34.0</th>\n",
       "      <td>34776.659678</td>\n",
       "      <td>552.853805</td>\n",
       "      <td>400.564188</td>\n",
       "    </tr>\n",
       "    <tr>\n",
       "      <th>37.0</th>\n",
       "      <td>28437.553344</td>\n",
       "      <td>934.087468</td>\n",
       "      <td>937.636367</td>\n",
       "    </tr>\n",
       "    <tr>\n",
       "      <th>40.0</th>\n",
       "      <td>23767.709138</td>\n",
       "      <td>2379.237112</td>\n",
       "      <td>2474.088543</td>\n",
       "    </tr>\n",
       "  </tbody>\n",
       "</table>\n",
       "</div>"
      ],
      "text/plain": [
       "                 0            1           -1\n",
       "10.0  19859.665194  3708.838646   3950.00863\n",
       "13.0  16256.293823  4736.892682  5073.840794\n",
       "16.0  13741.395917  5530.743848  5600.973684\n",
       "19.0     16936.041  4453.398333  5240.880329\n",
       "22.0  21986.708353  4099.435742  4269.248215\n",
       "25.0  22315.111595  2187.060855  2560.242289\n",
       "28.0  35107.012059   903.922996  1043.561804\n",
       "31.0  32811.776349   149.505744   393.841104\n",
       "34.0  34776.659678   552.853805   400.564188\n",
       "37.0  28437.553344   934.087468   937.636367\n",
       "40.0  23767.709138  2379.237112  2474.088543"
      ]
     },
     "execution_count": 22,
     "metadata": {},
     "output_type": "execute_result"
    }
   ],
   "source": [
    "df"
   ]
  },
  {
   "cell_type": "code",
   "execution_count": 31,
   "metadata": {},
   "outputs": [],
   "source": [
    "bg_val = 0\n",
    "df_offset = df - bg_val\n",
    "df_norm = (df_offset.T / df_offset.sum(axis=1)).T\n",
    "\n",
    "k_BEC = 0\n",
    "\n",
    "zerocol = df_norm.columns.get_loc(0) # locate zero order\n",
    "data_norm_arr = df_norm.values.astype(float)\n",
    "ysize = np.sum(np.isfinite(data_norm_arr))\n",
    "def chisq_norm(params):\n",
    "    V0, ratio = params\n",
    "    data_pred = np.abs(KapitzaDirac(k_BEC, V0, df.index.values * ωrRb / 1e6)[:, nmax + np.array(orders)])**2\n",
    "    chi2 = np.nansum((data_norm_arr - ratio * data_pred)**2)\n",
    "    #print(\"{:.6f},\\t{:.3g}:\\t\\t{:.9g}\".format(V0, ratio, chi2))\n",
    "    return chi2\n",
    "\n",
    "def chisq_norm_1(params):\n",
    "    V0, = params\n",
    "    ratio = 1\n",
    "    data_pred = np.abs(KapitzaDirac(k_BEC, V0, df.index.values * ωrRb / 1e6)[:, nmax + np.array(orders)])**2\n",
    "    chi2 = np.nansum((data_norm_arr - ratio * data_pred)**2)\n",
    "    #print(\"{:.6f},\\t{:.3g}:\\t\\t{:.9g}\".format(V0, ratio, chi2))\n",
    "    return chi2\n",
    "\n",
    "def chisq_norm_2(params):\n",
    "    V0, undiffracted = params\n",
    "    data_pred = np.abs(KapitzaDirac(k_BEC, V0, df.index.values * ωrRb / 1e6)[:, nmax + np.array(orders)])**2\n",
    "    chi2 = np.nansum((data_norm_arr - ratio * data_pred)**2)\n",
    "    #print(\"{:.6f},\\t{:.3g}:\\t\\t{:.9g}\".format(V0, ratio, chi2))\n",
    "    return chi2"
   ]
  },
  {
   "cell_type": "markdown",
   "metadata": {},
   "source": [
    "## Unnormalised fit"
   ]
  },
  {
   "cell_type": "code",
   "execution_count": 32,
   "metadata": {},
   "outputs": [],
   "source": [
    "data_arr = df.values\n",
    "def chisq(params):\n",
    "    V0, ratio = params\n",
    "    data_pred = np.abs(KapitzaDirac(k_BEC, V0, df.index.values * ωrRb / 1e6)[:, nmax + np.array(orders)])**2\n",
    "    chi2 = np.nansum((data_arr - ratio * data_pred)**2)\n",
    "    #print(\"{:},\\t{:.3g}:\\t\\t{:.9g}\".format(V0, ratio, chi2))\n",
    "    return chi2"
   ]
  },
  {
   "cell_type": "markdown",
   "metadata": {},
   "source": [
    "## Normalised fit"
   ]
  },
  {
   "cell_type": "code",
   "execution_count": 33,
   "metadata": {},
   "outputs": [],
   "source": [
    "sol = minimize(chisq_norm, x0=[20, 0.8])"
   ]
  },
  {
   "cell_type": "code",
   "execution_count": 35,
   "metadata": {},
   "outputs": [
    {
     "name": "stdout",
     "output_type": "stream",
     "text": [
      "3.54752744512956\n"
     ]
    }
   ],
   "source": [
    "sol.x\n",
    "V0, ratio = sol.x\n",
    "V0err, ratioerr = np.sqrt(np.diag(sol.hess_inv))\n",
    "# V0, = sol.x\n",
    "# s_sq = sol.fun / (ysize - sol.x.shape[0])\n",
    "# pcov = sol.hess_inv * s_sq\n",
    "\n",
    "\n",
    "# V0err, = np.sqrt(np.diag(pcov))\n",
    "ratio = 1\n",
    "ratioerr = 0\n",
    "print(V0err)"
   ]
  },
  {
   "cell_type": "code",
   "execution_count": 56,
   "metadata": {},
   "outputs": [],
   "source": [
    "#order = 0\n",
    "t_pulse = np.linspace(0, df_norm.index.max(), 200) * ωrRb / 1e6\n",
    "\n",
    "data_fit = ratio * np.abs(KapitzaDirac(k_BEC, V0, t_pulse))**2\n",
    "data_fit_plus = ratio * np.abs(KapitzaDirac(k_BEC, V0 + V0err, t_pulse))**2"
   ]
  },
  {
   "cell_type": "code",
   "execution_count": 63,
   "metadata": {},
   "outputs": [
    {
     "data": {
      "image/png": "[encoded data removed]",
      "text/plain": [
       "<Figure size 720x540 with 1 Axes>"
      ]
     },
     "metadata": {
      "needs_background": "light"
     },
     "output_type": "display_data"
    }
   ],
   "source": [
    "plot_together = True\n",
    "\n",
    "if plot_together:\n",
    "    fig = plt.figure(figsize=(10,7.5))\n",
    "    ax = fig.add_subplot()\n",
    "else:\n",
    "    fig = plt.figure(figsize=(8,12))\n",
    "    nplots = np.max(np.abs(orders)) + 1\n",
    "    axs = [fig.add_subplot(nplots, 1, j+1) for j in range(nplots)]\n",
    "\n",
    "idx_arr = np.argsort(np.abs(orders) - 0.1 * np.sign(orders))\n",
    "for j, order in enumerate(np.array(orders)[idx_arr]):\n",
    "    if not plot_together and order >= 0:\n",
    "        #fig = plt.figure(figsize=(8,3))\n",
    "        #ax = fig.add_subplot()\n",
    "        ax = axs[np.abs(order)]\n",
    "    #ax.plot(t_pulse / ωrRb * 1e6, np.abs(vt[:, nmax + order])**2);\n",
    "    #ax2 = ax.twinx()\n",
    "    #color = 'C{:}'.format(nmax+order)\n",
    "    color = 'C{:}'.format(np.abs(order))\n",
    "    mkr = '^' if order>0 else 'v' if order <0 else 'o'\n",
    "    ax.plot(df_norm[order], linestyle='None', marker=mkr, color=color, label=\"{:+d} order\".format(order))\n",
    "    if order >= 0: # or not plot_together:\n",
    "        ax.plot(t_pulse / ωrRb * 1e6, data_fit[:, nmax+order], color=color, lw=1)#, label=\"KD fit\\nV0= {:.1f} ± {:.1f} Er\\nr  = {:.2f} ± {:.2f}\".format(V0, V0err, ratio, ratioerr))\n",
    "    #ax.set_xlabel(r\"t / us\");\n",
    "    #ax.set_ylabel(\"Atom number\")\n",
    "    if plot_together:\n",
    "        ax.set_ylabel(\"Atom number fraction\")\n",
    "    #ax.set_ylabel(varnames[1])\n",
    "    ax.legend()\n",
    "    ax.margins(0.02)\n",
    "    ax.minorticks_on()\n",
    "    \n",
    "#ax.set_xlabel(varnames[0])\n",
    "ax.set_xlabel(\"V_lattice_hold_duration [μs]\")\n",
    "    \n",
    "if plot_together:\n",
    "    # ax.annotate(\"KD fit\\nV0= {:.1f} ± {:.1f} Er\\nr  = {:.2f} ± {:.2f}\".format(V0, V0err, ratio, ratioerr), (0.2, 0.8), \n",
    "    #             xycoords='axes fraction', fontsize='large')  #, fontweight='light')\n",
    "    ax.annotate(\"KD fit\\nV0= {:.2f} ± {:.2f} Er\".format(V0, V0err), (0.2, 0.8), \n",
    "                xycoords='axes fraction', fontsize='large')  #, fontweight='light')\n",
    "\n",
    "\n",
    "    # fig.savefig(os.path.splitext(files[j])[0]+\"_KD_fit.png\", dpi=300)\n",
    "    fig.tight_layout()\n",
    "    # fig.savefig(os.path.join(folder, time)+\"_KD_fit.png\", dpi=300)\n",
    "\n",
    "else:\n",
    "    fig.tight_layout(rect=[0, 0, 1, 0.95])\n",
    "    fig.suptitle(\"KD fit\\nV0= {:.2f} ± {:.2f} Er\".format(V0, V0err))\n",
    "    #fig.savefig(os.path.join(folder, time)+\"_KD_fit_subplots.png\", dpi=300)\n",
    "    "
   ]
  },
  {
   "cell_type": "markdown",
   "metadata": {},
   "source": [
    "# 1D KD fitting new"
   ]
  },
  {
   "cell_type": "code",
   "execution_count": 29,
   "metadata": {},
   "outputs": [],
   "source": [
    "# folder = r\"Z:\\Shared\\Kagome\\Data\\2021\\12\\08\\luca_test\"  #r\"Z:\\Shared\\Kagome\\Data\\2021\\06\\09\\it_Rb_Z_Lattice\"\n",
    "# fname = r\"14_33_10_frac_1_0,0_frac_1_1,-1_frac_1_-1,1(PeakPopulationFit)_vs_Lattice_hold_duration.txt\"\n",
    "# fname = r\"14_50_08_frac_1_0,0_frac_1_1,0_frac_1_-1,0(PeakPopulationFit)_vs_Lattice_hold_duration.txt\"\n",
    "# fname = r\"15_04_13_frac_1_0,0_frac_1_1,0_frac_1_-1,0(PeakPopulationFit)_vs_Lattice_hold_duration.txt\"\n",
    "# folder = r\"Z:\\Shared\\Kagome\\Data\\2021\\06\\18\\luca_test\"\n",
    "#fname = r\"18_54_53_num_0_num_1_num_-1_num_2_num_-2_num_3_num_-3(PeakPopulationFit)_vs_V_lattice_hold_duration.txt\"\n",
    "# fname = r\"18_54_53_frac_0_frac_1_frac_-1_frac_2_frac_-2_frac_3_frac_-3(PeakPopulationFit)_vs_V_lattice_hold_duration.txt\"\n",
    "folder = r\"Z:\\Shared\\Kagome\\Data\\2022\\02\\14\\it_K39_Lattice_KD\"\n",
    "fname = r\"11_31_24_frac_1_frac_0_frac_-1_frac_2_frac_-2(PeakPopulationFit)_vs_Lattice_hold_duration.txt\"\n",
    "\n",
    "with open(os.path.join(folder, fname), 'r') as file:\n",
    "    s = file.readlines()\n",
    "    varnames = s[3]\n",
    "    nan = np.nan\n",
    "    data = np.array([eval(line) for line in s[4:]])\n",
    "#     orders = [tuple(int(n) for n in re.findall(r'.+\\/(.+)_([^\\s]+)\\s*\\[\\s*\\]', s)[0]) for s in varnames[1:-2].split(\",\")[1:]]\n",
    "#     orders1d = order1d(orders)\n",
    "    orders1d = [tuple(int(n) for n in re.findall(r'.+\\/([^\\s]+)\\s*\\[\\s*\\]', s))[0] for s in varnames[1:-2].split(\",\")[1:]]\n",
    "    df = pd.DataFrame(data[:, 1:], columns=orders1d, index=pd.Index(data[:,0]*1e6, name='t'))\n",
    "\n",
    "time = re.findall(r'([0-9]{2}_[0-9]{2}_[0-9]{2})',fname)[0]\n",
    "#display(df.head(), df.plot(marker='.', linestyle='None'));"
   ]
  },
  {
   "cell_type": "code",
   "execution_count": 31,
   "metadata": {},
   "outputs": [
    {
     "data": {
      "text/plain": [
       "<AxesSubplot:xlabel='t'>"
      ]
     },
     "execution_count": 31,
     "metadata": {},
     "output_type": "execute_result"
    },
    {
     "data": {
      "image/png": "[encoded data removed]",
      "text/plain": [
       "<Figure size 432x288 with 1 Axes>"
      ]
     },
     "metadata": {
      "needs_background": "light"
     },
     "output_type": "display_data"
    }
   ],
   "source": [
    "%matplotlib inline\n",
    "df.plot(linestyle='None', marker='o')"
   ]
  },
  {
   "cell_type": "code",
   "execution_count": 40,
   "metadata": {},
   "outputs": [
    {
     "name": "stdout",
     "output_type": "stream",
     "text": [
      "V0 = 9.1 ± 1.3 Er\n",
      "active = 1.000 ± nan Er\n",
      "t0 = 0.000 ± nan Er\n",
      "Optimization terminated successfully.\n"
     ]
    }
   ],
   "source": [
    "data_arr = df.values\n",
    "#t_arr = df.index.values * ωrRb / 1e6\n",
    "t_arr = df.index.values * ωrK / 1e6\n",
    "cols = df.columns.values\n",
    "# ODmeas = lambda OD, cont: -np.log(np.exp(-OD) * (1-cont) + cont)\n",
    "mult = 3/4 # vertical 1064: 1, horizontal 1064: 3/4, horizontal 532: 3\n",
    "k0 = 0  # .1\n",
    "def chisq(params):\n",
    "    #V0, active = params\n",
    "    active = 1\n",
    "    t0 = 1\n",
    "    V0, = params #n, cont = params\n",
    "    #data_pred = active * modsq(KapitzaDirac(k0, V0/mult, mult*(t_arr + t0)))[:, nmax + cols] + (1-active) * (cols==0)\n",
    "    data_pred = modsq(KapitzaDirac(0, V0/mult, mult*(t_arr)))[:, nmax + cols]\n",
    "    #func = lambda x: ODmeas(x, cont)\n",
    "    #func = lambda x: x\n",
    "    #data_pred = n * func(modsq(KapitzaDirac(k0, V0/mult, mult*(t_arr + t0))))[:, nmax + cols]\n",
    "    chi2 = np.nansum((data_pred - data_arr)**2)\n",
    "    return chi2\n",
    "sol = minimize(chisq, x0=[16.])  # x0=[16, 1, 0.1])\n",
    "# V0, n, cont = sol.x\n",
    "V0, = sol.x\n",
    "t0 = 0\n",
    "active = 1\n",
    "activeerr = np.nan\n",
    "t0err = np.nan\n",
    "V0err, = np.sqrt(np.diag(sol.hess_inv)) # * np.linalg.det(sol.hess_inv))  # \n",
    "# V0err = np.nan\n",
    "print(\"V0 = {:.1f} ± {:.1f} Er\".format(V0, V0err))\n",
    "# print(\"V0 = {:.1f} ± {:.1f} Er1064\".format(V0/np.sqrt(3), V0err/np.sqrt(3)))\n",
    "print(\"active = {:.3f} ± {:.3f} Er\".format(active, activeerr))\n",
    "print(\"t0 = {:.3f} ± {:.3f} Er\".format(t0, t0err))\n",
    "print(sol.message)"
   ]
  },
  {
   "cell_type": "code",
   "execution_count": 35,
   "metadata": {},
   "outputs": [
    {
     "data": {
      "text/plain": [
       "      fun: 0.35792197963349287\n",
       " hess_inv: array([[1.78529012]])\n",
       "      jac: array([-1.14366412e-06])\n",
       "  message: 'Optimization terminated successfully.'\n",
       "     nfev: 20\n",
       "      nit: 5\n",
       "     njev: 10\n",
       "   status: 0\n",
       "  success: True\n",
       "        x: array([9.05656539])"
      ]
     },
     "execution_count": 35,
     "metadata": {},
     "output_type": "execute_result"
    }
   ],
   "source": [
    "sol"
   ]
  },
  {
   "cell_type": "code",
   "execution_count": 36,
   "metadata": {},
   "outputs": [
    {
     "data": {
      "text/plain": [
       "[<matplotlib.lines.Line2D at 0x26f3793c1f0>]"
      ]
     },
     "execution_count": 36,
     "metadata": {},
     "output_type": "execute_result"
    },
    {
     "data": {
      "image/png": "[encoded data removed]",
      "text/plain": [
       "<Figure size 432x288 with 1 Axes>"
      ]
     },
     "metadata": {
      "needs_background": "light"
     },
     "output_type": "display_data"
    }
   ],
   "source": [
    "y = np.linspace(0, 22, 100).reshape(-1,1)\n",
    "\n",
    "%matplotlib inline\n",
    "plt.plot(y, np.vectorize(chisq, signature=\"(1)->()\")(y))"
   ]
  },
  {
   "cell_type": "code",
   "execution_count": 41,
   "metadata": {
    "tags": []
   },
   "outputs": [
    {
     "data": {
      "application/vnd.jupyter.widget-view+json": {
       "model_id": "b86c5405639948f99a61b612db69fb48",
       "version_major": 2,
       "version_minor": 0
      },
      "text/plain": [
       "Canvas(toolbar=Toolbar(toolitems=[('Home', 'Reset original view', 'home', 'home'), ('Back', 'Back to previous …"
      ]
     },
     "metadata": {},
     "output_type": "display_data"
    }
   ],
   "source": [
    "plot_together = True\n",
    "%matplotlib widget\n",
    "t_pulse = np.linspace(0, df.index.max(), 200) * ωrK / 1e6\n",
    "\n",
    "# V0 = 8# 15.6 #17.5\n",
    "# t0 = 0\n",
    "active = 1\n",
    "k0 = 0\n",
    "# k0 = 0.\n",
    "# n = 15e3\n",
    "cont = 0  # 0.02\n",
    "# mult = 3 #3/4  # 3\n",
    "\n",
    "func = lambda x: x\n",
    "# func = lambda x: x**(1.1)\n",
    "# trueOD = lambda ODmeas, ODmax: -np.log((np.exp(-ODmeas)-np.exp(-ODmax))/(1-np.exp(-ODmax)))\n",
    "# func = lambda x: trueOD(x, 1.1)\n",
    "#ODmeas = lambda OD, cont: -np.log(np.exp(-OD) * (1-cont) + cont)\n",
    "# func = lambda x: ODmeas(x, cont)\n",
    "\n",
    "#data_fit = active * modsq(KapitzaDirac(k0, V0/mult, mult*(t_pulse + t0))) + (1-active) * (karr==0)\n",
    "data_fit = modsq(KapitzaDirac(0, V0/mult, mult*(t_pulse)))\n",
    "# data_fit = n * func(modsq(KapitzaDirac(k0, V0/mult, mult*(t_pulse + t0))))\n",
    "# data_fit_plus = modsq(KapitzaDirac(0, V0 + V0err, t_pulse))\n",
    "\n",
    "if plot_together:\n",
    "    fig = plt.figure(figsize=(8,6))   # (10, 7.5)\n",
    "    ax = fig.add_subplot()\n",
    "else:\n",
    "    fig = plt.figure(figsize=(8,12))\n",
    "    nplots = np.max(np.abs(orders1d)) + 1\n",
    "    axs = [fig.add_subplot(nplots, 1, j+1) for j in range(nplots)]\n",
    "\n",
    "idx_arr = np.argsort(np.abs(orders1d) - 0.1 * np.sign(orders1d))\n",
    "for j, order in enumerate(np.array(orders1d)[idx_arr]):\n",
    "    if not plot_together and order >= 0:\n",
    "        #fig = plt.figure(figsize=(8,3))\n",
    "        #ax = fig.add_subplot()\n",
    "        ax = axs[np.abs(order)]\n",
    "    #ax.plot(t_pulse / ωrRb * 1e6, np.abs(vt[:, nmax + order])**2);\n",
    "    #ax2 = ax.twinx()\n",
    "    #color = 'C{:}'.format(nmax+order)\n",
    "    color = 'C{:}'.format(np.abs(order))\n",
    "    mkr = '^' if order>0 else 'v' if order <0 else 'o'\n",
    "    ax.plot(df[order], linestyle='None', marker=mkr, color=color, label=\"{:+d} order\".format(order))\n",
    "    #if order >= 0: # or not plot_together:\n",
    "    if True:\n",
    "        ax.plot(t_pulse / ωrK * 1e6, data_fit[:, nmax+order], color=color, lw=1)#, label=\"KD fit\\nV0= {:.1f} ± {:.1f} Er\\nr  = {:.2f} ± {:.2f}\".format(V0, V0err, ratio, ratioerr))\n",
    "    #ax.set_xlabel(r\"t / us\");\n",
    "    #ax.set_ylabel(\"Atom number\")\n",
    "    if plot_together:\n",
    "        ax.set_ylabel(\"Atom number fraction\")\n",
    "    #ax.set_ylabel(varnames[1])\n",
    "    ax.legend()\n",
    "    ax.margins(0.02)\n",
    "    ax.minorticks_on()\n",
    "    \n",
    "#ax.set_xlabel(varnames[0])\n",
    "ax.set_xlabel(\"V_lattice_hold_duration [μs]\")\n",
    "    \n",
    "if plot_together:\n",
    "#     ax.annotate(\"KD fit\\nV0= {:.1f} ± {:.1f} Er\".format(V0, V0err), (0.3, 0.8), \n",
    "#                 xycoords='axes fraction', fontsize='large')\n",
    "    # ax.annotate(\"KD fit\\nV0= {:.1f} ± {:.1f} Er\\nr  = {:.2f} ± {:.2f}\".format(V0, V0err, ratio, ratioerr), (0.2, 0.8), \n",
    "    #            xycoords='axes fraction', fontsize='large')  #, fontweight='light')\n",
    "    # ax.annotate(\"KD fit\\n$V_0$ = {:.2f} ± {:.2f} Er1064\\nactive = {:.3f} ± {:.3f}\\n$t_0$ = {:.3f} ± {:.3f} μs\".format(V0, V0err, active, activeerr, t0 * 1e6/ωrK, t0err * 1e6/ωrK), (0.2, 0.8), \n",
    "    #            xycoords='axes fraction', fontsize='large')  #, fontweight='light')\n",
    "    ax.annotate(\"$V_0$ = {:.1f} Er1064\".format(V0), (0.3, 0.8), \n",
    "              xycoords='axes fraction', fontsize='large')  #, fontweight='light')\n",
    "\n",
    "\n",
    "    # fig.savefig(os.path.splitext(files[j])[0]+\"_KD_fit.png\", dpi=300)\n",
    "    fig.tight_layout()\n",
    "#     fig.savefig(os.path.join(folder, time)+\"_KD_fit.png\", dpi=300)\n",
    "\n",
    "else:\n",
    "    fig.tight_layout(rect=[0, 0, 1, 0.95])\n",
    "    # fig.suptitle(\"KD fit\\nV0= {:.2f} ± {:.2f} Er\\nactive= {:.3f} ± {:.3f}\".format(V0, V0err, active, activeerr))\n",
    "    fig.suptitle(\"KD fit\\nV0= {:.2f} ± {:.2f} Er\".format(V0, V0err))\n",
    "    # fig.suptitle(\"KD fit\\nV0= {:.2f} ± {:.2f} Er\".format(V0, V0err, active, activeerr))\n",
    "    # fig.savefig(os.path.join(folder, time)+\"_KD_fit_subplots.png\", dpi=300)\n",
    "    \n",
    "# %matplotlib inline"
   ]
  },
  {
   "cell_type": "code",
   "execution_count": 92,
   "metadata": {},
   "outputs": [
    {
     "data": {
      "text/plain": [
       "9.237604307034013"
      ]
     },
     "execution_count": 92,
     "metadata": {},
     "output_type": "execute_result"
    }
   ],
   "source": [
    "V0/np.sqrt(3)"
   ]
  },
  {
   "cell_type": "markdown",
   "metadata": {},
   "source": [
    "# 1D KD summing plus and minus orders"
   ]
  },
  {
   "cell_type": "code",
   "execution_count": 105,
   "metadata": {},
   "outputs": [],
   "source": [
    "# folder = r\"Z:\\Shared\\Kagome\\Data\\2021\\12\\08\\luca_test\"  #r\"Z:\\Shared\\Kagome\\Data\\2021\\06\\09\\it_Rb_Z_Lattice\"\n",
    "# fname = r\"14_33_10_frac_1_0,0_frac_1_1,-1_frac_1_-1,1(PeakPopulationFit)_vs_Lattice_hold_duration.txt\"\n",
    "# fname = r\"14_50_08_frac_1_0,0_frac_1_1,0_frac_1_-1,0(PeakPopulationFit)_vs_Lattice_hold_duration.txt\"\n",
    "# fname = r\"15_04_13_frac_1_0,0_frac_1_1,0_frac_1_-1,0(PeakPopulationFit)_vs_Lattice_hold_duration.txt\"\n",
    "# folder = r\"Z:\\Shared\\Kagome\\Data\\2021\\06\\18\\luca_test\"\n",
    "#fname = r\"18_54_53_num_0_num_1_num_-1_num_2_num_-2_num_3_num_-3(PeakPopulationFit)_vs_V_lattice_hold_duration.txt\"\n",
    "# fname = r\"18_54_53_frac_0_frac_1_frac_-1_frac_2_frac_-2_frac_3_frac_-3(PeakPopulationFit)_vs_V_lattice_hold_duration.txt\"\n",
    "# folder = r\"Z:\\Shared\\Kagome\\Data\\2022\\01\\12\\it_K39_Lattice_KD\"\n",
    "# fname = r\"19_16_02_frac_0_frac_1_frac_-1_frac_2_frac_-2(PeakPopulationFit)_vs_Lattice_hold_duration.txt\"\n",
    "folder = r\"Z:\\Shared\\Kagome\\Data\\2022\\02\\01\\it_K39_Lattice_KD\"\n",
    "fname = r\"14_39_43_frac_0_frac_1_frac_-1(PeakPopulationFit)_vs_Lattice_hold_duration.txt\"\n",
    "\n",
    "with open(os.path.join(folder, fname), 'r') as file:\n",
    "    s = file.readlines()\n",
    "    varnames = s[3]\n",
    "    nan = np.nan\n",
    "    data = np.array([eval(line) for line in s[4:]])\n",
    "#     orders = [tuple(int(n) for n in re.findall(r'.+\\/(.+)_([^\\s]+)\\s*\\[\\s*\\]', s)[0]) for s in varnames[1:-2].split(\",\")[1:]]\n",
    "#     orders1d = order1d(orders)\n",
    "    orders1d = [tuple(int(n) for n in re.findall(r'.+\\/([^\\s]+)\\s*\\[\\s*\\]', s))[0] for s in varnames[1:-2].split(\",\")[1:]]\n",
    "    df = pd.DataFrame(data[:, 1:], columns=orders1d, index=pd.Index(data[:,0]*1e6, name='t'))\n",
    "\n",
    "#display(df.head(), df.plot(marker='.', linestyle='None'));"
   ]
  },
  {
   "cell_type": "code",
   "execution_count": 106,
   "metadata": {},
   "outputs": [],
   "source": [
    "# aggregate plus and minus\n",
    "df = df.groupby(np.abs, axis=1).agg(np.nanmean)\n",
    "# average datapoints at each time\n",
    "df = df.groupby(level=0).agg(np.nanmean)\n",
    "orders1d = [x for x in orders1d if x>=0]\n",
    "\n",
    "tot = 2*df.sum(axis=1)-df[0]\n",
    "\n",
    "df = df.divide(tot, axis='rows')"
   ]
  },
  {
   "cell_type": "code",
   "execution_count": 107,
   "metadata": {},
   "outputs": [
    {
     "name": "stdout",
     "output_type": "stream",
     "text": [
      "V0 = 16.0 ± 2.3 Er\n",
      "V0 = 9.2 ± 1.3 Er1064\n",
      "active = 1.000 ± nan Er\n",
      "t0 = 0.000 ± nan Er\n"
     ]
    }
   ],
   "source": [
    "data_arr = df.values\n",
    "#t_arr = df.index.values * ωrRb / 1e6\n",
    "t_arr = df.index.values * ωrK / 1e6\n",
    "cols = df.columns.values\n",
    "mult = 3\n",
    "def chisq(params):\n",
    "    #V0, active = params\n",
    "    # active = 1\n",
    "    V0 = params\n",
    "    data_pred = active * modsq(KapitzaDirac(0, V0/mult, mult*(t_arr + t0)))[:, nmax + cols] + (1-active) * (cols==0)\n",
    "    chi2 = np.nansum((data_pred - data_arr)**2)\n",
    "    return chi2\n",
    "sol = minimize(chisq, x0=[18])\n",
    "V0, = sol.x\n",
    "active = 1\n",
    "activeerr = np.nan\n",
    "t0 = 0\n",
    "t0err = np.nan\n",
    "V0err, = np.sqrt(np.diag(sol.hess_inv))\n",
    "print(\"V0 = {:.1f} ± {:.1f} Er\".format(V0, V0err))\n",
    "print(\"V0 = {:.1f} ± {:.1f} Er1064\".format(V0/np.sqrt(3), V0err/np.sqrt(3)))\n",
    "print(\"active = {:.3f} ± {:.3f} Er\".format(active, activeerr))\n",
    "print(\"t0 = {:.3f} ± {:.3f} Er\".format(t0, t0err))"
   ]
  },
  {
   "cell_type": "code",
   "execution_count": 108,
   "metadata": {},
   "outputs": [
    {
     "data": {
      "image/png": "[encoded data removed]",
      "text/plain": [
       "<Figure size 720x540 with 1 Axes>"
      ]
     },
     "metadata": {
      "needs_background": "light"
     },
     "output_type": "display_data"
    }
   ],
   "source": [
    "plot_together = True\n",
    "\n",
    "t_pulse = np.linspace(0, df.index.max(), 200) * ωrK / 1e6\n",
    "\n",
    "# V0 = 17.5 #17.5\n",
    "# t0 = 0\n",
    "active = 1\n",
    "\n",
    "data_fit = active * modsq(KapitzaDirac(0, V0/mult, mult*(t_pulse + t0))) + (1-active) * (karr==0)\n",
    "# data_fit_plus = modsq(KapitzaDirac(0, V0 + V0err, t_pulse))\n",
    "\n",
    "if plot_together:\n",
    "    fig = plt.figure(figsize=(10,7.5))\n",
    "    ax = fig.add_subplot()\n",
    "else:\n",
    "    fig = plt.figure(figsize=(8,12))\n",
    "    nplots = np.max(np.abs(orders1d)) + 1\n",
    "    axs = [fig.add_subplot(nplots, 1, j+1) for j in range(nplots)]\n",
    "\n",
    "idx_arr = np.argsort(np.abs(orders1d) - 0.1 * np.sign(orders1d))\n",
    "for j, order in enumerate(np.array(orders1d)[idx_arr]):\n",
    "    if not plot_together and order >= 0:\n",
    "        #fig = plt.figure(figsize=(8,3))\n",
    "        #ax = fig.add_subplot()\n",
    "        ax = axs[np.abs(order)]\n",
    "    #ax.plot(t_pulse / ωrRb * 1e6, np.abs(vt[:, nmax + order])**2);\n",
    "    #ax2 = ax.twinx()\n",
    "    #color = 'C{:}'.format(nmax+order)\n",
    "    color = 'C{:}'.format(np.abs(order))\n",
    "    mkr = '^' if order>0 else 'v' if order <0 else 'o'\n",
    "    ax.plot(df[order], linestyle='None', marker=mkr, color=color, label=\"{:+d} order\".format(order))\n",
    "    if order >= 0: # or not plot_together:\n",
    "        ax.plot(t_pulse / ωrK * 1e6, data_fit[:, nmax+order], color=color, lw=1)#, label=\"KD fit\\nV0= {:.1f} ± {:.1f} Er\\nr  = {:.2f} ± {:.2f}\".format(V0, V0err, ratio, ratioerr))\n",
    "    #ax.set_xlabel(r\"t / us\");\n",
    "    #ax.set_ylabel(\"Atom number\")\n",
    "    if plot_together:\n",
    "        ax.set_ylabel(\"Atom number fraction\")\n",
    "    #ax.set_ylabel(varnames[1])\n",
    "    ax.legend()\n",
    "    ax.margins(0.02)\n",
    "    ax.minorticks_on()\n",
    "    \n",
    "#ax.set_xlabel(varnames[0])\n",
    "ax.set_xlabel(\"V_lattice_hold_duration [μs]\")\n",
    "    \n",
    "if plot_together:\n",
    "    # ax.annotate(\"KD fit\\nV0= {:.1f} ± {:.1f} Er\\nr  = {:.2f} ± {:.2f}\".format(V0, V0err, ratio, ratioerr), (0.2, 0.8), \n",
    "    #             xycoords='axes fraction', fontsize='large')  #, fontweight='light')\n",
    "    ax.annotate(\"KD fit\\n$V_0$ = {:.2f} ± {:.2f} Er1064\\nactive = {:.3f} ± {:.3f}\\n$t_0$ = {:.3f} ± {:.3f} μs\".format(V0, V0err, active, activeerr, t0 * 1e6/ωrK, t0err * 1e6/ωrK), (0.2, 0.8), \n",
    "                xycoords='axes fraction', fontsize='large')  #, fontweight='light')\n",
    "\n",
    "\n",
    "    # fig.savefig(os.path.splitext(files[j])[0]+\"_KD_fit.png\", dpi=300)\n",
    "    fig.tight_layout()\n",
    "    # fig.savefig(os.path.join(folder, time)+\"_KD_fit_2.png\", dpi=300)\n",
    "\n",
    "else:\n",
    "    fig.tight_layout(rect=[0, 0, 1, 0.95])\n",
    "    fig.suptitle(\"KD fit\\nV0= {:.2f} ± {:.2f} Er\\nactive= {:.3f} ± {:.3f}\".format(V0, V0err, active, activeerr))\n",
    "    #fig.savefig(os.path.join(folder, time)+\"_KD_fit_subplots.png\", dpi=300)\n",
    "    "
   ]
  },
  {
   "cell_type": "code",
   "execution_count": null,
   "metadata": {},
   "outputs": [],
   "source": []
  }
 ],
 "metadata": {
  "kernelspec": {
   "display_name": "Python 3",
   "language": "python",
   "name": "python3"
  },
  "language_info": {
   "codemirror_mode": {
    "name": "ipython",
    "version": 3
   },
   "file_extension": ".py",
   "mimetype": "text/x-python",
   "name": "python",
   "nbconvert_exporter": "python",
   "pygments_lexer": "ipython3",
   "version": "3.8.2"
  }
 },
 "nbformat": 4,
 "nbformat_minor": 4
}
